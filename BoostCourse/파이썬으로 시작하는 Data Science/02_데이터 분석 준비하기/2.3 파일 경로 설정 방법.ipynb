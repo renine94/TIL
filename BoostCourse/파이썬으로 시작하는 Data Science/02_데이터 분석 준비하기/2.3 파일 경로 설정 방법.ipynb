{
 "cells": [
  {
   "cell_type": "markdown",
   "metadata": {},
   "source": [
    "# 파일경로 설정방법\n",
    "\n",
    "## 학습목표\n",
    "- 데이터 파일의 경로를 설정하는 방법을 학습\n",
    "\n",
    "## 핵심키워드\n",
    "- % ( 주피터셀에서 CLI명령어 )\n",
    "    - %mv\n",
    "    - %pwd\n",
    "    - %ls\n",
    "- pd.read_csv\n",
    "- cp949\n",
    "\n",
    "## 학습하기"
   ]
  },
  {
   "cell_type": "markdown",
   "metadata": {},
   "source": [
    "### 1. 현재 작업하고 있는 경로 파악"
   ]
  },
  {
   "cell_type": "code",
   "execution_count": 1,
   "metadata": {},
   "outputs": [
    {
     "data": {
      "text/plain": [
       "'C:\\\\Users\\\\kjaeg\\\\git\\\\Hub\\\\TIL\\\\BoostCourse\\\\파이썬으로 시작하는 Data Science\\\\02_데이터 분석 준비하기'"
      ]
     },
     "execution_count": 1,
     "metadata": {},
     "output_type": "execute_result"
    }
   ],
   "source": [
    "%pwd"
   ]
  },
  {
   "cell_type": "markdown",
   "metadata": {},
   "source": [
    "### 2. 파일 이동시키기\n",
    "- Window\n",
    "    - !move \"파일경로\" \"옮길경로\"\n",
    "\n",
    "- Mac\n",
    "    - %mv 파일경로 옮길경로"
   ]
  },
  {
   "cell_type": "code",
   "execution_count": 12,
   "metadata": {},
   "outputs": [
    {
     "name": "stderr",
     "output_type": "stream",
     "text": [
      "지정된 파일을 찾을 수 없습니다.\n"
     ]
    }
   ],
   "source": [
    "!move \"C:\\\\Users\\kjaeg\\Downloads\\경기도_용인시_노인복지시설 현황.csv\" \".\""
   ]
  },
  {
   "cell_type": "markdown",
   "metadata": {},
   "source": [
    "### 3. 판다스로 csv파일 불러오기"
   ]
  },
  {
   "cell_type": "code",
   "execution_count": 18,
   "metadata": {},
   "outputs": [],
   "source": [
    "import pandas as pd\n",
    "\n",
    "dataset = pd.read_csv('경기도_용인시_노인복지시설 현황.csv', encoding=\"UTF-8\")"
   ]
  },
  {
   "cell_type": "code",
   "execution_count": 19,
   "metadata": {
    "scrolled": true
   },
   "outputs": [
    {
     "data": {
      "text/html": [
       "<div>\n",
       "<style scoped>\n",
       "    .dataframe tbody tr th:only-of-type {\n",
       "        vertical-align: middle;\n",
       "    }\n",
       "\n",
       "    .dataframe tbody tr th {\n",
       "        vertical-align: top;\n",
       "    }\n",
       "\n",
       "    .dataframe thead th {\n",
       "        text-align: right;\n",
       "    }\n",
       "</style>\n",
       "<table border=\"1\" class=\"dataframe\">\n",
       "  <thead>\n",
       "    <tr style=\"text-align: right;\">\n",
       "      <th></th>\n",
       "      <th>연번</th>\n",
       "      <th>시설종류</th>\n",
       "      <th>시설명</th>\n",
       "      <th>정원</th>\n",
       "      <th>주소</th>\n",
       "      <th>전화번호</th>\n",
       "      <th>데이터기준일자</th>\n",
       "    </tr>\n",
       "  </thead>\n",
       "  <tbody>\n",
       "    <tr>\n",
       "      <th>0</th>\n",
       "      <td>1</td>\n",
       "      <td>노인요양시설</td>\n",
       "      <td>온누리요양센터</td>\n",
       "      <td>94.0</td>\n",
       "      <td>경기도 용인시 처인구 양지면 주북로441</td>\n",
       "      <td>031-334-9090</td>\n",
       "      <td>2019-03-31</td>\n",
       "    </tr>\n",
       "    <tr>\n",
       "      <th>1</th>\n",
       "      <td>2</td>\n",
       "      <td>노인요양시설</td>\n",
       "      <td>용인노인요양원</td>\n",
       "      <td>60.0</td>\n",
       "      <td>경기도 용인시 처인구 백암면 근삼로 159</td>\n",
       "      <td>031-334-3677</td>\n",
       "      <td>2019-03-31</td>\n",
       "    </tr>\n",
       "    <tr>\n",
       "      <th>2</th>\n",
       "      <td>3</td>\n",
       "      <td>노인요양시설</td>\n",
       "      <td>무지개너싱홈</td>\n",
       "      <td>18.0</td>\n",
       "      <td>경기도 용인시 기흥구 죽전로 57 호암B/D 8층 (보정동)</td>\n",
       "      <td>031-889-9989</td>\n",
       "      <td>2019-03-31</td>\n",
       "    </tr>\n",
       "    <tr>\n",
       "      <th>3</th>\n",
       "      <td>4</td>\n",
       "      <td>노인요양시설</td>\n",
       "      <td>샤인빌시니어스(주)</td>\n",
       "      <td>49.0</td>\n",
       "      <td>경기도 용인시 처인구 양지면 주북로 235번길140</td>\n",
       "      <td>031-322-0028</td>\n",
       "      <td>2019-03-31</td>\n",
       "    </tr>\n",
       "    <tr>\n",
       "      <th>4</th>\n",
       "      <td>5</td>\n",
       "      <td>노인요양시설</td>\n",
       "      <td>송은요양원(죽전점)</td>\n",
       "      <td>40.0</td>\n",
       "      <td>경기도 용인시 수지구 현암로 105 명지프라자 2,3층</td>\n",
       "      <td>031-896-8881</td>\n",
       "      <td>2019-03-31</td>\n",
       "    </tr>\n",
       "    <tr>\n",
       "      <th>...</th>\n",
       "      <td>...</td>\n",
       "      <td>...</td>\n",
       "      <td>...</td>\n",
       "      <td>...</td>\n",
       "      <td>...</td>\n",
       "      <td>...</td>\n",
       "      <td>...</td>\n",
       "    </tr>\n",
       "    <tr>\n",
       "      <th>123</th>\n",
       "      <td>124</td>\n",
       "      <td>양로시설</td>\n",
       "      <td>노블카운티</td>\n",
       "      <td>800.0</td>\n",
       "      <td>경기도 용인시 기흥구 덕영대로 1751(하갈동)</td>\n",
       "      <td>031-208-8204</td>\n",
       "      <td>2019-03-31</td>\n",
       "    </tr>\n",
       "    <tr>\n",
       "      <th>124</th>\n",
       "      <td>125</td>\n",
       "      <td>양로시설</td>\n",
       "      <td>영보기도의집</td>\n",
       "      <td>29.0</td>\n",
       "      <td>경기도 용인시 처인구 이동면 이원로 512</td>\n",
       "      <td>031-333-7192</td>\n",
       "      <td>2019-03-31</td>\n",
       "    </tr>\n",
       "    <tr>\n",
       "      <th>125</th>\n",
       "      <td>126</td>\n",
       "      <td>노인여가복지시설</td>\n",
       "      <td>용인시처인노인복지관</td>\n",
       "      <td>NaN</td>\n",
       "      <td>경기도 용인시 처인구 중부대로 1199(삼가동)</td>\n",
       "      <td>031-324-9303</td>\n",
       "      <td>2019-03-31</td>\n",
       "    </tr>\n",
       "    <tr>\n",
       "      <th>126</th>\n",
       "      <td>127</td>\n",
       "      <td>노인여가복지시설</td>\n",
       "      <td>용인시수지노인복지관</td>\n",
       "      <td>NaN</td>\n",
       "      <td>경기도 용인시 수지구 포은대로 435(풍덕천동)</td>\n",
       "      <td>031-270-0000</td>\n",
       "      <td>2019-03-31</td>\n",
       "    </tr>\n",
       "    <tr>\n",
       "      <th>127</th>\n",
       "      <td>128</td>\n",
       "      <td>노인여가복지시설</td>\n",
       "      <td>용인시기흥노인복지관</td>\n",
       "      <td>NaN</td>\n",
       "      <td>경기도 용인시 기흥구 산양로 71(신갈동)</td>\n",
       "      <td>031-284-8852</td>\n",
       "      <td>2019-03-31</td>\n",
       "    </tr>\n",
       "  </tbody>\n",
       "</table>\n",
       "<p>128 rows × 7 columns</p>\n",
       "</div>"
      ],
      "text/plain": [
       "      연번      시설종류         시설명     정원                                 주소  \\\n",
       "0      1    노인요양시설     온누리요양센터   94.0             경기도 용인시 처인구 양지면 주북로441   \n",
       "1      2    노인요양시설     용인노인요양원   60.0            경기도 용인시 처인구 백암면 근삼로 159   \n",
       "2      3    노인요양시설      무지개너싱홈   18.0  경기도 용인시 기흥구 죽전로 57 호암B/D 8층 (보정동)   \n",
       "3      4    노인요양시설  샤인빌시니어스(주)   49.0       경기도 용인시 처인구 양지면 주북로 235번길140   \n",
       "4      5    노인요양시설  송은요양원(죽전점)   40.0     경기도 용인시 수지구 현암로 105 명지프라자 2,3층   \n",
       "..   ...       ...         ...    ...                                ...   \n",
       "123  124      양로시설       노블카운티  800.0         경기도 용인시 기흥구 덕영대로 1751(하갈동)   \n",
       "124  125      양로시설      영보기도의집   29.0            경기도 용인시 처인구 이동면 이원로 512   \n",
       "125  126  노인여가복지시설  용인시처인노인복지관    NaN         경기도 용인시 처인구 중부대로 1199(삼가동)   \n",
       "126  127  노인여가복지시설  용인시수지노인복지관    NaN         경기도 용인시 수지구 포은대로 435(풍덕천동)   \n",
       "127  128  노인여가복지시설  용인시기흥노인복지관    NaN            경기도 용인시 기흥구 산양로 71(신갈동)   \n",
       "\n",
       "             전화번호     데이터기준일자  \n",
       "0    031-334-9090  2019-03-31  \n",
       "1    031-334-3677  2019-03-31  \n",
       "2    031-889-9989  2019-03-31  \n",
       "3    031-322-0028  2019-03-31  \n",
       "4    031-896-8881  2019-03-31  \n",
       "..            ...         ...  \n",
       "123  031-208-8204  2019-03-31  \n",
       "124  031-333-7192  2019-03-31  \n",
       "125  031-324-9303  2019-03-31  \n",
       "126  031-270-0000  2019-03-31  \n",
       "127  031-284-8852  2019-03-31  \n",
       "\n",
       "[128 rows x 7 columns]"
      ]
     },
     "execution_count": 19,
     "metadata": {},
     "output_type": "execute_result"
    }
   ],
   "source": [
    "dataset"
   ]
  },
  {
   "cell_type": "code",
   "execution_count": null,
   "metadata": {},
   "outputs": [],
   "source": []
  }
 ],
 "metadata": {
  "kernelspec": {
   "display_name": "Python 3",
   "language": "python",
   "name": "python3"
  },
  "language_info": {
   "codemirror_mode": {
    "name": "ipython",
    "version": 3
   },
   "file_extension": ".py",
   "mimetype": "text/x-python",
   "name": "python",
   "nbconvert_exporter": "python",
   "pygments_lexer": "ipython3",
   "version": "3.8.2"
  }
 },
 "nbformat": 4,
 "nbformat_minor": 4
}
