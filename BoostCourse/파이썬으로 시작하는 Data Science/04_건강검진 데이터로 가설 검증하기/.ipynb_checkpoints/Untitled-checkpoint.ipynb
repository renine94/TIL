{
 "cells": [
  {
   "cell_type": "markdown",
   "metadata": {},
   "source": [
    "# 01. 라이브러리 로드하고 한글폰트 설정하기\n",
    "\n",
    "## 학습목표\n",
    "- 데이터 분석을 위한 라이브러리 로드방법 익히기\n",
    "- 한글 폰트를 설정하는 방법 알아보기\n",
    "\n",
    "## 핵심키워드\n",
    "- pandas\n",
    "- numpy\n",
    "- seaborn\n",
    "- matplotlib\n",
    "\n",
    "## 학습하기\n",
    "---"
   ]
  },
  {
   "cell_type": "markdown",
   "metadata": {},
   "source": [
    "### 1. 음주 여부에 따라 건강검진 수치 차이가 있을까?\n",
    "\n",
    "### 2. 신장과 허리둘레의 크기는 체중과 상관관계가 있을까?\n",
    "- 분석을 통해 가설을 검정해 봅시다.\n",
    "\n",
    "### 3. 라이브러리 로드"
   ]
  },
  {
   "cell_type": "code",
   "execution_count": 1,
   "metadata": {},
   "outputs": [],
   "source": [
    "# pandas: 분석 사용\n",
    "# numpy: 수치계산\n",
    "# seaborn: 시각화\n",
    "# 구버전의 jupyter notebook 에서는 %matplotlib inline 설정되있어야 노트북안에서 그래프를 시각화합니다.\n"
   ]
  },
  {
   "cell_type": "code",
   "execution_count": null,
   "metadata": {},
   "outputs": [],
   "source": []
  },
  {
   "cell_type": "code",
   "execution_count": null,
   "metadata": {},
   "outputs": [],
   "source": []
  },
  {
   "cell_type": "code",
   "execution_count": null,
   "metadata": {},
   "outputs": [],
   "source": []
  }
 ],
 "metadata": {
  "kernelspec": {
   "display_name": "Python 3",
   "language": "python",
   "name": "python3"
  },
  "language_info": {
   "codemirror_mode": {
    "name": "ipython",
    "version": 3
   },
   "file_extension": ".py",
   "mimetype": "text/x-python",
   "name": "python",
   "nbconvert_exporter": "python",
   "pygments_lexer": "ipython3",
   "version": "3.8.2"
  }
 },
 "nbformat": 4,
 "nbformat_minor": 4
}
