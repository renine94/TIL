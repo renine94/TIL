{
 "cells": [
  {
   "cell_type": "markdown",
   "metadata": {},
   "source": [
    "# 공공데이터 포털 및 분석할 데이터셋 소개\n",
    "\n",
    "## 학습목표\n",
    "- 공공데이터를 찾는 방법을 이해하고, 분석할 데이터셋 파악하기\n",
    "\n",
    "## 핵심키워드\n",
    "- 공공데이터\n",
    "\n",
    "## 학습하기\n",
    "\n",
    "### 공공데이터 상권정보 분석해보기\n",
    "- https://www.data.go.kr/data/15012005/openapi.do\n",
    "- 국가중점데이터인 상권정보를 살펴봅니다.\n",
    "- 처음으로 파일데이터에서 `상가(상권)정보_의료기관_201909`를 다운로드 받아봅니다.\n",
    "\n",
    "### 필요한 라이브러리 불러오기"
   ]
  },
  {
   "cell_type": "code",
   "execution_count": 1,
   "metadata": {},
   "outputs": [],
   "source": [
    "import pandas as pd"
   ]
  },
  {
   "cell_type": "code",
   "execution_count": null,
   "metadata": {},
   "outputs": [],
   "source": []
  }
 ],
 "metadata": {
  "kernelspec": {
   "display_name": "Python 3",
   "language": "python",
   "name": "python3"
  },
  "language_info": {
   "codemirror_mode": {
    "name": "ipython",
    "version": 3
   },
   "file_extension": ".py",
   "mimetype": "text/x-python",
   "name": "python",
   "nbconvert_exporter": "python",
   "pygments_lexer": "ipython3",
   "version": "3.8.2"
  }
 },
 "nbformat": 4,
 "nbformat_minor": 4
}
