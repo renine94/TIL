{
 "cells": [
  {
   "cell_type": "markdown",
   "metadata": {},
   "source": [
    "# sklearn 으로 ML Model 만들기, 전체과정 정리\n",
    "\n",
    "- 학습목표\n",
    "    - 사이킷런을 통해 머신러닝 모델을 만드는 전체 과정을 이해한다.\n",
    "    \n",
    "    \n",
    "- 핵심 키워드\n",
    "    - 분류\n",
    "    - 회귀\n",
    "    - 오버피팅(과적합, 과대적합) / 언더피팅(과소적합)\n",
    "    - 그리드서치, 랜덤서치\n",
    "    - 평가"
   ]
  },
  {
   "cell_type": "code",
   "execution_count": null,
   "metadata": {},
   "outputs": [],
   "source": [
    "from sklearn.ensemble import RandomForestClassifier"
   ]
  },
  {
   "cell_type": "markdown",
   "metadata": {},
   "source": [
    "# 전체과정\n",
    "\n",
    "- 데이터 읽기\n",
    "- 데이터 전처리\n",
    "    - 피처 엔지니어링\n",
    "    - 피처 셀렉션\n",
    "    - 피처 추출\n",
    "    - 피처 변환, 스케일링\n",
    "- 모델링\n",
    "    - 하이퍼 파라미터 튜닝\n",
    "- 예측\n",
    "- 평가"
   ]
  },
  {
   "cell_type": "code",
   "execution_count": null,
   "metadata": {},
   "outputs": [],
   "source": [
    "# 모델 생성\n",
    "clf = RandomForestClassifier()\n",
    "\n",
    "# 학습\n",
    "clf.fit(X_train, y_train)\n",
    "\n",
    "# 학습한것을 바탕으로 실전문제를 풀어봄 (예측))\n",
    "y_pred = clf.predict(X_test)\n",
    "\n",
    "# 점수가 몇점 인 지 계산\n",
    "clf.score(X_test, y_test)"
   ]
  }
 ],
 "metadata": {
  "kernelspec": {
   "display_name": "Python 3",
   "language": "python",
   "name": "python3"
  },
  "language_info": {
   "codemirror_mode": {
    "name": "ipython",
    "version": 3
   },
   "file_extension": ".py",
   "mimetype": "text/x-python",
   "name": "python",
   "nbconvert_exporter": "python",
   "pygments_lexer": "ipython3",
   "version": "3.7.5"
  },
  "toc-autonumbering": true
 },
 "nbformat": 4,
 "nbformat_minor": 4
}
