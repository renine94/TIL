{
 "cells": [
  {
   "cell_type": "markdown",
   "metadata": {},
   "source": [
    " # Scikit-Learn\n",
    " - 할수 있는 일\n",
    "     - 분류 ( Classification )\n",
    "         - 쇼핑몰에서 고객이 구매한다. 안한다.\n",
    "         - 이 고객에게 대출 해줘도 된다 안된다.\n",
    "         - 문의가 어떤 카테고리에 해당되는 지\n",
    "     - 회귀 ( Regression )\n",
    "         - 예측하고자 할때,\n",
    "     - 군집 ( Clustering )\n",
    "         - 쇼핑몰에서 고객이 어떤 고객유형인지 군집화할 때,\n",
    "     - 등등.."
   ]
  },
  {
   "cell_type": "code",
   "execution_count": null,
   "metadata": {},
   "outputs": [],
   "source": []
  }
 ],
 "metadata": {
  "kernelspec": {
   "display_name": "Python 3",
   "language": "python",
   "name": "python3"
  },
  "language_info": {
   "codemirror_mode": {
    "name": "ipython",
    "version": 3
   },
   "file_extension": ".py",
   "mimetype": "text/x-python",
   "name": "python",
   "nbconvert_exporter": "python",
   "pygments_lexer": "ipython3",
   "version": "3.8.2"
  }
 },
 "nbformat": 4,
 "nbformat_minor": 4
}
