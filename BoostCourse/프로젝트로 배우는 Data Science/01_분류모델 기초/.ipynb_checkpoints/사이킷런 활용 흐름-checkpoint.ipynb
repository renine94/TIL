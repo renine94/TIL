{
 "cells": [
  {
   "cell_type": "markdown",
   "metadata": {},
   "source": [
    "# 지도학습\n",
    "문제에 대한 정답을 이미 알고 있을 때,\n",
    "- Training Data\n",
    "- Training Labels\n",
    "\n",
    "Model 을 만들고\n",
    "\n",
    "- Test Data\n",
    "\n",
    "만든 Model 로 Prediction(예측) 한다.\n",
    "\n",
    "- Test Labels\n",
    "\n",
    "Evaluation(평가) 한다."
   ]
  },
  {
   "cell_type": "markdown",
   "metadata": {},
   "source": [
    "Train Data로 학습해서 모델을 만들고 Test Data로 만든 모델을 평가한다."
   ]
  },
  {
   "cell_type": "markdown",
   "metadata": {},
   "source": []
  }
 ],
 "metadata": {
  "kernelspec": {
   "display_name": "Python 3",
   "language": "python",
   "name": "python3"
  },
  "language_info": {
   "codemirror_mode": {
    "name": "ipython",
    "version": 3
   },
   "file_extension": ".py",
   "mimetype": "text/x-python",
   "name": "python",
   "nbconvert_exporter": "python",
   "pygments_lexer": "ipython3",
   "version": "3.8.2"
  }
 },
 "nbformat": 4,
 "nbformat_minor": 4
}
