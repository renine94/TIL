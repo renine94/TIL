{
 "cells": [
  {
   "cell_type": "markdown",
   "metadata": {},
   "source": [
    "# 지도학습\n",
    "문제에 대한 정답을 이미 알고 있을 때,\n",
    "- Training Data\n",
    "- Training Labels\n",
    "\n",
    "Model 을 만들고\n",
    "\n",
    "- Test Data\n",
    "\n",
    "만든 Model 로 Prediction(예측) 한다.\n",
    "\n",
    "- Test Labels\n",
    "\n",
    "Evaluation(평가) 한다."
   ]
  },
  {
   "cell_type": "markdown",
   "metadata": {},
   "source": [
    "Train Data로 학습해서 모델을 만들고 Test Data로 만든 모델을 평가한다."
   ]
  },
  {
   "cell_type": "markdown",
   "metadata": {},
   "source": [
    "## 랜덤포레스트 분류"
   ]
  },
  {
   "cell_type": "code",
   "execution_count": 14,
   "metadata": {},
   "outputs": [],
   "source": [
    "from sklearn.ensemble import RandomForestClassifier\n",
    "\n",
    "clf = RandomForestClassifier()\n",
    "\n",
    "clf.fit(X_train, y_train) # 문제와 정답을 같이 넣어준다.\n",
    "y_pred = clf.predict(X_test)\n",
    "clf.score(X_test, y_test)"
   ]
  },
  {
   "cell_type": "code",
   "execution_count": 13,
   "metadata": {},
   "outputs": [
    {
     "data": {
      "text/plain": [
       "RandomForestClassifier()"
      ]
     },
     "execution_count": 13,
     "metadata": {},
     "output_type": "execute_result"
    }
   ],
   "source": [
    "clf"
   ]
  },
  {
   "cell_type": "markdown",
   "metadata": {},
   "source": [
    "# 비지도 학습\n",
    "정답데이터가 없다. 군집화 / 차원축소에서 비지도학습을 사용하게 된다.<br>\n",
    "군집화 문제는 쇼핑몰에서 비슷한 고객끼리 묶어서 고객군을 알게되면,<br>\n",
    "그 비슷한 고객들에게 물건을 추천한다. ( 프로모션 한다 )\n",
    "\n",
    "- `Training Data`\n",
    "\n",
    "로 Model 을 만든다.\n",
    "\n",
    "- `Test Data`\n",
    "\n",
    "로 새로운 View 를 만든다."
   ]
  },
  {
   "cell_type": "markdown",
   "metadata": {},
   "source": [
    "## 비지도 트랜스포메이션\n",
    "\n",
    "- PCA\n",
    "    - 차원축소 방법중에 하나"
   ]
  },
  {
   "cell_type": "code",
   "execution_count": null,
   "metadata": {},
   "outputs": [],
   "source": [
    "pca = PCA()\n",
    "\n",
    "pca.fit(X_train)\n",
    "\n",
    "X_new = pca.transform(X_test)\n",
    "\n",
    "# pca로 차원이 축소되면, 시각화나 머신러닝의 피처로 사용할 수 있게 된다."
   ]
  },
  {
   "cell_type": "markdown",
   "metadata": {},
   "source": [
    "# Basic Api\n",
    "\n",
    "- `estimator.fit(X, [y])` : X 값은 필수, [y] 는 선택\n",
    "\n",
    "- `estimator.predict`\n",
    "    - Classification\n",
    "    - Regression\n",
    "    - Clustering\n",
    "    \n",
    "- `estimator.transform`\n",
    "    - Preprocessing\n",
    "    - Dimensionality reduction\n",
    "    - Feature selection\n",
    "    - Feature extraction"
   ]
  },
  {
   "cell_type": "code",
   "execution_count": null,
   "metadata": {},
   "outputs": [],
   "source": []
  }
 ],
 "metadata": {
  "kernelspec": {
   "display_name": "Python 3",
   "language": "python",
   "name": "python3"
  },
  "language_info": {
   "codemirror_mode": {
    "name": "ipython",
    "version": 3
   },
   "file_extension": ".py",
   "mimetype": "text/x-python",
   "name": "python",
   "nbconvert_exporter": "python",
   "pygments_lexer": "ipython3",
   "version": "3.8.2"
  }
 },
 "nbformat": 4,
 "nbformat_minor": 4
}
