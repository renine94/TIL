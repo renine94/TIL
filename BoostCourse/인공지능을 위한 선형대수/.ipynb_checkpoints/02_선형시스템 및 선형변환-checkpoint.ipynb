{
 "cells": [
  {
   "cell_type": "markdown",
   "metadata": {},
   "source": [
    "# 선형방정식과 선형시스템\n",
    "- 학습목표\n",
    "    - 선형방정식과 선형시스템의 개념을 구체적인 예시와 함께 배운다.\n",
    "    - 선형방정식을 풀기 위한 방법 중 한 가지인 `역행렬`과 `항등 행렬`의 개념 학습\n",
    "    \n",
    "    \n",
    "- 핵심 키워드\n",
    "    - 선형방정식(Linear Equation)과 선형시스템(Linear System)\n",
    "    - 항등 행렬(Identity Matrix)과 역행렬(Inverse Matrix)"
   ]
  },
  {
   "cell_type": "markdown",
   "metadata": {},
   "source": [
    "## 선형방정식(Linear Equation)\n",
    "- a1X1 + a2X2 + a3X3 + ... + anXn = b\n",
    "- a1, a2, a3 계수\n",
    "- b "
   ]
  },
  {
   "cell_type": "markdown",
   "metadata": {},
   "source": [
    "## 선형시스템 (Linear System)"
   ]
  },
  {
   "cell_type": "code",
   "execution_count": 1,
   "metadata": {},
   "outputs": [],
   "source": [
    "import pandas as pd"
   ]
  },
  {
   "cell_type": "code",
   "execution_count": 2,
   "metadata": {},
   "outputs": [
    {
     "data": {
      "text/html": [
       "<div>\n",
       "<style scoped>\n",
       "    .dataframe tbody tr th:only-of-type {\n",
       "        vertical-align: middle;\n",
       "    }\n",
       "\n",
       "    .dataframe tbody tr th {\n",
       "        vertical-align: top;\n",
       "    }\n",
       "\n",
       "    .dataframe thead th {\n",
       "        text-align: right;\n",
       "    }\n",
       "</style>\n",
       "<table border=\"1\" class=\"dataframe\">\n",
       "  <thead>\n",
       "    <tr style=\"text-align: right;\">\n",
       "      <th></th>\n",
       "      <th>Person ID</th>\n",
       "      <th>Weight</th>\n",
       "      <th>Height</th>\n",
       "      <th>is_smoking</th>\n",
       "      <th>Life-span</th>\n",
       "    </tr>\n",
       "  </thead>\n",
       "  <tbody>\n",
       "    <tr>\n",
       "      <th>0</th>\n",
       "      <td>1</td>\n",
       "      <td>60</td>\n",
       "      <td>5.5</td>\n",
       "      <td>1</td>\n",
       "      <td>66</td>\n",
       "    </tr>\n",
       "    <tr>\n",
       "      <th>1</th>\n",
       "      <td>2</td>\n",
       "      <td>65</td>\n",
       "      <td>5.0</td>\n",
       "      <td>0</td>\n",
       "      <td>74</td>\n",
       "    </tr>\n",
       "    <tr>\n",
       "      <th>2</th>\n",
       "      <td>3</td>\n",
       "      <td>55</td>\n",
       "      <td>6.0</td>\n",
       "      <td>1</td>\n",
       "      <td>78</td>\n",
       "    </tr>\n",
       "  </tbody>\n",
       "</table>\n",
       "</div>"
      ],
      "text/plain": [
       "   Person ID  Weight  Height  is_smoking  Life-span\n",
       "0          1      60     5.5           1         66\n",
       "1          2      65     5.0           0         74\n",
       "2          3      55     6.0           1         78"
      ]
     },
     "execution_count": 2,
     "metadata": {},
     "output_type": "execute_result"
    }
   ],
   "source": [
    "df = pd.DataFrame({\n",
    "    'Person ID': [1, 2, 3],\n",
    "    'Weight': [60, 65, 55],\n",
    "    'Height': [5.5, 5.0, 6.0],\n",
    "    'is_smoking': [1, 0, 1],\n",
    "    'Life-span': [66, 74, 78]\n",
    "})\n",
    "df"
   ]
  },
  {
   "cell_type": "markdown",
   "metadata": {},
   "source": [
    "<pre>\n",
    "We want to set up the following linear system:\n",
    "    60*x1 + 5.5*x2 + 1*x3 = 66\n",
    "    65*x1 + 5.0*x2 + 0*x3 = 74\n",
    "    55*x1 + 6.0*x2 + 1*x3 = 78\n",
    "</pre>\n",
    "\n",
    "Life-span 을 맞추고싶음. (목표변수, Target, Label) - 최적의 계수를 찾고싶음"
   ]
  },
  {
   "cell_type": "markdown",
   "metadata": {},
   "source": [
    "![Linear System](./images/photo1.jpeg)"
   ]
  },
  {
   "cell_type": "markdown",
   "metadata": {},
   "source": [
    "## Identity Matrix (항등행렬 I)"
   ]
  },
  {
   "cell_type": "code",
   "execution_count": 5,
   "metadata": {},
   "outputs": [],
   "source": [
    "# 항등행렬 E 에 어떤 값을 곱해도 자기자신이 나오게 된다.\n",
    "\n",
    "I = [\n",
    "    [1, 0, 0],\n",
    "    [0, 1, 0],\n",
    "    [0, 0, 1]\n",
    "]"
   ]
  },
  {
   "cell_type": "markdown",
   "metadata": {},
   "source": [
    "## Inverse Matrix (역행렬)"
   ]
  },
  {
   "cell_type": "code",
   "execution_count": null,
   "metadata": {},
   "outputs": [],
   "source": []
  }
 ],
 "metadata": {
  "kernelspec": {
   "display_name": "Python 3",
   "language": "python",
   "name": "python3"
  },
  "language_info": {
   "codemirror_mode": {
    "name": "ipython",
    "version": 3
   },
   "file_extension": ".py",
   "mimetype": "text/x-python",
   "name": "python",
   "nbconvert_exporter": "python",
   "pygments_lexer": "ipython3",
   "version": "3.7.5"
  }
 },
 "nbformat": 4,
 "nbformat_minor": 4
}
