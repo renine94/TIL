{
 "cells": [
  {
   "cell_type": "markdown",
   "metadata": {},
   "source": [
    "# Numerical Python (Numpy)\n",
    "- 학습목표\n",
    "    - 파이썬의 과학 계산용 패키지 Numpy\n",
    "    - Numpy 특징, 기능, 코드 작성법 학습\n",
    "    \n",
    "    \n",
    "- 핵심키워드\n",
    "    - numpy\n",
    "    - ndarray\n",
    "    - Handling shape\n",
    "    - Indexing\n",
    "    - Slicing\n",
    "    - Creation function\n",
    "    - Operation functions\n",
    "    - array operations\n",
    "    - Comparisons\n",
    "    - Boolean Index\n",
    "    - Fancy Index\n",
    "    - numpy data i/o"
   ]
  },
  {
   "cell_type": "markdown",
   "metadata": {},
   "source": [
    "## 설치 및 불러오기"
   ]
  },
  {
   "cell_type": "code",
   "execution_count": 1,
   "metadata": {},
   "outputs": [],
   "source": [
    "#!pip install numpy\n",
    "import numpy as np"
   ]
  },
  {
   "cell_type": "markdown",
   "metadata": {},
   "source": [
    "# Numpy 특징\n",
    "- 일반 List에 비해 더 빠르고, 메모리 효율적\n",
    "- 반복문 없이 데이터 배열에 대한 처리를 지원함\n",
    "- 선형대수와 관련된 다양한 기능 제공\n",
    "- C, C++ 포트란 등의 언어와 통합 가능"
   ]
  },
  {
   "cell_type": "markdown",
   "metadata": {},
   "source": [
    "## Array Creation\n",
    "- numpy는 np.array 함수를 활용하여 배열을 생성한다. => `ndarray` 자료형 (N-dimension Array의 약자)\n",
    "- numpy는 하나의 데이터 type만 배열에 넣을 수 있음 ( 배열안의 자료형이 다 같아야 한다. )\n",
    "- List와 가장 큰 차이점, Dynamic typing not supported (동적 타이핑 불허)\n",
    "- C의 Array를 사용하여 배열을 생성함\n",
    "\n"
   ]
  },
  {
   "cell_type": "code",
   "execution_count": 17,
   "metadata": {},
   "outputs": [
    {
     "name": "stdout",
     "output_type": "stream",
     "text": [
      "[1. 4. 5. 8.]\n",
      "<class 'numpy.float64'>\n",
      "float64\n",
      "(4,)\n"
     ]
    }
   ],
   "source": [
    "test_array = np.array([1, 4, 5, 8], np.float64)\n",
    "print(test_array)\n",
    "print(type(test_array[3]))\n",
    "print(test_array.dtype)\n",
    "print(test_array.shape)"
   ]
  },
  {
   "cell_type": "code",
   "execution_count": 23,
   "metadata": {},
   "outputs": [
    {
     "name": "stdout",
     "output_type": "stream",
     "text": [
      "(1, 4)\n"
     ]
    },
    {
     "data": {
      "text/plain": [
       "array([[1., 2., 3., 4.]])"
      ]
     },
     "execution_count": 23,
     "metadata": {},
     "output_type": "execute_result"
    }
   ],
   "source": [
    "print(np.array([[1,2,3,4]], np.float64).shape)\n",
    "np.array([[1,2,3,4]], np.float64)"
   ]
  },
  {
   "cell_type": "markdown",
   "metadata": {},
   "source": [
    "## Array Shape (3rd order tensor)"
   ]
  },
  {
   "cell_type": "code",
   "execution_count": 26,
   "metadata": {},
   "outputs": [
    {
     "data": {
      "text/plain": [
       "(4, 3, 4)"
      ]
     },
     "execution_count": 26,
     "metadata": {},
     "output_type": "execute_result"
    }
   ],
   "source": [
    "tensor = [\n",
    "    [ [1,2,5,8], [1,2,5,8], [1,2,5,8] ],\n",
    "    [ [1,2,5,8], [1,2,5,8], [1,2,5,8] ],\n",
    "    [ [1,2,5,8], [1,2,5,8], [1,2,5,8] ],\n",
    "    [ [1,2,5,8], [1,2,5,8], [1,2,5,8] ],\n",
    "]\n",
    "\n",
    "np.array(tensor, int).shape"
   ]
  },
  {
   "cell_type": "code",
   "execution_count": 29,
   "metadata": {},
   "outputs": [
    {
     "name": "stdout",
     "output_type": "stream",
     "text": [
      "3\n",
      "48\n"
     ]
    }
   ],
   "source": [
    "# ndim & size\n",
    "# ndim - number of dimension\n",
    "# size - data의 개수\n",
    "\n",
    "print(np.array(tensor, int).ndim) # 3차원\n",
    "print(np.array(tensor, int).size) # 전체 데이터의 개수 (4x3x4)"
   ]
  },
  {
   "cell_type": "markdown",
   "metadata": {},
   "source": [
    "## dtpye\n",
    "- nbytes - ndarray object의 <span style='color:yellow'>메모리 크기를 반환함</span>"
   ]
  },
  {
   "cell_type": "code",
   "execution_count": 31,
   "metadata": {},
   "outputs": [
    {
     "data": {
      "text/plain": [
       "24"
      ]
     },
     "execution_count": 31,
     "metadata": {},
     "output_type": "execute_result"
    }
   ],
   "source": [
    "np.array([[1,2,3], [4.5, '5', '6']], np.float32).nbytes # 32bits = 4bytes => 6 * 4 => 24"
   ]
  },
  {
   "cell_type": "markdown",
   "metadata": {},
   "source": [
    "## Python에서 List가 동작하는 방식\n",
    "- 메모리 관점\n",
    "- 얇은복사, 깊은복사"
   ]
  },
  {
   "cell_type": "code",
   "execution_count": 3,
   "metadata": {},
   "outputs": [
    {
     "data": {
      "text/plain": [
       "[1, 2, 5, 4, 5]"
      ]
     },
     "execution_count": 3,
     "metadata": {},
     "output_type": "execute_result"
    }
   ],
   "source": [
    "# a, b 가 바라보는 메모리 주소가 같기 때문에 b를 수정해도 a도 같이 수정된다(?)\n",
    "\n",
    "a = [1,2,3,4,5]\n",
    "b = a\n",
    "b[2] = 5\n",
    "a"
   ]
  },
  {
   "cell_type": "code",
   "execution_count": 9,
   "metadata": {},
   "outputs": [
    {
     "name": "stdout",
     "output_type": "stream",
     "text": [
      "[1, 2, 5, 4, 5]\n",
      "[1, 2, 3, 4, 5]\n"
     ]
    }
   ],
   "source": [
    "# b 에다가 a 를 copy() 즉, 복사를 시켜주면 메모리 공간을 하나 더 만드는셈이므로 b를 수정해도 a가 바라보는 메모리주소는 수정되지 않는다.\n",
    "\n",
    "a = [1,2,3,4,5]\n",
    "b = a.copy() # a[:] 로 써도 카피가된다.\n",
    "b[2] = 5\n",
    "print(b)\n",
    "print(a)"
   ]
  },
  {
   "cell_type": "code",
   "execution_count": 14,
   "metadata": {},
   "outputs": [
    {
     "name": "stdout",
     "output_type": "stream",
     "text": [
      "[[1, 2, 3, 4], [3, 4, 5, 6]]\n",
      "[[1, 2, 3, 4], [3, 4, 5, 6]]\n",
      "\n",
      "[[5, 2, 3, 4], [3, 4, 5, 6]]\n",
      "\n",
      "[[5, 2, 3, 4], [3, 4, 5, 6]]\n",
      "[[1000, 2, 3, 4], [3, 4, 5, 6]]\n"
     ]
    }
   ],
   "source": [
    "from copy import deepcopy # 2차원이상의 리스트를 복사할때 사용!\n",
    "\n",
    "a = [[1,2,3,4], [3,4,5,6]]\n",
    "b = a\n",
    "print(a)\n",
    "print(b)\n",
    "print()\n",
    "a[0][0] = 5\n",
    "print(b)\n",
    "print()\n",
    "\n",
    "b = deepcopy(a)\n",
    "b[0][0] = 1000\n",
    "print(a)\n",
    "print(b)"
   ]
  },
  {
   "cell_type": "markdown",
   "metadata": {},
   "source": [
    "# Handling shape"
   ]
  },
  {
   "cell_type": "markdown",
   "metadata": {},
   "source": [
    "## reshape\n",
    "- Array의 shape의 크기를 변경함 (element 의 개수는 동일)"
   ]
  },
  {
   "cell_type": "code",
   "execution_count": 49,
   "metadata": {},
   "outputs": [
    {
     "name": "stdout",
     "output_type": "stream",
     "text": [
      "[[1 2 5 8]\n",
      " [1 2 5 8]]\n",
      "(2, 4)\n",
      "\n",
      "[[1 2 5 8 1 2 5 8]]\n"
     ]
    },
    {
     "data": {
      "text/plain": [
       "(1, 8)"
      ]
     },
     "execution_count": 49,
     "metadata": {},
     "output_type": "execute_result"
    }
   ],
   "source": [
    "# (2, 4) => (8, )\n",
    "# 2차원을 1차원으로 줄여서 matrix => vector 로 변환\n",
    "\n",
    "matrix = [\n",
    "    [1,2,5,8],\n",
    "    [1,2,5,8]\n",
    "]\n",
    "\n",
    "print( np.array(matrix) )\n",
    "print( np.array(matrix, int).shape )\n",
    "print()\n",
    "\n",
    "# reshape(행, 열))\n",
    "print( np.array(matrix, int).reshape(1, 8) )\n",
    "np.array(matrix, int).reshape(1, 8).shape"
   ]
  },
  {
   "cell_type": "code",
   "execution_count": 51,
   "metadata": {},
   "outputs": [
    {
     "name": "stdout",
     "output_type": "stream",
     "text": [
      "[[1 2]\n",
      " [5 8]\n",
      " [1 2]\n",
      " [5 8]]\n"
     ]
    },
    {
     "data": {
      "text/plain": [
       "(4, 2)"
      ]
     },
     "execution_count": 51,
     "metadata": {},
     "output_type": "execute_result"
    }
   ],
   "source": [
    "# row 개수는 정확하게 모르지만 column 수는 2개로 하고 싶을 때,\n",
    "print( np.array(matrix).reshape(-1, 2) )\n",
    "np.array(matrix).reshape(-1, 2).shape"
   ]
  },
  {
   "cell_type": "markdown",
   "metadata": {},
   "source": [
    "## flatten\n",
    "- N차원 array를 1차원으로 변환\n",
    "- reshape() 으로 해도 상관은 없음\n",
    "- 1차원으로 쫙 펴준다."
   ]
  },
  {
   "cell_type": "code",
   "execution_count": 54,
   "metadata": {},
   "outputs": [
    {
     "data": {
      "text/plain": [
       "array([1, 2, 5, 8, 1, 2, 5, 8])"
      ]
     },
     "execution_count": 54,
     "metadata": {},
     "output_type": "execute_result"
    }
   ],
   "source": [
    "matrix = [[1,2,5,8], [1,2,5,8]]\n",
    "\n",
    "# flatten() - 1차원 Array로 데이터를 쭉 펴준다.\n",
    "np.array(matrix).flatten() "
   ]
  },
  {
   "cell_type": "markdown",
   "metadata": {},
   "source": [
    "# Indexing & Slicing"
   ]
  },
  {
   "cell_type": "markdown",
   "metadata": {},
   "source": [
    "## Indexing\n",
    "- 파이썬 기본 자료형인 List와 달리 Numpy의 ndarray 자료형에서는 `[0, 0]` 과 같은 표기법을 제공한다.\n",
    "- Matrix 일 경우 앞은 row, 뒤는 column 을 의미한다."
   ]
  },
  {
   "cell_type": "code",
   "execution_count": 58,
   "metadata": {},
   "outputs": [
    {
     "name": "stdout",
     "output_type": "stream",
     "text": [
      "[[1 2 3]\n",
      " [4 5 6]]\n",
      "1\n",
      "1\n",
      "[[12  2  3]\n",
      " [ 4  5  6]]\n",
      "[[5 2 3]\n",
      " [4 5 6]]\n"
     ]
    }
   ],
   "source": [
    "a = np.array([[1,2,3], [4.5, 5, 6]], int)\n",
    "\n",
    "print(a)\n",
    "\n",
    "# 2차원 행렬에서 값에 접근하는 방법에는\n",
    "# 2가지 표기 방법이 있다.\n",
    "print(a[0, 0])\n",
    "print(a[0][0])\n",
    "\n",
    "a[0, 0] = 12\n",
    "print(a)\n",
    "\n",
    "a[0][0] = 5\n",
    "print(a)"
   ]
  },
  {
   "cell_type": "markdown",
   "metadata": {},
   "source": [
    "## Slicing\n",
    "- list와 달리 행과 열 부분을 나눠서 slicing이 가능함\n",
    "- matrix의 부분 집합을 추출할 때 유용함"
   ]
  },
  {
   "cell_type": "code",
   "execution_count": 59,
   "metadata": {},
   "outputs": [
    {
     "data": {
      "text/plain": [
       "array([[ 1,  2,  3,  4,  5],\n",
       "       [ 6,  7,  8,  9, 10]])"
      ]
     },
     "execution_count": 59,
     "metadata": {},
     "output_type": "execute_result"
    }
   ],
   "source": [
    "a = np.array([[1,2,3,4,5], [6,7,8,9,10]], int)\n",
    "a"
   ]
  },
  {
   "cell_type": "code",
   "execution_count": 63,
   "metadata": {},
   "outputs": [
    {
     "name": "stdout",
     "output_type": "stream",
     "text": [
      "[[ 3  4  5]\n",
      " [ 8  9 10]]\n",
      "\n",
      "[7 8]\n",
      "\n",
      "[[ 6  7  8  9 10]]\n",
      "\n"
     ]
    }
   ],
   "source": [
    "print( a[:, 2:] ) # 전체 Row의 2열 이상\n",
    "print()\n",
    "\n",
    "print( a[1, 1:3] ) # 1행의 1~2열 까지\n",
    "print()\n",
    "\n",
    "print( a[1:3] ) # 1~2행의 모든 열\n",
    "print()"
   ]
  },
  {
   "cell_type": "code",
   "execution_count": 67,
   "metadata": {},
   "outputs": [
    {
     "name": "stdout",
     "output_type": "stream",
     "text": [
      "[[ 1  3  5]\n",
      " [ 6  8 10]]\n",
      "\n",
      "[[1 4]]\n"
     ]
    }
   ],
   "source": [
    "# [start : end : step]\n",
    "\n",
    "# 모든row, 2칸씩 띄어서 column\n",
    "print( a[:, ::2] )\n",
    "\n",
    "print()\n",
    "\n",
    "# row 2칸씩 띄고, column 3칸씩 띄고\n",
    "print( a[::2, ::3] )"
   ]
  },
  {
   "cell_type": "markdown",
   "metadata": {},
   "source": [
    "# Array Handling"
   ]
  },
  {
   "cell_type": "markdown",
   "metadata": {},
   "source": [
    "## arange\n",
    "- array의 범위를 지정하여, 값의 list를 생성하는 명령어"
   ]
  },
  {
   "cell_type": "code",
   "execution_count": 74,
   "metadata": {},
   "outputs": [
    {
     "data": {
      "text/plain": [
       "array([ 0,  1,  2,  3,  4,  5,  6,  7,  8,  9, 10, 11, 12, 13, 14, 15, 16,\n",
       "       17, 18, 19, 20, 21, 22, 23, 24, 25, 26, 27, 28, 29])"
      ]
     },
     "execution_count": 74,
     "metadata": {},
     "output_type": "execute_result"
    }
   ],
   "source": [
    "np.arange(30) # arange: List의 range와 같은 효과, integer로 0부터 29까지 배열 추출"
   ]
  },
  {
   "cell_type": "code",
   "execution_count": 75,
   "metadata": {},
   "outputs": [
    {
     "data": {
      "text/plain": [
       "array([0. , 0.5, 1. , 1.5, 2. , 2.5, 3. , 3.5, 4. , 4.5])"
      ]
     },
     "execution_count": 75,
     "metadata": {},
     "output_type": "execute_result"
    }
   ],
   "source": [
    "np.arange(0, 5, 0.5) # floating point도 표시가능함, (시작, 끝, 스텝)"
   ]
  },
  {
   "cell_type": "code",
   "execution_count": 76,
   "metadata": {},
   "outputs": [
    {
     "data": {
      "text/plain": [
       "array([[ 0,  1,  2,  3,  4,  5],\n",
       "       [ 6,  7,  8,  9, 10, 11],\n",
       "       [12, 13, 14, 15, 16, 17],\n",
       "       [18, 19, 20, 21, 22, 23],\n",
       "       [24, 25, 26, 27, 28, 29]])"
      ]
     },
     "execution_count": 76,
     "metadata": {},
     "output_type": "execute_result"
    }
   ],
   "source": [
    "np.arange(30).reshape(5, 6)"
   ]
  },
  {
   "cell_type": "markdown",
   "metadata": {},
   "source": [
    "## ones, zeros, and empty\n",
    "- ones\n",
    "    - 1로 가득한 ndarray 생성\n",
    "- zeros\n",
    "    - 0으로 가득한 ndarray 생성\n",
    "- empty\n",
    "    - shape만 주어지고 비어있는 ndarray 생성\n",
    "    - memory initialization 이 되지 않음"
   ]
  },
  {
   "cell_type": "code",
   "execution_count": 90,
   "metadata": {},
   "outputs": [
    {
     "data": {
      "text/plain": [
       "array([1, 1, 1, 1, 1, 1, 1, 1, 1, 1], dtype=int8)"
      ]
     },
     "execution_count": 90,
     "metadata": {},
     "output_type": "execute_result"
    }
   ],
   "source": [
    "np.ones(shape=(10, ), dtype=np.int8) # 10 - one vector 생성"
   ]
  },
  {
   "cell_type": "code",
   "execution_count": 93,
   "metadata": {},
   "outputs": [
    {
     "data": {
      "text/plain": [
       "array([[1., 1., 1., 1., 1.],\n",
       "       [1., 1., 1., 1., 1.]])"
      ]
     },
     "execution_count": 93,
     "metadata": {},
     "output_type": "execute_result"
    }
   ],
   "source": [
    "np.ones(shape=(2, 5)) # 2 by 5 - one matrix 생성"
   ]
  },
  {
   "cell_type": "code",
   "execution_count": 91,
   "metadata": {},
   "outputs": [
    {
     "data": {
      "text/plain": [
       "array([0, 0, 0, 0, 0, 0, 0, 0, 0, 0], dtype=int8)"
      ]
     },
     "execution_count": 91,
     "metadata": {},
     "output_type": "execute_result"
    }
   ],
   "source": [
    "np.zeros(shape=(10, ), dtype=np.int8) # 10 - zero vector 생성"
   ]
  },
  {
   "cell_type": "code",
   "execution_count": 92,
   "metadata": {},
   "outputs": [
    {
     "data": {
      "text/plain": [
       "array([[0., 0., 0., 0., 0.],\n",
       "       [0., 0., 0., 0., 0.]])"
      ]
     },
     "execution_count": 92,
     "metadata": {},
     "output_type": "execute_result"
    }
   ],
   "source": [
    "np.zeros(shape=(2, 5)) # 2 by 5 - zero matrix 생성"
   ]
  },
  {
   "cell_type": "code",
   "execution_count": 96,
   "metadata": {},
   "outputs": [
    {
     "data": {
      "text/plain": [
       "array([1, 1, 1, 1, 1, 1, 1, 1, 1, 1], dtype=int8)"
      ]
     },
     "execution_count": 96,
     "metadata": {},
     "output_type": "execute_result"
    }
   ],
   "source": [
    "np.empty(shape=(10, ), dtype=np.int8)"
   ]
  },
  {
   "cell_type": "code",
   "execution_count": 98,
   "metadata": {},
   "outputs": [
    {
     "data": {
      "text/plain": [
       "array([[0.0e+000, 4.9e-324, 9.9e-324, 1.5e-323, 2.0e-323],\n",
       "       [2.5e-323, 3.0e-323, 3.5e-323, 4.0e-323, 4.4e-323],\n",
       "       [4.9e-323, 5.4e-323, 5.9e-323, 6.4e-323, 6.9e-323]])"
      ]
     },
     "execution_count": 98,
     "metadata": {},
     "output_type": "execute_result"
    }
   ],
   "source": [
    "np.empty(shape=(3, 5))"
   ]
  },
  {
   "cell_type": "markdown",
   "metadata": {},
   "source": [
    "## something_like\n",
    "- 기존 ndarray의 shape 크기 만큼 1, 0 또는 empty array를 반환"
   ]
  },
  {
   "cell_type": "code",
   "execution_count": 101,
   "metadata": {},
   "outputs": [
    {
     "data": {
      "text/plain": [
       "array([[1, 1, 1, 1, 1, 1],\n",
       "       [1, 1, 1, 1, 1, 1],\n",
       "       [1, 1, 1, 1, 1, 1],\n",
       "       [1, 1, 1, 1, 1, 1],\n",
       "       [1, 1, 1, 1, 1, 1]])"
      ]
     },
     "execution_count": 101,
     "metadata": {},
     "output_type": "execute_result"
    }
   ],
   "source": [
    "test_matrix = np.arange(30).reshape(5, 6)\n",
    "np.ones_like(test_matrix)"
   ]
  },
  {
   "cell_type": "markdown",
   "metadata": {},
   "source": [
    "## identity ( 단위 행렬 )\n",
    "- 단위행렬(I 행렬) 을 생성함\n",
    "- identity()\n",
    "- eye()"
   ]
  },
  {
   "cell_type": "code",
   "execution_count": 102,
   "metadata": {},
   "outputs": [
    {
     "data": {
      "text/plain": [
       "array([[1, 0, 0],\n",
       "       [0, 1, 0],\n",
       "       [0, 0, 1]], dtype=int8)"
      ]
     },
     "execution_count": 102,
     "metadata": {},
     "output_type": "execute_result"
    }
   ],
   "source": [
    "np.identity(n=3, dtype=np.int8) # n = number of rows"
   ]
  },
  {
   "cell_type": "code",
   "execution_count": 105,
   "metadata": {},
   "outputs": [
    {
     "data": {
      "text/plain": [
       "array([[1., 0., 0., 0., 0.],\n",
       "       [0., 1., 0., 0., 0.],\n",
       "       [0., 0., 1., 0., 0.],\n",
       "       [0., 0., 0., 1., 0.],\n",
       "       [0., 0., 0., 0., 1.]])"
      ]
     },
     "execution_count": 105,
     "metadata": {},
     "output_type": "execute_result"
    }
   ],
   "source": [
    "np.identity(5)"
   ]
  },
  {
   "cell_type": "markdown",
   "metadata": {},
   "source": [
    "## eye\n",
    "- 대각선이 1인 행렬, k값의 시작, index의 변경이 가능\n",
    "- k => start index"
   ]
  },
  {
   "cell_type": "code",
   "execution_count": 106,
   "metadata": {},
   "outputs": [
    {
     "data": {
      "text/plain": [
       "array([[1, 0, 0, 0, 0],\n",
       "       [0, 1, 0, 0, 0],\n",
       "       [0, 0, 1, 0, 0]], dtype=int8)"
      ]
     },
     "execution_count": 106,
     "metadata": {},
     "output_type": "execute_result"
    }
   ],
   "source": [
    "np.eye(3, M=5, dtype=np.int8)"
   ]
  },
  {
   "cell_type": "code",
   "execution_count": 107,
   "metadata": {},
   "outputs": [
    {
     "data": {
      "text/plain": [
       "array([[0., 0., 1., 0., 0.],\n",
       "       [0., 0., 0., 1., 0.],\n",
       "       [0., 0., 0., 0., 1.]])"
      ]
     },
     "execution_count": 107,
     "metadata": {},
     "output_type": "execute_result"
    }
   ],
   "source": [
    "np.eye(3, 5, k=2) # k: start index"
   ]
  },
  {
   "cell_type": "markdown",
   "metadata": {},
   "source": [
    "## diag\n",
    "- 대각 행렬의 값을 추출함"
   ]
  },
  {
   "cell_type": "code",
   "execution_count": 111,
   "metadata": {},
   "outputs": [
    {
     "name": "stdout",
     "output_type": "stream",
     "text": [
      "[[0 1 2]\n",
      " [3 4 5]\n",
      " [6 7 8]]\n"
     ]
    },
    {
     "data": {
      "text/plain": [
       "array([0, 4, 8])"
      ]
     },
     "execution_count": 111,
     "metadata": {},
     "output_type": "execute_result"
    }
   ],
   "source": [
    "matrix = np.arange(9).reshape(3, 3)\n",
    "print(matrix)\n",
    "np.diag(matrix)"
   ]
  },
  {
   "cell_type": "code",
   "execution_count": 113,
   "metadata": {},
   "outputs": [
    {
     "data": {
      "text/plain": [
       "array([1, 5])"
      ]
     },
     "execution_count": 113,
     "metadata": {},
     "output_type": "execute_result"
    }
   ],
   "source": [
    "np.diag(matrix, k=1) # k => start index"
   ]
  },
  {
   "cell_type": "markdown",
   "metadata": {},
   "source": [
    "## Random Sampling\n",
    "- 데이터 분포에 따른 sampling으로 array를 생성"
   ]
  },
  {
   "cell_type": "code",
   "execution_count": 121,
   "metadata": {},
   "outputs": [
    {
     "data": {
      "text/plain": [
       "array([[0.92574768, 0.57530017, 0.43092093, 0.1198308 , 0.69918657],\n",
       "       [0.79330665, 0.55558565, 0.10822063, 0.62897969, 0.78312658]])"
      ]
     },
     "execution_count": 121,
     "metadata": {},
     "output_type": "execute_result"
    }
   ],
   "source": [
    "np.random.uniform(0, 1, 10).reshape(2, 5) # 균등분포"
   ]
  },
  {
   "cell_type": "code",
   "execution_count": 122,
   "metadata": {},
   "outputs": [
    {
     "data": {
      "text/plain": [
       "array([[-0.45215253,  1.47940386, -0.25891613,  1.2245835 , -1.17424033],\n",
       "       [-1.88188923, -0.45408823, -0.39095129, -0.23662147, -0.31892915]])"
      ]
     },
     "execution_count": 122,
     "metadata": {},
     "output_type": "execute_result"
    }
   ],
   "source": [
    "np.random.normal(0, 1, 10).reshape(2, 5) # 정규분포"
   ]
  },
  {
   "cell_type": "markdown",
   "metadata": {},
   "source": [
    "## Sum\n",
    "- ndarray의 element들 간의 합을 구함, list의 sum 기능과 동일"
   ]
  },
  {
   "cell_type": "code",
   "execution_count": 126,
   "metadata": {},
   "outputs": [
    {
     "name": "stdout",
     "output_type": "stream",
     "text": [
      "[ 1  2  3  4  5  6  7  8  9 10]\n"
     ]
    },
    {
     "data": {
      "text/plain": [
       "55.0"
      ]
     },
     "execution_count": 126,
     "metadata": {},
     "output_type": "execute_result"
    }
   ],
   "source": [
    "test_array = np.arange(1, 11)\n",
    "print( test_array )\n",
    "test_array.sum(dtype=np.float)"
   ]
  },
  {
   "cell_type": "markdown",
   "metadata": {},
   "source": [
    "## axis\n",
    "- 모든 operation function을 실행할 때, 기준이 되는 dimension 축\n",
    "\n",
    "\n",
    "![axis 개념설명](https://i.stack.imgur.com/h1alT.jpg)"
   ]
  },
  {
   "cell_type": "code",
   "execution_count": 128,
   "metadata": {},
   "outputs": [
    {
     "data": {
      "text/plain": [
       "array([[ 1,  2,  3,  4],\n",
       "       [ 5,  6,  7,  8],\n",
       "       [ 9, 10, 11, 12]])"
      ]
     },
     "execution_count": 128,
     "metadata": {},
     "output_type": "execute_result"
    }
   ],
   "source": [
    "test_array = np.arange(1, 13).reshape(3, 4)\n",
    "test_array"
   ]
  },
  {
   "cell_type": "code",
   "execution_count": 130,
   "metadata": {},
   "outputs": [
    {
     "data": {
      "text/plain": [
       "(array([10, 26, 42]), array([15, 18, 21, 24]))"
      ]
     },
     "execution_count": 130,
     "metadata": {},
     "output_type": "execute_result"
    }
   ],
   "source": [
    "test_array.sum(axis=1), test_array.sum(axis=0)"
   ]
  },
  {
   "cell_type": "markdown",
   "metadata": {},
   "source": [
    "## mean & std\n",
    "- ndarray의 element들 간의 평균 & 표준편차"
   ]
  },
  {
   "cell_type": "code",
   "execution_count": 132,
   "metadata": {},
   "outputs": [
    {
     "data": {
      "text/plain": [
       "array([[ 1,  2,  3,  4],\n",
       "       [ 5,  6,  7,  8],\n",
       "       [ 9, 10, 11, 12]])"
      ]
     },
     "execution_count": 132,
     "metadata": {},
     "output_type": "execute_result"
    }
   ],
   "source": [
    "test_array = np.arange(1, 13).reshape(3, 4)\n",
    "test_array"
   ]
  },
  {
   "cell_type": "code",
   "execution_count": 134,
   "metadata": {},
   "outputs": [
    {
     "data": {
      "text/plain": [
       "(6.5, array([5., 6., 7., 8.]))"
      ]
     },
     "execution_count": 134,
     "metadata": {},
     "output_type": "execute_result"
    }
   ],
   "source": [
    "test_array.mean(), test_array.mean(axis=0)"
   ]
  },
  {
   "cell_type": "code",
   "execution_count": 135,
   "metadata": {},
   "outputs": [
    {
     "data": {
      "text/plain": [
       "(3.452052529534663, array([3.26598632, 3.26598632, 3.26598632, 3.26598632]))"
      ]
     },
     "execution_count": 135,
     "metadata": {},
     "output_type": "execute_result"
    }
   ],
   "source": [
    "test_array.std(), test_array.std(axis=0)"
   ]
  },
  {
   "cell_type": "markdown",
   "metadata": {},
   "source": [
    "## Mathematical functions\n",
    "- 그 외에도 다양한 수학 연산자를 제공함\n",
    "- exponential\n",
    "    - exp, expml, exp2, log, log10, log1p, log2, power, sqrt\n",
    "- trigonometric\n",
    "    - sin, cos, tan, acsin, arccos, atctan\n",
    "- hyperbolic\n",
    "    - sinh, cosh, tanh, acsinh, arccosh, atctanh"
   ]
  },
  {
   "cell_type": "markdown",
   "metadata": {},
   "source": [
    "# Concatenate\n",
    "- Numpy array를 합치는 함수\n",
    "\n",
    "![](https://www.w3resource.com/w3r_images/numpy-manipulation-vstack-function-image-a.png) ![](https://www.w3resource.com/w3r_images/numpy-manipulation-hstack-function-image-a.png)"
   ]
  },
  {
   "cell_type": "markdown",
   "metadata": {},
   "source": [
    "## vector 끼리 합치기"
   ]
  },
  {
   "cell_type": "code",
   "execution_count": 137,
   "metadata": {},
   "outputs": [
    {
     "data": {
      "text/plain": [
       "array([[1, 2, 3],\n",
       "       [2, 3, 4]])"
      ]
     },
     "execution_count": 137,
     "metadata": {},
     "output_type": "execute_result"
    }
   ],
   "source": [
    "a = np.array([1, 2, 3])\n",
    "b = np.array([2, 3, 4])\n",
    "np.vstack((a, b)) # 수직으로 합쳐졌기 때문에 vector 끼리 합쳐서 matrix가 되었음"
   ]
  },
  {
   "cell_type": "code",
   "execution_count": 144,
   "metadata": {},
   "outputs": [
    {
     "data": {
      "text/plain": [
       "array([[1, 2],\n",
       "       [2, 3],\n",
       "       [3, 4]])"
      ]
     },
     "execution_count": 144,
     "metadata": {},
     "output_type": "execute_result"
    }
   ],
   "source": [
    "np.hstack((a, b)) # 수평으로 합쳐졌기 때문에 vector 그대로임"
   ]
  },
  {
   "cell_type": "markdown",
   "metadata": {},
   "source": [
    "## matrix간 합치기"
   ]
  },
  {
   "cell_type": "code",
   "execution_count": 148,
   "metadata": {},
   "outputs": [
    {
     "name": "stdout",
     "output_type": "stream",
     "text": [
      "[[1]\n",
      " [2]\n",
      " [3]]\n",
      "----\n",
      "[[2]\n",
      " [3]\n",
      " [4]]\n"
     ]
    }
   ],
   "source": [
    "a = np.array([\n",
    "    [1],\n",
    "    [2],\n",
    "    [3],\n",
    "])\n",
    "\n",
    "b = np.array([\n",
    "    [2],\n",
    "    [3],\n",
    "    [4],\n",
    "])\n",
    "\n",
    "print(a, b, sep='\\n----\\n')"
   ]
  },
  {
   "cell_type": "code",
   "execution_count": 146,
   "metadata": {},
   "outputs": [
    {
     "data": {
      "text/plain": [
       "array([[1, 2],\n",
       "       [2, 3],\n",
       "       [3, 4]])"
      ]
     },
     "execution_count": 146,
     "metadata": {},
     "output_type": "execute_result"
    }
   ],
   "source": [
    "np.hstack((a, b))"
   ]
  },
  {
   "cell_type": "code",
   "execution_count": 147,
   "metadata": {},
   "outputs": [
    {
     "data": {
      "text/plain": [
       "array([[1],\n",
       "       [2],\n",
       "       [3],\n",
       "       [2],\n",
       "       [3],\n",
       "       [4]])"
      ]
     },
     "execution_count": 147,
     "metadata": {},
     "output_type": "execute_result"
    }
   ],
   "source": [
    "np.vstack((a, b))"
   ]
  },
  {
   "cell_type": "markdown",
   "metadata": {},
   "source": [
    "## concatenate"
   ]
  },
  {
   "cell_type": "code",
   "execution_count": 152,
   "metadata": {},
   "outputs": [
    {
     "name": "stdout",
     "output_type": "stream",
     "text": [
      "[[1 2 3]]\n",
      "----\n",
      "[[2 3 4]]\n"
     ]
    }
   ],
   "source": [
    "a = np.array([[1,2,3]])\n",
    "b = np.array([[2,3,4]])\n",
    "print(a, b, sep='\\n----\\n')"
   ]
  },
  {
   "cell_type": "code",
   "execution_count": 155,
   "metadata": {},
   "outputs": [
    {
     "data": {
      "text/plain": [
       "array([[1, 2, 3],\n",
       "       [2, 3, 4]])"
      ]
     },
     "execution_count": 155,
     "metadata": {},
     "output_type": "execute_result"
    }
   ],
   "source": [
    "np.concatenate((a,b), axis=0)"
   ]
  },
  {
   "cell_type": "code",
   "execution_count": 157,
   "metadata": {},
   "outputs": [
    {
     "name": "stdout",
     "output_type": "stream",
     "text": [
      "[[1 2]\n",
      " [3 4]]\n",
      "----\n",
      "[[5 6]]\n"
     ]
    }
   ],
   "source": [
    "a = np.array([[1,2], [3,4]])\n",
    "b = np.array([[5, 6]])\n",
    "print(a, b, sep='\\n----\\n')"
   ]
  },
  {
   "cell_type": "code",
   "execution_count": 163,
   "metadata": {},
   "outputs": [
    {
     "name": "stdout",
     "output_type": "stream",
     "text": [
      "[[1 2]\n",
      " [3 4]\n",
      " [5 6]]\n"
     ]
    },
    {
     "data": {
      "text/plain": [
       "array([[1, 2, 5],\n",
       "       [3, 4, 6]])"
      ]
     },
     "execution_count": 163,
     "metadata": {},
     "output_type": "execute_result"
    }
   ],
   "source": [
    "# concat 즉, 합칠때 shape가 중요한데, 세로축 axis=1 으로 합칠때 b.T 한것 주의\n",
    "\n",
    "print( np.concatenate((a,b), axis=0) )\n",
    "np.concatenate((a,b.T), axis=1)"
   ]
  },
  {
   "cell_type": "markdown",
   "metadata": {},
   "source": [
    "# Array Operations\n",
    "- Numpy는 array간의 기본적인 사칙 연산을 지원함"
   ]
  },
  {
   "cell_type": "code",
   "execution_count": 167,
   "metadata": {},
   "outputs": [
    {
     "data": {
      "text/plain": [
       "array([[1., 2., 3.],\n",
       "       [4., 5., 6.]])"
      ]
     },
     "execution_count": 167,
     "metadata": {},
     "output_type": "execute_result"
    }
   ],
   "source": [
    "test_a = np.array([[1,2,3], [4,5,6]], float)\n",
    "test_a"
   ]
  },
  {
   "cell_type": "code",
   "execution_count": 168,
   "metadata": {},
   "outputs": [
    {
     "data": {
      "text/plain": [
       "array([[ 2.,  4.,  6.],\n",
       "       [ 8., 10., 12.]])"
      ]
     },
     "execution_count": 168,
     "metadata": {},
     "output_type": "execute_result"
    }
   ],
   "source": [
    "test_a + test_a # matrix + matrix 연산"
   ]
  },
  {
   "cell_type": "code",
   "execution_count": 169,
   "metadata": {},
   "outputs": [
    {
     "data": {
      "text/plain": [
       "array([[0., 0., 0.],\n",
       "       [0., 0., 0.]])"
      ]
     },
     "execution_count": 169,
     "metadata": {},
     "output_type": "execute_result"
    }
   ],
   "source": [
    "test_a - test_a"
   ]
  },
  {
   "cell_type": "markdown",
   "metadata": {},
   "source": [
    "## 행렬끼리의 곱셈\n",
    "- `*` 는 그저 같은 index 위치에 있는 element 들끼리 연산\n",
    "- 선형대수에서 말하는 행렬곱셈은 np.dot(matrix_a, matrix_b) 형태로 써야함"
   ]
  },
  {
   "cell_type": "code",
   "execution_count": 171,
   "metadata": {},
   "outputs": [
    {
     "data": {
      "text/plain": [
       "array([[ 1.,  4.,  9.],\n",
       "       [16., 25., 36.]])"
      ]
     },
     "execution_count": 171,
     "metadata": {},
     "output_type": "execute_result"
    }
   ],
   "source": [
    "# 행렬곱셈과는 다르다, 그저 같은 index 위치값끼리 연산한다.\n",
    "test_a * test_a"
   ]
  },
  {
   "cell_type": "markdown",
   "metadata": {},
   "source": [
    "## Dot product\n",
    "- Matrix의 기본 연산\n",
    "- dot() 함수 사용"
   ]
  },
  {
   "cell_type": "code",
   "execution_count": 174,
   "metadata": {},
   "outputs": [
    {
     "name": "stdout",
     "output_type": "stream",
     "text": [
      "[[1 2 3]\n",
      " [4 5 6]]\n",
      "----\n",
      "[[ 7  8]\n",
      " [ 9 10]\n",
      " [11 12]]\n"
     ]
    }
   ],
   "source": [
    "test_a = np.arange(1, 7).reshape(2, 3)\n",
    "test_b = np.arange(7, 13).reshape(3, 2)\n",
    "print(test_a, test_b, sep='\\n----\\n')"
   ]
  },
  {
   "cell_type": "code",
   "execution_count": 175,
   "metadata": {},
   "outputs": [
    {
     "data": {
      "text/plain": [
       "array([[ 58,  64],\n",
       "       [139, 154]])"
      ]
     },
     "execution_count": 175,
     "metadata": {},
     "output_type": "execute_result"
    }
   ],
   "source": [
    "test_a.dot(test_b)"
   ]
  },
  {
   "cell_type": "markdown",
   "metadata": {},
   "source": [
    "## transpose (전치행렬)\n",
    "- transpose 또는 T attribute 사용"
   ]
  },
  {
   "cell_type": "code",
   "execution_count": 176,
   "metadata": {},
   "outputs": [
    {
     "data": {
      "text/plain": [
       "array([[1, 2, 3],\n",
       "       [4, 5, 6]])"
      ]
     },
     "execution_count": 176,
     "metadata": {},
     "output_type": "execute_result"
    }
   ],
   "source": [
    "test_a = np.arange(1, 7).reshape(2, 3)\n",
    "test_a"
   ]
  },
  {
   "cell_type": "code",
   "execution_count": 179,
   "metadata": {},
   "outputs": [
    {
     "data": {
      "text/plain": [
       "array([[1, 4],\n",
       "       [2, 5],\n",
       "       [3, 6]])"
      ]
     },
     "execution_count": 179,
     "metadata": {},
     "output_type": "execute_result"
    }
   ],
   "source": [
    "test_a.transpose()\n",
    "test_a.T"
   ]
  },
  {
   "cell_type": "code",
   "execution_count": 180,
   "metadata": {},
   "outputs": [
    {
     "data": {
      "text/plain": [
       "array([[17, 22, 27],\n",
       "       [22, 29, 36],\n",
       "       [27, 36, 45]])"
      ]
     },
     "execution_count": 180,
     "metadata": {},
     "output_type": "execute_result"
    }
   ],
   "source": [
    "test_a.T.dot(test_a) # matrix간 곱셈"
   ]
  },
  {
   "cell_type": "markdown",
   "metadata": {},
   "source": [
    "## Broadcasting\n",
    "- shape이 다른 배열 간 연산을 지원하는 기능\n",
    "- 예) \n",
    "    - matrix와 scalar 간 계산\n",
    "    - Scalar - Vector 간 연산\n",
    "    - Vector - Matirx 간 연산\n",
    "- Tensor 에서는 그림의 두번째 방식을 제일 많이 사용한다.\n",
    "\n",
    "<center><img src=\"https://i.stack.imgur.com/JcKv1.png\" width=\"80%\" height=\"80%\"></center>"
   ]
  },
  {
   "cell_type": "code",
   "execution_count": 181,
   "metadata": {},
   "outputs": [],
   "source": [
    "test_matrix = np.array([[1,2,3],[4,5,6]], float)\n",
    "scalar = 3"
   ]
  },
  {
   "cell_type": "code",
   "execution_count": 184,
   "metadata": {},
   "outputs": [
    {
     "data": {
      "text/plain": [
       "array([[4., 5., 6.],\n",
       "       [7., 8., 9.]])"
      ]
     },
     "execution_count": 184,
     "metadata": {},
     "output_type": "execute_result"
    }
   ],
   "source": [
    "# broadcasting\n",
    "# 행렬의 모든값에 3 을 더하게 된다.\n",
    "\n",
    "test_matrix + scalar # matrix + scalar"
   ]
  },
  {
   "cell_type": "markdown",
   "metadata": {},
   "source": [
    "# Numpy performance #1\n",
    "- for loop\n",
    "- list comprehension\n",
    "- numpy\n",
    "- 특징\n",
    "    - 100,000,000번의 loop이 돌 때 약 4배 이상의 성능 차이를 보임\n",
    "    - Numpy는 C로 구현되 있어, 성능을 확보하는 대신 (속도가 가장 빠르다.)\n",
    "    - 파이썬의 가장 큰 특징인 `dunamic typing`을 포기한다.\n",
    "    - 대용량 계산에서는 가장 흔히 사용됨\n",
    "    - Concatenate 처럼 계산이 아닌, 할당에서는 연산 속도의 이점이 얇음 ( 그냥 python의 list 쓰셈 )"
   ]
  },
  {
   "cell_type": "code",
   "execution_count": 188,
   "metadata": {},
   "outputs": [
    {
     "name": "stdout",
     "output_type": "stream",
     "text": [
      "19.5 ms ± 242 µs per loop (mean ± std. dev. of 7 runs, 100 loops each)\n"
     ]
    }
   ],
   "source": [
    "# Numpy 수행능력? 수행시간\n",
    "def scalar_vector_product(scalar, vector):\n",
    "    result = []\n",
    "    for value in vector:\n",
    "        result.append(scalar * value)\n",
    "    return result\n",
    "\n",
    "iternation_max = 10000000\n",
    "\n",
    "vector = list(range(iternation_max))\n",
    "scalar = 2\n",
    "\n",
    "# %timeit - jupyter 에서 코드의 퍼포먼스를 체크하는 함수\n",
    "%timeit scalar_vector_product(scalar, vector) # for loop을 이용한 성능\n",
    "%timeit [scalar * value for value in range(iternation_max)] # list comprehension 을 이용한 성능\n",
    "%timeit np.arange(iternation_max) * scalar # numpy를 이용한 성능"
   ]
  },
  {
   "cell_type": "markdown",
   "metadata": {},
   "source": [
    "# Comparisons"
   ]
  },
  {
   "cell_type": "markdown",
   "metadata": {},
   "source": [
    "## All & Any\n",
    "- Array의 데이터 전부(and) 또는 일부(or)가 조건에 만족 여부 반환"
   ]
  },
  {
   "cell_type": "code",
   "execution_count": 189,
   "metadata": {},
   "outputs": [
    {
     "data": {
      "text/plain": [
       "array([0, 1, 2, 3, 4, 5, 6, 7, 8, 9])"
      ]
     },
     "execution_count": 189,
     "metadata": {},
     "output_type": "execute_result"
    }
   ],
   "source": [
    "a = np.arange(10)\n",
    "a"
   ]
  },
  {
   "cell_type": "code",
   "execution_count": 194,
   "metadata": {},
   "outputs": [
    {
     "data": {
      "text/plain": [
       "array([False, False, False, False, False, False,  True,  True,  True,\n",
       "        True])"
      ]
     },
     "execution_count": 194,
     "metadata": {},
     "output_type": "execute_result"
    }
   ],
   "source": [
    "a > 5"
   ]
  },
  {
   "cell_type": "code",
   "execution_count": 192,
   "metadata": {},
   "outputs": [
    {
     "data": {
      "text/plain": [
       "(True, False)"
      ]
     },
     "execution_count": 192,
     "metadata": {},
     "output_type": "execute_result"
    }
   ],
   "source": [
    "np.any(a>5), np.any(a<0) # any -> 하나라도 조건에 만족한다면 True"
   ]
  },
  {
   "cell_type": "code",
   "execution_count": 193,
   "metadata": {},
   "outputs": [
    {
     "data": {
      "text/plain": [
       "(False, True)"
      ]
     },
     "execution_count": 193,
     "metadata": {},
     "output_type": "execute_result"
    }
   ],
   "source": [
    "np.all(a>5), np.all(a<10) # all -> 모두가 조건에 만족한다면 True"
   ]
  },
  {
   "cell_type": "markdown",
   "metadata": {},
   "source": [
    "## Comparison opertation"
   ]
  },
  {
   "cell_type": "code",
   "execution_count": 195,
   "metadata": {},
   "outputs": [
    {
     "data": {
      "text/plain": [
       "array([ True,  True, False])"
      ]
     },
     "execution_count": 195,
     "metadata": {},
     "output_type": "execute_result"
    }
   ],
   "source": [
    "a = np.array([1,2,3], float)\n",
    "np.logical_and(a > 0, a < 3) # and 조건의 condition"
   ]
  },
  {
   "cell_type": "code",
   "execution_count": 196,
   "metadata": {},
   "outputs": [
    {
     "data": {
      "text/plain": [
       "array([False,  True, False])"
      ]
     },
     "execution_count": 196,
     "metadata": {},
     "output_type": "execute_result"
    }
   ],
   "source": [
    "b = np.array([True, False, True], bool)\n",
    "np.logical_not(b) # not 조건의 condition"
   ]
  },
  {
   "cell_type": "code",
   "execution_count": 197,
   "metadata": {},
   "outputs": [
    {
     "data": {
      "text/plain": [
       "array([ True,  True,  True])"
      ]
     },
     "execution_count": 197,
     "metadata": {},
     "output_type": "execute_result"
    }
   ],
   "source": [
    "c = np.array([False, True, False], bool)\n",
    "np.logical_or(b, c) # or 조건의 condition"
   ]
  },
  {
   "cell_type": "markdown",
   "metadata": {},
   "source": [
    "## np.where\n",
    "- 이 조건에 만족하는 index 값을 리턴함\n",
    "- where(조건, True일때 나올값, False일때 나올값)"
   ]
  },
  {
   "cell_type": "code",
   "execution_count": 204,
   "metadata": {},
   "outputs": [
    {
     "data": {
      "text/plain": [
       "array([3, 3, 3])"
      ]
     },
     "execution_count": 204,
     "metadata": {},
     "output_type": "execute_result"
    }
   ],
   "source": [
    "np.where(a > 0, 3, 2) # where(condition, True, False)"
   ]
  },
  {
   "cell_type": "code",
   "execution_count": 205,
   "metadata": {},
   "outputs": [
    {
     "data": {
      "text/plain": [
       "(array([6, 7, 8, 9]),)"
      ]
     },
     "execution_count": 205,
     "metadata": {},
     "output_type": "execute_result"
    }
   ],
   "source": [
    "a = np.arange(10) # index 값 반환\n",
    "np.where(a>5)"
   ]
  },
  {
   "cell_type": "code",
   "execution_count": 207,
   "metadata": {},
   "outputs": [
    {
     "data": {
      "text/plain": [
       "array([False,  True, False])"
      ]
     },
     "execution_count": 207,
     "metadata": {},
     "output_type": "execute_result"
    }
   ],
   "source": [
    "a = np.array([1, np.NaN, np.Inf], float) # 1, 결측치(Not a Number), 무한\n",
    "np.isnan(a)"
   ]
  },
  {
   "cell_type": "code",
   "execution_count": 209,
   "metadata": {},
   "outputs": [
    {
     "data": {
      "text/plain": [
       "array([ True, False, False])"
      ]
     },
     "execution_count": 209,
     "metadata": {},
     "output_type": "execute_result"
    }
   ],
   "source": [
    "np.isfinite(a) # is finite number(유한 수)"
   ]
  },
  {
   "cell_type": "markdown",
   "metadata": {},
   "source": [
    "## argmax & argmin"
   ]
  },
  {
   "cell_type": "code",
   "execution_count": 211,
   "metadata": {},
   "outputs": [
    {
     "data": {
      "text/plain": [
       "(5, 0)"
      ]
     },
     "execution_count": 211,
     "metadata": {},
     "output_type": "execute_result"
    }
   ],
   "source": [
    "# 최대값과 최소값의 index 값을 반환해준다.\n",
    "\n",
    "a = np.array([1,2,4,5,8,78,23,3])\n",
    "np.argmax(a), np.argmin(a)"
   ]
  },
  {
   "cell_type": "code",
   "execution_count": 214,
   "metadata": {},
   "outputs": [
    {
     "name": "stdout",
     "output_type": "stream",
     "text": [
      "[[ 1  2  4  7]\n",
      " [ 9 88  6 45]\n",
      " [ 9 76  3  4]]\n"
     ]
    },
    {
     "data": {
      "text/plain": [
       "(array([3, 1, 1]), array([0, 0, 2, 2]))"
      ]
     },
     "execution_count": 214,
     "metadata": {},
     "output_type": "execute_result"
    }
   ],
   "source": [
    "# 2차원 matrix에서 axis축 기준으로 최대, 최소값의 index 를 찾아준다.\n",
    "\n",
    "a = np.array([[1,2,4,7], [9,88,6,45], [9,76,3,4]], int)\n",
    "print(a)\n",
    "np.argmax(a, axis=1), np.argmin(a, axis=0)"
   ]
  },
  {
   "cell_type": "markdown",
   "metadata": {},
   "source": [
    "## Boolean Index ( Filter 가능 )\n",
    "- numpy는 배열은 특정 조건에 따른 값을 배열 형태로 추출 할 수 있음\n",
    "- Comparison operation 함수들도 모두 사용가능"
   ]
  },
  {
   "cell_type": "code",
   "execution_count": 215,
   "metadata": {},
   "outputs": [
    {
     "data": {
      "text/plain": [
       "array([False,  True, False, False, False,  True,  True,  True])"
      ]
     },
     "execution_count": 215,
     "metadata": {},
     "output_type": "execute_result"
    }
   ],
   "source": [
    "test_array = np.array([1, 4, 0, 2, 3, 8, 9, 7], float)\n",
    "test_array > 3"
   ]
  },
  {
   "cell_type": "code",
   "execution_count": 216,
   "metadata": {},
   "outputs": [
    {
     "data": {
      "text/plain": [
       "array([4., 8., 9., 7.])"
      ]
     },
     "execution_count": 216,
     "metadata": {},
     "output_type": "execute_result"
    }
   ],
   "source": [
    "test_array[test_array > 3] # 조건이 True인 index의 element만 추출"
   ]
  },
  {
   "cell_type": "code",
   "execution_count": 217,
   "metadata": {},
   "outputs": [
    {
     "data": {
      "text/plain": [
       "array([1., 0., 2.])"
      ]
     },
     "execution_count": 217,
     "metadata": {},
     "output_type": "execute_result"
    }
   ],
   "source": [
    "condition = test_array < 3\n",
    "test_array[condition]"
   ]
  },
  {
   "cell_type": "code",
   "execution_count": 223,
   "metadata": {},
   "outputs": [
    {
     "data": {
      "text/plain": [
       "array([[1, 1, 1, 1, 1],\n",
       "       [1, 1, 1, 1, 0],\n",
       "       [1, 1, 1, 1, 0],\n",
       "       [1, 1, 1, 0, 0],\n",
       "       [1, 1, 0, 0, 0]])"
      ]
     },
     "execution_count": 223,
     "metadata": {},
     "output_type": "execute_result"
    }
   ],
   "source": [
    "A = np.array([\n",
    "    [1,2,3,4,5],\n",
    "    [2,3,4,5,6],\n",
    "    [3,2,1,5,8],\n",
    "    [5,3,1,9,7],\n",
    "    [5,3,6,7,7]\n",
    "])\n",
    "B = A < 6\n",
    "B.astype(np.int)"
   ]
  },
  {
   "cell_type": "markdown",
   "metadata": {},
   "source": [
    "## fancy index\n",
    "- array를 index value로 사용해서 값을 추출하는 방법\n",
    "- 추천시스템"
   ]
  },
  {
   "cell_type": "code",
   "execution_count": 224,
   "metadata": {},
   "outputs": [
    {
     "data": {
      "text/plain": [
       "array([2., 2., 4., 8., 6., 4.])"
      ]
     },
     "execution_count": 224,
     "metadata": {},
     "output_type": "execute_result"
    }
   ],
   "source": [
    "a = np.array([2, 4, 6, 8], float)\n",
    "b = np.array([0, 0, 1, 3, 2, 1], int) # 반드시 integer로 선언\n",
    "\n",
    "a[b] # bracket index, b 배열의 값을 index로 하여 a의 값을 추출함"
   ]
  },
  {
   "cell_type": "code",
   "execution_count": 226,
   "metadata": {},
   "outputs": [
    {
     "data": {
      "text/plain": [
       "array([2., 2., 4., 8., 6., 4.])"
      ]
     },
     "execution_count": 226,
     "metadata": {},
     "output_type": "execute_result"
    }
   ],
   "source": [
    "a.take(b) # take 함수: bracket index와 같은 효과"
   ]
  },
  {
   "cell_type": "code",
   "execution_count": 233,
   "metadata": {},
   "outputs": [
    {
     "name": "stdout",
     "output_type": "stream",
     "text": [
      "[[ 1.  4.]\n",
      " [ 9. 16.]]\n"
     ]
    },
    {
     "data": {
      "text/plain": [
       "array([ 1.,  4., 16., 16.,  9.])"
      ]
     },
     "execution_count": 233,
     "metadata": {},
     "output_type": "execute_result"
    }
   ],
   "source": [
    "# matrix 형태의 데이터도 가능\n",
    "\n",
    "a = np.array([[1, 4], [9, 16]], float)\n",
    "b = np.array([0, 0, 1, 1, 1], int)\n",
    "c = np.array([0, 1, 1, 1, 0], int)\n",
    "print(a)\n",
    "\n",
    "# b를 row index, c를 column index로 변환하여 표시함\n",
    "# b, c 를 zip으로 묶어줘서 (0, 0), (0, 1), (1, 1) 의 값 추출\n",
    "a[b, c] # a[[0, 1], [1]]"
   ]
  },
  {
   "cell_type": "markdown",
   "metadata": {},
   "source": [
    "# numpy data i/o"
   ]
  },
  {
   "cell_type": "markdown",
   "metadata": {},
   "source": [
    "## loadtxt & savetxt\n",
    "- Text type의 데이터를 읽고, 저장하는 기능"
   ]
  },
  {
   "cell_type": "code",
   "execution_count": null,
   "metadata": {},
   "outputs": [],
   "source": [
    "data = np.loadtxt('./~~.txt')"
   ]
  },
  {
   "cell_type": "code",
   "execution_count": null,
   "metadata": {},
   "outputs": [],
   "source": [
    "np.savetxt('./test.csv', data, delimiter=',')"
   ]
  },
  {
   "cell_type": "markdown",
   "metadata": {},
   "source": [
    "## numpy object - npy\n",
    "- Numpy object (pickle) 형태로 데이터를 저장하고 불러옴\n",
    "- Binary 파일 형태로 저장함"
   ]
  },
  {
   "cell_type": "code",
   "execution_count": null,
   "metadata": {},
   "outputs": [],
   "source": [
    "np.save('npy_test', arr=a_int)"
   ]
  },
  {
   "cell_type": "code",
   "execution_count": null,
   "metadata": {},
   "outputs": [],
   "source": [
    "npy_array = np.load(file='npy_test.npy')\n",
    "npy_array[:3]"
   ]
  },
  {
   "cell_type": "markdown",
   "metadata": {},
   "source": [
    "# Pandas 활용하여 데이터 내보내기"
   ]
  },
  {
   "cell_type": "code",
   "execution_count": 87,
   "metadata": {},
   "outputs": [],
   "source": [
    "import pandas as pd\n",
    "pd.DataFrame(np.arange(30)).to_csv('test.csv', index=False)"
   ]
  }
 ],
 "metadata": {
  "kernelspec": {
   "display_name": "Python 3",
   "language": "python",
   "name": "python3"
  },
  "language_info": {
   "codemirror_mode": {
    "name": "ipython",
    "version": 3
   },
   "file_extension": ".py",
   "mimetype": "text/x-python",
   "name": "python",
   "nbconvert_exporter": "python",
   "pygments_lexer": "ipython3",
   "version": "3.7.5"
  },
  "toc-autonumbering": true
 },
 "nbformat": 4,
 "nbformat_minor": 4
}
