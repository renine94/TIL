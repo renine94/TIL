{
 "cells": [
  {
   "cell_type": "markdown",
   "metadata": {},
   "source": [
    "# Numerical Python (Numpy)\n",
    "- 학습목표\n",
    "    - 파이썬의 과학 계산용 패키지 Numpy\n",
    "    - Numpy 특징, 기능, 코드 작성법 학습\n",
    "    \n",
    "    \n",
    "- 핵심키워드\n",
    "    - numpy\n",
    "    - ndarray\n",
    "    - Handling shape\n",
    "    - Indexing\n",
    "    - Slicing\n",
    "    - Creation function\n",
    "    - Operation functions\n",
    "    - array operations\n",
    "    - Comparisons\n",
    "    - Boolean Index\n",
    "    - Fancy Index\n",
    "    - numpy data i/o"
   ]
  },
  {
   "cell_type": "code",
   "execution_count": 1,
   "metadata": {},
   "outputs": [],
   "source": [
    "import numpy as np"
   ]
  },
  {
   "cell_type": "markdown",
   "metadata": {},
   "source": [
    "# Numpy 특징\n",
    "- 일반 List에 비해 더 빠르고, 메모리 효율적\n",
    "- 반복문 없이 데이터 배열에 대한 처리를 지원함\n",
    "- 선형대수와 관련된 다양한 기능 제공\n",
    "- C, C++ 포트란 등의 언어와 통합 가능"
   ]
  },
  {
   "cell_type": "markdown",
   "metadata": {},
   "source": [
    "## Array Creation\n",
    "- numpy는 np.array 함수를 활용하여 배열을 생성한다. => `ndarray` 자료형 (N-dimension Array의 약자)\n",
    "- numpy는 하나의 데이터 type만 배열에 넣을 수 있음 ( 배열안의 자료형이 다 같아야 한다. )\n",
    "- List와 가장 큰 차이점, Dynamic typing not supported (동적 타이핑 불허)\n",
    "- C의 Array를 사용하여 배열을 생성함\n",
    "\n"
   ]
  },
  {
   "cell_type": "code",
   "execution_count": 4,
   "metadata": {},
   "outputs": [
    {
     "name": "stdout",
     "output_type": "stream",
     "text": [
      "[1. 4. 5. 8.]\n"
     ]
    },
    {
     "data": {
      "text/plain": [
       "numpy.float64"
      ]
     },
     "execution_count": 4,
     "metadata": {},
     "output_type": "execute_result"
    }
   ],
   "source": [
    "test_array = np.array([1, 4, 5, 8], float)\n",
    "print(test_array)\n",
    "type(test_array[3])"
   ]
  },
  {
   "cell_type": "code",
   "execution_count": null,
   "metadata": {},
   "outputs": [],
   "source": []
  }
 ],
 "metadata": {
  "kernelspec": {
   "display_name": "Python 3",
   "language": "python",
   "name": "python3"
  },
  "language_info": {
   "codemirror_mode": {
    "name": "ipython",
    "version": 3
   },
   "file_extension": ".py",
   "mimetype": "text/x-python",
   "name": "python",
   "nbconvert_exporter": "python",
   "pygments_lexer": "ipython3",
   "version": "3.7.5"
  }
 },
 "nbformat": 4,
 "nbformat_minor": 4
}
