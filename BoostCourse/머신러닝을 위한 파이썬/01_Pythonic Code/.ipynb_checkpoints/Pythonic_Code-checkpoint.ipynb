{
 "cells": [
  {
   "cell_type": "markdown",
   "metadata": {},
   "source": [
    "# 학습 목표\n",
    "Pythonic Code 는 간단하게, 다른 사람의 코드를 잘 이해하기 위해서 파이썬 특유의 문법을 활용하여 효율적으로 코드를 표현하는 기법\n",
    "이번 챕터에서는 Pythonic Code를 작성하는 방법과, Matrices와 Vector의 연산을 Pythonic Code로 구현하는 방법을 배웁니다.\n",
    "\n",
    "- Split & Join\n",
    "- List Comprehension\n",
    "- Enumerate & Zip"
   ]
  },
  {
   "cell_type": "code",
   "execution_count": 6,
   "metadata": {},
   "outputs": [
    {
     "data": {
      "text/plain": [
       "['red', 'blue', 'green', 'yellow']"
      ]
     },
     "execution_count": 6,
     "metadata": {},
     "output_type": "execute_result"
    }
   ],
   "source": [
    "# 여러 단어를 하나로 붙일 때\n",
    "\n",
    "colors = ['red', 'blue', 'green', 'yellow']\n",
    "\n",
    "# ' '.join(colors)\n",
    "' '.join(colors).split()"
   ]
  },
  {
   "cell_type": "markdown",
   "metadata": {},
   "source": [
    "# Why Pythonic Code?\n",
    "\n",
    "- 남 코드에 대한 이해도\n",
    "    - 많은 개발자들이 python 스타일로 코딩한다.\n",
    "\n",
    "\n",
    "- 효율\n",
    "    - 단순 for loop append보다 list 가 조금 더 빠르다.\n",
    "    - 익숙해지면 코드도 짧아진다.\n",
    "\n",
    "\n",
    "- 간지\n",
    "    - 쓰면 왠지 코드 잘 짜는 거처럼 보인다."
   ]
  },
  {
   "cell_type": "markdown",
   "metadata": {},
   "source": [
    "# Split & Join\n",
    "- 학습목표\n",
    "    - Split 과 Join 을 사용하여 String Type의 값을 List 형태로 변환하고, List Type의 값을 String Type의 값으로 변환하는 Pythonic Code 작성법을 알아봅시다.\n",
    "    \n",
    "    \n",
    "- 핵심키워드\n",
    "    - Split\n",
    "    - Join\n",
    "    - String\n",
    "    - List\n",
    "    - Unpacking"
   ]
  },
  {
   "cell_type": "markdown",
   "metadata": {},
   "source": [
    "## Split 함수"
   ]
  },
  {
   "cell_type": "code",
   "execution_count": 8,
   "metadata": {},
   "outputs": [
    {
     "data": {
      "text/plain": [
       "['zero', 'one', 'two', 'three']"
      ]
     },
     "execution_count": 8,
     "metadata": {},
     "output_type": "execute_result"
    }
   ],
   "source": [
    "items = 'zero one two three'.split()\n",
    "items"
   ]
  },
  {
   "cell_type": "code",
   "execution_count": 9,
   "metadata": {},
   "outputs": [
    {
     "data": {
      "text/plain": [
       "['python', 'jquery', 'javascript']"
      ]
     },
     "execution_count": 9,
     "metadata": {},
     "output_type": "execute_result"
    }
   ],
   "source": [
    "example = 'python,jquery,javascript'\n",
    "example.split(\",\")"
   ]
  },
  {
   "cell_type": "code",
   "execution_count": 11,
   "metadata": {},
   "outputs": [
    {
     "data": {
      "text/plain": [
       "('python', 'jquery', 'javascript')"
      ]
     },
     "execution_count": 11,
     "metadata": {},
     "output_type": "execute_result"
    }
   ],
   "source": [
    "a, b, c = example.split(\",\")\n",
    "a, b, c"
   ]
  },
  {
   "cell_type": "code",
   "execution_count": 13,
   "metadata": {},
   "outputs": [
    {
     "data": {
      "text/plain": [
       "('cs50', 'gachon', 'edu')"
      ]
     },
     "execution_count": 13,
     "metadata": {},
     "output_type": "execute_result"
    }
   ],
   "source": [
    "example = 'cs50.gachon.edu'\n",
    "subDomain, domain, tld = example.split('.')\n",
    "subDomain, domain, tld"
   ]
  },
  {
   "cell_type": "markdown",
   "metadata": {},
   "source": [
    "## Join 함수\n",
    "- String List를 합쳐 하나의 String으로 반환할 때 사용"
   ]
  },
  {
   "cell_type": "code",
   "execution_count": 14,
   "metadata": {},
   "outputs": [
    {
     "data": {
      "text/plain": [
       "'redbluegreenyellow'"
      ]
     },
     "execution_count": 14,
     "metadata": {},
     "output_type": "execute_result"
    }
   ],
   "source": [
    "colors = ['red', 'blue', 'green', 'yellow']\n",
    "result = ''.join(colors)\n",
    "result"
   ]
  },
  {
   "cell_type": "code",
   "execution_count": 15,
   "metadata": {},
   "outputs": [
    {
     "data": {
      "text/plain": [
       "'red blue green yellow'"
      ]
     },
     "execution_count": 15,
     "metadata": {},
     "output_type": "execute_result"
    }
   ],
   "source": [
    "result = ' '.join(colors)\n",
    "result"
   ]
  },
  {
   "cell_type": "code",
   "execution_count": 16,
   "metadata": {},
   "outputs": [
    {
     "data": {
      "text/plain": [
       "'red, blue, green, yellow'"
      ]
     },
     "execution_count": 16,
     "metadata": {},
     "output_type": "execute_result"
    }
   ],
   "source": [
    "result = ', '.join(colors)\n",
    "result"
   ]
  },
  {
   "cell_type": "code",
   "execution_count": 17,
   "metadata": {},
   "outputs": [
    {
     "data": {
      "text/plain": [
       "'red-blue-green-yellow'"
      ]
     },
     "execution_count": 17,
     "metadata": {},
     "output_type": "execute_result"
    }
   ],
   "source": [
    "result = '-'.join(colors)\n",
    "result"
   ]
  },
  {
   "cell_type": "markdown",
   "metadata": {},
   "source": [
    "# List Comprehension\n",
    "- 학습목표\n",
    "    - 파이썬에서 가장 많이 사용되는 기법 중에 하나인 List Comprehension을 사용하여 Pythonic Code를 작성하는 방법 학습\n",
    "    \n",
    "    \n",
    "- 핵심키워드\n",
    "    - List Comprehension\n",
    "    - Nested For loop"
   ]
  },
  {
   "cell_type": "code",
   "execution_count": 1,
   "metadata": {},
   "outputs": [
    {
     "data": {
      "text/plain": [
       "[0, 1, 2, 3, 4, 5, 6, 7, 8, 9]"
      ]
     },
     "execution_count": 1,
     "metadata": {},
     "output_type": "execute_result"
    }
   ],
   "source": [
    "# 일반적인 방법\n",
    "\n",
    "result = []\n",
    "for i in range(10):\n",
    "    result.append(i)\n",
    "result"
   ]
  },
  {
   "cell_type": "code",
   "execution_count": 3,
   "metadata": {},
   "outputs": [
    {
     "data": {
      "text/plain": [
       "[0, 1, 2, 3, 4, 5, 6, 7, 8, 9]"
      ]
     },
     "execution_count": 3,
     "metadata": {},
     "output_type": "execute_result"
    }
   ],
   "source": [
    "# List Comprehension 사용(1/4)\n",
    "\n",
    "result = [i for i in range(10)]\n",
    "result"
   ]
  },
  {
   "cell_type": "code",
   "execution_count": 4,
   "metadata": {},
   "outputs": [
    {
     "data": {
      "text/plain": [
       "[0, 2, 4, 6, 8]"
      ]
     },
     "execution_count": 4,
     "metadata": {},
     "output_type": "execute_result"
    }
   ],
   "source": [
    "# List Comprehension 사용(2/4)\n",
    "\n",
    "result = [i for i in range(10) if not i % 2]\n",
    "result"
   ]
  },
  {
   "cell_type": "code",
   "execution_count": 14,
   "metadata": {},
   "outputs": [
    {
     "data": {
      "text/plain": [
       "['HW',\n",
       " 'Ho',\n",
       " 'Hr',\n",
       " 'Hl',\n",
       " 'Hd',\n",
       " 'eW',\n",
       " 'eo',\n",
       " 'er',\n",
       " 'el',\n",
       " 'ed',\n",
       " 'lW',\n",
       " 'lo',\n",
       " 'lr',\n",
       " 'll',\n",
       " 'ld',\n",
       " 'lW',\n",
       " 'lo',\n",
       " 'lr',\n",
       " 'll',\n",
       " 'ld',\n",
       " 'oW',\n",
       " 'oo',\n",
       " 'or',\n",
       " 'ol',\n",
       " 'od']"
      ]
     },
     "execution_count": 14,
     "metadata": {},
     "output_type": "execute_result"
    }
   ],
   "source": [
    "# List Comprehension 사용(3/4)\n",
    "\n",
    "word_1 = 'Hello'\n",
    "word_2 = 'World'\n",
    "\n",
    "# result = []\n",
    "# for i in word_1:\n",
    "#     for j in word_2:\n",
    "#         result.append(i+j)\n",
    "\n",
    "result = [i + j for i in word_1 for j in word_2] # Nested For Loop\n",
    "result"
   ]
  },
  {
   "cell_type": "code",
   "execution_count": 17,
   "metadata": {},
   "outputs": [
    {
     "data": {
      "text/plain": [
       "['AD', 'AE', 'BA', 'BD', 'BE', 'CA', 'CD', 'CE']"
      ]
     },
     "execution_count": 17,
     "metadata": {},
     "output_type": "execute_result"
    }
   ],
   "source": [
    "# List Comprehension 사용(3/4)\n",
    "\n",
    "case_1 = ['A', 'B', 'C']\n",
    "case_2 = ['D', 'E', 'A']\n",
    "\n",
    "result = [i + j for i in case_1 for j in case_2]\n",
    "result\n",
    "\n",
    "result = [i + j for i in case_1 for j in case_2 if not (i==j)]\n",
    "result\n",
    "\n",
    "result.sort()\n",
    "result"
   ]
  },
  {
   "cell_type": "code",
   "execution_count": 23,
   "metadata": {},
   "outputs": [
    {
     "name": "stdout",
     "output_type": "stream",
     "text": [
      "['The', 'quick', 'brown', 'fox', 'jumps', 'over', 'the', 'lazy', 'dog']\n",
      "\n",
      "['THE', 'the', 3]\n",
      "['QUICK', 'quick', 5]\n",
      "['BROWN', 'brown', 5]\n",
      "['FOX', 'fox', 3]\n",
      "['JUMPS', 'jumps', 5]\n",
      "['OVER', 'over', 4]\n",
      "['THE', 'the', 3]\n",
      "['LAZY', 'lazy', 4]\n",
      "['DOG', 'dog', 3]\n"
     ]
    }
   ],
   "source": [
    "# List Comprehension 사용(4/4)\n",
    "\n",
    "words = 'The quick brown fox jumps over the lazy dog'.split() # 문장을 띄어쓰기 기준으로 나눠준다.\n",
    "print(words)\n",
    "print()\n",
    "\n",
    "# 2차원 배열이 생성된다.\n",
    "stuff = [ [w.upper(), w.lower(), len(w)] for w in words]\n",
    "stuff \n",
    "\n",
    "for i in stuff:\n",
    "    print(i)"
   ]
  },
  {
   "cell_type": "markdown",
   "metadata": {},
   "source": [
    "# Enumerate & Zip\n",
    "- 학습목표\n",
    "    - 리스트 값을 추출할때 인덱스도 함께 추출할 수 있는 방법으로 이용되는 Enumerate\n",
    "    - 두 개이상의 list값을 병렬적으로 추출할 수 있는 zip 함수를 사용\n",
    "    \n",
    "    \n",
    "- 핵심키워드\n",
    "    - enumerate()\n",
    "    - zip()"
   ]
  },
  {
   "cell_type": "markdown",
   "metadata": {},
   "source": [
    "## Enumerate"
   ]
  },
  {
   "cell_type": "code",
   "execution_count": 32,
   "metadata": {},
   "outputs": [
    {
     "name": "stdout",
     "output_type": "stream",
     "text": [
      "0 tic\n",
      "1 tac\n",
      "2 toc\n",
      "[(0, 'a'), (1, 'b'), (2, 'c'), (3, 'd')]\n"
     ]
    },
    {
     "data": {
      "text/plain": [
       "{0: 'Gacheon',\n",
       " 1: 'University',\n",
       " 2: 'is',\n",
       " 3: 'an',\n",
       " 4: 'academic',\n",
       " 5: 'institute',\n",
       " 6: 'located',\n",
       " 7: 'in',\n",
       " 8: 'South',\n",
       " 9: 'Korea.'}"
      ]
     },
     "execution_count": 32,
     "metadata": {},
     "output_type": "execute_result"
    }
   ],
   "source": [
    "temp = ['tic', 'tac', 'toc']\n",
    "for idx, val in enumerate(temp):\n",
    "    print(idx, val)\n",
    "\n",
    "mylist = ['a', 'b', 'c', 'd']\n",
    "print( list(enumerate(mylist)) )\n",
    "\n",
    "{ i:j for i, j in enumerate('Gacheon University is an academic institute located in South Korea.'.split()) }"
   ]
  },
  {
   "cell_type": "markdown",
   "metadata": {},
   "source": [
    "## Zip"
   ]
  },
  {
   "cell_type": "code",
   "execution_count": 41,
   "metadata": {},
   "outputs": [
    {
     "name": "stdout",
     "output_type": "stream",
     "text": [
      "a1 b1\n",
      "a2 b2\n",
      "a3 b3\n",
      "\n",
      "(1, 10, 100) (2, 20, 200) (3, 30, 300)\n"
     ]
    },
    {
     "data": {
      "text/plain": [
       "[111, 222, 333]"
      ]
     },
     "execution_count": 41,
     "metadata": {},
     "output_type": "execute_result"
    }
   ],
   "source": [
    "alist = ['a1', 'a2', 'a3']\n",
    "blist = ['b1', 'b2', 'b3']\n",
    "for a, b in zip(alist, blist):\n",
    "    print(a,b)\n",
    "print()\n",
    "    \n",
    "a, b, c = zip((1,2,3), (10, 20, 30), (100, 200, 300)) # 각 tuple의 같은 index끼리 묶음\n",
    "print(a, b, c)\n",
    "\n",
    "[sum(x) for x in zip((1,2,3), (10,20,30), (100,200,300))]"
   ]
  },
  {
   "cell_type": "code",
   "execution_count": 42,
   "metadata": {},
   "outputs": [
    {
     "name": "stdout",
     "output_type": "stream",
     "text": [
      "0 a1 b1\n",
      "1 a2 b2\n",
      "2 a3 b3\n"
     ]
    }
   ],
   "source": [
    "alist = ['a1', 'a2', 'a3']\n",
    "blist = ['b1', 'b2', 'b3']\n",
    "\n",
    "for i, (a, b) in enumerate(zip(alist, blist)):\n",
    "    print(i, a, b)"
   ]
  },
  {
   "cell_type": "markdown",
   "metadata": {},
   "source": [
    "# Lambda & MapReduce\n",
    "- 학습목표\n",
    "    - 익명함수 lambda 와 Sequence 자료형의 데이터에서 함수를 적용하는 방법인 Map 과 Ruduce 에 대해서 실습\n",
    "    \n",
    "\n",
    "- 핵심키워드\n",
    "    - Lambda\n",
    "    - Map Function\n",
    "    - Reduce Function"
   ]
  },
  {
   "cell_type": "markdown",
   "metadata": {},
   "source": [
    "## Lambda"
   ]
  },
  {
   "cell_type": "code",
   "execution_count": 1,
   "metadata": {},
   "outputs": [
    {
     "data": {
      "text/plain": [
       "5"
      ]
     },
     "execution_count": 1,
     "metadata": {},
     "output_type": "execute_result"
    }
   ],
   "source": [
    "# 일반적인 함수 생성방법\n",
    "\n",
    "def f(x, y):\n",
    "    return x + y\n",
    "\n",
    "f(1, 4)"
   ]
  },
  {
   "cell_type": "code",
   "execution_count": 3,
   "metadata": {},
   "outputs": [
    {
     "data": {
      "text/plain": [
       "5"
      ]
     },
     "execution_count": 3,
     "metadata": {},
     "output_type": "execute_result"
    }
   ],
   "source": [
    "# Lambda 사용\n",
    "\n",
    "f = lambda x, y: x+y\n",
    "f(1, 4)"
   ]
  },
  {
   "cell_type": "code",
   "execution_count": 7,
   "metadata": {},
   "outputs": [
    {
     "name": "stdout",
     "output_type": "stream",
     "text": [
      "5\n",
      "9\n",
      "1.5\n",
      "6\n"
     ]
    }
   ],
   "source": [
    "f = lambda x, y: x + y\n",
    "print(f(1, 4))\n",
    "\n",
    "f = lambda x: x ** 2\n",
    "print(f(3))\n",
    "\n",
    "f = lambda x: x / 2\n",
    "print(f(3))\n",
    "\n",
    "print((lambda x: x+1)(5))"
   ]
  },
  {
   "cell_type": "markdown",
   "metadata": {},
   "source": [
    "## Map Function"
   ]
  },
  {
   "cell_type": "code",
   "execution_count": 22,
   "metadata": {},
   "outputs": [
    {
     "name": "stdout",
     "output_type": "stream",
     "text": [
      "[1, 4, 9, 16, 25]\n",
      "[1, 4, 9, 16, 25]\n",
      "[2, 4, 6, 8, 10]\n"
     ]
    },
    {
     "data": {
      "text/plain": [
       "[1, 4, 3, 16, 5]"
      ]
     },
     "execution_count": 22,
     "metadata": {},
     "output_type": "execute_result"
    }
   ],
   "source": [
    "# Sequence 자료형 각 element에 동일한 function을 적용함\n",
    "# map(적용할 함수, 시퀀스자료형)\n",
    "\n",
    "ex = [1,2,3,4,5]\n",
    "\n",
    "f = lambda x: x**2\n",
    "print(list(map(f, ex)))\n",
    "# print([val**2 for val in ex])\n",
    "\n",
    "f = lambda x, y: x + y\n",
    "print(list(map(f, ex, ex))) # zip 함수와 비슷한 효과를 낸다.\n",
    "\n",
    "list(map(lambda x: x**2 if x % 2 == 0 else x, ex)) # 짝수면 제곱, 홀수면 그대로 출력"
   ]
  },
  {
   "cell_type": "markdown",
   "metadata": {},
   "source": [
    "## Reduce function\n",
    "- map function과 달리 list에 똑같은 함수를 적용해서 통합"
   ]
  },
  {
   "cell_type": "code",
   "execution_count": 24,
   "metadata": {},
   "outputs": [
    {
     "name": "stdout",
     "output_type": "stream",
     "text": [
      "15\n"
     ]
    }
   ],
   "source": [
    "from functools import reduce\n",
    "\n",
    "print(reduce(lambda x,y: x+y, [1,2,3,4,5]))"
   ]
  },
  {
   "cell_type": "code",
   "execution_count": 39,
   "metadata": {},
   "outputs": [
    {
     "data": {
      "text/plain": [
       "24"
      ]
     },
     "execution_count": 39,
     "metadata": {},
     "output_type": "execute_result"
    }
   ],
   "source": [
    "def factorial(n):\n",
    "    return reduce(lambda x, y: x*y, range(1, n+1))\n",
    "\n",
    "factorial(4)"
   ]
  },
  {
   "cell_type": "code",
   "execution_count": 50,
   "metadata": {},
   "outputs": [
    {
     "name": "stdout",
     "output_type": "stream",
     "text": [
      "1이상의 수를 인자로 넣어주세요.\n"
     ]
    }
   ],
   "source": [
    "# Recursive Function (재귀함수)\n",
    "def factorial(n):\n",
    "    if n <= 0:\n",
    "        return print('1이상의 수를 인자로 넣어주세요.')\n",
    "    \n",
    "    if n == 1:\n",
    "        return 1\n",
    "    else:\n",
    "        return n * factorial(n-1)\n",
    "    \n",
    "factorial(-2)"
   ]
  },
  {
   "cell_type": "markdown",
   "metadata": {},
   "source": [
    "# Asterisk\n",
    "- 학습목표\n",
    "    - 이번강의에서는 단순 곱셈, 제곱연산, 가변인자 활용 등 여러 부분에서 다양하게 사용되는 Asterisk(*) 의 사용법 학습\n",
    "    \n",
    "    \n",
    "- 핵심키워드\n",
    "    - Asterisk"
   ]
  },
  {
   "cell_type": "code",
   "execution_count": 51,
   "metadata": {},
   "outputs": [
    {
     "name": "stdout",
     "output_type": "stream",
     "text": [
      "1 (2, 3, 4, 5, 6)\n",
      "<class 'tuple'>\n"
     ]
    }
   ],
   "source": [
    "# args (가변인자)\n",
    "def asterisk_test(a, *args):\n",
    "    print(a, args)\n",
    "    print(type(args))\n",
    "\n",
    "asterisk_test(1,2,3,4,5,6)"
   ]
  },
  {
   "cell_type": "code",
   "execution_count": 52,
   "metadata": {},
   "outputs": [
    {
     "name": "stdout",
     "output_type": "stream",
     "text": [
      "1 {'b': 2, 'c': 3, 'd': 4, 'e': 5, 'f': 6}\n",
      "<class 'dict'>\n"
     ]
    }
   ],
   "source": [
    "# kwargs (키워드인자)\n",
    "def asterisk_test(a, **kwargs):\n",
    "    print(a, kwargs)\n",
    "    print(type(kwargs))\n",
    "\n",
    "asterisk_test(1, b=2, c=3, d=4, e=5, f=6)"
   ]
  },
  {
   "cell_type": "code",
   "execution_count": 54,
   "metadata": {},
   "outputs": [
    {
     "name": "stdout",
     "output_type": "stream",
     "text": [
      "1 2 3 4 5\n"
     ]
    }
   ],
   "source": [
    "# Unpacking a container\n",
    "# tuple, dict 등 자료형에 들어가 있는 값을 Unpacking\n",
    "# 함수의 입력값, zip 등에 유용하게 사용가능\n",
    "temp = [1,2,3,4,5]\n",
    "print(*temp)"
   ]
  },
  {
   "cell_type": "code",
   "execution_count": 57,
   "metadata": {},
   "outputs": [
    {
     "name": "stdout",
     "output_type": "stream",
     "text": [
      "1 (2, 3, 4, 5, 6)\n",
      "<class 'tuple'>\n"
     ]
    }
   ],
   "source": [
    "def asterisk_test(a, *args):\n",
    "    print(a, args)\n",
    "    print(type(args))\n",
    "    \n",
    "asterisk_test(1, *(2,3,4,5,6))"
   ]
  },
  {
   "cell_type": "code",
   "execution_count": 58,
   "metadata": {},
   "outputs": [
    {
     "name": "stdout",
     "output_type": "stream",
     "text": [
      "1 2 3 4 5 6\n",
      "<class 'tuple'>\n"
     ]
    }
   ],
   "source": [
    "def asterisk_test(a, args):\n",
    "    print(a, *args)\n",
    "    print(type(args))\n",
    "\n",
    "asterisk_test(1, (2,3,4,5,6))"
   ]
  },
  {
   "cell_type": "code",
   "execution_count": 62,
   "metadata": {},
   "outputs": [
    {
     "name": "stdout",
     "output_type": "stream",
     "text": [
      "[1, 2] [3, 4] [5, 6]\n",
      "[1, 2] [3, 4] [5, 6]\n"
     ]
    }
   ],
   "source": [
    "a, b, c = ([1, 2], [3, 4], [5, 6])\n",
    "print(a, b, c)\n",
    "\n",
    "data = ([1, 2], [3, 4], [5, 6])\n",
    "print(*data)"
   ]
  },
  {
   "cell_type": "code",
   "execution_count": 69,
   "metadata": {},
   "outputs": [
    {
     "name": "stdout",
     "output_type": "stream",
     "text": [
      "10 b c d\n",
      "10 1 2 3\n"
     ]
    }
   ],
   "source": [
    "def asterisk_test(a, b, c, d):\n",
    "    print(a, b, c, d)\n",
    "\n",
    "data = {'b':1, 'c':2, 'd':3}\n",
    "asterisk_test(10, *data) # dict 타입을 Unpacking 할때 [* key, ** value] 로 된다.\n",
    "asterisk_test(10, **data)"
   ]
  },
  {
   "cell_type": "code",
   "execution_count": 70,
   "metadata": {},
   "outputs": [
    {
     "name": "stdout",
     "output_type": "stream",
     "text": [
      "(1, 3, 5)\n",
      "(2, 4, 6)\n"
     ]
    }
   ],
   "source": [
    "for data in zip(*([1, 2], [3, 4], [5, 6])):\n",
    "    print(data)"
   ]
  },
  {
   "cell_type": "markdown",
   "metadata": {},
   "source": [
    "# Data Structure - Collections\n",
    "- 학습목표\n",
    "    - tuple, dict에 대한 확장 데이터 구조를 제공하는 Collections 안에 포함된 모듈을 이용하여 Data Structure의 기본 개념을 이해하고 사용하는 방법을 알아봅니다.\n",
    "    \n",
    "    \n",
    "- 핵심 키워드\n",
    "    - Collections\n",
    "    - Data Structure (자료구조)\n",
    "    - deque\n",
    "    - Counter\n",
    "    - orderedDict\n",
    "    - defaultdict\n",
    "    - namedtuple\n"
   ]
  },
  {
   "cell_type": "markdown",
   "metadata": {},
   "source": [
    "## Collections\n",
    "- List, Tuple, Dict에 대한 Python Built-in 확장 자료 구조(모듈)\n",
    "- 편의성, 실행 효율 등을 사용자에게 제공함\n",
    "- 아래의 모듈이 존재한다."
   ]
  },
  {
   "cell_type": "code",
   "execution_count": 72,
   "metadata": {},
   "outputs": [],
   "source": [
    "from collections import deque, Counter, OrderedDict, defaultdict, namedtuple\n",
    "\n",
    "from collections import deque\n",
    "from collections import Counter\n",
    "from collections import OrderedDict\n",
    "from collections import defaultdict\n",
    "from collections import namedtuple"
   ]
  },
  {
   "cell_type": "markdown",
   "metadata": {},
   "source": [
    "### deque\n",
    "- Stack과 Queue를 지원하는 모듈\n",
    "- List에 비해 효율적인 자료 저장 방식을 지원함\n",
    "- rotate, reverse등 Linked List의 특성을 지원함\n",
    "- 기존 list 형태의 함수를 모두 지원함"
   ]
  },
  {
   "cell_type": "code",
   "execution_count": 86,
   "metadata": {},
   "outputs": [
    {
     "name": "stdout",
     "output_type": "stream",
     "text": [
      "deque([0, 1, 2, 3, 4])\n",
      "deque([10, 0, 1, 2, 3, 4])\n"
     ]
    }
   ],
   "source": [
    "from collections import deque\n",
    "\n",
    "deque_list = deque() # 객체생성\n",
    "for i in range(5):\n",
    "    deque_list.append(i)\n",
    "    \n",
    "print(deque_list)\n",
    "\n",
    "deque_list.appendleft(10)\n",
    "print(deque_list)"
   ]
  },
  {
   "cell_type": "code",
   "execution_count": 87,
   "metadata": {},
   "outputs": [
    {
     "name": "stdout",
     "output_type": "stream",
     "text": [
      "deque([3, 4, 10, 0, 1, 2])\n",
      "deque([1, 2, 3, 4, 10, 0])\n"
     ]
    }
   ],
   "source": [
    "deque_list.rotate(2)\n",
    "print(deque_list)\n",
    "deque_list.rotate(2)\n",
    "print(deque_list)"
   ]
  },
  {
   "cell_type": "code",
   "execution_count": 88,
   "metadata": {},
   "outputs": [
    {
     "name": "stdout",
     "output_type": "stream",
     "text": [
      "deque([1, 2, 3, 4, 10, 0, 5, 6, 7])\n",
      "deque([7, 6, 5, 1, 2, 3, 4, 10, 0, 5, 6, 7])\n"
     ]
    }
   ],
   "source": [
    "deque_list.extend([5, 6, 7])\n",
    "print(deque_list)\n",
    "deque_list.extendleft([5, 6, 7]) # 주의\n",
    "print(deque_list)"
   ]
  },
  {
   "cell_type": "code",
   "execution_count": 89,
   "metadata": {},
   "outputs": [
    {
     "name": "stdout",
     "output_type": "stream",
     "text": [
      "deque([7, 6, 5, 1, 2, 3, 4, 10, 0, 5, 6, 7])\n",
      "deque([7, 6, 5, 0, 10, 4, 3, 2, 1, 5, 6, 7])\n"
     ]
    }
   ],
   "source": [
    "print(deque_list)\n",
    "print(deque(reversed(deque_list)))"
   ]
  },
  {
   "cell_type": "code",
   "execution_count": 93,
   "metadata": {},
   "outputs": [
    {
     "data": {
      "text/plain": [
       "deque([5, 4, 3, 2, 1])"
      ]
     },
     "execution_count": 93,
     "metadata": {},
     "output_type": "execute_result"
    }
   ],
   "source": [
    "deque(reversed([1,2,3,4,5]))"
   ]
  },
  {
   "cell_type": "markdown",
   "metadata": {},
   "source": [
    "### OrderedDict\n",
    "- Dict와 달리, 데이터를 입력한 순서대로 dict를 반환함"
   ]
  },
  {
   "cell_type": "code",
   "execution_count": 109,
   "metadata": {},
   "outputs": [],
   "source": [
    "from collections import OrderedDict"
   ]
  },
  {
   "cell_type": "code",
   "execution_count": 110,
   "metadata": {},
   "outputs": [
    {
     "name": "stdout",
     "output_type": "stream",
     "text": [
      "x 100\n",
      "y 200\n",
      "z 300\n",
      "l 500\n"
     ]
    }
   ],
   "source": [
    "d = dict()\n",
    "d['x'] = 100\n",
    "d['y'] = 200\n",
    "d['z'] = 300\n",
    "d['l'] = 500\n",
    "\n",
    "for k, v in d.items():\n",
    "    print(k, v)"
   ]
  },
  {
   "cell_type": "code",
   "execution_count": 111,
   "metadata": {},
   "outputs": [
    {
     "name": "stdout",
     "output_type": "stream",
     "text": [
      "x 100\n",
      "y 200\n",
      "z 300\n",
      "l 500\n"
     ]
    }
   ],
   "source": [
    "d = OrderedDict()\n",
    "d['x'] = 100\n",
    "d['y'] = 200\n",
    "d['z'] = 300\n",
    "d['l'] = 500\n",
    "\n",
    "for k, v in d.items():\n",
    "    print(k ,v)"
   ]
  },
  {
   "cell_type": "code",
   "execution_count": 114,
   "metadata": {},
   "outputs": [
    {
     "name": "stdout",
     "output_type": "stream",
     "text": [
      "l 500\n",
      "x 100\n",
      "y 200\n",
      "z 300\n",
      "\n",
      "x 100\n",
      "y 200\n",
      "z 300\n",
      "l 500\n"
     ]
    }
   ],
   "source": [
    "for k, v in OrderedDict(sorted(d.items(), key=lambda t: t[0])).items():\n",
    "    print(k, v)\n",
    "\n",
    "print()\n",
    "\n",
    "for k, v in OrderedDict(sorted(d.items(), key=lambda t: t[1])).items():\n",
    "    print(k, v)"
   ]
  },
  {
   "cell_type": "markdown",
   "metadata": {},
   "source": [
    "### defaultdict\n",
    "- Dict type의 값에 기본 값을 지정, 신규값 생성시 사용하는 방법\n",
    "- 파이썬 내장 Dict와 다르게 Key Error가 발생할 일이 없음, 없으면 기본값으로 생성하기 때문에"
   ]
  },
  {
   "cell_type": "code",
   "execution_count": 124,
   "metadata": {},
   "outputs": [],
   "source": [
    "from collections import defaultdict"
   ]
  },
  {
   "cell_type": "code",
   "execution_count": 125,
   "metadata": {},
   "outputs": [
    {
     "ename": "KeyError",
     "evalue": "'first'",
     "output_type": "error",
     "traceback": [
      "\u001b[0;31m---------------------------------------------------------------------------\u001b[0m",
      "\u001b[0;31mKeyError\u001b[0m                                  Traceback (most recent call last)",
      "\u001b[0;32m<ipython-input-125-5cae037cbeba>\u001b[0m in \u001b[0;36m<module>\u001b[0;34m\u001b[0m\n\u001b[1;32m      1\u001b[0m \u001b[0;31m# 기존 dict - first라는 키값이 없어서 에러\u001b[0m\u001b[0;34m\u001b[0m\u001b[0;34m\u001b[0m\u001b[0;34m\u001b[0m\u001b[0m\n\u001b[1;32m      2\u001b[0m \u001b[0md\u001b[0m \u001b[0;34m=\u001b[0m \u001b[0mdict\u001b[0m\u001b[0;34m(\u001b[0m\u001b[0;34m)\u001b[0m\u001b[0;34m\u001b[0m\u001b[0;34m\u001b[0m\u001b[0m\n\u001b[0;32m----> 3\u001b[0;31m \u001b[0mprint\u001b[0m\u001b[0;34m(\u001b[0m\u001b[0md\u001b[0m\u001b[0;34m[\u001b[0m\u001b[0;34m'first'\u001b[0m\u001b[0;34m]\u001b[0m\u001b[0;34m)\u001b[0m\u001b[0;34m\u001b[0m\u001b[0;34m\u001b[0m\u001b[0m\n\u001b[0m",
      "\u001b[0;31mKeyError\u001b[0m: 'first'"
     ]
    }
   ],
   "source": [
    "# 기존 dict - first라는 키값이 없어서 에러\n",
    "d = dict()\n",
    "print(d['first'])"
   ]
  },
  {
   "cell_type": "code",
   "execution_count": 126,
   "metadata": {},
   "outputs": [
    {
     "name": "stdout",
     "output_type": "stream",
     "text": [
      "<object object at 0x7f8959d7bc50>\n"
     ]
    }
   ],
   "source": [
    "d = defaultdict(object) # Default 값을 object로 설정\n",
    "print(d['first'])"
   ]
  },
  {
   "cell_type": "code",
   "execution_count": 127,
   "metadata": {},
   "outputs": [
    {
     "name": "stdout",
     "output_type": "stream",
     "text": [
      "0\n"
     ]
    }
   ],
   "source": [
    "d = defaultdict(lambda: 0) # Default 값을 0으로 설정\n",
    "print(d['first'])"
   ]
  },
  {
   "cell_type": "code",
   "execution_count": 145,
   "metadata": {},
   "outputs": [
    {
     "name": "stdout",
     "output_type": "stream",
     "text": [
      "{'word': 2, 'hi': 2, 'count': 1, 'monkey': 1}\n",
      "word 2\n",
      "hi 2\n",
      "count 1\n",
      "monkey 1\n"
     ]
    }
   ],
   "source": [
    "# word_count 단어 빈도수 세기\n",
    "text = 'word count hi hi word monkey'.split()\n",
    "\n",
    "# 방법1\n",
    "word_count = {}\n",
    "for word in text:\n",
    "    if word in word_count.keys():\n",
    "        word_count[word] += 1\n",
    "    else:\n",
    "        word_count[word] = 1\n",
    "print(dict(sorted(word_count.items(), key=lambda x:x[1], reverse=True)))\n",
    "\n",
    "# 방법2\n",
    "word_count = defaultdict(object)\n",
    "word_count = defaultdict(lambda: 0)\n",
    "\n",
    "for word in text:\n",
    "    word_count[word] += 1\n",
    "\n",
    "for i, v in OrderedDict(sorted(word_count.items(), key=lambda t: t[1], reverse=True)).items():\n",
    "    print(i, v)"
   ]
  },
  {
   "cell_type": "markdown",
   "metadata": {},
   "source": [
    "### Counter\n",
    "- Sequence type의 data element들의 갯수를 dict 형태로 반환"
   ]
  },
  {
   "cell_type": "code",
   "execution_count": 175,
   "metadata": {},
   "outputs": [],
   "source": [
    "from collections import Counter"
   ]
  },
  {
   "cell_type": "code",
   "execution_count": 181,
   "metadata": {
    "scrolled": true
   },
   "outputs": [
    {
     "name": "stdout",
     "output_type": "stream",
     "text": [
      "Counter({'the': 1083, 'and': 939, 'to': 727, 'of': 670, 'a': 540, 'i': 523, 'my': 519, 'you': 433, 'in': 420, 'ham.': 358, 'that': 343, 'is': 327, 'it': 327, 'his': 302, 'not': 274, 'with': 267, 'but': 254, 'this': 253, 'your': 242, 'for': 231, 'as': 214, 'be': 204, 'he': 200, 'what': 190, 'have': 176, 'will': 151, 'me': 144, 'so': 139, 'we': 136, 'do': 131, 'are': 128, 'him': 121, 'our': 120, 'king.': 119, 'or': 114, 'by': 111, 'if': 111, 'hor.': 108, 'on': 108, 'shall': 108, 'no': 106, 'they': 98, 'good': 97, 'thou': 97, 'let': 95, 'all': 95, 'from': 94, 'at': 87, 'how': 87, 'thy': 86, 'pol.': 86, 'lord,': 83, 'most': 82, 'queen.': 80, 'was': 76, 'her': 76, 'would': 75, 'like': 74, 'more': 74, \"'tis\": 71, \"th'\": 71, 'enter': 69, 'may': 66, 'lord.': 65, 'very': 64, 'hath': 63, 'laer.': 62, 'must': 60, 'o,': 59, 'did': 59, 'give': 58, 'oph.': 58, 'which': 57, 'know': 57, 'their': 57, 'an': 56, \"i'll\": 56, 'when': 55, 'you,': 55, 'should': 55, 'come': 54, 'now': 54, 'am': 54, 'such': 54, 'upon': 53, 'make': 53, 'some': 53, 'there': 52, 'where': 50, 'than': 50, 'go': 50, 'o': 50, 'us': 46, 'much': 45, 'ros.': 45, 'had': 44, 'these': 44, 'out': 44, 'she': 44, 'king': 43, 'them': 43, 'speak': 42, 'tell': 40, 'sir,': 40, 'think': 39, 'then': 39, 'love': 39, 'it,': 38, 'yet': 38, 'here': 37, 'nor': 37, 'take': 36, 'own': 36, 'ay,': 36, 'you.': 36, 'me.': 35, 'thee': 35, 'too': 35, 'come,': 34, 'it.': 34, 'time': 34, 'one': 34, 'who': 33, 'say': 33, 'man': 33, 'clown.': 33, 'him.': 32, 'look': 32, 'whose': 32, 'can': 32, 'well': 32, 'mar.': 31, 'thus': 31, 'why': 31, 'why,': 31, 'see': 31, 'lord?': 31, 'me,': 30, 'could': 30, 'up': 29, 'might': 29, 'no,': 29, 'guil.': 29, 'hamlet,': 28, 'made': 28, 'now,': 28, 'doth': 28, 'hamlet': 28, 'dear': 28, 'been': 27, 'into': 27, 'were': 27, 'him,': 27, 'hold': 26, 'that,': 26, 'father': 26, 'hamlet.': 25, 'does': 25, 'cannot': 25, 'pray': 25, 'osr.': 25, 'great': 24, 'both': 24, 'put': 24, 'never': 24, 'two': 23, 'scene': 23, 'hear': 23, 'against': 23, 'mine': 23, 'though': 23, \"i'\": 23, 'nay,': 22, 'heaven': 22, 'itself': 22, 'call': 22, 'set': 22, 'elsinore.': 21, 'well,': 21, 'even': 21, 'those': 21, 'leave': 21, 'soul': 21, 'ghost.': 20, 'king,': 20, 'and,': 20, 'show': 20, 'sweet': 20, 'till': 20, 'poor': 20, 'ber.': 19, 'part': 19, 'comes': 19, 'so.': 19, 'this,': 19, 'god': 19, 'old': 19, 'exeunt': 19, 'so,': 19, 'nothing': 19, 'queen': 18, 'believe': 18, 'but,': 18, 'head': 18, \"father's\": 18, 'play.': 18, \"there's\": 18, 'play': 18, 'before': 17, 'exit.': 17, 'seen': 17, 'dead': 17, 'world': 17, 'young': 17, 'find': 17, 'noble': 17, 'not,': 17, 'well.': 17, 'keep': 17, 'many': 17, 'makes': 17, 'lord': 16, 'laertes,': 16, 'them.': 16, 'what,': 16, \"that's\": 16, 'without': 16, 'queen,': 16, 'nature': 16, 'rosencrantz': 16, 'horatio,': 15, 'castle.': 15, 'us,': 15, 'little': 15, 'hast': 15, 'use': 15, 'about': 15, 'death': 15, 'between': 15, 'since': 15, 'follow': 15, 'players': 15, 'polonius.': 14, 'mother': 14, 'down': 14, 'therefore': 14, 'art': 14, 'fair': 14, 'earth': 14, \"o'er\": 14, 'bear': 14, 'thoughts': 14, 'words': 14, 'i,': 14, \"'a\": 14, 'sir.': 14, 'dost': 14, 'live': 13, 'you?': 13, 'thing': 13, 'night,': 13, 'night': 13, 'fear': 13, 'something': 13, 'true': 13, 'hand': 13, 'still': 13, 'life': 13, 'say,': 13, 'then,': 13, 'within': 13, 'heaven,': 13, 'lord!': 13, \"we'll\": 13, 'means': 13, 'go,': 13, 'marry,': 13, 'not.': 13, 'love,': 13, 'rey.': 13, 'other.': 13, 'ophelia,': 12, 'act': 12, 'stand': 12, 'long': 12, 'has': 12, 'once': 12, 'form': 12, 'know,': 12, 'life,': 12, 'ere': 12, 'any': 12, 'do,': 12, 'exeunt.': 12, 'room': 12, '[aside]': 12, 'indeed': 12, 'first': 12, 'faith,': 12, 'indeed,': 12, 'this?': 12, 'else': 12, 'youth': 12, 'here,': 12, 'bring': 12, 'off': 12, 'sent': 12, 'madness': 12, 'matter': 12, 'after': 12, 'son': 11, 'horatio.': 11, 'eyes': 11, 'last': 11, 'question': 11, \"is't\": 11, 'goes': 11, 'other': 11, \"e'en\": 11, 'oft': 11, 'being': 11, 'better': 11, \"what's\": 11, 'mother,': 11, 'heart': 11, 'body': 11, 'saw': 11, 'all.': 11, 'each': 11, 'death,': 11, 'day': 11, 'end': 11, 'mad': 11, 'cause': 11, '[exit': 11, 'denmark': 10, 'same': 10, 'mark': 10, 'majesty': 10, 'exit': 10, 'me?': 10, 'almost': 10, 'heard': 10, \"let's\": 10, 'far': 10, 'farewell.': 10, 'reason': 10, 'duty': 10, 'ever': 10, 'ear': 10, 'man,': 10, 'while': 10, 'away': 10, 'virtue': 10, 'himself': 10, 'second': 10, 'wind': 10, 'given': 10, \"he's\": 10, 'you;': 10, \"o'\": 10, 'guildenstern.': 10, 'thousand': 10, 'kind': 10, 'ghost': 9, \"hamlet's\": 9, 'i.': 9, 'get': 9, 'again': 9, 'together': 9, 'haste': 9, 'norway,': 9, 'through': 9, 'laertes': 9, \"'twere\": 9, 'further': 9, 'full': 9, 'came': 9, 'best': 9, 'thine': 9, 'seek': 9, 'madam,': 9, 'be,': 9, 'grace': 9, 'seem': 9, 'things': 9, 'excellent': 9, 'foul': 9, 'none': 9, 'thee.': 9, 'that.': 9, 'please': 9, 'blood': 9, 'near': 9, 'men': 9, 'soul,': 9, 'draw': 9, 'on.': 9, 'alas,': 9, 'lay': 9, '(as': 9, 'will,': 9, 'lord;': 9, 'ourselves': 9, 'rest': 9, 'gertrude,': 9, 'three': 9, 'thank': 9, 'mother.': 9, '(sings)': 9, 'daughter': 8, 'father.': 8, 'fran.': 8, 'answer': 8, 'horatio': 8, 'sit': 8, 'thought': 8, 'fell': 8, 'unto': 8, 'again.': 8, 'stay': 8, 'walk': 8, 'wherein': 8, 'business': 8, 'doubt': 8, 'heart,': 8, 'nature,': 8, 'shows': 8, 'mind': 8, 'come.': 8, 'name': 8, 'both.': 8, 'there.': 8, 'will.': 8, 'them,': 8, 'more.': 8, 'way': 8, 'every': 8, 'remember': 8, 'said': 8, 'yourself': 8, 'free': 8, 'fit': 8, 'another': 8, 'wilt': 8, 'thee,': 8, \"here's\": 8, 'age': 8, 'grief': 8, 'gave': 8, 'sir;': 8, 'speech': 8, 'lie': 8, 'sense': 8, 'denmark.': 7, 'courtier.': 7, 'players.': 7, 'night.': 7, 'ho!': 7, 'friends': 7, 'welcome,': 7, 'says': 7, 'watch': 7, 'this.': 7, 'all,': 7, 'break': 7, 'particular': 7, 'who,': 7, 'there,': 7, 'soft!': 7, 'done,': 7, 'spirit': 7, 'power': 7, \"brother's\": 7, 'memory': 7, 'whole': 7, 'news': 7, 'beseech': 7, 'laertes.': 7, 'father;': 7, \"king's\": 7, 'again,': 7, 'good.': 7, '[to': 7, 'fellow': 7, 'come!': 7, 'that?': 7, 'so?': 7, 'grow': 7, 'understand': 7, 'takes': 7, 'custom': 7, 'action': 7, 'done': 7, 'sure': 7, 'ho,': 7, 'needs': 7, 'is,': 7, 'sword,': 7, 'times': 7, 'receive': 7, 'he,': 7, 'gives': 7, 'lady,': 7, 'more,': 7, 'deed': 7, 'england': 7, 'death.': 7, 'noise': 7, 'capt.': 7, 'fine': 7, 'polonius,': 6, 'rosencrantz,': 6, 'fortinbras,': 6, 'watch,': 6, 'bid': 6, 'honest': 6, 'piece': 6, 'us.': 6, 'down,': 6, \"t'\": 6, 'away!': 6, 'speak,': 6, 'god,': 6, 'work': 6, 'cast': 6, 'state': 6, 'on,': 6, 'it!': 6, 'whether': 6, 'time.': 6, 'ii.': 6, 'eye,': 6, 'father,': 6, 'laertes?': 6, 'lose': 6, 'wouldst': 6, 'go.': 6, 'less': 6, 'alone': 6, 'back': 6, 'face': 6, 'tears': 6, 'eyes,': 6, 'wicked': 6, 'drink': 6, \"mother's\": 6, 'day,': 6, 'gentlemen,': 6, 'word': 6, 'hands': 6, 'top': 6, 'pale': 6, 'fare': 6, 'choice': 6, 'wisdom': 6, 'lies': 6, 'double': 6, 'for.': 6, 'neither': 6, 'false': 6, 'man.': 6, 'tongue': 6, 'light': 6, 'now?': 6, 'mean,': 6, 'general': 6, 'speak.': 6, 'murther': 6, 'be.': 6, 'wholesome': 6, 'damned': 6, 'her.': 6, 'matter.': 6, 'hamlet!': 6, 'him!': 6, 'friends,': 6, 'sword.': 6, 'indeed.': 6, 'myself': 6, 'aught': 6, 'passion': 6, 'letters': 6, 'love.': 6, 'whom': 6, 'guildenstern': 6, 'in.': 6, 'it;': 6, 'round': 6, 'her,': 6, 'hamlet?': 6, 'gone,': 6, 'either': 6, '[aside': 6, 'fort.': 6, 'only': 6, 'see.': 6, '1.': 6, '[exeunt': 6, 'bloody': 6, 'devil': 6, 'purpose': 6, 'life.': 6, 'quick': 6, 'poison': 6, 'husband': 6, 'sir?': 6, 'help,': 6, 'laid': 6, 'guildenstern,': 5, 'meet': 5, 'nothing.': 5, 'awhile,': 5, 'dead.': 5, 'king?': 5, 'warlike': 5, 'buried': 5, 'speak!': 5, 'known': 5, 'hot': 5, 'state,': 5, 'blood,': 5, 'coming': 5, 'which,': 5, 'air,': 5, 'season': 5, 'dare': 5, 'for,': 5, 'late': 5, 'lost': 5, 'writ': 5, 'told': 5, \"is't,\": 5, 'dread': 5, 'toward': 5, 'common': 5, 'throw': 5, 'note': 5, 'gentle': 5, 'away.': 5, 'god!': 5, 'rank': 5, 'visit': 5, 'report': 5, 'horatio!': 5, 'once.': 5, 'point': 5, 'knew': 5, 'it?': 5, 'yes,': 5, 'beard': 5, 'ophelia.': 5, 'voice': 5, 'head.': 5, 'place': 5, 'honour': 5, 'shot': 5, 'enough': 5, 'dull': 5, \"man's\": 5, 'humbly': 5, 'think,': 5, 'fashion': 5, 'speech,': 5, 'hour': 5, 'off.': 5, 'phrase': 5, \"fortune's\": 5, 'hell,': 5, 'cries': 5, 'hear.': 5, 'shalt': 5, 'revenge': 5, 'fat': 5, 'went': 5, 'sudden': 5, 'vile': 5, 'then?': 5, 'grave': 5, 'offence': 5, 'too.': 5, 'under': 5, 'swear.': 5, 'help': 5, 'shall,': 5, 'out,': 5, 'means,': 5, 'son,': 5, 'him;': 5, 'gentleman.': 5, \"in's\": 5, 'truly': 5, 'over': 5, 'lack': 5, 'move': 5, 'brought': 5, 'whereon': 5, 'pass': 5, 'welcome': 5, 'ill': 5, 'sun': 5, 'herself': 5, 'try': 5, 'four': 5, 'behind': 5, 'arras': 5, 'save': 5, 'one.': 5, 'bad': 5, 'themselves': 5, \"'the\": 5, 'black': 5, 'fall': 5, 'mortal': 5, 'drown': 5, 'conscience': 5, 'joy': 5, 'hope': 5, 'himself.': 5, 'turn': 5, 'breath': 5, 'too,': 5, 'woe': 5, 'danish': 5, 'eat': 5, 'shame': 5, 'beg': 5, 'drink,': 5, 'gentleman': 5, 'water': 5, 'alexander': 5, \"woo't\": 5, 'marcellus,': 4, 'present': 4, 'friend': 4, 'voltemand,': 4, 'osric,': 4, 'yourself.': 4, 'struck': 4, 'sick': 4, 'heart.': 4, 'quiet': 4, 'marcellus.': 4, 'ground.': 4, 'dane.': 4, 'farewell,': 4, 'twice': 4, \"'twill\": 4, 'star': 4, 'course': 4, 'again!': 4, 'looks': 4, 'like.': 4, 'charge': 4, 'see,': 4, 'gone': 4, 'strange': 4, 'land,': 4, 'cannon': 4, 'was,': 4, 'fortinbras': 4, 'lands': 4, 'stood': 4, 'other,': 4, 'motive': 4, 'fire,': 4, 'voice,': 4, 'treasure': 4, 'spirits': 4, 'stop': 4, 'guilty': 4, 'trumpet': 4, 'sea': 4, 'truth': 4, \"'gainst\": 4, 'stir': 4, 'gracious': 4, 'look,': 4, 'impart': 4, 'dumb': 4, 'morning': 4, 'flourish.': 4, '[enter': 4, 'sorrow': 4, 'sister,': 4, 'thinking': 4, 'dream': 4, 'brother.': 4, 'uncle': 4, 'purpose,': 4, 'commend': 4, 'native': 4, 'mouth,': 4, 'hard': 4, 'eye': 4, 'lives': 4, 'seems': 4, 'thee?': 4, 'is.': 4, 'bound': 4, 'fault': 4, 'dead,': 4, 'obey': 4, 'health': 4, 'flesh': 4, \"on't!\": 4, 'grows': 4, 'grown': 4, 'yet,': 4, 'discourse': 4, 'glad': 4, 'teach': 4, 'deep': 4, 'prithee': 4, 'mock': 4, 'forth': 4, 'methinks': 4, 'thrice': 4, 'did,': 4, 'kept': 4, 'time,': 4, 'methought': 4, 'sound': 4, \"honour'd\": 4, \"look'd\": 4, 'perchance': 4, 'assume': 4, 'hell': 4, 'silence': 4, 'tongue.': 4, 'still,': 4, 'iii.': 4, 'house': 4, 'service': 4, 'withal.': 4, 'perhaps': 4, 'beauty': 4, 'effect': 4, 'blessing': 4, 'leave.': 4, 'entertainment': 4, 'in,': 4, 'habit': 4, 'friend,': 4, 'tender': 4, 'command': 4, 'iv.': 4, 'air': 4, 'keeps': 4, 'choose': 4, 'infinite': 4, 'mean': 4, 'thou,': 4, 'puts': 4, 'desperate': 4, 'direct': 4, 'lead': 4, 'lend': 4, 'days': 4, 'tale': 4, 'start': 4, 'part,': 4, 'ears': 4, 'blood.': 4, 'didst': 4, 'natural': 4, 'court': 4, 'cursed': 4, 'holds': 4, 'instant': 4, 'body.': 4, 'crown,': 4, 'act,': 4, 'yea,': 4, 'table': 4, 'villain!': 4, 'lord-': 4, 'swear': 4, 'hither,': 4, 'said,': 4, 'welcome.': 4, 'earth,': 4, 'arms': 4, 'fingers': 4, 'touch': 4, 'mass,': 4, 'out.': 4, \"b'\": 4, 'ophelia?': 4, 'took': 4, \"turn'd\": 4, 'violent': 4, 'property': 4, 'mad.': 4, 'judgment': 4, 'hide': 4, '[with': 4, 'found': 4, 'sends': 4, 'down.': 4, 'madness,': 4, 'white': 4, 'me;': 4, 'ear.': 4, 'fain': 4, 'thence': 4, 'ten': 4, 'daughter.': 4, 'honesty': 4, 'fortune': 4, 'ambition': 4, 'nay': 4, 'world,': 4, 'laugh': 4, 'lady': 4, 'cry': 4, 'hands,': 4, 'lest': 4, \"to't\": 4, 'french': 4, 'fly': 4, 'straight.': 4, 'play,': 4, 'speaks': 4, 'pyrrhus': 4, 'sword': 4, 'more!': 4, 'not?': 4, 'i!': 4, 'passion,': 4, 'cause,': 4, \"damn'd\": 4, 'calls': 4, 'pate': 4, 'dangerous': 4, 'confess': 4, 'bestow': 4, 'heavy': 4, 'sleep': 4, 'right': 4, 'fair,': 4, 'fool': 4, 'rose': 4, 'send': 4, 'feed': 4, 'wear': 4, 'now.': 4, \"kill'd\": 4, 'kill': 4, 'half': 4, 'imports': 4, 'me!': 4, 'shortly': 4, 'pardon': 4, 'mother!': 4, 'stronger': 4, 'end.': 4, 'meet.': 4, 'done.': 4, \"lov'd\": 4, 'mark.': 4, 'mess.': 4, 'bore': 4, 'sing': 4, 'christian': 4, 'wager': 4, 'skull': 4, 'lordship': 4, 'six': 4, 'officer.': 3, 'nephew': 3, 'priest.': 3, 'ambassadors.': 3, 'denmark,': 3, 'soldiers,': 3, 'platform': 3, 'then]': 3, \"appear'd\": 3, 'touching': 3, 'sight,': 3, 'nights': 3, 'myself,': 3, 'peace!': 3, 'sometimes': 3, 'offended.': 3, 'eyes.': 3, 'before,': 3, 'gross': 3, 'state.': 3, 'sore': 3, 'image': 3, '(for': 3, \"seal'd\": 3, 'law': 3, \"return'd\": 3, 'list': 3, 'recover': 3, 'strong': 3, 'terms': 3, 'main': 3, 'chief': 3, 'sort': 3, 'eye.': 3, 'high': 3, 'stands': 3, 'prologue': 3, 'arms.': 3, 'ease,': 3, 'cock': 3, 'stay,': 3, 'throat': 3, 'herein': 3, 'up;': 3, 'to-night': 3, 'spirit,': 3, \"do't,\": 3, 'sister': 3, 'lords': 3, 'grief,': 3, 'kingdom': 3, 'wisest': 3, 'sometime': 3, 'delight': 3, 'taken': 3, 'wife;': 3, 'frame,': 3, 'importing': 3, 'hears': 3, 'giving': 3, 'have,': 3, 'favour': 3, 'return': 3, 'bend': 3, 'france': 3, 'polonius?': 3, 'slow': 3, 'cousin': 3, 'hang': 3, 'off,': 3, 'passing': 3, 'solemn': 3, 'black,': 3, 'breath,': 3, 'shapes': 3, 'understanding': 3, 'cheer': 3, 'loving': 3, 'sits': 3, 'heart;': 3, \"fix'd\": 3, 'uses': 3, 'fie': 3, 'ah,': 3, 'this!': 3, 'months': 3, 'much,': 3, 'winds': 3, 'month,': 3, 'she,': 3, 'salt': 3, 'forget': 3, 'change': 3, 'you.-': 3, 'thrift,': 3, 'marriage': 3, 'goodly': 3, 'father?': 3, 'ear,': 3, \"god's\": 3, 'gentlemen': 3, 'whilst': 3, 'fear,': 3, 'dreadful': 3, 'comes.': 3, 'none.': 3, 'up.': 3, 'countenance': 3, \"stay'd\": 3, 'to-night.': 3, 'peace.': 3, 'honour.': 3, \"men's\": 3, 'sweet,': 3, 'inward': 3, 'wide': 3, 'loves': 3, 'himself,': 3, 'safety': 3, 'chaste': 3, 'maid': 3, 'occasion': 3, 'shame!': 3, 'tongue,': 3, 'canst': 3, 'audience': 3, 'them?': 3, 'phrase,': 3, \"you'll\": 3, 'heaven.': 3, 'fire.': 3, 'mere': 3, 'pious': 3, 'obey,': 3, 'air.': 3, 'wont': 3, 'flourish': 3, 'mind,': 3, 'pith': 3, 'grace,': 3, 'censure': 3, 'often': 3, 'defend': 3, 'shape': 3, 'royal': 3, 'burst': 3, 'bones,': 3, 'making': 3, 'disposition': 3, 'do?': 3, 'desire': 3, 'waves': 3, 'tempt': 3, 'base': 3, 'gentlemen.': 3, 'lets': 3, 'follow.': 3, 'v.': 3, 'pity': 3, 'hearing': 3, 'certain': 3, 'crimes': 3, 'prison': 3, 'list,': 3, 'is;': 3, 'revenge.': 3, 'sleeping': 3, 'soul!': 3, 'wit,': 3, 'wretch': 3, 'angel': 3, 'bed': 3, 'horrible!': 3, 'adieu,': 3, 'adieu!': 3, 'heaven!': 3, 'else?': 3, 'hold,': 3, 'ghost,': 3, 'commandment': 3, '(within)': 3, 'villain': 3, 'right!': 3, 'circumstance': 3, 'desires': 3, 'words,': 3, 'saint': 3, 'faith.': 3, 'already.': 3, '[beneath]': 3, 'wondrous': 3, 'seeing': 3, 'thus,': 3, 'need': 3, 'express': 3, 'polonius': 3, 'reynaldo.': 3, 'finding': 3, 'drift': 3, \"'i\": 3, \"if't\": 3, 'breathe': 3, 'liberty,': 3, 'fiery': 3, 'thus:': 3, \"wi'\": 3, 'observe': 3, 'music.': 3, 'matter?': 3, 'piteous': 3, 'love?': 3, 'arm,': 3, 'falls': 3, 'doors': 3, 'meant': 3, 'sith': 3, 'entreat': 3, 'vouchsafe': 3, 'hope,': 3, 'sovereign': 3, 'thanks,': 3, 'attendants].': 3, 'polonius.]': 3, 'friends.': 3, 'brother': 3, 'borne': 3, 'hand,': 3, 'majesty.': 3, 'likes': 3, 'read,': 3, 'answer,': 3, 'matter,': 3, 'mad,': 3, 'foolish': 3, 'then.': 3, 'rather': 3, 'her?': 3, 'awhile.': 3, \"hamlet.'\": 3, \"receiv'd\": 3, \"play'd\": 3, 'prince,': 3, 'short': 3, 'presently.': 3, 'honest,': 3, \"to't.\": 3, 'yourself,': 3, 'anything': 3, 'except': 3, 'sir!': 3, 'indifferent': 3, 'happy': 3, 'parts': 3, \"denmark's\": 3, 'count': 3, 'quality': 3, 'justly': 3, 'confession': 3, 'no.': 3, 'golden': 3, 'woman': 3, 'service.': 3, 'longer': 3, 'wrong': 3, 'carry': 3, 'yours.': 3, 'judge': 3, 'hadst': 3, \"'twas\": 3, 'modesty': 3, 'memory,': 3, 'finds': 3, \"pyrrhus'\": 3, 'anon': 3, 'new': 3, 'proof': 3, 'seen,': 3, 'treason': 3, 'sport': 3, 'hear?': 3, 'to-morrow': 3, \"in't,\": 3, 'slave': 3, 'conceit': 3, 'visage': 3, 'ears.': 3, 'ass': 3, 'cunning': 3, 'too;': 3, 'suffers': 3, 'wish': 3, 'word.': 3, 'suffer': 3, 'sleep.': 3, 'thought,': 3, 'soft': 3, 'now!': 3, 'again;': 3, 'imagination': 3, 'fellows': 3, 'heavens!': 3, 'another.': 3, 'quite': 3, 'madness.': 3, 'speed': 3, 'haply': 3, 'fit,': 3, 'warrant': 3, 'special': 3, 'others.': 3, 'quantity': 3, 'election': 3, 'guilt': 3, 'pay': 3, 'die': 3, 'year.': 3, 'up,': 3, 'leaves': 3, 'thirty': 3, 'bed.': 3, 'fortune,': 3, 'hence': 3, 'begin,': 3, 'weeds': 3, 'himself;': 3, 'cannot.': 3, 'heels': 3, 'pluck': 3, 'bless': 3, 'prepare': 3, 'bodies': 3, 'whereto': 3, \"do't.\": 3, 'kills': 3, 'sense.': 3, 'mountain': 3, 'charge,': 3, 'vice': 3, 'next': 3, 'alack,': 3, 'sponge,': 3, 'england.': 3, 'england,': 3, 'fortinbras.': 3, 'maid,': 3, '[sings]': 3, 'gertrude.': 3, 'becomes': 3, 'patience': 3, 'heard,': 3, 'sight': 3, 'burial.': 3, 'argal,': 3, 'gallows': 3, 'a-': 3, 'skull.]': 3, 'knave': 3, 'dust': 3, 'commission;': 3, 'hamlet]': 3, 'carriages,': 3, 'foils': 3, 'dies.': 3, 'prince': 2, 'claudius,': 2, 'cornelius,': 2, 'gentleman,': 2, 'bernardo,': 2, 'francisco,': 2, 'soldier': 2, 'reynaldo,': 2, 'servant': 2, 'clowns,': 2, 'english': 2, 'lords,': 2, 'sailors,': 2, 'messengers,': 2, 'attendants.': 2, '[who': 2, 'him].': 2, 'unfold': 2, 'king!': 2, 'he.': 2, 'twelve.': 2, 'bed,': 2, 'thanks.': 2, 'bitter': 2, 'cold,': 2, 'haste.': 2, 'stand,': 2, 'there?': 2, 'bernardo': 2, 'place.': 2, 'say-': 2, '?': 2, 'to-night?': 2, 'apparition': 2, 'approve': 2, 'tush,': 2, 'ears,': 2, 'seen.': 2, 'pole': 2, 'burns,': 2, 'bell': 2, 'beating': 2, 'one-': 2, 'spoke': 2, 'to.': 2, 'answer.': 2, 'horatio?': 2, 'tremble': 2, 'pale.': 2, \"on't?\": 2, 'thyself.': 2, 'armour': 2, 'ambitious': 2, 'norway': 2, 'strange.': 2, 'jump': 2, 'hour,': 2, 'not;': 2, 'scope': 2, 'knows,': 2, 'strict': 2, 'subject': 2, 'divide': 2, 'day?': 2, 'inform': 2, 'whisper': 2, 'valiant': 2, 'fortinbras;': 2, 'king;': 2, 'as,': 2, 'full,': 2, 'lawless': 2, 'appear': 2, 'lost;': 2, 'source': 2, 'figure': 2, 'armed': 2, 'trouble': 2, \"mind's\": 2, 'julius': 2, 'graves': 2, 'roman': 2, 'stars': 2, \"neptune's\": 2, 'empire': 2, 'doomsday': 2, 'fates': 2, 'lo,': 2, 'blast': 2, 'sound,': 2, 'happily': 2, 'here!': 2, 'gone!': 2, 'wrong,': 2, 'offer': 2, 'violence;': 2, 'blows': 2, 'malicious': 2, 'cock,': 2, 'morn,': 2, 'takes,': 2, 'walks': 2, 'dew': 2, 'hamlet;': 2, 'consent': 2, 'loves,': 2, 'attendant.': 2, 'woe,': 2, 'discretion': 2, 'remembrance': 2, 'ourselves.': 2, 'joy,': 2, 'marriage,': 2, 'equal': 2, 'scale': 2, 'freely': 2, 'affair': 2, 'weak': 2, 'worth,': 2, 'ourself': 2, 'scarcely': 2, \"nephew's\": 2, 'suppress': 2, 'gait': 2, 'bearers': 2, '[gives': 2, 'paper.]': 2, 'duty.': 2, 'volt.': 2, 'cornelius.': 2, 'voice.': 2, 'france;': 2, 'willingly': 2, 'bow': 2, 'leave?': 2, 'hath,': 2, 'thine,': 2, 'will!': 2, 'clouds': 2, 'sun.': 2, 'colour': 2, \"know'st\": 2, 'common.': 2, 'die,': 2, 'suits': 2, \"forc'd\": 2, 'visage,': 2, 'forms,': 2, 'actions': 2, 'play;': 2, 'lost,': 2, 'obligation': 2, 'term': 2, 'grief;': 2, 'sense,': 2, 'opposition': 2, 'fie!': 2, 'theme': 2, 'fathers,': 2, 'corse': 2, 'died': 2, \"'this\": 2, 'immediate': 2, 'dearest': 2, 'bears': 2, 'going': 2, 'wittenberg,': 2, 'remain': 2, 'courtier,': 2, 'son.': 2, 'prayers,': 2, 'reply.': 2, 'smiling': 2, 'drinks': 2, 'world!': 2, 'garden': 2, 'dead!': 2, 'two.': 2, 'earth!': 2, 'fed': 2, 'on;': 2, 'followed': 2, '(o': 2, 'beast': 2, 'wants': 2, 'married': 2, 'brother,': 2, 'left': 2, 'incestuous': 2, 'myself.': 2, 'ever.': 2, 'even,': 2, 'violence': 2, 'elsinore?': 2, 'funeral': 2, \"bak'd\": 2, 'coldly': 2, 'where,': 2, 'who?': 2, 'witness': 2, 'middle': 2, 'march': 2, 'secrecy': 2, 'third': 2, 'thing,': 2, 'good,': 2, 'motion,': 2, 'speak;': 2, 'true;': 2, 'sirs.': 2, \"arm'd,\": 2, 'face?': 2, 'like,': 2, 'long?': 2, 'no?': 2, 'sable': 2, 'hitherto': 2, 'still;': 2, 'to-night,': 2, 'requite': 2, 'loves.': 2, \"'twixt\": 2, '[all': 2, 'arms?': 2, 'sleep,': 2, 'fashion,': 2, 'toy': 2, 'perfume': 2, 'soil': 2, \"weigh'd,\": 2, 'depends': 2, 'fits': 2, 'weigh': 2, 'open': 2, 'affection,': 2, 'danger': 2, 'prodigal': 2, 'moon.': 2, 'canker': 2, 'galls': 2, 'spring': 2, \"disclos'd,\": 2, 'wary': 2, 'then;': 2, 'fear.': 2, 'long.': 2, 'aboard,': 2, 'shoulder': 2, 'sail,': 2, 'there-': 2, 'thee!': 2, 'few': 2, 'character.': 2, 'act.': 2, 'grapple': 2, 'palm': 2, 'beware': 2, 'purse': 2, 'proclaims': 2, 'station': 2, 'generous,': 2, 'be;': 2, 'edge': 2, 'above': 2, 'all-': 2, 'true,': 2, 'follow,': 2, 'tenders': 2, 'you!': 2, 'baby': 2, \"ta'en\": 2, '(not': 2, 'honourable': 2, 'to,': 2, 'to!': 2, 'holy': 2, 'vows': 2, 'catch': 2, 'daughter,': 2, 'heat,': 2, 'maiden': 2, 'show,': 2, 'breathing': 2, 'terms,': 2, 'moment': 2, 'leisure': 2, 'talk': 2, 'ways.': 2, 'eager': 2, 'struck.': 2, 'draws': 2, 'held': 2, 'rhenish': 2, 'chances': 2, 'guilty,': 2, 'reason,': 2, 'stamp': 2, 'defect,': 2, \"nature's\": 2, 'livery,': 2, 'virtues': 2, 'pure': 2, 'substance': 2, 'angels': 2, 'steel,': 2, 'moon,': 2, 'horridly': 2, 'shake': 2, 'beyond': 2, 'beckons': 2, 'alone.': 2, 'summit': 2, 'sea,': 2, 'brain': 2, 'petty': 2, 'after.': 2, 'issue': 2, 'rotten': 2, 'flames': 2, 'revenge,': 2, 'what?': 2, 'fast': 2, 'forbid': 2, 'stars,': 2, 'eternal': 2, 'love-': 2, 'unnatural': 2, 'murther.': 2, 'foul,': 2, 'swift': 2, 'sweep': 2, 'shouldst': 2, 'orchard,': 2, 'serpent': 2, 'youth,': 2, 'sting': 2, 'wears': 2, 'incestuous,': 2, 'beast,': 2, 'witchcraft': 2, 'wit': 2, 'vow': 2, 'gifts': 2, 'virtue,': 2, 'sate': 2, 'brief': 2, 'secure': 2, 'thin': 2, 'about,': 2, 'smooth': 2, 'cut': 2, 'couch': 2, 'contrive': 2, 'aught.': 2, 'bosom': 2, 'distracted': 2, 'wipe': 2, 'brain,': 2, 'baser': 2, 'villain,': 2, 'smile,': 2, 'are.': 2, 'arrant': 2, 'knave.': 2, 'desire,': 2, 'pray.': 2, 'wild': 2, 'sorry': 2, 'may.': 2, 'stage.': 2, 'on!': 2, 'oath,': 2, 'fast?': 2, 'never,': 2, 'odd': 2, 'could,': 2, 'me-': 2, 'mercy': 2, 'rest,': 2, 'willing,': 2, 'together.': 2, 'money': 2, 'said.': 2, 'keep,': 2, 'nearer': 2, 'demands': 2, \"'twere,\": 2, 'please;': 2, 'dishonour': 2, 'heed': 2, 'wild,': 2, 'gaming,': 2, 'swearing,': 2, 'faults': 2, 'wherefore': 2, 'fetch': 2, 'laying': 2, 'working,': 2, 'having': 2, 'closes': 2, \"'good\": 2, 'according': 2, 'this-': 2, 'say?': 2, \"'closes\": 2, \"so,'\": 2, 'former': 2, 'advice,': 2, 'ye': 2, 'inclination': 2, 'farewell!': 2, 'head,': 2, 'he?': 2, 'length': 2, 'last,': 2, 'sigh': 2, 'profound': 2, \"seem'd\": 2, 'ecstasy': 2, 'command,': 2, 'proper': 2, 'discretion.': 2, 'was.': 2, 'of.': 2, 'gather': 2, \"talk'd\": 2, 'living': 2, 'awhile': 2, 'profit': 2, 'visitation': 2, 'thanks': 2, 'remembrance.': 2, 'majesties': 2, 'might,': 2, 'rosencrantz.': 2, 'son.-': 2, 'heavens': 2, 'presence': 2, 'ambassadors': 2, 'liege,': 2, 'trail': 2, 'fruit': 2, 'first,': 2, 'brief,': 2, 'fine,': 2, 'assay': 2, 'commission': 2, 'allowance': 2, 'business.': 2, 'feast': 2, 'outward': 2, 'mad?': 2, 'art.': 2, 'true.': 2, 'remains': 2, 'thus.': 2, 'obedience,': 2, '[reads.]': 2, 'these,': 2, 'fire;': 2, 'best,': 2, 'place,': 2, 'faithful': 2, 'prove': 2, 'book,': 2, 'idle': 2, 'sight?': 2, 'mistress': 2, 'lock': 2, 'admit': 2, 'make,': 2, \"prov'd\": 2, 'know.': 2, 'lobby.': 2, \"fall'n\": 2, 'farm': 2, 'away,': 2, 'fishmonger.': 2, 'first.': 2, 'rogue': 2, 'purging': 2, 'thick': 2, 'down;': 2, 'if,': 2, 'grave?': 2, 'pregnant': 2, 'tedious': 2, 'polonius]': 2, '[polonius].': 2, 'friends!': 2, 'cap': 2, 'neither,': 2, 'secret': 2, 'true!': 2, \"world's\": 2, 'hither?': 2, 'prison.': 2, 'one;': 2, 'dreams': 2, 'shadow.': 2, 'wait': 2, 'matter!': 2, 'beggar': 2, 'thanks;': 2, 'sure,': 2, 'for?': 2, 'purpose.': 2, 'looks,': 2, 'end,': 2, 'rights': 2, 'guildenstern]': 2, 'brave': 2, 'pestilent': 2, 'apprehension': 2, 'delights': 2, 'stuff': 2, 'thoughts.': 2, 'hither': 2, 'freely,': 2, 'wonted': 2, 'rapiers': 2, 'scarce': 2, \"'em?\": 2, 'pursue': 2, 'nation': 2, 'argument': 2, 'unless': 2, 'player': 2, 'question.': 2, 'possible?': 2, 'hercules': 2, 'ducats': 2, 'little.': 2, \"'sblood,\": 2, 'comply': 2, 'gentlemen!': 2, 'them;': 2, 'prophesy': 2, 'right,': 2, 'actor': 2, 'actors': 2, 'tragedy,': 2, 'comedy,': 2, 'jephthah,': 2, 'loved': 2, 'follows': 2, 'more;': 2, 'five': 2, 'all.-': 2, 'friend?': 2, \"by'r\": 2, 'passionate': 2, 'speech.': 2, \"pleas'd\": 2, 'judgments': 2, 'cried': 2, 'lines': 2, 'author': 2, \"in't\": 2, 'rugged': 2, 'pyrrhus,': 2, 'priam': 2, 'accent': 2, 'antique': 2, 'rebellious': 2, 'falls,': 2, 'rage': 2, 'falls.': 2, 'senseless': 2, 'flaming': 2, 'base,': 2, 'painted': 2, 'stood,': 2, 'heavens,': 2, 'bold': 2, 'below': 2, 'death-': 2, 'sets': 2, 'spokes': 2, 'wheel,': 2, 'sleeps.': 2, 'mobled': 2, 'diadem': 2, 'caught': 2, \"husband's\": 2, 'burning': 2, 'epitaph': 2, 'scape': 2, 'merit': 2, 'dozen': 2, 'peasant': 2, 'force': 2, 'nothing!': 2, 'weep': 2, 'have?': 2, 'stage': 2, 'horrid': 2, 'free,': 2, 'confound': 2, 'defeat': 2, 'plucks': 2, 'ha?': 2, \"'swounds,\": 2, 'gall': 2, 'presently': 2, 'organ,': 2, 'uncle.': 2, 'looks;': 2, 'potent': 2, 'well?': 2, 'question,': 2, 'way.': 2, 'already': 2, 'order': 2, 'content': 2, 'drive': 2, 'frankly': 2, 'affliction': 2, 'read': 2, 'exercise': 2, 'coming.': 2, 'die-': 2, 'sleep-': 2, 'pause.': 2, 'respect': 2, 'whips': 2, 'proud': 2, 'spurns': 2, 'patient': 2, 'unworthy': 2, 'sweat': 2, 'others': 2, 'currents': 2, 'yours': 2, 'wax': 2, 'ha!': 2, 'sooner': 2, 'proof.': 2, 'relish': 2, 'heaven?': 2, 'all;': 2, 'nunnery.': 2, \"where's\": 2, 'snow,': 2, 'escape': 2, 'marry': 2, 'nunnery,': 2, 'heavenly': 2, 'face,': 2, 'creatures': 2, 'glass': 2, 'wretched,': 2, \"suck'd\": 2, 'music': 2, 'vows,': 2, 'tune': 2, 'demand': 2, 'neglected': 2, 'variable': 2, 'expel': 2, 'brains': 2, \"plac'd\": 2, 'ones': 2, 'hall': 2, 'mouth': 2, 'tear': 2, 'avoid': 2, 'player.': 2, 'suit': 2, 'word,': 2, 'playing,': 2, 'nature;': 2, 'tardy': 2, 'laugh,': 2, 'men,': 2, 'necessary': 2, 'ready.': 2, 'just': 2, 'prithee,': 2, 'join': 2, 'trumpets': 2, 'guard': 2, 'fares': 2, 'mine.': 2, 'capital': 2, 'lap?': 2, 'nothing,': 2, 'cheerfully': 2, 'kisses': 2, 'pours': 2, 'poisoner': 2, 'harsh': 2, 'belike': 2, 'fellow.': 2, '[exit.]': 2, 'wash': 2, 'ground,': 2, 'twelve': 2, 'know;': 2, 'great,': 2, 'fears': 2, 'powers': 2, 'do.': 2, 'rest!': 2, 'accident.': 2, 'fortunes': 2, 'tend,': 2, 'want': 2, 'directly': 2, 'enemy.': 2, 'ours,': 2, 'own.': 2, 'trust': 2, 'mischance': 2, 'play?': 2, \"she'll\": 2, \"in't?\": 2, 'no!': 2, 'jest,': 2, 'world.': 2, 'wife,': 2, 'knavish': 2, 'work;': 2, 'majesty,': 2, 'souls,': 2, 'cost': 2, 'creature': 2, 'rank,': 2, \"for's\": 2, 'estate.': 2, 'murtherer': 2, 'lights,': 2, 'runs': 2, 'jove': 2, 'music!': 2, 'recorders!': 2, 'choler.': 2, 'richer': 2, 'signify': 2, 'wildly': 2, 'affair.': 2, 'tame,': 2, 'command;': 2, 'rather,': 2, 'amazement': 2, 'closet': 2, 'trade': 2, 'door': 2, 'deny': 2, 'denmark?': 2, 'you-': 2, 'pipe?': 2, 'instrument': 2, 'yonder': 2, 'weasel.': 2, 'whale.': 2, 'by-and-by.': 2, 'hamlet.]': 2, 'cruel,': 2, 'daggers': 2, 'safe': 2, 'single': 2, 'dies': 2, 'sigh,': 2, 'closet.': 2, 'heaven;': 2, 'murther!': 2, 'serves': 2, 'offence?': 2, 'prayer': 2, 'fall,': 2, \"pardon'd\": 2, 'serve': 2, 'forehead': 2, 'wretched': 2, 'revenge!': 2, 'broad': 2, 'knows': 2, 'pleasure': 2, 'bed;': 2, 'sickly': 2, 'home': 2, 'with,': 2, 'forgot': 2, 'so!': 2, '[behind]': 2, 'and]': 2, 'done?': 2, 'sees': 2, 'rash,': 2, 'fortune.': 2, 'rude': 2, 'there;': 2, 'ay': 2, 'loud': 2, 'assurance': 2, 'step': 2, \"ne'er\": 2, \"was't\": 2, 'feeling': 2, 'proclaim': 2, 'corruption,': 2, 'precedent': 2, 'precious': 2, 'stole': 2, 'fighting': 2, 'lady?': 2, 'soldiers': 2, 'flame': 2, 'convert': 2, 'unction': 2, 'spread': 2, 'scourge': 2, 'worse': 2, 'wanton': 2, 'pair': 2, 'neck': 2, 'basket': 2, 'ape,': 2, 'england;': 2, 'blow': 2, 'guts': 2, 'providence': 2, 'skill': 2, 'guildenstern!': 2, 'chapel.': 2, 'level': 2, 'hit': 2, 'passage': 2, 'dry': 2, 'sleeps': 2, 'eyes;': 2, 'without,': 2, 'pleasure.': 2, 'where?': 2, 'worm': 2, 'table.': 2, 'fish': 2, 'thither': 2, 'messenger': 2, 'attendants.]': 2, 'everything': 2, 'england?': 2, 'england!': 2, 'awe': 2, 'effect,': 2, 'army': 2, \"promis'd\": 2, 'kingdom.': 2, 'poland,': 2, 'gain': 2, 'patch': 2, 'ground': 2, 'yield': 2, 'polack': 2, 'twenty': 2, 'delicate': 2, 'trick': 2, 'fame': 2, 'fight': 2, 'continent': 2, 'gent.': 2, 'amiss.': 2, 'ophelia': 2, 'true-love': 2, 'larded': 2, 'pretty': 2, 'ophelia!': 2, \"do't\": 2, 'blame.': 2, 'thus?': 2, 'cold': 2, 'ladies.': 2, 'horatio.]': 2, 'slain;': 2, 'next,': 2, 'wonder,': 2, 'clouds,': 2, 'stick': 2, 'person': 2, 'give,': 2, 'within.': 2, 'door.': 2, 'messenger.': 2, \"king!'\": 2, 'tongues': 2, 'calm': 2, 'divinity': 2, 'would,': 2, \"incens'd.\": 2, 'possible': 2, 'wits': 2, 'nony,': 2, 'remember.': 2, 'rue': 2, 'again?': 2, 'dead;': 2, 'right.': 2, 'attendant.]': 2, 'sailor.': 2, 'got': 2, 'repair': 2, 'letters,': 2, 'knowing': 2, 'reasons,': 2, \"she's\": 2, 'moves': 2, \"desp'rate\": 2, 'flat': 2, 'undertake': 2, 'practice': 2, 'envy': 2, \"in't.\": 2, 'horse': 2, 'rapier': 2, 'begun': 2, 'hurts': 2, 'excellence': 2, 'heads.': 2, 'queen?': 2, \"drown'd,\": 2, 'liberal': 2, \"drown'd\": 2, 'dig': 2, 'builds': 2, 'mason,': 2, 'shipwright,': 2, 'carpenter?': 2, 'afar': 2, \"prais'd\": 2, 'spade,': 2, 'pit': 2, 'clay': 2, 'guest': 2, 'fines,': 2, 'mine,': 2, 'liest': 2, 'lie,': 2, 'absolute': 2, 'is!': 2, 'years.': 2, 'nine': 2, 'skull,': 2, 'trace': 2, 'consider': 2, 'earth;': 2, 'ceremony': 2, 'thrown': 2, 'grave.': 2, 'treble': 2, '[the': 2, 'attendants': 2, 'plots': 2, 'peace': 2, 'less,': 2, 'quit': 2, 'here?': 2, 'horatio]': 2, 'spirit.': 2, \"all's\": 2, 'barbary': 2, \"impon'd,\": 2, 'assigns,': 2, 'sides.': 2, 'hall.': 2, 'win': 2, 'odds.': 2, 'wine': 2, 'embrace': 2, 'osric.': 2, 'hit,': 2, 'ordnance': 2, 'union': 2, 'hit.': 2, 'drink.': 2, 'cup.': 2, 'late.': 2, '[laertes': 2, 'wounds': 2, 'drink!': 2, \"poison'd.\": 2, 'treason!': 2, '[march': 2, 'within.]': 2, 'tragedy': 1, 'william': 1, 'shakespeare': 1, 'dramatis': 1, 'personae': 1, 'former,': 1, 'chamberlain.': 1, 'gravediggers.': 1, 'norway.': 1, 'norwegian': 1, 'captain.': 1, 'getrude,': 1, 'ladies,': 1, 'officers,': 1, 'scene.-': 1, 'sentinels-[first,]': 1, 'paces': 1, 'post;': 1, 'approaches': 1, \"who's\": 1, 'there.?': 1, 'bernardo?': 1, 'carefully': 1, 'hour.': 1, 'francisco.': 1, 'relief': 1, 'guard?': 1, 'mouse': 1, 'stirring.': 1, 'rivals': 1, 'liegemen': 1, 'soldier.': 1, \"reliev'd\": 1, 'holla,': 1, 'bernardo!': 1, 'fantasy,': 1, 'belief': 1, 'dreaded': 1, 'entreated': 1, 'along,': 1, 'minutes': 1, 'appear.': 1, 'assail': 1, 'fortified': 1, 'story,': 1, 'yond': 1, 'westward': 1, 'illume': 1, 'marcellus': 1, 'off!': 1, 'figure,': 1, 'scholar;': 1, 'harrows': 1, 'wonder.': 1, \"usurp'st\": 1, 'march?': 1, 'stalks': 1, 'stay!': 1, 'fantasy?': 1, 'sensible': 1, 'avouch': 1, 'combated.': 1, \"frown'd\": 1, 'when,': 1, 'angry': 1, 'parle,': 1, 'smote': 1, 'sledded': 1, 'polacks': 1, 'ice.': 1, 'martial': 1, 'stalk': 1, 'watch.': 1, 'opinion,': 1, 'bodes': 1, 'eruption': 1, 'observant': 1, 'nightly': 1, 'toils': 1, 'daily': 1, 'brazen': 1, 'foreign': 1, 'mart': 1, 'implements': 1, 'war;': 1, 'impress': 1, 'shipwrights,': 1, 'task': 1, 'sunday': 1, 'week.': 1, 'toward,': 1, 'sweaty': 1, 'joint-labourer': 1, 'least,': 1, 'thereto': 1, \"prick'd\": 1, 'emulate': 1, 'pride,': 1, \"dar'd\": 1, 'combat;': 1, 'side': 1, \"esteem'd\": 1, 'him)': 1, 'slay': 1, 'compact,': 1, 'ratified': 1, 'heraldry,': 1, 'forfeit,': 1, \"seiz'd\": 1, 'of,': 1, 'conqueror;': 1, 'moiety': 1, 'competent': 1, 'gaged': 1, 'inheritance': 1, 'vanquisher,': 1, 'comart': 1, 'carriage': 1, 'article': 1, \"design'd,\": 1, 'unimproved': 1, 'mettle': 1, 'skirts': 1, \"shark'd\": 1, 'resolutes,': 1, 'food': 1, 'diet,': 1, 'enterprise': 1, 'stomach': 1, \"in't;\": 1, 'compulsatory,': 1, 'foresaid': 1, 'preparations,': 1, 'post-haste': 1, 'romage': 1, 'land.': 1, 'portentous': 1, 'wars.': 1, 'mote': 1, 'palmy': 1, 'rome,': 1, 'mightiest': 1, 'fell,': 1, 'tenantless,': 1, 'sheeted': 1, 'squeak': 1, 'gibber': 1, 'streets;': 1, 'trains': 1, 'dews': 1, 'disasters': 1, 'sun;': 1, 'moist': 1, 'influence': 1, 'eclipse.': 1, 'precurse': 1, 'fierce': 1, 'events,': 1, 'harbingers': 1, 'preceding': 1, 'omen': 1, 'demonstrated': 1, 'climature': 1, 'countrymen.': 1, 'behold!': 1, 'cross': 1, 'me.-': 1, 'illusion!': 1, 'spreads': 1, 'race': 1, 'privy': 1, \"country's\": 1, 'fate,': 1, 'foreknowing': 1, 'avoid,': 1, 'uphoarded': 1, 'extorted': 1, 'womb': 1, 'death),': 1, 'crows.': 1, 'speak!-': 1, 'marcellus!': 1, 'strike': 1, 'partisan?': 1, 'stand.': 1, 'majestical,': 1, 'invulnerable,': 1, 'vain': 1, 'mockery.': 1, 'crew.': 1, 'started,': 1, 'fearful': 1, 'summons.': 1, 'lofty': 1, 'shrill-sounding': 1, 'awake': 1, 'day;': 1, 'warning,': 1, 'extravagant': 1, 'erring': 1, 'hies': 1, 'confine;': 1, 'object': 1, 'probation.': 1, 'faded': 1, 'crowing': 1, 'cock.': 1, 'ever,': 1, \"saviour's\": 1, 'birth': 1, 'celebrated,': 1, 'bird': 1, 'dawning': 1, 'singeth': 1, 'long;': 1, 'abroad,': 1, 'wholesome,': 1, 'planets': 1, 'strike,': 1, 'fairy': 1, 'witch': 1, 'charm,': 1, \"hallow'd\": 1, 'russet': 1, 'mantle': 1, 'clad,': 1, 'yon': 1, 'eastward': 1, 'hill.': 1, 'advice': 1, 'acquaint': 1, 'needful': 1, 'fitting': 1, 'duty?': 1, 'pray;': 1, 'conveniently.': 1, 'gertrude': 1, '[voltemand,': 1, 'cornelius,]': 1, 'green,': 1, 'befitted': 1, 'hearts': 1, 'contracted': 1, 'brow': 1, 'fought': 1, 'imperial': 1, 'jointress': 1, 'we,': 1, 'defeated': 1, 'auspicious,': 1, 'dropping': 1, 'mirth': 1, 'funeral,': 1, 'dirge': 1, 'weighing': 1, 'dole,': 1, \"barr'd\": 1, 'wisdoms,': 1, 'along.': 1, 'follows,': 1, 'holding': 1, 'supposal': 1, 'disjoint': 1, 'colleagued': 1, 'advantage,': 1, \"fail'd\": 1, 'pester': 1, 'message': 1, 'surrender': 1, 'bands': 1, 'law,': 1, 'meeting.': 1, 'is:': 1, 'impotent': 1, 'bedrid,': 1, 'herein,': 1, 'levies,': 1, 'lists,': 1, 'proportions': 1, 'subject;': 1, 'dispatch': 1, 'greeting': 1, 'personal': 1, 'dilated': 1, 'articles': 1, 'allow.': 1, 'cor.,': 1, 'things,': 1, 'heartily': 1, 'voltemand': 1, 'suit.': 1, 'dane': 1, 'beg,': 1, 'offer,': 1, 'asking?': 1, 'instrumental': 1, 'throne': 1, 'whence': 1, 'coronation,': 1, 'confess,': 1, 'wishes': 1, 'pardon.': 1, 'wrung': 1, 'laboursome': 1, 'petition,': 1, 'consent.': 1, 'graces': 1, 'spend': 1, 'son-': 1, 'kin,': 1, 'kind!': 1, 'nighted': 1, 'vailed': 1, 'lids': 1, 'dust.': 1, 'eternity.': 1, 'seems,': 1, \"'seems.'\": 1, 'inky': 1, 'cloak,': 1, 'customary': 1, 'windy': 1, 'suspiration': 1, 'fruitful': 1, 'river': 1, 'dejected': 1, 'havior': 1, 'moods,': 1, \"'that\": 1, 'denote': 1, 'truly.': 1, 'seem,': 1, 'passeth': 1, 'show-': 1, 'trappings': 1, 'woe.': 1, 'commendable': 1, 'mourning': 1, 'duties': 1, 'his,': 1, 'survivor': 1, 'filial': 1, 'obsequious': 1, 'sorrow.': 1, 'persever': 1, 'obstinate': 1, 'condolement': 1, 'impious': 1, 'stubbornness.': 1, 'unmanly': 1, 'incorrect': 1, 'unfortified,': 1, 'impatient,': 1, 'simple': 1, \"unschool'd;\": 1, 'vulgar': 1, 'peevish': 1, 'heart?': 1, 'absurd,': 1, 'cried,': 1, 'to-day,': 1, \"so.'\": 1, 'unprevailing': 1, 'throne,': 1, 'nobility': 1, 'intent': 1, 'school': 1, 'retrograde': 1, 'desire;': 1, 'comfort': 1, 'chiefest': 1, 'cousin,': 1, 'wittenberg.': 1, 'madam.': 1, \"unforc'd\": 1, 'accord': 1, 'whereof,': 1, 'jocund': 1, 'to-day': 1, 'tell,': 1, 'rouse': 1, 'bruit': 1, 'respeaking': 1, 'earthly': 1, 'thunder.': 1, 'solid': 1, 'melt,': 1, 'thaw,': 1, 'resolve': 1, 'dew!': 1, 'everlasting': 1, 'canon': 1, 'self-slaughter!': 1, 'weary,': 1, 'stale,': 1, 'flat,': 1, 'unprofitable': 1, 'unweeded': 1, 'seed;': 1, 'possess': 1, 'merely.': 1, 'hyperion': 1, 'satyr;': 1, 'beteem': 1, 'roughly.': 1, 'remember?': 1, 'increase': 1, 'appetite': 1, 'month-': 1, 'frailty,': 1, 'woman!-': 1, 'shoes': 1, 'niobe,': 1, 'tears-': 1, \"mourn'd\": 1, 'longer)': 1, 'uncle;': 1, 'hercules.': 1, 'unrighteous': 1, 'flushing': 1, 'galled': 1, 'married.': 1, 'speed,': 1, 'post': 1, 'dexterity': 1, 'sheets!': 1, 'tongue!': 1, 'bernardo.': 1, 'hail': 1, 'lordship!': 1, 'horatio!-': 1, 'same,': 1, 'friend-': 1, 'marcellus?': 1, 'bernardo]': 1, 'sir.-': 1, 'wittenberg?': 1, 'truant': 1, 'disposition,': 1, 'enemy': 1, 'truster': 1, 'truant.': 1, 'depart.': 1, 'funeral.': 1, 'student.': 1, 'wedding.': 1, 'upon.': 1, 'meats': 1, 'furnish': 1, 'tables.': 1, 'met': 1, 'foe': 1, 'father-': 1, 'yesternight.': 1, 'saw?': 1, 'admiration': 1, 'attent': 1, 'deliver': 1, 'marvel': 1, 'hear!': 1, '(marcellus': 1, 'bernardo)': 1, 'vast': 1, \"encount'red.\": 1, 'exactly,': 1, 'cap-a-pe,': 1, 'appears': 1, 'stately': 1, \"walk'd\": 1, \"oppress'd\": 1, 'fear-surprised': 1, \"truncheon's\": 1, 'length;': 1, \"distill'd\": 1, 'jelly': 1, 'watch;': 1, \"deliver'd,\": 1, \"watch'd.\": 1, 'did;': 1, 'lifted': 1, 'address': 1, 'crew': 1, 'loud,': 1, 'shrunk': 1, \"vanish'd\": 1, 'sight.': 1, 'live,': 1, 'troubles': 1, '[mar.': 1, 'ber.]': 1, 'toe?': 1, 'foot.': 1, 'wore': 1, 'beaver': 1, 'frowningly.': 1, 'anger.': 1, 'red?': 1, 'constantly.': 1, \"amaz'd\": 1, 'moderate': 1, 'hundred.': 1, 'longer,': 1, 'longer.': 1, \"saw't.\": 1, 'grizzled-': 1, \"silver'd.\": 1, \"warr'nt\": 1, 'person,': 1, 'gape': 1, \"conceal'd\": 1, 'tenable': 1, 'whatsoever': 1, 'hap': 1, 'platform,': 1, 'eleven': 1, 'twelve,': 1, 'hamlet].': 1, 'spirit-': 1, 'soul.': 1, 'deeds': 1, 'rise,': 1, \"o'erwhelm\": 1, 'necessaries': 1, \"embark'd.\": 1, 'benefit': 1, 'convoy': 1, 'assistant,': 1, 'trifling': 1, 'favour,': 1, 'blood;': 1, 'violet': 1, 'primy': 1, 'forward,': 1, 'permanent-': 1, 'lasting;': 1, 'suppliance': 1, 'minute;': 1, 'crescent': 1, 'thews': 1, 'bulk;': 1, 'temple': 1, 'waxes,': 1, 'cautel': 1, 'besmirch': 1, 'will;': 1, 'greatness': 1, 'own;': 1, 'birth.': 1, 'unvalued': 1, 'persons': 1, 'carve': 1, \"circumscrib'd\": 1, 'yielding': 1, 'whereof': 1, 'saying': 1, 'deed;': 1, 'loss': 1, 'sustain': 1, 'credent': 1, 'songs,': 1, \"unmast'red\": 1, 'importunity.': 1, 'rear': 1, 'desire.': 1, 'chariest': 1, 'unmask': 1, 'scopes': 1, 'calumnious': 1, 'strokes.': 1, 'infants': 1, 'buttons': 1, 'morn': 1, 'liquid': 1, 'contagious': 1, 'blastments': 1, 'imminent.': 1, 'rebels,': 1, 'near.': 1, 'lesson': 1, 'watchman': 1, 'ungracious': 1, 'pastors': 1, 'steep': 1, 'thorny': 1, 'whiles,': 1, \"puff'd\": 1, 'reckless': 1, 'libertine,': 1, 'primrose': 1, 'path': 1, 'dalliance': 1, 'treads': 1, 'recks': 1, 'rede.': 1, 'not!': 1, 'grace;': 1, 'smiles': 1, 'precepts': 1, \"unproportion'd\": 1, 'familiar,': 1, 'vulgar:': 1, 'hast,': 1, 'adoption': 1, 'tried,': 1, 'hoops': 1, 'steel;': 1, \"new-hatch'd,\": 1, \"unfledg'd\": 1, 'comrade.': 1, 'entrance': 1, 'quarrel;': 1, \"bear't\": 1, 'opposed': 1, 'voice;': 1, 'censure,': 1, 'reserve': 1, 'judgment.': 1, 'costly': 1, 'buy,': 1, \"express'd\": 1, 'fancy;': 1, 'rich,': 1, 'gaudy;': 1, 'apparel': 1, 'select': 1, 'borrower': 1, 'lender': 1, 'loan': 1, 'loses': 1, 'borrowing': 1, 'dulls': 1, 'husbandry.': 1, 'self': 1, 'leave,': 1, 'invites': 1, 'servants': 1, 'tend.': 1, \"lock'd,\": 1, 'key': 1, 'bethought!': 1, 'private': 1, 'bounteous.': 1, 'so-': 1, 'caution-': 1, 'clearly': 1, 'behooves': 1, 'truth.': 1, 'affection': 1, 'affection?': 1, 'pooh!': 1, 'green': 1, 'girl,': 1, 'unsifted': 1, 'perilous': 1, 'circumstance.': 1, 'tenders,': 1, 'pay,': 1, 'sterling.': 1, 'dearly,': 1, 'crack': 1, 'running': 1, 'thus)': 1, 'fool.': 1, \"importun'd\": 1, 'fashion.': 1, 'springes': 1, 'woodcocks!': 1, 'lends': 1, 'vows.': 1, 'blazes,': 1, 'extinct': 1, 'promise,': 1, 'a-making,': 1, 'scanter': 1, 'presence.': 1, 'entreatments': 1, 'higher': 1, 'rate': 1, 'parley.': 1, 'young,': 1, 'larger': 1, 'tether': 1, 'few,': 1, 'vows;': 1, 'brokers,': 1, 'dye': 1, 'investments': 1, 'implorators': 1, 'unholy': 1, 'suits,': 1, 'sanctified': 1, 'bawds,': 1, 'beguile.': 1, 'all:': 1, 'plain': 1, 'slander': 1, \"to't,\": 1, 'bites': 1, 'shrewdly;': 1, 'cold.': 1, 'nipping': 1, 'lacks': 1, 'indeed?': 1, 'walk.': 1, 'trumpets,': 1, 'pieces': 1, 'wake': 1, 'rouse,': 1, 'wassail,': 1, \"swagg'ring\": 1, 'upspring': 1, 'reels,': 1, 'drains': 1, 'draughts': 1, 'kettledrum': 1, 'bray': 1, 'triumph': 1, 'pledge.': 1, 'custom?': 1, \"is't;\": 1, 'manner': 1, 'born,': 1, 'breach': 1, 'observance.': 1, 'heavy-headed': 1, 'revel': 1, 'east': 1, 'west': 1, \"traduc'd\": 1, \"tax'd\": 1, 'nations;': 1, 'clip': 1, 'drunkards': 1, 'swinish': 1, 'addition;': 1, 'achievements,': 1, \"perform'd\": 1, 'height,': 1, 'marrow': 1, 'attribute.': 1, 'vicious': 1, 'mole': 1, 'birth,-': 1, 'origin,-': 1, \"o'ergrowth\": 1, 'complexion,': 1, 'breaking': 1, 'pales': 1, 'forts': 1, \"o'erleavens\": 1, 'plausive': 1, 'manners,': 1, 'carrying,': 1, 'star,': 1, 'else-': 1, 'undergo-': 1, 'corruption': 1, 'fault.': 1, 'dram': 1, \"e'il\": 1, 'dout': 1, 'scandal.': 1, 'comes!': 1, 'ministers': 1, 'us!': 1, 'goblin': 1, \"damn'd,\": 1, 'airs': 1, 'blasts': 1, 'intents': 1, 'charitable,': 1, \"com'st\": 1, 'questionable': 1, 'ignorance,': 1, \"canoniz'd\": 1, 'hearsed': 1, 'cerements;': 1, 'sepulchre': 1, 'quietly': 1, \"inurn'd,\": 1, \"op'd\": 1, 'ponderous': 1, 'marble': 1, 'jaws': 1, 'corse,': 1, 'complete': 1, 'revisits': 1, 'glimpses': 1, 'hideous,': 1, 'fools': 1, 'reaches': 1, 'souls?': 1, 'wherefore?': 1, 'impartment': 1, 'courteous': 1, 'removed': 1, 'means!': 1, 'fear?': 1, \"pin's\": 1, 'fee;': 1, 'immortal': 1, 'itself?': 1, 'flood,': 1, 'cliff': 1, 'beetles': 1, 'horrible': 1, 'deprive': 1, 'sovereignty': 1, 'madness?': 1, 'toys': 1, 'desperation,': 1, 'motive,': 1, 'fadoms': 1, 'roar': 1, 'beneath.': 1, 'still.': 1, 'hands!': 1, \"rul'd.\": 1, 'fate': 1, 'artire': 1, 'hardy': 1, 'nemean': 1, \"lion's\": 1, 'nerve.': 1, '[ghost': 1, 'beckons.]': 1, \"call'd.\": 1, 'unhand': 1, 'me!-': 1, 'away!-': 1, 'waxes': 1, 'imagination.': 1, 'wail': 1, 'come?': 1, 'fortifications.': 1, 'whither': 1, 'further.': 1, \"sulph'rous\": 1, 'tormenting': 1, 'render': 1, 'ghost!': 1, 'serious': 1, 'unfold.': 1, \"doom'd\": 1, \"confin'd\": 1, 'fires,': 1, 'burnt': 1, \"purg'd\": 1, 'secrets': 1, 'house,': 1, 'lightest': 1, 'harrow': 1, 'freeze': 1, 'spheres,': 1, 'knotted': 1, 'combined': 1, 'locks': 1, 'hair': 1, 'quills': 1, 'fretful': 1, 'porpentine.': 1, 'blazon': 1, 'list!': 1, 'murther?': 1, 'strange,': 1, 'unnatural.': 1, \"know't,\": 1, 'wings': 1, 'meditation': 1, 'apt;': 1, 'duller': 1, 'weed': 1, 'rots': 1, 'ease': 1, 'lethe': 1, 'wharf,': 1, 'stung': 1, 'forged': 1, 'process': 1, 'rankly': 1, \"abus'd.\": 1, 'crown.': 1, 'prophetic': 1, 'uncle?': 1, 'adulterate': 1, 'traitorous': 1, 'gifts-': 1, 'gifts,': 1, 'seduce!-': 1, 'won': 1, 'shameful': 1, 'lust': 1, 'seeming-virtuous': 1, 'falling-off': 1, 'dignity': 1, 'decline': 1, 'mine!': 1, \"mov'd,\": 1, 'lewdness': 1, 'lust,': 1, 'radiant': 1, \"link'd,\": 1, 'celestial': 1, 'prey': 1, 'garbage.': 1, 'scent': 1, 'always': 1, 'afternoon,': 1, 'stole,': 1, 'juice': 1, 'hebona': 1, 'vial,': 1, 'porches': 1, 'pour': 1, 'leperous': 1, 'distilment;': 1, 'enmity': 1, 'quicksilverr': 1, 'courses': 1, 'gates': 1, 'alleys': 1, 'body,': 1, 'vigour': 1, 'posset': 1, 'curd,': 1, 'droppings': 1, 'milk,': 1, 'mine;': 1, 'tetter': 1, \"bark'd\": 1, 'lazar-like,': 1, 'loathsome': 1, 'crust': 1, 'sleeping,': 1, \"dispatch'd;\": 1, 'blossoms': 1, 'sin,': 1, \"unhous'led,\": 1, 'disappointed,': 1, \"unanel'd,\": 1, 'reckoning': 1, 'made,': 1, 'account': 1, 'imperfections': 1, 'luxury': 1, 'incest.': 1, 'howsoever': 1, 'pursuest': 1, 'taint': 1, 'thorns': 1, 'lodge': 1, 'prick': 1, 'glowworm': 1, 'matin': 1, 'gins': 1, 'uneffectual': 1, 'host': 1, 'couple': 1, 'hell?': 1, 'heart!': 1, 'sinews,': 1, 'old,': 1, 'stiffly': 1, 'seat': 1, 'globe.': 1, 'trivial': 1, 'fond': 1, 'records,': 1, 'saws': 1, 'books,': 1, 'pressures': 1, 'past': 1, 'observation': 1, 'copied': 1, 'book': 1, 'volume': 1, \"unmix'd\": 1, 'pernicious': 1, 'woman!': 1, 'smiling,': 1, 'tables!': 1, 'villain;': 1, 'least': 1, '[writes.]': 1, 'uncle,': 1, 'word:': 1, \"'adieu,\": 1, \"me.'\": 1, \"sworn't.\": 1, 'illo,': 1, 'hillo,': 1, 'boy!': 1, 'bird,': 1, 'news,': 1, 'wonderful!': 1, 'reveal': 1, 'secret?': 1, 'neer': 1, 'dwelling': 1, 'part;': 1, 'whirling': 1, 'offend': 1, 'heartily;': 1, 'heartily.': 1, 'offence,': 1, 'patrick,': 1, 'vision': 1, \"o'ermaster't\": 1, 'scholars,': 1, 'request.': 1, \"swear't.\": 1, 'sworn,': 1, 'aha': 1, 'boy,': 1, \"say'st\": 1, 'truepenny?': 1, 'cellarage.': 1, 'propose': 1, 'hic': 1, 'et': 1, 'ubique?': 1, 'shift': 1, 'heard:': 1, 'mole!': 1, 'worthy': 1, 'pioner!': 1, 'remove,': 1, 'friends.\"': 1, 'strange!': 1, 'stranger': 1, 'dreamt': 1, 'philosophy.': 1, 'mercy,': 1, \"soe'er\": 1, 'hereafter': 1, 'antic': 1, 'on),': 1, \"encumb'red\": 1, 'head-shake,': 1, 'pronouncing': 1, 'doubtful': 1, \"'well,\": 1, \"know,'\": 1, \"'we\": 1, \"would,'\": 1, \"'if\": 1, \"speak,'\": 1, \"'there\": 1, \"might,'\": 1, 'ambiguous': 1, '[they': 1, 'swear.]': 1, 'perturbed': 1, 'spirit!': 1, 'friending': 1, 'lack.': 1, 'together;': 1, 'lips,': 1, 'joint.': 1, 'spite': 1, 'born': 1, 'notes,': 1, \"marvell's\": 1, 'wisely,': 1, 'inquire': 1, 'behaviour.': 1, 'intend': 1, 'enquire': 1, 'danskers': 1, 'paris;': 1, 'how,': 1, 'company,': 1, 'expense;': 1, 'encompassment': 1, 'distant': 1, 'knowledge': 1, \"him.'\": 1, 'reynaldo?': 1, \"'and\": 1, \"but,'\": 1, \"'not\": 1, 'addicted': 1, \"so';\": 1, 'forgeries': 1, 'him-': 1, 'that;': 1, 'wanton,': 1, 'usual': 1, 'slips': 1, 'companions': 1, 'noted': 1, 'liberty.': 1, 'drinking,': 1, 'fencing,': 1, 'quarrelling,': 1, 'drabbing.': 1, 'far.': 1, 'charge.': 1, 'scandal': 1, 'incontinency.': 1, 'meaning.': 1, 'quaintly': 1, 'taints': 1, 'flash': 1, 'outbreak': 1, 'savageness': 1, 'unreclaimed': 1, 'assault.': 1, 'drift,': 1, 'warrant.': 1, 'slight': 1, 'sullies': 1, \"soil'd\": 1, 'party': 1, 'converse,': 1, 'prenominate': 1, \"assur'd\": 1, 'consequence:': 1, \"sir,'\": 1, \"'friend,'\": 1, \"'gentleman'-\": 1, 'addition': 1, 'country-': 1, 'does-': 1, 'something!': 1, \"consequence,'\": 1, \"'friend\": 1, \"gentleman.'\": 1, \"consequence'-\": 1, 'marry!': 1, 'yesterday,': 1, \"t'other\": 1, 'such;': 1, 'gaming;': 1, \"o'ertook\": 1, 'rouse;': 1, 'falling': 1, \"tennis';\": 1, 'perchance,': 1, \"sale,'\": 1, 'videlicet,': 1, 'brothel,': 1, 'forth.': 1, 'now-': 1, 'bait': 1, 'falsehood': 1, 'carp': 1, 'truth;': 1, 'reach,': 1, 'windlasses': 1, 'assays': 1, 'bias,': 1, 'indirections': 1, 'directions': 1, 'lecture': 1, 'have.': 1, 'ye,': 1, 'well!': 1, '[going.]': 1, 'ply': 1, 'affrighted!': 1, 'sewing': 1, 'closet,': 1, 'doublet': 1, \"unbrac'd,\": 1, 'hat': 1, 'stockings': 1, \"foul'd,\": 1, \"ungart'red,\": 1, 'down-gyved': 1, 'ankle;': 1, 'shirt,': 1, 'knees': 1, 'knocking': 1, 'purport': 1, 'loosed': 1, 'horrors-': 1, 'wrist': 1, 'hard;': 1, 'brow,': 1, 'perusal': 1, 'shaking': 1, 'waving': 1, \"rais'd\": 1, 'shatter': 1, 'bulk': 1, 'being.': 1, 'bended': 1, 'fordoes': 1, 'leads': 1, 'undertakings': 1, 'afflict': 1, 'natures.': 1, 'sorry.': 1, 'late?': 1, 'repel': 1, 'denied': 1, 'access': 1, 'quoted': 1, \"fear'd\": 1, 'trifle': 1, 'wrack': 1, 'thee;': 1, 'beshrew': 1, 'jealousy!': 1, 'opinions': 1, 'younger': 1, 'known;': 1, 'close,': 1, 'hate': 1, 'utter': 1, 'cum': 1, 'aliis.': 1, 'moreover': 1, 'provoke': 1, 'hasty': 1, 'sending.': 1, 'transformation.': 1, 'exterior': 1, 'resembles': 1, 'clays': 1, \"neighbour'd\": 1, 'haviour,': 1, 'time;': 1, 'companies': 1, 'pleasures,': 1, 'glean,': 1, 'unknown': 1, 'afflicts': 1, \"open'd,\": 1, 'remedy.': 1, 'adheres.': 1, 'gentry': 1, 'expend': 1, 'supply': 1, 'pleasures': 1, 'entreaty.': 1, 'ourselves,': 1, 'bent,': 1, 'feet,': 1, 'commanded.': 1, 'instantly': 1, 'changed': 1, 'practices': 1, 'pleasant': 1, 'helpful': 1, 'amen!': 1, 'joyfully': 1, \"return'd.\": 1, 'news.': 1, 'assure': 1, 'think-': 1, 'hunts': 1, 'policy': 1, \"us'd\": 1, 'do-': 1, 'lunacy.': 1, 'that!': 1, 'admittance': 1, 'feast.': 1, 'thyself': 1, 'tells': 1, \"son's\": 1, 'distemper.': 1, 'main,': 1, \"o'erhasty\": 1, 'marriage.': 1, 'sift': 1, 'norway?': 1, 'greetings': 1, 'desires.': 1, 'levies;': 1, 'preparation': 1, 'polack,': 1, 'into,': 1, 'highness;': 1, 'whereat': 1, \"griev'd,\": 1, 'sickness,': 1, 'age,': 1, 'impotence': 1, 'falsely': 1, 'arrests': 1, 'obeys,': 1, 'receives': 1, 'rebuke': 1, 'overcome': 1, 'crowns': 1, 'annual': 1, 'fee': 1, 'employ': 1, 'levied': 1, 'polack;': 1, 'entreaty,': 1, 'shown,': 1, 'dominions': 1, 'enterprise,': 1, 'regards': 1, 'therein': 1, 'well;': 1, \"consider'd\": 1, 'meantime': 1, 'well-took': 1, 'labour.': 1, 'rest;': 1, 'home!': 1, 'ended.': 1, 'expostulate': 1, 'waste': 1, 'therefore,': 1, 'brevity': 1, 'tediousness': 1, 'limbs': 1, 'flourishes,': 1, 'brief.': 1, 'define': 1, 'true:': 1, 'pity;': 1, 'figure!': 1, 'farewell': 1, 'grant': 1, 'effect-': 1, 'defective': 1, 'cause.': 1, 'remains,': 1, 'remainder': 1, 'perpend.': 1, '(have': 1, 'mine),': 1, 'mark,': 1, 'gather,': 1, 'surmise.': 1, '[reads]': 1, 'letter.': 1, \"'to\": 1, 'celestial,': 1, \"soul's\": 1, 'idol,': 1, 'beautified': 1, \"ophelia,'-\": 1, 'phrase;': 1, \"'beautified'\": 1, 'phrase.': 1, \"'in\": 1, 'bosom,': 1, \"&c.'\": 1, 'faithful.': 1, \"'doubt\": 1, 'move;': 1, 'liar;': 1, \"'o\": 1, 'numbers;': 1, 'reckon': 1, 'groans;': 1, 'adieu.': 1, \"'thine\": 1, 'evermore,': 1, 'machine': 1, 'shown': 1, 'above,': 1, 'solicitings,': 1, 'honourable.': 1, 'wing': 1, \"perceiv'd\": 1, 'me),': 1, 'desk': 1, 'winking,': 1, 'mute': 1, 'dumb,': 1, 'think?': 1, 'bespeak:': 1, \"'lord\": 1, 'star.': 1, \"be.'\": 1, 'prescripts': 1, 'resort,': 1, 'tokens.': 1, 'fruits': 1, 'repulsed,': 1, 'sadness,': 1, 'fast,': 1, 'weakness,': 1, 'lightness,': 1, 'declension,': 1, 'raves,': 1, 'mourn': 1, 'time-': 1, 'that-': 1, 'positively': 1, \"''tis\": 1, 'otherwise.?': 1, '[points': 1, 'shoulder]': 1, 'otherwise.': 1, 'circumstances': 1, 'hid,': 1, 'hid': 1, 'centre.': 1, 'further?': 1, 'hours': 1, 'loose': 1, 'encounter.': 1, 'thereon': 1, 'assistant': 1, 'carters.': 1, 'reading': 1, 'book.': 1, 'sadly': 1, 'reading.': 1, 'board': 1, 'god-a-mercy.': 1, 'goes,': 1, \"pick'd\": 1, 'thousand.': 1, 'breed': 1, 'maggots': 1, 'dog,': 1, 'kissing': 1, 'carrion-': 1, 'daughter?': 1, 'conception': 1, 'blessing,': 1, 'conceive.': 1, 'harping': 1, \"suff'red\": 1, 'extremity': 1, 'again.-': 1, 'words.': 1, 'slanders,': 1, 'satirical': 1, 'grey': 1, 'beards;': 1, 'faces': 1, 'wrinkled;': 1, 'amber': 1, 'plum-tree': 1, 'gum;': 1, 'plentiful': 1, 'hams.': 1, 'powerfully': 1, 'potently': 1, 'believe,': 1, 'crab,': 1, 'backward.': 1, 'method': 1, \"in't.-\": 1, 'replies': 1, 'are!': 1, 'happiness': 1, 'hits': 1, 'sanity': 1, 'prosperously': 1, 'delivered': 1, 'suddenly': 1, 'meeting': 1, 'daughter.-': 1, 'cannot,': 1, 'withal-': 1, 'fools!': 1, 'guildenstern?': 1, 'rosencrantz!': 1, 'lads,': 1, 'both?': 1, 'children': 1, 'earth.': 1, 'over-happy.': 1, 'button.': 1, 'soles': 1, 'shoe?': 1, 'waist,': 1, 'favours?': 1, 'privates': 1, 'we.': 1, 'fortune?': 1, 'o!': 1, 'strumpet.': 1, 'none,': 1, 'honest.': 1, 'near!': 1, 'particular.': 1, 'deserved': 1, 'prison,': 1, 'confines,': 1, 'wards,': 1, 'dungeons,': 1, 'worst.': 1, 'narrow': 1, 'mind.': 1, 'bounded': 1, 'nutshell': 1, 'space,': 1, 'dreams.': 1, 'ambition;': 1, 'merely': 1, 'shadow': 1, 'dream.': 1, 'truly,': 1, 'airy': 1, \"shadow's\": 1, 'beggars': 1, 'bodies,': 1, 'monarchs': 1, \"outstretch'd\": 1, 'heroes': 1, \"beggars'\": 1, 'shadows.': 1, 'court?': 1, 'fay,': 1, 'reason.': 1, 'servants;': 1, 'dreadfully': 1, 'attended.': 1, 'beaten': 1, 'friendship,': 1, 'occasion.': 1, 'am,': 1, 'halfpenny.': 1, 'inclining?': 1, 'visitation?': 1, 'deal': 1, 'anything-': 1, 'for;': 1, 'modesties': 1, 'craft': 1, 'colour.': 1, 'conjure': 1, 'fellowship,': 1, 'consonancy': 1, 'ever-preserved': 1, 'proposer': 1, 'withal,': 1, 'why.': 1, 'anticipation': 1, 'prevent': 1, 'discovery,': 1, 'moult': 1, 'feather.': 1, 'late-': 1, 'not-': 1, 'mirth,': 1, 'forgone': 1, 'exercises;': 1, 'heavily': 1, 'sterile': 1, 'promontory;': 1, 'canopy,': 1, \"o'erhanging\": 1, 'firmament,': 1, 'majestical': 1, 'roof': 1, 'fretted': 1, 'fire-': 1, 'appeareth': 1, 'congregation': 1, 'vapours.': 1, 'man!': 1, 'reason!': 1, 'faculties!': 1, 'moving': 1, 'admirable!': 1, 'angel!': 1, 'paragon': 1, 'animals!': 1, 'quintessence': 1, 'dust?': 1, \"'man\": 1, \"me'?\": 1, 'lenten': 1, 'coted': 1, 'way,': 1, 'plays': 1, 'welcome-': 1, 'tribute': 1, 'adventurous': 1, 'knight': 1, 'foil': 1, 'target;': 1, 'lover': 1, 'gratis;': 1, 'humorous': 1, 'peace;': 1, 'clown': 1, 'lungs': 1, 'tickle': 1, 'sere;': 1, 'blank': 1, 'verse': 1, 'halt': 1, 'they?': 1, 'tragedians': 1, 'city.': 1, 'travel?': 1, 'residence,': 1, 'reputation': 1, 'profit,': 1, 'inhibition': 1, 'innovation.': 1, 'estimation': 1, 'city?': 1, \"follow'd?\": 1, 'rusty?': 1, 'endeavour': 1, 'pace;': 1, 'eyrie': 1, 'children,': 1, 'eyases,': 1, 'tyrannically': 1, \"clapp'd\": 1, 'berattle': 1, 'stages': 1, '(so': 1, 'them)': 1, 'wearing': 1, 'afraid': 1, 'goosequills': 1, 'thither.': 1, 'children?': 1, 'maintains': 1, 'escoted?': 1, 'sing?': 1, 'afterwards,': 1, 'better),': 1, 'writers': 1, 'exclaim': 1, 'succession.': 1, 'sides;': 1, 'sin': 1, 'tarre': 1, 'controversy.': 1, 'while,': 1, 'poet': 1, 'cuffs': 1, 'throwing': 1, 'brains.': 1, 'boys': 1, 'away?': 1, 'load': 1, 'strange;': 1, 'mows': 1, 'lived': 1, 'twenty,': 1, 'forty,': 1, 'fifty,': 1, 'hundred': 1, 'apiece': 1, 'picture': 1, 'natural,': 1, 'philosophy': 1, 'appurtenance': 1, 'ceremony.': 1, 'garb,': 1, 'extent': 1, '(which': 1, 'fairly': 1, 'outwards)': 1, 'uncle-father': 1, 'aunt-mother': 1, \"deceiv'd.\": 1, 'north-north-west.': 1, 'southerly': 1, 'hawk': 1, 'handsaw.': 1, 'hark': 1, 'guildenstern-': 1, 'too-': 1, 'hearer!': 1, 'swaddling': 1, 'clouts.': 1, 'child.': 1, 'it.-': 1, 'monday': 1, 'morning;': 1, 'twas': 1, 'roscius': 1, 'rome-': 1, 'buzz,': 1, 'buzz!': 1, 'honour-': 1, 'ass-': 1, 'history,': 1, 'pastoral,': 1, 'pastoral-comical,': 1, 'historical-pastoral,': 1, 'tragical-historical,': 1, 'tragical-comical-historical-pastoral;': 1, 'individable,': 1, 'poem': 1, 'unlimited.': 1, 'seneca': 1, 'heavy,': 1, 'plautus': 1, 'light.': 1, 'men.': 1, 'israel,': 1, 'thou!': 1, \"'one\": 1, \"well.'\": 1, 'jephthah?': 1, \"'as\": 1, 'lot,': 1, \"wot,'\": 1, \"'it\": 1, 'pass,': 1, \"was.'\": 1, 'row': 1, 'chanson': 1, 'abridgment': 1, 'masters;': 1, 'well.-': 1, 'friends.-': 1, \"valanc'd\": 1, 'last.': 1, \"com'st'\": 1, \"to'\": 1, 'denmark?-': 1, 'mistress?': 1, 'ladyship': 1, 'altitude': 1, 'chopine.': 1, 'uncurrent': 1, 'gold,': 1, \"crack'd\": 1, 'ring.-': 1, 'masters,': 1, 'falconers,': 1, 'taste': 1, 'quality.': 1, 'once,': 1, 'acted;': 1, 'once;': 1, 'remember,': 1, 'million,': 1, 'caviary': 1, 'general;': 1, 'others,': 1, 'matters': 1, 'mine)': 1, 'digested': 1, 'scenes,': 1, 'cunning.': 1, 'sallets': 1, 'savoury,': 1, 'indict': 1, 'affectation;': 1, \"call'd\": 1, 'method,': 1, 'handsome': 1, 'fine.': 1, 'chiefly': 1, \"lov'd.\": 1, \"aeneas'\": 1, 'dido,': 1, 'thereabout': 1, 'especially': 1, \"priam's\": 1, 'slaughter.': 1, 'begin': 1, 'line-': 1, 'see:': 1, 'hyrcanian': 1, \"beast-'\": 1, 'so;': 1, 'begins': 1, 'pyrrhus:': 1, 'arms,': 1, 'resemble': 1, 'couched': 1, 'ominous': 1, 'horse,': 1, 'complexion': 1, \"smear'd\": 1, 'heraldry': 1, 'dismal.': 1, 'foot': 1, 'total': 1, 'gules,': 1, \"trick'd\": 1, 'mothers,': 1, 'daughters,': 1, 'sons,': 1, 'impasted': 1, 'parching': 1, 'streets,': 1, 'tyrannous': 1, \"lord's\": 1, 'roasted': 1, 'wrath': 1, \"o'ersized\": 1, 'coagulate': 1, 'gore,': 1, 'carbuncles,': 1, 'hellish': 1, 'grandsire': 1, \"seeks.'\": 1, 'proceed': 1, 'fore': 1, 'spoken,': 1, \"'anon\": 1, 'striking': 1, 'greeks.': 1, 'repugnant': 1, 'command.': 1, 'unequal': 1, \"match'd,\": 1, 'drives,': 1, 'strikes': 1, 'wide;': 1, 'whiff': 1, 'unnerved': 1, 'ilium,': 1, 'seeming': 1, 'feel': 1, 'blow,': 1, 'stoops': 1, 'hideous': 1, 'crash': 1, 'prisoner': 1, 'lo!': 1, 'declining': 1, 'milky': 1, 'reverend': 1, 'priam,': 1, 'stick.': 1, 'tyrant,': 1, 'neutral': 1, 'storm,': 1, 'rack': 1, 'speechless,': 1, 'orb': 1, 'hush': 1, 'thunder': 1, 'rend': 1, 'region;': 1, 'pause,': 1, 'aroused': 1, 'vengeance': 1, 'awork;': 1, \"cyclops'\": 1, 'hammers': 1, \"mars's\": 1, 'armour,': 1, \"forg'd\": 1, 'eterne,': 1, 'remorse': 1, 'bleeding': 1, 'priam.': 1, 'strumpet': 1, 'fortune!': 1, 'gods,': 1, 'synod': 1, 'power;': 1, 'fellies': 1, 'bowl': 1, 'nave': 1, 'hill': 1, 'low': 1, 'fiends!': 1, \"barber's,\": 1, 'beard.-': 1, 'jig': 1, 'bawdry,': 1, 'hecuba.': 1, \"'but\": 1, \"queen-'\": 1, \"queen'?\": 1, 'good!': 1, \"'mobled\": 1, \"queen'\": 1, \"'run\": 1, 'barefoot': 1, \"threat'ning\": 1, 'bisson': 1, 'rheum;': 1, 'clout': 1, 'robe,': 1, 'lank': 1, \"o'erteemed\": 1, 'loins,': 1, 'blanket,': 1, 'alarm': 1, 'up-': 1, 'venom': 1, \"steep'd\": 1, \"pronounc'd.\": 1, 'gods': 1, 'mincing': 1, 'limbs,': 1, 'clamour': 1, '(unless': 1, 'all)': 1, 'milch': 1, \"gods.'\": 1, \"whe'r\": 1, 'colour,': 1, 'soon.-': 1, \"bestow'd?\": 1, \"us'd;\": 1, 'abstract': 1, 'chronicles': 1, 'live.': 1, 'desert.': 1, 'bodykins,': 1, 'better!': 1, 'desert,': 1, 'whipping?': 1, 'dignity.': 1, 'deserve,': 1, 'bounty.': 1, 'to-morrow.': 1, '[except': 1, 'first].': 1, \"gonzago'?\": 1, \"ha't\": 1, 'need,': 1, 'study': 1, 'sixteen': 1, 'insert': 1, 'player.]': 1, 'ye!': 1, 'monstrous': 1, 'fiction,': 1, \"wann'd,\": 1, 'distraction': 1, 'aspect,': 1, 'broken': 1, 'function': 1, 'suiting': 1, 'forms': 1, 'conceit?': 1, 'hecuba!': 1, 'hecuba': 1, 'hecuba,': 1, 'cue': 1, 'cleave': 1, 'speech;': 1, 'appal': 1, 'ignorant,': 1, 'amaze': 1, 'faculties': 1, 'muddy-mettled': 1, 'rascal,': 1, 'peak': 1, 'john-a-dreams,': 1, 'unpregnant': 1, 'made.': 1, 'coward?': 1, 'villain?': 1, 'breaks': 1, 'across?': 1, 'tweaks': 1, 'nose?': 1, 'lungs?': 1, \"pigeon-liver'd\": 1, 'oppression': 1, 'bitter,': 1, 'fatted': 1, 'region': 1, 'kites': 1, \"slave's\": 1, 'offal.': 1, 'bawdy': 1, 'remorseless,': 1, 'treacherous,': 1, 'lecherous,': 1, 'kindless': 1, 'vengeance!': 1, 'brave,': 1, \"murther'd,\": 1, 'prompted': 1, '(like': 1, 'whore)': 1, 'unpack': 1, 'a-cursing': 1, 'drab,': 1, 'scullion!': 1, \"upon't!\": 1, 'foh!': 1, 'brain!': 1, 'hum,': 1, 'creatures,': 1, 'sitting': 1, \"proclaim'd\": 1, 'malefactions;': 1, 'murther,': 1, 'miraculous': 1, 'tent': 1, 'quick.': 1, 'blench,': 1, 'course.': 1, 'devil;': 1, 'pleasing': 1, 'shape;': 1, 'weakness': 1, 'melancholy,': 1, 'spirits,': 1, 'abuses': 1, 'damn': 1, 'grounds': 1, 'relative': 1, \"play's\": 1, 'lords.': 1, 'confusion,': 1, 'grating': 1, 'harshly': 1, 'turbulent': 1, 'lunacy?': 1, 'feels': 1, 'distracted,': 1, 'forward': 1, 'sounded,': 1, 'crafty': 1, 'aloof': 1, 'forcing': 1, 'disposition.': 1, 'niggard': 1, 'pastime?': 1, \"o'erraught\": 1, 'court,': 1, \"beseech'd\": 1, \"inclin'd.\": 1, 'delights.': 1, 'closely': 1, 'accident,': 1, 'affront': 1, '(lawful': 1, 'espials)': 1, 'unseen,': 1, 'encounter': 1, \"behav'd,\": 1, 'beauties': 1, 'wildness.': 1, 'honours.': 1, 'queen.]': 1, 'here.-': 1, 'gracious,': 1, 'ourselves.-': 1, 'ophelia]': 1, 'loneliness.-': 1, 'blame': 1, \"prov'd,\": 1, \"devotion's\": 1, 'sugar': 1, 'smart': 1, 'lash': 1, 'conscience!': 1, \"harlot's\": 1, 'cheek,': 1, 'beautied': 1, \"plast'ring\": 1, 'art,': 1, 'ugly': 1, 'helps': 1, 'burthen!': 1, 'withdraw,': 1, 'polonius].': 1, 'be-': 1, 'question:': 1, 'nobler': 1, 'slings': 1, 'arrows': 1, 'outrageous': 1, 'troubles,': 1, 'opposing': 1, 'heartache,': 1, 'shocks': 1, 'heir': 1, 'consummation': 1, 'devoutly': 1, \"wish'd.\": 1, 'dream:': 1, 'rub!': 1, 'shuffled': 1, 'coil,': 1, 'calamity': 1, 'scorns': 1, \"oppressor's\": 1, 'contumely,': 1, 'pangs': 1, \"despis'd\": 1, \"law's\": 1, 'delay,': 1, 'insolence': 1, 'office,': 1, 'quietus': 1, 'bare': 1, 'bodkin?': 1, 'fardels': 1, 'bear,': 1, 'grunt': 1, 'weary': 1, \"undiscover'd\": 1, 'country,': 1, 'bourn': 1, 'traveller': 1, 'returns-': 1, 'puzzles': 1, 'ills': 1, 'of?': 1, 'cowards': 1, 'hue': 1, 'resolution': 1, 'sicklied': 1, 'enterprises': 1, 'regard': 1, 'awry': 1, 'action.-': 1, 'ophelia!-': 1, 'nymph,': 1, 'orisons': 1, 'sins': 1, \"rememb'red.\": 1, 'remembrances': 1, 'longed': 1, 're-deliver.': 1, \"compos'd\": 1, 'rich.': 1, 'rich': 1, 'givers': 1, 'unkind.': 1, 'ha,': 1, 'honest?': 1, 'fair?': 1, 'lordship?': 1, 'beauty.': 1, 'beauty,': 1, 'commerce': 1, 'honesty?': 1, 'truly;': 1, 'transform': 1, 'bawd': 1, 'translate': 1, 'likeness.': 1, 'paradox,': 1, \"believ'd\": 1, 'inoculate': 1, 'stock': 1, 'deceived.': 1, 'nunnery!': 1, 'breeder': 1, 'sinners?': 1, 'accuse': 1, 'proud,': 1, 'revengeful,': 1, 'ambitious;': 1, 'offences': 1, 'beck': 1, 'shape,': 1, 'crawling': 1, 'knaves': 1, 'ways': 1, 'home,': 1, 'shut': 1, 'nowhere': 1, 'house.': 1, 'plague': 1, 'dowry:': 1, 'ice,': 1, 'calumny.': 1, 'fool;': 1, 'wise': 1, 'monsters': 1, 'go;': 1, 'quickly': 1, 'powers,': 1, 'restore': 1, 'paintings': 1, 'enough.': 1, 'yourselves': 1, 'jig,': 1, 'amble,': 1, 'lisp;': 1, 'nickname': 1, 'wantonness': 1, 'ignorance.': 1, 'moe': 1, 'marriages.': 1, 'already-': 1, 'live;': 1, \"o'erthrown!\": 1, \"courtier's,\": 1, \"scholar's,\": 1, \"soldier's,\": 1, 'expectancy': 1, 'mould': 1, 'form,': 1, \"observ'd\": 1, 'observers-': 1, 'quite,': 1, 'down!': 1, 'ladies': 1, 'deject': 1, 'honey': 1, 'bells': 1, 'jangled,': 1, 'harsh;': 1, \"unmatch'd\": 1, 'feature': 1, 'blown': 1, 'blasted': 1, 'ecstasy.': 1, 'see!': 1, 'affections': 1, 'tend;': 1, 'spake,': 1, \"lack'd\": 1, 'little,': 1, 'melancholy': 1, 'brood;': 1, 'hatch': 1, 'disclose': 1, 'danger;': 1, 'prevent,': 1, 'determination': 1, 'down:': 1, 'tribute.': 1, 'seas,': 1, 'countries': 1, 'different,': 1, 'objects,': 1, 'something-settled': 1, 'origin': 1, 'commencement': 1, 'sprung': 1, 'love.-': 1, 'grief.': 1, 'conference.': 1, 'confine': 1, 'think.': 1, \"unwatch'd\": 1, \"pronounc'd\": 1, 'trippingly': 1, 'town': 1, 'crier': 1, 'lines.': 1, 'gently;': 1, 'torrent,': 1, 'tempest,': 1, 'say)': 1, 'whirlwind': 1, 'acquire': 1, 'beget': 1, 'temperance': 1, 'smoothness.': 1, 'offends': 1, 'robustious': 1, 'periwig-pated': 1, 'tatters,': 1, 'rags,': 1, 'split': 1, 'cars': 1, 'groundlings,': 1, 'part)': 1, 'capable': 1, 'inexplicable': 1, 'noise.': 1, \"whipp'd\": 1, \"o'erdoing\": 1, 'termagant.': 1, 'out-herods': 1, 'herod.': 1, 'tame': 1, 'neither;': 1, 'tutor.': 1, 'action;': 1, 'observance,': 1, \"o'erstep\": 1, 'nature:': 1, 'overdone': 1, 'mirror': 1, 'feature,': 1, 'scorn': 1, 'image,': 1, 'pressure.': 1, 'overdone,': 1, 'unskilful': 1, 'judicious': 1, 'grieve;': 1, \"o'erweigh\": 1, 'theatre': 1, 'praise,': 1, 'highly': 1, 'profanely),': 1, 'christians,': 1, 'christian,': 1, 'pagan,': 1, 'strutted': 1, 'bellowed': 1, 'journeymen': 1, 'imitated': 1, 'humanity': 1, 'abominably.': 1, \"reform'd\": 1, 'indifferently': 1, 'reform': 1, 'altogether!': 1, 'clowns': 1, 'barren': 1, 'spectators': 1, 'considered.': 1, 'villanous': 1, 'pitiful': 1, 'work?': 1, 'haste,': 1, 'hasten': 1, \"e'er\": 1, 'conversation': 1, \"cop'd\": 1, 'flatter;': 1, 'advancement': 1, 'revenue': 1, 'clothe': 1, \"flatter'd?\": 1, 'candied': 1, 'lick': 1, 'absurd': 1, 'pomp,': 1, 'crook': 1, 'hinges': 1, 'knee': 1, 'thrift': 1, 'fawning.': 1, 'distinguish,': 1, 'scald': 1, 'herself.': 1, 'one,': 1, \"suff'ring\": 1, 'nothing;': 1, 'buffets': 1, 'rewards': 1, 'blest': 1, 'commingled': 1, 'pipe': 1, 'finger': 1, 'please.': 1, \"passion's\": 1, 'slave,': 1, \"heart's\": 1, 'core,': 1, 'circumstance,': 1, 'seest': 1, 'afoot,': 1, 'comment': 1, 'occulted': 1, 'unkennel': 1, 'imaginations': 1, \"vulcan's\": 1, 'stithy.': 1, 'heedful': 1, 'note;': 1, 'rivet': 1, 'seeming.': 1, 'steal': 1, 'detecting,': 1, 'theft.': 1, 'kettledrums.': 1, 'march.': 1, 'attendant,': 1, 'carrying': 1, 'torches.': 1, 'idle.': 1, 'excellent,': 1, 'faith;': 1, \"chameleon's\": 1, 'dish.': 1, \"promise-cramm'd.\": 1, 'capons': 1, 'university,': 1, 'accounted': 1, 'actor.': 1, 'enact?': 1, 'enact': 1, 'caesar;': 1, 'capitol;': 1, 'brutus': 1, 'brute': 1, 'calf': 1, 'patience.': 1, 'metal': 1, 'attractive.': 1, 'king]': 1, '[sits': 1, \"ophelia's\": 1, 'feet.]': 1, 'country': 1, 'matters?': 1, \"maids'\": 1, 'legs.': 1, 'merry,': 1, 'i?': 1, 'jig-maker!': 1, 'merry?': 1, \"'s\": 1, 'hours.': 1, 'months,': 1, 'sables.': 1, 'ago,': 1, 'forgotten': 1, 'yet?': 1, 'outlive': 1, 'build': 1, 'churches': 1, 'hobby-horse,': 1, \"'for\": 1, 'hobby-horse': 1, \"forgot!'\": 1, 'hautboys': 1, 'enters.': 1, 'lovingly;': 1, 'embracing': 1, 'kneels,': 1, 'protestation': 1, 'declines': 1, 'neck.': 1, 'lays': 1, 'bank': 1, 'flowers.': 1, 'asleep,': 1, 'fellow,': 1, \"sleeper's\": 1, 'returns,': 1, 'action.': 1, 'mutes,': 1, 'condole': 1, 'carried': 1, 'wooes': 1, 'gifts;': 1, 'unwilling': 1, 'accepts': 1, 'miching': 1, 'malhecho;': 1, 'mischief.': 1, 'prologue.': 1, 'counsel;': 1, \"they'll\": 1, 'meant?': 1, \"asham'd\": 1, \"he'll\": 1, 'means.': 1, 'naught,': 1, 'naught!': 1, 'pro.': 1, 'stooping': 1, 'clemency,': 1, 'patiently.': 1, 'prologue,': 1, 'posy': 1, 'ring?': 1, \"woman's\": 1, '[two': 1, 'as]': 1, \"phoebus'\": 1, 'cart': 1, \"tellus'\": 1, 'orbed': 1, 'dozed': 1, 'moons': 1, 'borrowed': 1, 'sheen': 1, 'thirties': 1, 'been,': 1, 'hearts,': 1, 'hymen': 1, 'unite': 1, 'comutual': 1, 'sacred': 1, 'bands.': 1, 'journeys': 1, 'moon': 1, 'done!': 1, 'late,': 1, 'distrust': 1, 'distrust,': 1, 'discomfort': 1, 'must;': 1, \"women's\": 1, 'quantity,': 1, 'aught,': 1, 'extremity.': 1, \"siz'd,\": 1, 'littlest': 1, 'doubts': 1, 'fear;': 1, 'operant': 1, 'functions': 1, 'behind,': 1, \"honour'd,\": 1, \"belov'd,\": 1, 'thou-': 1, 'breast.': 1, 'accurst!': 1, 'wed': 1, 'killed': 1, 'wormwood,': 1, 'wormwood!': 1, 'instances': 1, 'respects': 1, 'determine': 1, 'break.': 1, 'birth,': 1, 'validity;': 1, 'unripe,': 1, 'sticks': 1, 'tree,': 1, 'fill': 1, 'unshaken': 1, 'mellow': 1, 'debt.': 1, 'propose,': 1, 'ending,': 1, 'lose.': 1, 'enactures': 1, 'destroy.': 1, 'revels,': 1, 'lament;': 1, 'joys,': 1, 'grieves,': 1, 'slender': 1, 'aye,': 1, 'change;': 1, 'prove,': 1, 'favourite': 1, 'flies,': 1, \"advanc'd\": 1, 'enemies;': 1, 'hollow': 1, 'try,': 1, 'seasons': 1, 'orderly': 1, 'begun,': 1, 'wills': 1, 'contrary': 1, 'run': 1, 'devices': 1, 'overthrown;': 1, 'ends': 1, 'wed;': 1, 'food,': 1, 'light,': 1, 'repose': 1, 'desperation': 1, \"anchor's\": 1, 'scope,': 1, 'opposite': 1, 'blanks': 1, 'destroy,': 1, 'lasting': 1, 'strife,': 1, 'widow,': 1, 'wife!': 1, 'deeply': 1, 'sworn.': 1, 'dull,': 1, 'beguile': 1, 'rock': 1, '[he]': 1, 'twain!': 1, 'protest': 1, 'methinks.': 1, 'argument?': 1, 'jest;': 1, \"mousetrap.'\": 1, 'how?': 1, 'tropically.': 1, 'vienna.': 1, 'gonzago': 1, \"duke's\": 1, 'name;': 1, 'baptista.': 1, 'anon.': 1, 'touches': 1, \"gall'd\": 1, 'jade': 1, 'winch;': 1, 'withers': 1, 'unwrung.': 1, 'lucianus.': 1, 'lucianus,': 1, 'chorus,': 1, 'interpret': 1, 'puppets': 1, 'dallying.': 1, 'keen,': 1, 'keen.': 1, 'groaning': 1, 'edge.': 1, 'better,': 1, 'worse.': 1, 'husbands.-': 1, 'murtherer.': 1, 'pox,': 1, 'damnable': 1, 'faces,': 1, 'begin!': 1, 'croaking': 1, 'raven': 1, 'bellow': 1, 'luc.': 1, 'apt,': 1, 'drugs': 1, 'agreeing;': 1, 'confederate': 1, 'season,': 1, 'seeing;': 1, 'mixture': 1, 'midnight': 1, 'collected,': 1, \"hecate's\": 1, 'ban': 1, 'blasted,': 1, 'infected,': 1, 'magic': 1, 'dire': 1, 'usurp': 1, 'immediately.': 1, 'poisons': 1, \"name's\": 1, 'gonzago.': 1, 'story': 1, 'extant,': 1, 'written': 1, 'italian.': 1, 'gets': 1, \"gonzago's\": 1, 'wife.': 1, 'rises.': 1, 'frighted': 1, 'fire?': 1, 'light!': 1, 'lights!': 1, 'strucken': 1, 'deer': 1, 'weep,': 1, 'hart': 1, 'ungalled': 1, 'sleep:': 1, 'forest': 1, 'feathers-': 1, 'turk': 1, 'me-with': 1, 'provincial': 1, 'roses': 1, \"raz'd\": 1, 'shoes,': 1, 'fellowship': 1, 'players,': 1, 'share.': 1, 'damon': 1, 'dear,': 1, 'realm': 1, 'dismantled': 1, 'reigns': 1, 'very,': 1, 'very-': 1, 'pajock.': 1, \"rhym'd.\": 1, \"ghost's\": 1, 'pound!': 1, 'perceive?': 1, 'poisoning?': 1, 'aha!': 1, 'perdy.': 1, 'history.': 1, 'sir-': 1, 'him?': 1, 'retirement,': 1, 'marvellous': 1, \"distemper'd.\": 1, 'doctor;': 1, 'purgation': 1, 'plunge': 1, 'pronounce.': 1, 'courtesy': 1, 'breed.': 1, 'commandment;': 1, 'answer;': 1, \"wit's\": 1, \"diseas'd.\": 1, 'says:': 1, 'behaviour': 1, 'admiration.': 1, 'wonderful': 1, 'stonish': 1, 'sequel': 1, 'admiration?': 1, 'impart.': 1, 'us?': 1, 'pickers': 1, 'stealers!': 1, 'distemper?': 1, 'surely': 1, 'bar': 1, 'griefs': 1, 'friend.': 1, 'advancement.': 1, 'succession': 1, \"'while\": 1, 'grass': 1, \"grows'-\": 1, 'proverb': 1, 'musty.': 1, 'recorders.': 1, 'withdraw': 1, 'toil?': 1, 'bold,': 1, 'unmannerly.': 1, 'easy': 1, 'lying.': 1, 'govern': 1, 'ventages': 1, 'thumbs,': 1, 'eloquent': 1, 'stops.': 1, \"utt'rance\": 1, 'harmony.': 1, 'skill.': 1, 'stops;': 1, 'mystery;': 1, 'lowest': 1, 'compass;': 1, 'music,': 1, 'easier': 1, 'fret': 1, 'cloud': 1, 'camel?': 1, 'camel': 1, \"back'd\": 1, 'by-and-by.-': 1, 'bent.-': 1, \"'by-and-by'\": 1, 'easily': 1, 'said.-': 1, 'witching': 1, 'churchyards': 1, 'yawn,': 1, 'breathes': 1, 'contagion': 1, 'quake': 1, 'nero': 1, 'firm': 1, 'bosom.': 1, 'unnatural;': 1, 'hypocrites-': 1, 'somever': 1, 'shent,': 1, 'seals': 1, 'consent!': 1, 'range.': 1, 'forthwith': 1, 'dispatch,': 1, 'along': 1, 'estate': 1, 'endure': 1, 'hazard': 1, 'hourly': 1, 'lunacies.': 1, 'provide.': 1, 'religious': 1, 'peculiar': 1, 'strength': 1, 'noyance;': 1, 'weal': 1, 'rests': 1, 'many.': 1, 'cesse': 1, 'alone,': 1, 'gulf': 1, 'massy': 1, 'highest': 1, 'mount,': 1, 'huge': 1, 'lesser': 1, \"mortis'd\": 1, \"adjoin'd;\": 1, 'small': 1, 'annexment,': 1, 'consequence,': 1, 'attends': 1, \"boist'rous\": 1, 'ruin.': 1, 'groan.': 1, 'arm': 1, \"th',\": 1, 'speedy': 1, 'voyage;': 1, 'fetters': 1, 'free-footed.': 1, 'convey': 1, 'process.': 1, 'tax': 1, 'home;': 1, 'wisely': 1, 'partial,': 1, \"o'erhear\": 1, 'vantage.': 1, 'liege.': 1, 'smells': 1, 'primal': 1, 'eldest': 1, 'curse': 1, \"upon't,\": 1, 'sharp': 1, 'defeats': 1, 'intent,': 1, 'bound,': 1, 'pause': 1, 'neglect.': 1, 'thicker': 1, 'rain': 1, 'snow?': 1, 'confront': 1, 'twofold': 1, 'force,': 1, 'forestalled': 1, 'down?': 1, 'past.': 1, 'turn?': 1, \"'forgive\": 1, \"murther'?\": 1, \"possess'd\": 1, 'effects': 1, 'murther-': 1, 'ambition,': 1, 'retain': 1, 'corrupted': 1, \"offence's\": 1, 'gilded': 1, 'shove': 1, 'justice,': 1, 'prize': 1, 'buys': 1, 'law;': 1, 'above.': 1, 'shuffling;': 1, \"compell'd,\": 1, 'teeth': 1, 'faults,': 1, 'evidence.': 1, 'rests?': 1, 'repentance': 1, 'can.': 1, 'repent?': 1, 'state!': 1, 'death!': 1, 'limed': 1, 'struggling': 1, \"engag'd!\": 1, 'angels!': 1, 'assay.': 1, 'bow,': 1, 'stubborn': 1, 'knees;': 1, 'strings': 1, 'sinews': 1, 'new-born': 1, 'babe!': 1, 'kneels.': 1, 'pat,': 1, 'praying;': 1, \"reveng'd.\": 1, \"scann'd.\": 1, 'sole': 1, 'hire': 1, 'salary,': 1, 'grossly,': 1, 'bread,': 1, 'blown,': 1, 'flush': 1, 'may;': 1, 'audit': 1, 'stands,': 1, \"reveng'd,\": 1, 'seasoned': 1, 'passage?': 1, 'hent.': 1, 'drunk': 1, 'asleep;': 1, 'rage;': 1, 'salvation': 1, \"in't-\": 1, 'trip': 1, 'kick': 1, 'goes.': 1, 'stays.': 1, 'physic': 1, 'prolongs': 1, 'days.': 1, '[rises]': 1, 'below.': 1, \"queen's\": 1, 'pranks': 1, \"screen'd\": 1, 'heat': 1, 'here.': 1, 'withdraw;': 1, '[polonius': 1, 'hides': 1, 'arras.]': 1, 'rood,': 1, '(would': 1, 'so!)': 1, 'budge': 1, 'inmost': 1, 'help!': 1, '[draws]': 1, 'rat?': 1, 'ducat,': 1, '[makes': 1, 'slain!': 1, 'rash': 1, 'deed-': 1, 'bad,': 1, '[lifts': 1, 'intruding': 1, 'fool,': 1, 'better.': 1, \"find'st\": 1, 'busy': 1, 'danger.': 1, 'wringing': 1, 'hinds.': 1, 'wring': 1, 'penetrable': 1, 'stuff;': 1, \"braz'd\": 1, 'bulwark': 1, \"dar'st\": 1, 'wag': 1, 'blurs': 1, 'blush': 1, 'modesty;': 1, 'hypocrite;': 1, 'innocent': 1, 'blister': 1, \"dicers'\": 1, 'oaths.': 1, 'contraction': 1, 'religion': 1, 'rhapsody': 1, 'words!': 1, \"heaven's\": 1, 'glow;': 1, 'solidity': 1, 'compound': 1, 'tristful': 1, 'doom,': 1, 'thought-sick': 1, 'roars': 1, 'thunders': 1, 'index?': 1, \"th's\": 1, 'picture,': 1, 'counterfeit': 1, 'presentment': 1, 'brothers.': 1, 'seated': 1, 'brow;': 1, \"hyperion's\": 1, 'curls;': 1, 'front': 1, 'mars,': 1, 'threaten': 1, 'herald': 1, 'mercury': 1, 'lighted': 1, 'heaven-kissing': 1, 'hill:': 1, 'combination': 1, 'seal': 1, 'husband.': 1, 'follows.': 1, 'husband,': 1, \"mildew'd\": 1, 'blasting': 1, 'eyes?': 1, 'feed,': 1, 'batten': 1, 'moor?': 1, 'love;': 1, 'heyday': 1, \"it's\": 1, 'humble,': 1, 'waits': 1, 'judgment;': 1, 'motion;': 1, \"apoplex'd;\": 1, 'err,': 1, 'ecstacy': 1, \"thrall'd\": 1, \"reserv'd\": 1, 'difference.': 1, \"cozen'd\": 1, 'hoodman-blind?': 1, 'feeling,': 1, 'smelling': 1, 'sans': 1, 'mope.': 1, 'blush?': 1, 'mutine': 1, \"matron's\": 1, 'melt': 1, 'compulsive': 1, 'ardour': 1, 'frost': 1, 'actively': 1, 'burn,': 1, 'panders': 1, \"turn'st\": 1, 'grained': 1, 'spots': 1, 'tinct.': 1, 'enseamed': 1, \"stew'd\": 1, 'honeying': 1, 'nasty': 1, 'sty!': 1, 'twentieth': 1, 'tithe': 1, 'kings;': 1, 'cutpurse': 1, 'rule,': 1, 'shelf': 1, 'pocket!': 1, 'nightgown.': 1, 'shreds': 1, 'patches!-': 1, 'hover': 1, 'wings,': 1, 'guards!': 1, 'figure?': 1, 'mad!': 1, 'chide,': 1, \"laps'd\": 1, 'important': 1, 'acting': 1, 'command?': 1, 'say!': 1, 'forget.': 1, 'whet': 1, 'blunted': 1, 'sits.': 1, 'weakest': 1, 'strongest': 1, 'works.': 1, 'vacancy,': 1, 'encorporal': 1, 'discourse?': 1, 'peep;': 1, 'alarm,': 1, 'bedded': 1, 'hairs,': 1, 'excrements,': 1, 'beat': 1, 'distemper': 1, 'sprinkle': 1, 'cool': 1, 'patience!': 1, 'look?': 1, 'glares!': 1, \"conjoin'd,\": 1, 'preaching': 1, 'stones,': 1, 'capable.-': 1, 'stern': 1, 'effects.': 1, 'colour-': 1, 'there!': 1, 'steals': 1, \"liv'd!\": 1, 'portal!': 1, 'coinage': 1, 'brain.': 1, 'bodiless': 1, 'creation': 1, 'ecstasy?': 1, 'pulse': 1, 'temperately': 1, 'healthful': 1, \"utt'red.\": 1, 'test,': 1, 'reword;': 1, 'gambol': 1, 'from.': 1, 'flattering': 1, 'trespass': 1, 'speaks.': 1, 'skin': 1, 'film': 1, 'ulcerous': 1, 'whiles': 1, 'mining': 1, 'within,': 1, 'infects': 1, 'unseen.': 1, 'repent': 1, 'past;': 1, 'come;': 1, 'compost': 1, 'ranker.': 1, 'forgive': 1, 'virtue;': 1, 'fatness': 1, 'pursy': 1, 'beg-': 1, 'curb': 1, 'woo': 1, 'cleft': 1, 'twain.': 1, 'worser': 1, 'purer': 1, 'half,': 1, 'night-': 1, \"uncle's\": 1, 'monster,': 1, 'custom,': 1, 'habits': 1, 'evil,': 1, 'likewise': 1, 'frock': 1, 'aptly': 1, 'refrain': 1, 'easiness': 1, 'abstinence;': 1, 'easy;': 1, '[master]': 1, 'devil,': 1, 'potency.': 1, 'night;': 1, 'desirous': 1, 'blest,': 1, 'repent;': 1, 'punish': 1, 'minister.': 1, 'kind;': 1, 'begins,': 1, 'behind.': 1, 'lady.': 1, 'do:': 1, 'bloat': 1, 'pinch': 1, 'cheek;': 1, 'mouse;': 1, 'reechy': 1, 'kisses,': 1, 'paddling': 1, 'fingers,': 1, 'ravel': 1, 'essentially': 1, 'craft.': 1, 'sober,': 1, 'wise,': 1, 'paddock,': 1, 'bat,': 1, 'gib': 1, 'concernings': 1, 'hide?': 1, 'despite': 1, 'secrecy,': 1, 'unpeg': 1, \"house's\": 1, 'top,': 1, 'birds': 1, 'fly,': 1, 'famous': 1, 'conclusions,': 1, 'creep': 1, \"assur'd,\": 1, 'forgot!': 1, 'concluded': 1, \"seal'd;\": 1, 'schoolfellows,': 1, 'adders': 1, \"fang'd,\": 1, 'mandate;': 1, 'marshal': 1, 'knavery.': 1, 'enginer': 1, 'hoist': 1, 'petar;': 1, \"'t\": 1, 'delve': 1, 'yard': 1, 'mines': 1, 'line': 1, 'crafts': 1, 'packing.': 1, 'lug': 1, 'neighbour': 1, 'room.-': 1, 'night.-': 1, 'counsellor': 1, 'secret,': 1, 'grave,': 1, 'peating': 1, 'tugging': 1, 'sighs.': 1, 'heaves': 1, 'translate;': 1, 'son?': 1, 'while.': 1, 'guildenstern.]': 1, 'to-night!': 1, 'gertrude?': 1, 'contend': 1, 'mightier.': 1, 'stir,': 1, 'rapier,': 1, 'rat,': 1, \"rat!'\": 1, 'brainish': 1, 'unseen': 1, 'deed!': 1, 'liberty': 1, 'threats': 1, \"answer'd?\": 1, 'short,': 1, \"restrain'd,\": 1, 'haunt': 1, 'owner': 1, 'disease,': 1, 'divulging,': 1, 'gone?': 1, 'apart': 1, \"kill'd;\": 1, 'ore': 1, 'among': 1, 'mineral': 1, 'metals': 1, 'pure.': 1, 'weeps': 1, 'mountains': 1, 'ship': 1, 'hence;': 1, 'excuse.': 1, 'both,': 1, 'aid.': 1, 'slain,': 1, \"dragg'd\": 1, 'out;': 1, '[rosencrantz': 1, 'guildenstern].': 1, 'untimely': 1, '[so': 1, 'slander-]': 1, 'diameter,': 1, 'blank,': 1, 'transports': 1, 'poisoned': 1, 'shot-': 1, 'miss': 1, 'woundless': 1, 'air.-': 1, 'discord': 1, 'dismay.': 1, 'safely': 1, \"stow'd.\": 1, 'noise?': 1, 'body?': 1, 'compounded': 1, 'dust,': 1, 'kin.': 1, \"'tis,\": 1, 'counsel,': 1, 'besides,': 1, 'demanded': 1, 'replication': 1, 'soaks': 1, 'countenance,': 1, 'rewards,': 1, 'authorities.': 1, 'officers': 1, 'corner': 1, 'jaw;': 1, \"mouth'd,\": 1, 'swallowed.': 1, \"glean'd,\": 1, 'squeezing': 1, 'thing-': 1, 'fox,': 1, 'loose!': 1, 'multitude,': 1, 'judgment,': 1, \"offender's\": 1, 'offence.': 1, 'sending': 1, 'deliberate': 1, 'diseases': 1, 'appliance': 1, \"reliev'd,\": 1, \"befall'n?\": 1, \"bestow'd,\": 1, 'guarded,': 1, 'supper.': 1, 'supper?': 1, 'eats,': 1, 'eaten.': 1, 'convocation': 1, 'politic': 1, 'worms': 1, 'emperor': 1, 'diet.': 1, 'maggots.': 1, 'lean': 1, 'service-': 1, 'dishes,': 1, 'alas!': 1, 'worm.': 1, 'progress': 1, 'beggar.': 1, 'nose': 1, 'stair,': 1, 'deed,': 1, 'especial': 1, 'safety,-': 1, 'dearly': 1, 'grieve': 1, 'done,-': 1, 'quickness.': 1, 'bark': 1, 'ready': 1, 'associates': 1, 'bent': 1, \"knew'st\": 1, 'purposes.': 1, 'cherub': 1, 'wife': 1, 'flesh;': 1, 'foot;': 1, 'aboard.': 1, 'delay': 1, 'leans': 1, \"hold'st\": 1, 'aught,-': 1, 'thereof': 1, 'cicatrice': 1, 'raw': 1, 'red': 1, 'pays': 1, 'homage': 1, 'us,-': 1, 'mayst': 1, 'process,': 1, 'congruing': 1, 'hectic': 1, 'rages,': 1, 'cure': 1, \"howe'er\": 1, 'haps,': 1, 'joys': 1, 'begun.': 1, 'captain,': 1, 'greet': 1, 'license': 1, 'craves': 1, 'conveyance': 1, 'rendezvous.': 1, 'eye;': 1, 'softly': 1, 'captain].': 1, '[guildenstern,]': 1, 'these?': 1, \"purpos'd,\": 1, 'poland.': 1, 'commands': 1, 'frontier?': 1, 'addition,': 1, 'name.': 1, 'ducats,': 1, 'five,': 1, 'ranker': 1, 'rate,': 1, 'sold': 1, 'fee.': 1, \"garrison'd.\": 1, 'souls': 1, 'debate': 1, 'straw.': 1, 'imposthume': 1, 'wealth': 1, 'peace,': 1, 'breaks,': 1, 'dies.-': 1, \"will't\": 1, 'before.': 1, 'occasions': 1, 'spur': 1, 'market': 1, 'feed?': 1, 'large': 1, 'discourse,': 1, 'looking': 1, 'after,': 1, 'capability': 1, 'godlike': 1, 'fust': 1, \"unus'd.\": 1, 'bestial': 1, 'oblivion,': 1, 'craven': 1, 'scruple': 1, 'precisely': 1, 'event,-': 1, \"quarter'd,\": 1, 'coward,-': 1, \"thing's\": 1, \"do,'\": 1, 'strength,': 1, 'examples': 1, 'exhort': 1, 'mass': 1, 'led': 1, 'divine': 1, \"puff'd,\": 1, 'mouths': 1, 'invisible': 1, 'event,': 1, 'exposing': 1, 'unsure': 1, 'dare,': 1, 'eggshell.': 1, 'rightly': 1, 'argument,': 1, 'greatly': 1, 'quarrel': 1, 'straw': 1, \"honour's\": 1, 'stake.': 1, \"klll'd,\": 1, \"stain'd,\": 1, 'excitements': 1, 'imminent': 1, 'fantasy': 1, 'beds,': 1, 'plot': 1, 'numbers': 1, 'tomb': 1, 'slain?': 1, 'forth,': 1, 'bloody,': 1, 'worth!': 1, 'importunate,': 1, 'distract.': 1, 'mood': 1, 'pitied.': 1, 'tricks': 1, 'hems,': 1, 'beats': 1, 'enviously': 1, 'straws;': 1, 'doubt,': 1, 'unshaped': 1, 'hearers': 1, 'collection;': 1, 'aim': 1, 'botch': 1, 'thoughts;': 1, 'winks': 1, 'nods': 1, 'gestures': 1, 'unhappily.': 1, 'spoken': 1, 'with;': 1, 'strew': 1, 'conjectures': 1, 'ill-breeding': 1, 'minds.': 1, 'gentleman.]': 1, \"sin's\": 1, 'is)': 1, 'artless': 1, 'jealousy': 1, 'spills': 1, 'fearing': 1, 'spilt.': 1, 'distracted.': 1, 'beauteous': 1, 'one?': 1, 'cockle': 1, 'bat': 1, \"and'\": 1, 'staff': 1, 'sandal': 1, 'shoon.': 1, 'song?': 1, 'gone;': 1, 'grass-green': 1, 'turf,': 1, 'stone.': 1, 'ophelia-': 1, 'shroud': 1, 'snow-': 1, 'flowers;': 1, 'bewept': 1, 'showers.': 1, 'dild': 1, 'owl': 1, \"baker's\": 1, 'are,': 1, 'table!': 1, 'this;': 1, 'ask,': 1, 'this:': 1, \"valentine's\": 1, 'bedtime,': 1, 'window,': 1, 'valentine.': 1, \"donn'd\": 1, \"clo'es\": 1, \"dupp'd\": 1, 'chamber': 1, 'door,': 1, 'departed': 1, 'la,': 1, 'gis': 1, 'charity,': 1, 'quoth': 1, \"'before\": 1, 'tumbled': 1, \"wed.'\": 1, 'answers:': 1, \"'so\": 1, \"'a'\": 1, 'sun,': 1, \"bed.'\": 1, 'patient;': 1, 'counsel.': 1, 'coach!': 1, 'close;': 1, 'springs': 1, 'sorrows': 1, 'spies.': 1, 'battalions!': 1, 'remove;': 1, 'people': 1, 'muddied,': 1, 'unwholesome': 1, 'whispers': 1, \"polonius'\": 1, 'greenly': 1, 'hugger-mugger': 1, 'inter': 1, 'divided': 1, 'fair-judgment,': 1, 'pictures': 1, 'beasts;': 1, 'containing': 1, 'buzzers': 1, 'infect': 1, 'feeds': 1, 'speeches': 1, 'necessity,': 1, \"beggar'd,\": 1, 'arraign': 1, \"murd'ring\": 1, 'piece,': 1, 'places': 1, 'superfluous': 1, 'switzers?': 1, 'lord:': 1, 'ocean,': 1, 'overpeering': 1, 'eats': 1, 'flats': 1, 'impetuous': 1, 'riotous': 1, \"o'erbears\": 1, 'offices.': 1, 'rabble': 1, 'antiquity': 1, 'forgot,': 1, 'known,': 1, 'ratifiers': 1, 'props': 1, \"'choose\": 1, 'we!': 1, 'caps,': 1, 'applaud': 1, \"'laertes\": 1, 'cry!': 1, 'counter,': 1, 'dogs!': 1, 'broke.': 1, 'king?-': 1, 'sirs,': 1, 'staid': 1, 'without.': 1, 'in!': 1, 'followers.]': 1, 'father!': 1, 'calmly,': 1, 'drop': 1, 'bastard;': 1, 'cuckold': 1, 'brands': 1, 'harlot': 1, 'unsmirched': 1, 'brows': 1, 'rebellion': 1, 'giantlike?': 1, 'person.': 1, 'hedge': 1, 'peep': 1, 'acts': 1, 'fill.': 1, 'dead?': 1, 'juggled': 1, 'with:': 1, 'allegiance!': 1, 'blackest': 1, 'profoundest': 1, 'pit!': 1, 'damnation.': 1, 'negligence,': 1, 'comes;': 1, \"reveng'd\": 1, 'throughly': 1, 'certainty': 1, 'swoopstake': 1, 'foe,': 1, 'winner': 1, 'loser?': 1, 'enemies.': 1, 'ope': 1, \"life-rend'ring\": 1, 'pelican,': 1, 'repast': 1, 'child': 1, 'guiltless': 1, 'sensibly': 1, 'pierce': 1, 'within:': 1, \"'let\": 1, \"in.'\": 1, 'brains!': 1, 'seven': 1, 'burn': 1, 'eye!': 1, 'paid': 1, 'weight': 1, 'beam.': 1, 'may!': 1, \"maid's\": 1, 'life?': 1, 'instance': 1, \"barefac'd\": 1, 'bier': 1, '(hey': 1, 'non': 1, 'hey': 1, 'nony)': 1, \"rain'd\": 1, 'tear.': 1, 'dove!': 1, 'wits,': 1, 'persuade': 1, \"'a-down\": 1, 'a-down,': 1, \"a-down-a.'\": 1, 'wheel': 1, 'steward,': 1, \"master's\": 1, \"nothing's\": 1, 'rosemary,': 1, 'pansies,': 1, 'document': 1, 'madness!': 1, 'fitted.': 1, 'fennel': 1, 'columbines.': 1, 'herb': 1, 'sundays.': 1, 'difference!': 1, 'daisy.': 1, 'violets,': 1, \"wither'd\": 1, 'died.': 1, 'bonny': 1, 'robin': 1, 'joy.': 1, 'affliction,': 1, 'itself,': 1, 'turns': 1, 'prettiness.': 1, 'deathbed;': 1, 'flaxen': 1, 'poll.': 1, 'moan.': 1, \"'a'mercy\": 1, 'god.': 1, \"wi',\": 1, 'god?': 1, 'commune': 1, 'apart,': 1, 'collateral': 1, \"touch'd,\": 1, 'satisfaction;': 1, 'jointly': 1, 'labour': 1, 'due': 1, 'content.': 1, 'obscure': 1, 'funeral-': 1, 'trophy,': 1, 'hatchment': 1, 'rite': 1, 'formal': 1, 'ostentation,-': 1, \"call't\": 1, 'shall;': 1, 'axe': 1, 'fall.': 1, 'vi.': 1, 'servant.': 1, 'seafaring': 1, 'greeted,': 1, 'sailors.': 1, \"an't\": 1, 'letter': 1, 'sir,-': 1, 'ambassador': 1, 'england-': 1, '(reads': 1, 'letter)': 1, \"'horatio,\": 1, \"overlook'd\": 1, 'pirate': 1, 'appointment': 1, 'chase.': 1, 'compelled': 1, 'valour,': 1, 'boarded': 1, 'clear': 1, 'ship;': 1, 'became': 1, 'prisoner.': 1, 'dealt': 1, 'thieves': 1, 'mercy;': 1, 'did:': 1, 'sent,': 1, 'dumb;': 1, 'am.': 1, \"'he\": 1, 'knowest': 1, 'speedier': 1, 'vii.': 1, 'acquittance': 1, 'seal,': 1, 'slain': 1, 'pursued': 1, 'appears.': 1, 'proceeded': 1, 'feats': 1, 'crimeful': 1, 'safety,': 1, 'wisdom,': 1, 'else,': 1, 'mainly': 1, \"stirr'd\": 1, 'perhaps,': 1, 'seein': 1, \"unsinew'd,\": 1, 'strong.': 1, 'myself,-': 1, 'plague,': 1, 'which,-': 1, 'conjunctive': 1, 'sphere,': 1, 'public': 1, 'gender': 1, 'dipping': 1, 'turneth': 1, 'wood': 1, 'stone,': 1, 'graces;': 1, 'arrows,': 1, 'slightly': 1, \"timber'd\": 1, 'wind,': 1, 'reverted': 1, \"aim'd\": 1, 'driven': 1, 'praises': 1, 'challenger': 1, 'mount': 1, 'perfections.': 1, 'shook': 1, 'danger,': 1, 'pastime.': 1, 'ourself,': 1, 'imagine-': 1, 'letters.': 1, 'news?': 1, 'hamlet:': 1, 'majesty;': 1, 'say;': 1, 'claudio;': 1, \"[reads]'high\": 1, 'mighty,-you': 1, 'naked': 1, 'kingly': 1, '(first': 1, 'asking': 1, 'thereunto)': 1, 'recount': 1, 'return.': 1, \"'hamlet.'\": 1, 'mean?': 1, 'back?': 1, 'abuse,': 1, 'thing?': 1, 'hand?': 1, \"'naked!'\": 1, 'postscript': 1, \"'alone.'\": 1, 'advise': 1, 'warms': 1, 'sickness': 1, 'teeth,': 1, \"'thus\": 1, 'didest': 1, \"thou.'\": 1, 'otherwise?),': 1, \"rul'd\": 1, \"o'errule\": 1, 'checking': 1, 'voyage,': 1, 'exploit': 1, 'ripe': 1, 'device,': 1, 'fall;': 1, 'uncharge': 1, \"rul'd;\": 1, 'devise': 1, 'organ.': 1, 'travel': 1, 'hearing,': 1, 'shine,': 1, 'regard,': 1, 'unworthiest': 1, 'siege.': 1, 'riband': 1, 'youth-': 1, 'needfull': 1, 'careless': 1, 'livery': 1, 'settled': 1, 'sables': 1, 'weeds,': 1, 'graveness.': 1, 'normandy.': 1, \"serv'd\": 1, 'against,': 1, 'french,': 1, 'horseback;': 1, 'gallant': 1, 'grew': 1, 'seat,': 1, 'doing': 1, \"incorps'd\": 1, \"demi-natur'd\": 1, 'beast.': 1, \"topp'd\": 1, 'forgery': 1, 'tricks,': 1, 'did.': 1, 'norman': 1, \"was't?\": 1, 'norman.': 1, 'lamound.': 1, 'same.': 1, 'broach': 1, 'gem': 1, 'nation.': 1, 'masterly': 1, 'defence,': 1, 'especially,': 1, \"'twould\": 1, 'match': 1, 'scrimers': 1, 'swore': 1, 'guard,': 1, \"oppos'd\": 1, 'envenom': 1, 'painting': 1, 'sorrow,': 1, \"heart,'\": 1, 'ask': 1, 'passages': 1, 'proof,': 1, 'qualifies': 1, 'spark': 1, 'fire': 1, 'wick': 1, 'snuff': 1, 'abate': 1, 'goodness': 1, 'goodness,': 1, 'growing': 1, 'plurisy,': 1, 'too-much.': 1, 'would;': 1, \"'would'\": 1, 'changes,': 1, 'abatements': 1, 'delays': 1, 'tongues,': 1, 'accidents;': 1, \"'should'\": 1, 'spendthrift': 1, 'easing.': 1, 'ulcer!': 1, 'back.': 1, 'words?': 1, 'church!': 1, 'sanctuarize;': 1, 'bounds.': 1, 'close': 1, 'chamber.': 1, 'home.': 1, 'praise': 1, 'varnish': 1, 'frenchman': 1, 'remiss,': 1, 'contriving,': 1, 'peruse': 1, 'foils;': 1, 'shuffling,': 1, 'unbated,': 1, 'practice,': 1, \"do't!\": 1, 'anoint': 1, 'bought': 1, 'mountebank,': 1, 'dip': 1, 'knife': 1, 'cataplasm': 1, 'rare,': 1, 'collected': 1, 'simples': 1, \"scratch'd\": 1, 'contagion,': 1, 'slightly,': 1, 'convenience': 1, 'shape.': 1, 'performance.': 1, \"assay'd.\": 1, 'project': 1, 'second,': 1, 'cunnings-': 1, \"ha't!\": 1, 'motion': 1, 'dry-': 1, 'bouts': 1, 'end-': 1, \"prepar'd\": 1, 'chalice': 1, 'nonce;': 1, 'sipping,': 1, 'chance': 1, \"venom'd\": 1, 'stuck,': 1, 'there.-': 1, 'noise,': 1, 'tread': 1, \"another's\": 1, 'heel,': 1, \"sister's\": 1, \"drown'd!\": 1, 'willow': 1, 'aslant': 1, 'brook,': 1, 'hoar': 1, 'glassy': 1, 'stream.': 1, 'fantastic': 1, 'garlands': 1, 'crowflowers,': 1, 'nettles,': 1, 'daisies,': 1, 'purples,': 1, 'shepherds': 1, 'grosser': 1, 'name,': 1, 'maids': 1, 'pendant': 1, 'boughs': 1, 'coronet': 1, \"clamb'ring\": 1, 'hang,': 1, 'envious': 1, 'sliver': 1, 'broke,': 1, 'weedy': 1, 'trophies': 1, 'weeping': 1, 'brook.': 1, 'clothes': 1, 'mermaid-like,': 1, 'chaunted': 1, 'snatches': 1, 'tunes,': 1, 'incapable': 1, 'distress,': 1, 'indued': 1, 'element;': 1, 'garments,': 1, \"pull'd\": 1, 'melodious': 1, 'muddy': 1, \"drown'd?\": 1, \"drown'd.\": 1, 'tears;': 1, 'trick;': 1, 'holds,': 1, 'blaze': 1, 'folly': 1, 'douts': 1, 'churchyard.': 1, 'spades': 1, 'pickaxes].': 1, 'burial': 1, 'wilfully': 1, 'seeks': 1, 'salvation?': 1, 'crowner': 1, 'defence?': 1, 'se': 1, 'offendendo;': 1, 'else.': 1, 'point:': 1, 'wittingly,': 1, 'argues': 1, 'act;': 1, 'branches-it': 1, 'perform;': 1, 'wittingly.': 1, 'goodman': 1, 'delver!': 1, 'water;': 1, 'man;': 1, 'nill': 1, 'goes-': 1, 'drowns': 1, 'shortens': 1, 'law?': 1, \"is't-\": 1, \"crowner's\": 1, 'quest': 1, 'law.': 1, \"ha'\": 1, \"an't?\": 1, 'gentlewoman,': 1, \"say'st!\": 1, 'folk': 1, \"count'nance\": 1, 'even-christen.': 1, 'spade!': 1, 'ancient': 1, \"gard'ners,\": 1, 'ditchers,': 1, 'grave-makers.': 1, \"adam's\": 1, 'profession.': 1, 'gentleman?': 1, 'heathen?': 1, 'scripture?': 1, 'scripture': 1, 'adam': 1, \"digg'd.\": 1, 'answerest': 1, 'thyself-': 1, 'gallows-maker;': 1, 'frame': 1, 'outlives': 1, 'tenants.': 1, 'ill.': 1, 'built': 1, 'church.': 1, 'unyoke.': 1, 'tell!': 1, 'tell.': 1, 'cudgel': 1, 'mend': 1, 'pace': 1, 'beating;': 1, \"ask'd\": 1, \"grave-maker.'\": 1, 'houses': 1, 'lasts': 1, 'doomsday.': 1, 'yaughan;': 1, 'stoup': 1, 'liquor.': 1, 'clown.]': 1, '[clown': 1, 'digs': 1, 'sings.': 1, 'sweet;': 1, 'contract-': 1, 'o-': 1, 'for-': 1, 'behove,': 1, 'nothing-': 1, 'business,': 1, 'sings': 1, 'grave-making?': 1, 'easiness.': 1, 'employment': 1, 'daintier': 1, 'stealing': 1, 'steps': 1, 'clawed': 1, 'clutch,': 1, 'shipped': 1, 'intil': 1, 'such.': 1, '[throws': 1, 'jowls': 1, 'ground,as': 1, \"cain's\": 1, 'jawbone,': 1, 'politician,': 1, \"o'erreaches;\": 1, 'circumvent': 1, 'morrow,': 1, \"lord?'\": 1, 'such-a-one,': 1, \"such-a-one's\": 1, 'it-': 1, \"worm's,\": 1, 'chapless,': 1, \"knock'd\": 1, 'mazzard': 1, \"sexton's\": 1, 'spade.': 1, 'revolution,': 1, \"see't.\": 1, 'bones': 1, 'breeding': 1, 'loggets': 1, 'ache': 1, \"on't.\": 1, 'pickaxe': 1, 'shrouding': 1, 'sheet;': 1, 'throws': 1, '[another': 1, 'skull].': 1, 'lawyer?': 1, 'quiddits': 1, 'quillets,': 1, 'cases,': 1, 'tenures,': 1, 'tricks?': 1, 'knock': 1, 'sconce': 1, 'dirty': 1, 'shovel,': 1, 'battery?': 1, 'hum!': 1, 'buyer': 1, 'statutes,': 1, 'recognizances,': 1, 'vouchers,': 1, 'recoveries.': 1, 'recovery': 1, 'recoveries,': 1, 'dirt?': 1, 'vouchers': 1, 'vouch': 1, 'purchases,': 1, 'breadth': 1, 'indentures?': 1, 'conveyances': 1, 'box;': 1, 'inheritor': 1, 'jot': 1, 'parchment': 1, 'sheepskins?': 1, 'calveskins': 1, 'sheep': 1, 'calves': 1, \"grave's\": 1, 'sirrah?': 1, \"on't,\": 1, 'thine.': 1, 'quick;': 1, 'liest.': 1, 'neither.': 1, 'woman,': 1, 'card,': 1, 'equivocation': 1, 'undo': 1, 'years': 1, 'picked': 1, 'toe': 1, 'heel': 1, 'courtier': 1, 'kibe.-': 1, 'grave-maker?': 1, 'year,': 1, 'overcame': 1, 'since?': 1, 'born-': 1, 'because': 1, 'or,': 1, 'why?': 1, 'strangely,': 1, 'say.': 1, 'strangely?': 1, 'losing': 1, 'wits.': 1, 'ground?': 1, 'sexton': 1, 'boy': 1, 'rot?': 1, 'pocky': 1, 'corses': 1, 'now-a-days': 1, 'eight': 1, 'year': 1, 'tanner': 1, 'another?': 1, \"tann'd\": 1, 'while;': 1, 'decayer': 1, 'whoreson': 1, 'lien': 1, 'three-and-twenty': 1, 'whoreson,': 1, \"fellow's\": 1, 'was?': 1, 'pestilence': 1, 'rogue!': 1, \"pour'd\": 1, 'flagon': 1, \"yorick's\": 1, 'jester.': 1, '[takes': 1, 'yorick!': 1, 'fancy.': 1, 'tunes.': 1, 'abhorred': 1, 'gorge': 1, 'rises': 1, 'hung': 1, 'lips': 1, \"kiss'd\": 1, 'oft.': 1, 'gibes': 1, 'gambols?': 1, 'songs?': 1, 'flashes': 1, 'merriment': 1, 'roar?': 1, 'grinning?': 1, 'chap-': 1, \"fall'n?\": 1, \"lady's\": 1, 'chamber,': 1, 'paint': 1, 'inch': 1, 'thick,': 1, 'thing.': 1, 'earth?': 1, 'smelt': 1, 'pah!': 1, '[puts': 1, 'return,': 1, 'stopping': 1, 'bunghole?': 1, 'curiously,': 1, 'jot;': 1, 'enough,': 1, 'likelihood': 1, 'died,': 1, 'buried,': 1, 'returneth': 1, 'dust;': 1, 'loam;': 1, 'loam': 1, '(whereto': 1, 'converted)': 1, 'beer': 1, 'barrel?': 1, 'imperious': 1, 'caesar,': 1, 'clay,': 1, 'hole': 1, 'wall': 1, \"winter's\": 1, 'flaw!': 1, 'aside!': 1, 'king-': 1, '[priests': 1, 'with]': 1, 'coffin': 1, '[in': 1, 'procession],': 1, 'courtiers.': 1, 'follow?': 1, 'maimed': 1, 'rites?': 1, 'betoken': 1, 'fordo': 1, '[retires': 1, 'youth.': 1, 'obsequies': 1, \"enlarg'd\": 1, 'warranty.': 1, 'doubtful;': 1, \"o'ersways\": 1, 'order,': 1, 'unsanctified': 1, \"lodg'd\": 1, 'trumpet.': 1, 'charitable': 1, 'shards,': 1, 'flints,': 1, 'pebbles': 1, \"allow'd\": 1, 'virgin': 1, 'crants,': 1, 'strewments,': 1, 'bringing': 1, 'profane': 1, 'requiem': 1, 'peace-parted': 1, 'souls.': 1, 'unpolluted': 1, 'violets': 1, 'spring!': 1, 'churlish': 1, 'priest,': 1, \"minist'ring\": 1, 'howling.': 1, 'sweets': 1, 'sweet!': 1, '[scatters': 1, 'flowers.]': 1, \"hop'd\": 1, 'bride-bed': 1, \"deck'd,\": 1, \"strew'd\": 1, 'ingenious': 1, \"depriv'd\": 1, 'of!': 1, 'leaps': 1, 'pile': 1, \"o'ertop\": 1, 'pelion': 1, 'skyish': 1, 'blue': 1, 'olympus.': 1, '[comes': 1, 'forward]': 1, 'emphasis?': 1, 'conjures': 1, \"wand'ring\": 1, 'wonder-wounded': 1, 'hearers?': 1, '[leaps': 1, '[grapples': 1, \"pray'st\": 1, 'throat;': 1, 'splenitive': 1, 'dangerous,': 1, 'hand!': 1, 'thein': 1, 'asunder.': 1, 'quiet.': 1, 'grave.]': 1, 'until': 1, 'eyelids': 1, 'wag.': 1, 'theme?': 1, 'forty': 1, 'brothers': 1, '(with': 1, 'love)': 1, 'sum.': 1, 'forbear': 1, \"thou't\": 1, 'weep?': 1, 'fight?': 1, 'thyself?': 1, 'esill?': 1, 'crocodile?': 1, 'whine?': 1, 'outface': 1, 'leaping': 1, 'prate': 1, 'mountains,': 1, 'millions': 1, 'acres': 1, 'singeing': 1, 'zone,': 1, 'ossa': 1, 'wart!': 1, \"thou'lt\": 1, 'rant': 1, 'thou.': 1, 'madness;': 1, 'anon,': 1, 'female': 1, 'dove': 1, 'couplets': 1, 'drooping.': 1, 'may,': 1, 'cat': 1, 'mew,': 1, 'dog': 1, 'day.': 1, 'laertes]': 1, 'strengthen': 1, \"night's\": 1, 'push.-': 1, 'monument.': 1, 'see;': 1, 'proceeding': 1, 'circumstance?': 1, 'mutinies': 1, 'bilboes.': 1, 'rashly-': 1, 'rashness': 1, 'indiscretion': 1, 'pall;': 1, 'learn': 1, 'ends,': 1, 'rough-hew': 1, 'will-': 1, 'certain.': 1, 'cabin,': 1, 'sea-gown': 1, \"scarf'd\": 1, 'dark': 1, \"grop'd\": 1, \"finger'd\": 1, 'packet,': 1, 'withdrew': 1, '(my': 1, 'forgetting': 1, 'manners)': 1, 'unseal': 1, 'grand': 1, 'found,': 1, 'knavery!),': 1, 'exact': 1, 'several': 1, 'sorts': 1, 'health,': 1, \"england's\": 1, 'hoo!': 1, 'bugs': 1, 'goblins': 1, 'life-': 1, 'supervise,': 1, 'bated,': 1, 'axe,': 1, 'leisure.': 1, 'proceed?': 1, 'benetted': 1, 'villanies,': 1, 'brains,': 1, 'sat': 1, \"devis'd\": 1, 'wrote': 1, 'fair.': 1, 'statists': 1, 'baseness': 1, 'write': 1, \"labour'd\": 1, 'learning;': 1, \"yeoman's\": 1, 'wrote?': 1, 'earnest': 1, 'conjuration': 1, 'tributary,': 1, 'flourish,': 1, 'wheaten': 1, 'garland': 1, 'comma': 1, \"'tween\": 1, 'amities,': 1, 'such-like': 1, \"as's\": 1, 'view': 1, 'contents,': 1, 'debatement': 1, 'further,': 1, 'shriving': 1, \"allow'd.\": 1, \"seal'd?\": 1, 'ordinant.': 1, 'signet': 1, 'purse,': 1, 'model': 1, 'seal;': 1, 'folded': 1, \"subscrib'd\": 1, \"gave't\": 1, 'impression,': 1, 'safely,': 1, 'changeling': 1, 'known.': 1, 'sea-fight;': 1, 'sequent': 1, 'employment!': 1, 'conscience;': 1, 'insinuation': 1, 'grow.': 1, 'incensed': 1, 'points': 1, 'mighty': 1, 'opposites.': 1, \"thinks't\": 1, 'upon-': 1, \"whor'd\": 1, 'mother;': 1, \"popp'd\": 1, 'hopes;': 1, 'angle': 1, \"coz'nage-\": 1, 'perfect': 1, 'arm?': 1, 'evil?': 1, 'short;': 1, 'interim': 1, \"'one.'\": 1, 'sorry,': 1, 'portraiture': 1, 'his.': 1, 'favours.': 1, 'bravery': 1, \"tow'ring\": 1, 'passion.': 1, 'waterfly?': 1, 'gracious;': 1, 'fertile.': 1, 'beasts,': 1, 'crib': 1, 'chough;': 1, 'spacious': 1, 'possession': 1, 'dirt.': 1, 'leisure,': 1, 'diligence': 1, 'bonnet': 1, 'use.': 1, 'lordship,': 1, 'hot.': 1, 'cold;': 1, 'northerly.': 1, 'sultry': 1, 'complexion.': 1, 'exceedingly,': 1, 'sultry,': 1, \"'twere-\": 1, 'how.': 1, 'bade': 1, 'matter-': 1, '[hamlet': 1, 'hat.]': 1, 'newly': 1, 'laertes;': 1, 'differences,': 1, 'society': 1, 'showing.': 1, 'feelingly': 1, 'card': 1, 'calendar': 1, 'gentry;': 1, 'definement': 1, 'perdition': 1, 'though,': 1, 'inventorially': 1, 'dozy': 1, 'arithmetic': 1, 'yaw': 1, 'sail.': 1, 'verity': 1, 'extolment,': 1, 'article,': 1, 'infusion': 1, 'dearth': 1, 'rareness': 1, 'diction': 1, 'semblable': 1, 'mirror,': 1, 'umbrage,': 1, 'infallibly': 1, 'concernancy,': 1, 'wrap': 1, 'rawer': 1, 'hor': 1, 'tongue?': 1, 'really.': 1, 'nomination': 1, 'empty': 1, 'spent.': 1, 'ignorant-': 1, 'ignorant': 1, 'is-': 1, 'compare': 1, 'excellence;': 1, 'weapon;': 1, 'imputation': 1, 'meed': 1, 'unfellowed.': 1, 'weapon?': 1, 'dagger.': 1, 'weapons-': 1, \"wager'd\": 1, 'horses;': 1, 'poniards,': 1, 'girdle,': 1, 'hangers,': 1, 'fancy,': 1, 'responsive': 1, 'hilts,': 1, 'conceit.': 1, 'carriages?': 1, 'edified': 1, 'margent': 1, 'hangers.': 1, 'germane': 1, 'hangers': 1, 'horses': 1, 'swords,': 1, 'liberal-conceited': 1, 'carriages:': 1, 'bet': 1, 'danish.': 1, 'passes': 1, 'exceed': 1, 'hits;': 1, 'nine,': 1, 'trial': 1, 'trial.': 1, 'brought,': 1, 'can;': 1, 'hits.': 1, 'redeliver': 1, 'lordship.': 1, 'yours,': 1, 'osric.]': 1, 'turn.': 1, 'lapwing': 1, 'shell': 1, 'dug': 1, 'bevy': 1, 'drossy': 1, 'dotes': 1, 'encounter-': 1, 'yesty': 1, 'collection,': 1, 'carries': 1, \"fann'd\": 1, 'winnowed': 1, 'opinions;': 1, 'trial-the': 1, 'bubbles': 1, 'commended': 1, 'brings': 1, 'attend': 1, 'constant': 1, 'purposes;': 1, 'fitness': 1, 'speaks,': 1, 'ready;': 1, 'whensoever,': 1, 'provided': 1, 'able': 1, 'instructs': 1, 'lord.]': 1, 'wager,': 1, 'continual': 1, 'practice.': 1, '-': 1, 'foolery;': 1, 'gaingiving': 1, 'woman.': 1, 'dislike': 1, 'anything,': 1, 'forestall': 1, 'fit.': 1, 'whit,': 1, 'defy': 1, 'augury;': 1, 'sparrow.': 1, \"come',\": 1, 'now;': 1, 'come:': 1, 'readiness': 1, 'leaves,': 1, 'betimes?': 1, 'gauntlets.': 1, 'flagons': 1, \"laertes'\": 1, \"hamlet's.]\": 1, 'pardon,': 1, 'wrong;': 1, \"pardon't,\": 1, \"punish'd\": 1, 'distraction.': 1, 'honour,': 1, 'exception': 1, 'roughly': 1, 'awake,': 1, \"wrong'd\": 1, 'denies': 1, 'faction': 1, \"wrong'd;\": 1, 'audience,': 1, 'disclaiming': 1, \"purpos'd\": 1, 'evil': 1, 'generous': 1, 'arrow': 1, 'hurt': 1, 'satisfied': 1, 'case': 1, 'aloof,': 1, 'reconcilement': 1, 'elder': 1, 'masters': 1, \"ungor'd.\": 1, \"offer'd\": 1, 'foils.': 1, 'foil,': 1, 'ignorance': 1, 'darkest': 1, 'bad.': 1, 'foils,': 1, 'wager?': 1, 'odds': 1, 'weaker': 1, 'side.': 1, 'both;': 1, \"better'd,\": 1, 'heavy;': 1, 'length?': 1, 'stoups': 1, 'exchange,': 1, 'battlements': 1, 'cup': 1, 'successive': 1, 'kings': 1, 'crown': 1, 'worn.': 1, 'cups;': 1, 'kettle': 1, 'cannoneer': 1, 'cannons': 1, \"'now\": 1, 'begin.': 1, 'judges,': 1, 'judgment!': 1, 'palpable': 1, 'pearl': 1, 'thine;': 1, 'health.': 1, '[drum;': 1, 'sound;': 1, '[within].': 1, 'bout': 1, 'first;': 1, '(they': 1, 'play.)': 1, 'touch,': 1, 'touch;': 1, \"confess't.\": 1, 'win.': 1, 'fat,': 1, 'scant': 1, 'breath.': 1, 'napkin,': 1, 'rub': 1, 'brows.': 1, 'carouses': 1, 'madam!': 1, 'drinks.': 1, \"poison'd\": 1, 'cup;': 1, 'madam;': 1, 'face.': 1, \"think't.\": 1, 'conscience.': 1, 'third,': 1, 'laertes!': 1, 'dally.': 1, 'afeard': 1, 'scuffling,': 1, 'rapiers,': 1, '[and': 1, 'laertes].': 1, 'them!': 1, 'bleed': 1, 'woodcock': 1, 'springe,': 1, 'treachery.': 1, 'sounds': 1, 'bleed.': 1, '[dies.]': 1, 'villany!': 1, \"lock'd.\": 1, 'treachery!': 1, 'falls.]': 1, 'medicine': 1, 'treacherous': 1, 'unbated': 1, \"envenom'd.\": 1, 'rise': 1, \"envenom'd\": 1, 'too?': 1, 'venom,': 1, 'work.': 1, 'hurt.': 1, \"murd'rous,\": 1, 'dane,': 1, 'potion!': 1, \"serv'd.\": 1, \"temper'd\": 1, 'exchange': 1, 'forgiveness': 1, 'chance,': 1, 'mutes': 1, 'sergeant,': 1, 'arrest)': 1, \"liv'st;\": 1, 'aright': 1, 'unsatisfied.': 1, 'liquor': 1, 'left.': 1, \"th'art\": 1, 'go!': 1, \"ha't.\": 1, 'wounded': 1, '(things': 1, 'standing': 1, 'unknown)': 1, 'absent': 1, 'felicity': 1, 'pain,': 1, 'story.': 1, 'conquest': 1, 'volley.': 1, \"o'ercrows\": 1, 'lights': 1, 'dying': 1, 'occurrents,': 1, 'solicited-': 1, 'silence.': 1, 'cracks': 1, 'flights': 1, 'drum': 1, 'ambassadors,': 1, 'drum,': 1, 'colours,': 1, 'see?': 1, 'cease': 1, 'search.': 1, 'quarry': 1, 'havoc.': 1, 'cell': 1, 'princes': 1, 'bloodily': 1, 'ambassador.': 1, 'dismal;': 1, 'affairs': 1, 'bearing': 1, \"fulfill'd\": 1, 'thanks?': 1, 'ability': 1, 'since,': 1, 'wars,': 1, \"arriv'd,\": 1, 'placed': 1, 'view;': 1, 'unknowing': 1, 'about.': 1, 'carnal,': 1, 'acts;': 1, 'accidental': 1, 'judgments,': 1, 'casual': 1, 'slaughters;': 1, 'deaths': 1, 'cause;': 1, 'upshot,': 1, 'purposes': 1, 'mistook': 1, \"inventors'\": 1, 'deliver.': 1, 'noblest': 1, 'audience.': 1, 'claim': 1, 'vantage': 1, 'invite': 1, 'also': 1, \"perform'd,\": 1, 'minds': 1, 'errors': 1, 'happen.': 1, 'captains': 1, 'stage;': 1, 'likely,': 1, 'royally;': 1, \"soldiers'\": 1, 'rites': 1, 'war': 1, 'loudly': 1, 'bodies.': 1, 'field': 1, 'shoot.': 1, 'marching;': 1, 'peal': 1})\n"
     ]
    }
   ],
   "source": [
    "c = Counter()\n",
    "\n",
    "# 카운터객체를 생성할때, 생성자로 Sequence 자료형을 주면, 그 갯수를 세어준다.\n",
    "c = Counter(hamlet)\n",
    "print(c)"
   ]
  },
  {
   "cell_type": "markdown",
   "metadata": {},
   "source": [
    "### namedtuple\n",
    "- Tuple 형태로 Data 구조체를 저장하는 방법\n",
    "- 저장되는 data의 variable을 사전에 지정해서 저장함"
   ]
  },
  {
   "cell_type": "code",
   "execution_count": 197,
   "metadata": {},
   "outputs": [],
   "source": [
    "from collections import namedtuple"
   ]
  },
  {
   "cell_type": "code",
   "execution_count": 201,
   "metadata": {},
   "outputs": [
    {
     "name": "stdout",
     "output_type": "stream",
     "text": [
      "33\n"
     ]
    }
   ],
   "source": [
    "Point = namedtuple('Point', ['x', 'y'])\n",
    "p = Point(11, y=22)\n",
    "print(p[0] + p[1])"
   ]
  },
  {
   "cell_type": "code",
   "execution_count": 204,
   "metadata": {},
   "outputs": [
    {
     "name": "stdout",
     "output_type": "stream",
     "text": [
      "11 22\n",
      "11 22\n",
      "Point(x=11, y=22)\n"
     ]
    }
   ],
   "source": [
    "x, y = p\n",
    "print(x, y)\n",
    "print(p.x, p.y)\n",
    "print(Point(x=11, y=22))"
   ]
  },
  {
   "cell_type": "markdown",
   "metadata": {},
   "source": [
    "# [번외] - 햄릿 소설의 단어 빈도수 카운트 하기"
   ]
  },
  {
   "cell_type": "code",
   "execution_count": 186,
   "metadata": {
    "scrolled": true
   },
   "outputs": [
    {
     "name": "stdout",
     "output_type": "stream",
     "text": [
      "{'the': 1083, 'and': 939, 'to': 727, 'of': 670, 'a': 540, 'i': 523, 'my': 519, 'you': 433, 'in': 420, 'ham.': 358, 'that': 343, 'is': 327, 'it': 327, 'his': 302, 'not': 274, 'with': 267, 'but': 254, 'this': 253, 'your': 242, 'for': 231, 'as': 214, 'be': 204, 'he': 200, 'what': 190, 'have': 176, 'will': 151, 'me': 144, 'so': 139, 'we': 136, 'do': 131, 'are': 128, 'him': 121, 'our': 120, 'king.': 119, 'or': 114, 'by': 111, 'if': 111, 'hor.': 108, 'on': 108, 'shall': 108, 'no': 106, 'they': 98, 'good': 97, 'thou': 97, 'let': 95, 'all': 95, 'from': 94, 'at': 87, 'how': 87, 'thy': 86, 'pol.': 86, 'lord,': 83, 'most': 82, 'queen.': 80, 'was': 76, 'her': 76, 'would': 75, 'like': 74, 'more': 74, \"'tis\": 71, \"th'\": 71, 'enter': 69, 'may': 66, 'lord.': 65, 'very': 64, 'hath': 63, 'laer.': 62, 'must': 60, 'o,': 59, 'did': 59, 'give': 58, 'oph.': 58, 'which': 57, 'know': 57, 'their': 57, 'an': 56, \"i'll\": 56, 'when': 55, 'you,': 55, 'should': 55, 'come': 54, 'now': 54, 'am': 54, 'such': 54, 'upon': 53, 'make': 53, 'some': 53, 'there': 52, 'where': 50, 'than': 50, 'go': 50, 'o': 50, 'us': 46, 'much': 45, 'ros.': 45, 'had': 44, 'these': 44, 'out': 44, 'she': 44, 'king': 43, 'them': 43, 'speak': 42, 'tell': 40, 'sir,': 40, 'think': 39, 'then': 39, 'love': 39, 'it,': 38, 'yet': 38, 'here': 37, 'nor': 37, 'take': 36, 'own': 36, 'ay,': 36, 'you.': 36, 'me.': 35, 'thee': 35, 'too': 35, 'come,': 34, 'it.': 34, 'time': 34, 'one': 34, 'who': 33, 'say': 33, 'man': 33, 'clown.': 33, 'him.': 32, 'look': 32, 'whose': 32, 'can': 32, 'well': 32, 'mar.': 31, 'thus': 31, 'why': 31, 'why,': 31, 'see': 31, 'lord?': 31, 'me,': 30, 'could': 30, 'up': 29, 'might': 29, 'no,': 29, 'guil.': 29, 'hamlet,': 28, 'made': 28, 'now,': 28, 'doth': 28, 'hamlet': 28, 'dear': 28, 'been': 27, 'into': 27, 'were': 27, 'him,': 27, 'hold': 26, 'that,': 26, 'father': 26, 'hamlet.': 25, 'does': 25, 'cannot': 25, 'pray': 25, 'osr.': 25, 'great': 24, 'both': 24, 'put': 24, 'never': 24, 'two': 23, 'scene': 23, 'hear': 23, 'against': 23, 'mine': 23, 'though': 23, \"i'\": 23, 'nay,': 22, 'heaven': 22, 'itself': 22, 'call': 22, 'set': 22, 'elsinore.': 21, 'well,': 21, 'even': 21, 'those': 21, 'leave': 21, 'soul': 21, 'ghost.': 20, 'king,': 20, 'and,': 20, 'show': 20, 'sweet': 20, 'till': 20, 'poor': 20, 'ber.': 19, 'part': 19, 'comes': 19, 'so.': 19, 'this,': 19, 'god': 19, 'old': 19, 'exeunt': 19, 'so,': 19, 'nothing': 19, 'queen': 18, 'believe': 18, 'but,': 18, 'head': 18, \"father's\": 18, 'play.': 18, \"there's\": 18, 'play': 18, 'before': 17, 'exit.': 17, 'seen': 17, 'dead': 17, 'world': 17, 'young': 17, 'find': 17, 'noble': 17, 'not,': 17, 'well.': 17, 'keep': 17, 'many': 17, 'makes': 17, 'lord': 16, 'laertes,': 16, 'them.': 16, 'what,': 16, \"that's\": 16, 'without': 16, 'queen,': 16, 'nature': 16, 'rosencrantz': 16, 'horatio,': 15, 'castle.': 15, 'us,': 15, 'little': 15, 'hast': 15, 'use': 15, 'about': 15, 'death': 15, 'between': 15, 'since': 15, 'follow': 15, 'players': 15, 'polonius.': 14, 'mother': 14, 'down': 14, 'therefore': 14, 'art': 14, 'fair': 14, 'earth': 14, \"o'er\": 14, 'bear': 14, 'thoughts': 14, 'words': 14, 'i,': 14, \"'a\": 14, 'sir.': 14, 'dost': 14, 'live': 13, 'you?': 13, 'thing': 13, 'night,': 13, 'night': 13, 'fear': 13, 'something': 13, 'true': 13, 'hand': 13, 'still': 13, 'life': 13, 'say,': 13, 'then,': 13, 'within': 13, 'heaven,': 13, 'lord!': 13, \"we'll\": 13, 'means': 13, 'go,': 13, 'marry,': 13, 'not.': 13, 'love,': 13, 'rey.': 13, 'other.': 13, 'ophelia,': 12, 'act': 12, 'stand': 12, 'long': 12, 'has': 12, 'once': 12, 'form': 12, 'know,': 12, 'life,': 12, 'ere': 12, 'any': 12, 'do,': 12, 'exeunt.': 12, 'room': 12, '[aside]': 12, 'indeed': 12, 'first': 12, 'faith,': 12, 'indeed,': 12, 'this?': 12, 'else': 12, 'youth': 12, 'here,': 12, 'bring': 12, 'off': 12, 'sent': 12, 'madness': 12, 'matter': 12, 'after': 12, 'son': 11, 'horatio.': 11, 'eyes': 11, 'last': 11, 'question': 11, \"is't\": 11, 'goes': 11, 'other': 11, \"e'en\": 11, 'oft': 11, 'being': 11, 'better': 11, \"what's\": 11, 'mother,': 11, 'heart': 11, 'body': 11, 'saw': 11, 'all.': 11, 'each': 11, 'death,': 11, 'day': 11, 'end': 11, 'mad': 11, 'cause': 11, '[exit': 11, 'denmark': 10, 'same': 10, 'mark': 10, 'majesty': 10, 'exit': 10, 'me?': 10, 'almost': 10, 'heard': 10, \"let's\": 10, 'far': 10, 'farewell.': 10, 'reason': 10, 'duty': 10, 'ever': 10, 'ear': 10, 'man,': 10, 'while': 10, 'away': 10, 'virtue': 10, 'himself': 10, 'second': 10, 'wind': 10, 'given': 10, \"he's\": 10, 'you;': 10, \"o'\": 10, 'guildenstern.': 10, 'thousand': 10, 'kind': 10, 'ghost': 9, \"hamlet's\": 9, 'i.': 9, 'get': 9, 'again': 9, 'together': 9, 'haste': 9, 'norway,': 9, 'through': 9, 'laertes': 9, \"'twere\": 9, 'further': 9, 'full': 9, 'came': 9, 'best': 9, 'thine': 9, 'seek': 9, 'madam,': 9, 'be,': 9, 'grace': 9, 'seem': 9, 'things': 9, 'excellent': 9, 'foul': 9, 'none': 9, 'thee.': 9, 'that.': 9, 'please': 9, 'blood': 9, 'near': 9, 'men': 9, 'soul,': 9, 'draw': 9, 'on.': 9, 'alas,': 9, 'lay': 9, '(as': 9, 'will,': 9, 'lord;': 9, 'ourselves': 9, 'rest': 9, 'gertrude,': 9, 'three': 9, 'thank': 9, 'mother.': 9, '(sings)': 9, 'daughter': 8, 'father.': 8, 'fran.': 8, 'answer': 8, 'horatio': 8, 'sit': 8, 'thought': 8, 'fell': 8, 'unto': 8, 'again.': 8, 'stay': 8, 'walk': 8, 'wherein': 8, 'business': 8, 'doubt': 8, 'heart,': 8, 'nature,': 8, 'shows': 8, 'mind': 8, 'come.': 8, 'name': 8, 'both.': 8, 'there.': 8, 'will.': 8, 'them,': 8, 'more.': 8, 'way': 8, 'every': 8, 'remember': 8, 'said': 8, 'yourself': 8, 'free': 8, 'fit': 8, 'another': 8, 'wilt': 8, 'thee,': 8, \"here's\": 8, 'age': 8, 'grief': 8, 'gave': 8, 'sir;': 8, 'speech': 8, 'lie': 8, 'sense': 8, 'denmark.': 7, 'courtier.': 7, 'players.': 7, 'night.': 7, 'ho!': 7, 'friends': 7, 'welcome,': 7, 'says': 7, 'watch': 7, 'this.': 7, 'all,': 7, 'break': 7, 'particular': 7, 'who,': 7, 'there,': 7, 'soft!': 7, 'done,': 7, 'spirit': 7, 'power': 7, \"brother's\": 7, 'memory': 7, 'whole': 7, 'news': 7, 'beseech': 7, 'laertes.': 7, 'father;': 7, \"king's\": 7, 'again,': 7, 'good.': 7, '[to': 7, 'fellow': 7, 'come!': 7, 'that?': 7, 'so?': 7, 'grow': 7, 'understand': 7, 'takes': 7, 'custom': 7, 'action': 7, 'done': 7, 'sure': 7, 'ho,': 7, 'needs': 7, 'is,': 7, 'sword,': 7, 'times': 7, 'receive': 7, 'he,': 7, 'gives': 7, 'lady,': 7, 'more,': 7, 'deed': 7, 'england': 7, 'death.': 7, 'noise': 7, 'capt.': 7, 'fine': 7, 'polonius,': 6, 'rosencrantz,': 6, 'fortinbras,': 6, 'watch,': 6, 'bid': 6, 'honest': 6, 'piece': 6, 'us.': 6, 'down,': 6, \"t'\": 6, 'away!': 6, 'speak,': 6, 'god,': 6, 'work': 6, 'cast': 6, 'state': 6, 'on,': 6, 'it!': 6, 'whether': 6, 'time.': 6, 'ii.': 6, 'eye,': 6, 'father,': 6, 'laertes?': 6, 'lose': 6, 'wouldst': 6, 'go.': 6, 'less': 6, 'alone': 6, 'back': 6, 'face': 6, 'tears': 6, 'eyes,': 6, 'wicked': 6, 'drink': 6, \"mother's\": 6, 'day,': 6, 'gentlemen,': 6, 'word': 6, 'hands': 6, 'top': 6, 'pale': 6, 'fare': 6, 'choice': 6, 'wisdom': 6, 'lies': 6, 'double': 6, 'for.': 6, 'neither': 6, 'false': 6, 'man.': 6, 'tongue': 6, 'light': 6, 'now?': 6, 'mean,': 6, 'general': 6, 'speak.': 6, 'murther': 6, 'be.': 6, 'wholesome': 6, 'damned': 6, 'her.': 6, 'matter.': 6, 'hamlet!': 6, 'him!': 6, 'friends,': 6, 'sword.': 6, 'indeed.': 6, 'myself': 6, 'aught': 6, 'passion': 6, 'letters': 6, 'love.': 6, 'whom': 6, 'guildenstern': 6, 'in.': 6, 'it;': 6, 'round': 6, 'her,': 6, 'hamlet?': 6, 'gone,': 6, 'either': 6, '[aside': 6, 'fort.': 6, 'only': 6, 'see.': 6, '1.': 6, '[exeunt': 6, 'bloody': 6, 'devil': 6, 'purpose': 6, 'life.': 6, 'quick': 6, 'poison': 6, 'husband': 6, 'sir?': 6, 'help,': 6, 'laid': 6, 'guildenstern,': 5, 'meet': 5, 'nothing.': 5, 'awhile,': 5, 'dead.': 5, 'king?': 5, 'warlike': 5, 'buried': 5, 'speak!': 5, 'known': 5, 'hot': 5, 'state,': 5, 'blood,': 5, 'coming': 5, 'which,': 5, 'air,': 5, 'season': 5, 'dare': 5, 'for,': 5, 'late': 5, 'lost': 5, 'writ': 5, 'told': 5, \"is't,\": 5, 'dread': 5, 'toward': 5, 'common': 5, 'throw': 5, 'note': 5, 'gentle': 5, 'away.': 5, 'god!': 5, 'rank': 5, 'visit': 5, 'report': 5, 'horatio!': 5, 'once.': 5, 'point': 5, 'knew': 5, 'it?': 5, 'yes,': 5, 'beard': 5, 'ophelia.': 5, 'voice': 5, 'head.': 5, 'place': 5, 'honour': 5, 'shot': 5, 'enough': 5, 'dull': 5, \"man's\": 5, 'humbly': 5, 'think,': 5, 'fashion': 5, 'speech,': 5, 'hour': 5, 'off.': 5, 'phrase': 5, \"fortune's\": 5, 'hell,': 5, 'cries': 5, 'hear.': 5, 'shalt': 5, 'revenge': 5, 'fat': 5, 'went': 5, 'sudden': 5, 'vile': 5, 'then?': 5, 'grave': 5, 'offence': 5, 'too.': 5, 'under': 5, 'swear.': 5, 'help': 5, 'shall,': 5, 'out,': 5, 'means,': 5, 'son,': 5, 'him;': 5, 'gentleman.': 5, \"in's\": 5, 'truly': 5, 'over': 5, 'lack': 5, 'move': 5, 'brought': 5, 'whereon': 5, 'pass': 5, 'welcome': 5, 'ill': 5, 'sun': 5, 'herself': 5, 'try': 5, 'four': 5, 'behind': 5, 'arras': 5, 'save': 5, 'one.': 5, 'bad': 5, 'themselves': 5, \"'the\": 5, 'black': 5, 'fall': 5, 'mortal': 5, 'drown': 5, 'conscience': 5, 'joy': 5, 'hope': 5, 'himself.': 5, 'turn': 5, 'breath': 5, 'too,': 5, 'woe': 5, 'danish': 5, 'eat': 5, 'shame': 5, 'beg': 5, 'drink,': 5, 'gentleman': 5, 'water': 5, 'alexander': 5, \"woo't\": 5, 'marcellus,': 4, 'present': 4, 'friend': 4, 'voltemand,': 4, 'osric,': 4, 'yourself.': 4, 'struck': 4, 'sick': 4, 'heart.': 4, 'quiet': 4, 'marcellus.': 4, 'ground.': 4, 'dane.': 4, 'farewell,': 4, 'twice': 4, \"'twill\": 4, 'star': 4, 'course': 4, 'again!': 4, 'looks': 4, 'like.': 4, 'charge': 4, 'see,': 4, 'gone': 4, 'strange': 4, 'land,': 4, 'cannon': 4, 'was,': 4, 'fortinbras': 4, 'lands': 4, 'stood': 4, 'other,': 4, 'motive': 4, 'fire,': 4, 'voice,': 4, 'treasure': 4, 'spirits': 4, 'stop': 4, 'guilty': 4, 'trumpet': 4, 'sea': 4, 'truth': 4, \"'gainst\": 4, 'stir': 4, 'gracious': 4, 'look,': 4, 'impart': 4, 'dumb': 4, 'morning': 4, 'flourish.': 4, '[enter': 4, 'sorrow': 4, 'sister,': 4, 'thinking': 4, 'dream': 4, 'brother.': 4, 'uncle': 4, 'purpose,': 4, 'commend': 4, 'native': 4, 'mouth,': 4, 'hard': 4, 'eye': 4, 'lives': 4, 'seems': 4, 'thee?': 4, 'is.': 4, 'bound': 4, 'fault': 4, 'dead,': 4, 'obey': 4, 'health': 4, 'flesh': 4, \"on't!\": 4, 'grows': 4, 'grown': 4, 'yet,': 4, 'discourse': 4, 'glad': 4, 'teach': 4, 'deep': 4, 'prithee': 4, 'mock': 4, 'forth': 4, 'methinks': 4, 'thrice': 4, 'did,': 4, 'kept': 4, 'time,': 4, 'methought': 4, 'sound': 4, \"honour'd\": 4, \"look'd\": 4, 'perchance': 4, 'assume': 4, 'hell': 4, 'silence': 4, 'tongue.': 4, 'still,': 4, 'iii.': 4, 'house': 4, 'service': 4, 'withal.': 4, 'perhaps': 4, 'beauty': 4, 'effect': 4, 'blessing': 4, 'leave.': 4, 'entertainment': 4, 'in,': 4, 'habit': 4, 'friend,': 4, 'tender': 4, 'command': 4, 'iv.': 4, 'air': 4, 'keeps': 4, 'choose': 4, 'infinite': 4, 'mean': 4, 'thou,': 4, 'puts': 4, 'desperate': 4, 'direct': 4, 'lead': 4, 'lend': 4, 'days': 4, 'tale': 4, 'start': 4, 'part,': 4, 'ears': 4, 'blood.': 4, 'didst': 4, 'natural': 4, 'court': 4, 'cursed': 4, 'holds': 4, 'instant': 4, 'body.': 4, 'crown,': 4, 'act,': 4, 'yea,': 4, 'table': 4, 'villain!': 4, 'lord-': 4, 'swear': 4, 'hither,': 4, 'said,': 4, 'welcome.': 4, 'earth,': 4, 'arms': 4, 'fingers': 4, 'touch': 4, 'mass,': 4, 'out.': 4, \"b'\": 4, 'ophelia?': 4, 'took': 4, \"turn'd\": 4, 'violent': 4, 'property': 4, 'mad.': 4, 'judgment': 4, 'hide': 4, '[with': 4, 'found': 4, 'sends': 4, 'down.': 4, 'madness,': 4, 'white': 4, 'me;': 4, 'ear.': 4, 'fain': 4, 'thence': 4, 'ten': 4, 'daughter.': 4, 'honesty': 4, 'fortune': 4, 'ambition': 4, 'nay': 4, 'world,': 4, 'laugh': 4, 'lady': 4, 'cry': 4, 'hands,': 4, 'lest': 4, \"to't\": 4, 'french': 4, 'fly': 4, 'straight.': 4, 'play,': 4, 'speaks': 4, 'pyrrhus': 4, 'sword': 4, 'more!': 4, 'not?': 4, 'i!': 4, 'passion,': 4, 'cause,': 4, \"damn'd\": 4, 'calls': 4, 'pate': 4, 'dangerous': 4, 'confess': 4, 'bestow': 4, 'heavy': 4, 'sleep': 4, 'right': 4, 'fair,': 4, 'fool': 4, 'rose': 4, 'send': 4, 'feed': 4, 'wear': 4, 'now.': 4, \"kill'd\": 4, 'kill': 4, 'half': 4, 'imports': 4, 'me!': 4, 'shortly': 4, 'pardon': 4, 'mother!': 4, 'stronger': 4, 'end.': 4, 'meet.': 4, 'done.': 4, \"lov'd\": 4, 'mark.': 4, 'mess.': 4, 'bore': 4, 'sing': 4, 'christian': 4, 'wager': 4, 'skull': 4, 'lordship': 4, 'six': 4, 'officer.': 3, 'nephew': 3, 'priest.': 3, 'ambassadors.': 3, 'denmark,': 3, 'soldiers,': 3, 'platform': 3, 'then]': 3, \"appear'd\": 3, 'touching': 3, 'sight,': 3, 'nights': 3, 'myself,': 3, 'peace!': 3, 'sometimes': 3, 'offended.': 3, 'eyes.': 3, 'before,': 3, 'gross': 3, 'state.': 3, 'sore': 3, 'image': 3, '(for': 3, \"seal'd\": 3, 'law': 3, \"return'd\": 3, 'list': 3, 'recover': 3, 'strong': 3, 'terms': 3, 'main': 3, 'chief': 3, 'sort': 3, 'eye.': 3, 'high': 3, 'stands': 3, 'prologue': 3, 'arms.': 3, 'ease,': 3, 'cock': 3, 'stay,': 3, 'throat': 3, 'herein': 3, 'up;': 3, 'to-night': 3, 'spirit,': 3, \"do't,\": 3, 'sister': 3, 'lords': 3, 'grief,': 3, 'kingdom': 3, 'wisest': 3, 'sometime': 3, 'delight': 3, 'taken': 3, 'wife;': 3, 'frame,': 3, 'importing': 3, 'hears': 3, 'giving': 3, 'have,': 3, 'favour': 3, 'return': 3, 'bend': 3, 'france': 3, 'polonius?': 3, 'slow': 3, 'cousin': 3, 'hang': 3, 'off,': 3, 'passing': 3, 'solemn': 3, 'black,': 3, 'breath,': 3, 'shapes': 3, 'understanding': 3, 'cheer': 3, 'loving': 3, 'sits': 3, 'heart;': 3, \"fix'd\": 3, 'uses': 3, 'fie': 3, 'ah,': 3, 'this!': 3, 'months': 3, 'much,': 3, 'winds': 3, 'month,': 3, 'she,': 3, 'salt': 3, 'forget': 3, 'change': 3, 'you.-': 3, 'thrift,': 3, 'marriage': 3, 'goodly': 3, 'father?': 3, 'ear,': 3, \"god's\": 3, 'gentlemen': 3, 'whilst': 3, 'fear,': 3, 'dreadful': 3, 'comes.': 3, 'none.': 3, 'up.': 3, 'countenance': 3, \"stay'd\": 3, 'to-night.': 3, 'peace.': 3, 'honour.': 3, \"men's\": 3, 'sweet,': 3, 'inward': 3, 'wide': 3, 'loves': 3, 'himself,': 3, 'safety': 3, 'chaste': 3, 'maid': 3, 'occasion': 3, 'shame!': 3, 'tongue,': 3, 'canst': 3, 'audience': 3, 'them?': 3, 'phrase,': 3, \"you'll\": 3, 'heaven.': 3, 'fire.': 3, 'mere': 3, 'pious': 3, 'obey,': 3, 'air.': 3, 'wont': 3, 'flourish': 3, 'mind,': 3, 'pith': 3, 'grace,': 3, 'censure': 3, 'often': 3, 'defend': 3, 'shape': 3, 'royal': 3, 'burst': 3, 'bones,': 3, 'making': 3, 'disposition': 3, 'do?': 3, 'desire': 3, 'waves': 3, 'tempt': 3, 'base': 3, 'gentlemen.': 3, 'lets': 3, 'follow.': 3, 'v.': 3, 'pity': 3, 'hearing': 3, 'certain': 3, 'crimes': 3, 'prison': 3, 'list,': 3, 'is;': 3, 'revenge.': 3, 'sleeping': 3, 'soul!': 3, 'wit,': 3, 'wretch': 3, 'angel': 3, 'bed': 3, 'horrible!': 3, 'adieu,': 3, 'adieu!': 3, 'heaven!': 3, 'else?': 3, 'hold,': 3, 'ghost,': 3, 'commandment': 3, '(within)': 3, 'villain': 3, 'right!': 3, 'circumstance': 3, 'desires': 3, 'words,': 3, 'saint': 3, 'faith.': 3, 'already.': 3, '[beneath]': 3, 'wondrous': 3, 'seeing': 3, 'thus,': 3, 'need': 3, 'express': 3, 'polonius': 3, 'reynaldo.': 3, 'finding': 3, 'drift': 3, \"'i\": 3, \"if't\": 3, 'breathe': 3, 'liberty,': 3, 'fiery': 3, 'thus:': 3, \"wi'\": 3, 'observe': 3, 'music.': 3, 'matter?': 3, 'piteous': 3, 'love?': 3, 'arm,': 3, 'falls': 3, 'doors': 3, 'meant': 3, 'sith': 3, 'entreat': 3, 'vouchsafe': 3, 'hope,': 3, 'sovereign': 3, 'thanks,': 3, 'attendants].': 3, 'polonius.]': 3, 'friends.': 3, 'brother': 3, 'borne': 3, 'hand,': 3, 'majesty.': 3, 'likes': 3, 'read,': 3, 'answer,': 3, 'matter,': 3, 'mad,': 3, 'foolish': 3, 'then.': 3, 'rather': 3, 'her?': 3, 'awhile.': 3, \"hamlet.'\": 3, \"receiv'd\": 3, \"play'd\": 3, 'prince,': 3, 'short': 3, 'presently.': 3, 'honest,': 3, \"to't.\": 3, 'yourself,': 3, 'anything': 3, 'except': 3, 'sir!': 3, 'indifferent': 3, 'happy': 3, 'parts': 3, \"denmark's\": 3, 'count': 3, 'quality': 3, 'justly': 3, 'confession': 3, 'no.': 3, 'golden': 3, 'woman': 3, 'service.': 3, 'longer': 3, 'wrong': 3, 'carry': 3, 'yours.': 3, 'judge': 3, 'hadst': 3, \"'twas\": 3, 'modesty': 3, 'memory,': 3, 'finds': 3, \"pyrrhus'\": 3, 'anon': 3, 'new': 3, 'proof': 3, 'seen,': 3, 'treason': 3, 'sport': 3, 'hear?': 3, 'to-morrow': 3, \"in't,\": 3, 'slave': 3, 'conceit': 3, 'visage': 3, 'ears.': 3, 'ass': 3, 'cunning': 3, 'too;': 3, 'suffers': 3, 'wish': 3, 'word.': 3, 'suffer': 3, 'sleep.': 3, 'thought,': 3, 'soft': 3, 'now!': 3, 'again;': 3, 'imagination': 3, 'fellows': 3, 'heavens!': 3, 'another.': 3, 'quite': 3, 'madness.': 3, 'speed': 3, 'haply': 3, 'fit,': 3, 'warrant': 3, 'special': 3, 'others.': 3, 'quantity': 3, 'election': 3, 'guilt': 3, 'pay': 3, 'die': 3, 'year.': 3, 'up,': 3, 'leaves': 3, 'thirty': 3, 'bed.': 3, 'fortune,': 3, 'hence': 3, 'begin,': 3, 'weeds': 3, 'himself;': 3, 'cannot.': 3, 'heels': 3, 'pluck': 3, 'bless': 3, 'prepare': 3, 'bodies': 3, 'whereto': 3, \"do't.\": 3, 'kills': 3, 'sense.': 3, 'mountain': 3, 'charge,': 3, 'vice': 3, 'next': 3, 'alack,': 3, 'sponge,': 3, 'england.': 3, 'england,': 3, 'fortinbras.': 3, 'maid,': 3, '[sings]': 3, 'gertrude.': 3, 'becomes': 3, 'patience': 3, 'heard,': 3, 'sight': 3, 'burial.': 3, 'argal,': 3, 'gallows': 3, 'a-': 3, 'skull.]': 3, 'knave': 3, 'dust': 3, 'commission;': 3, 'hamlet]': 3, 'carriages,': 3, 'foils': 3, 'dies.': 3, 'prince': 2, 'claudius,': 2, 'cornelius,': 2, 'gentleman,': 2, 'bernardo,': 2, 'francisco,': 2, 'soldier': 2, 'reynaldo,': 2, 'servant': 2, 'clowns,': 2, 'english': 2, 'lords,': 2, 'sailors,': 2, 'messengers,': 2, 'attendants.': 2, '[who': 2, 'him].': 2, 'unfold': 2, 'king!': 2, 'he.': 2, 'twelve.': 2, 'bed,': 2, 'thanks.': 2, 'bitter': 2, 'cold,': 2, 'haste.': 2, 'stand,': 2, 'there?': 2, 'bernardo': 2, 'place.': 2, 'say-': 2, '?': 2, 'to-night?': 2, 'apparition': 2, 'approve': 2, 'tush,': 2, 'ears,': 2, 'seen.': 2, 'pole': 2, 'burns,': 2, 'bell': 2, 'beating': 2, 'one-': 2, 'spoke': 2, 'to.': 2, 'answer.': 2, 'horatio?': 2, 'tremble': 2, 'pale.': 2, \"on't?\": 2, 'thyself.': 2, 'armour': 2, 'ambitious': 2, 'norway': 2, 'strange.': 2, 'jump': 2, 'hour,': 2, 'not;': 2, 'scope': 2, 'knows,': 2, 'strict': 2, 'subject': 2, 'divide': 2, 'day?': 2, 'inform': 2, 'whisper': 2, 'valiant': 2, 'fortinbras;': 2, 'king;': 2, 'as,': 2, 'full,': 2, 'lawless': 2, 'appear': 2, 'lost;': 2, 'source': 2, 'figure': 2, 'armed': 2, 'trouble': 2, \"mind's\": 2, 'julius': 2, 'graves': 2, 'roman': 2, 'stars': 2, \"neptune's\": 2, 'empire': 2, 'doomsday': 2, 'fates': 2, 'lo,': 2, 'blast': 2, 'sound,': 2, 'happily': 2, 'here!': 2, 'gone!': 2, 'wrong,': 2, 'offer': 2, 'violence;': 2, 'blows': 2, 'malicious': 2, 'cock,': 2, 'morn,': 2, 'takes,': 2, 'walks': 2, 'dew': 2, 'hamlet;': 2, 'consent': 2, 'loves,': 2, 'attendant.': 2, 'woe,': 2, 'discretion': 2, 'remembrance': 2, 'ourselves.': 2, 'joy,': 2, 'marriage,': 2, 'equal': 2, 'scale': 2, 'freely': 2, 'affair': 2, 'weak': 2, 'worth,': 2, 'ourself': 2, 'scarcely': 2, \"nephew's\": 2, 'suppress': 2, 'gait': 2, 'bearers': 2, '[gives': 2, 'paper.]': 2, 'duty.': 2, 'volt.': 2, 'cornelius.': 2, 'voice.': 2, 'france;': 2, 'willingly': 2, 'bow': 2, 'leave?': 2, 'hath,': 2, 'thine,': 2, 'will!': 2, 'clouds': 2, 'sun.': 2, 'colour': 2, \"know'st\": 2, 'common.': 2, 'die,': 2, 'suits': 2, \"forc'd\": 2, 'visage,': 2, 'forms,': 2, 'actions': 2, 'play;': 2, 'lost,': 2, 'obligation': 2, 'term': 2, 'grief;': 2, 'sense,': 2, 'opposition': 2, 'fie!': 2, 'theme': 2, 'fathers,': 2, 'corse': 2, 'died': 2, \"'this\": 2, 'immediate': 2, 'dearest': 2, 'bears': 2, 'going': 2, 'wittenberg,': 2, 'remain': 2, 'courtier,': 2, 'son.': 2, 'prayers,': 2, 'reply.': 2, 'smiling': 2, 'drinks': 2, 'world!': 2, 'garden': 2, 'dead!': 2, 'two.': 2, 'earth!': 2, 'fed': 2, 'on;': 2, 'followed': 2, '(o': 2, 'beast': 2, 'wants': 2, 'married': 2, 'brother,': 2, 'left': 2, 'incestuous': 2, 'myself.': 2, 'ever.': 2, 'even,': 2, 'violence': 2, 'elsinore?': 2, 'funeral': 2, \"bak'd\": 2, 'coldly': 2, 'where,': 2, 'who?': 2, 'witness': 2, 'middle': 2, 'march': 2, 'secrecy': 2, 'third': 2, 'thing,': 2, 'good,': 2, 'motion,': 2, 'speak;': 2, 'true;': 2, 'sirs.': 2, \"arm'd,\": 2, 'face?': 2, 'like,': 2, 'long?': 2, 'no?': 2, 'sable': 2, 'hitherto': 2, 'still;': 2, 'to-night,': 2, 'requite': 2, 'loves.': 2, \"'twixt\": 2, '[all': 2, 'arms?': 2, 'sleep,': 2, 'fashion,': 2, 'toy': 2, 'perfume': 2, 'soil': 2, \"weigh'd,\": 2, 'depends': 2, 'fits': 2, 'weigh': 2, 'open': 2, 'affection,': 2, 'danger': 2, 'prodigal': 2, 'moon.': 2, 'canker': 2, 'galls': 2, 'spring': 2, \"disclos'd,\": 2, 'wary': 2, 'then;': 2, 'fear.': 2, 'long.': 2, 'aboard,': 2, 'shoulder': 2, 'sail,': 2, 'there-': 2, 'thee!': 2, 'few': 2, 'character.': 2, 'act.': 2, 'grapple': 2, 'palm': 2, 'beware': 2, 'purse': 2, 'proclaims': 2, 'station': 2, 'generous,': 2, 'be;': 2, 'edge': 2, 'above': 2, 'all-': 2, 'true,': 2, 'follow,': 2, 'tenders': 2, 'you!': 2, 'baby': 2, \"ta'en\": 2, '(not': 2, 'honourable': 2, 'to,': 2, 'to!': 2, 'holy': 2, 'vows': 2, 'catch': 2, 'daughter,': 2, 'heat,': 2, 'maiden': 2, 'show,': 2, 'breathing': 2, 'terms,': 2, 'moment': 2, 'leisure': 2, 'talk': 2, 'ways.': 2, 'eager': 2, 'struck.': 2, 'draws': 2, 'held': 2, 'rhenish': 2, 'chances': 2, 'guilty,': 2, 'reason,': 2, 'stamp': 2, 'defect,': 2, \"nature's\": 2, 'livery,': 2, 'virtues': 2, 'pure': 2, 'substance': 2, 'angels': 2, 'steel,': 2, 'moon,': 2, 'horridly': 2, 'shake': 2, 'beyond': 2, 'beckons': 2, 'alone.': 2, 'summit': 2, 'sea,': 2, 'brain': 2, 'petty': 2, 'after.': 2, 'issue': 2, 'rotten': 2, 'flames': 2, 'revenge,': 2, 'what?': 2, 'fast': 2, 'forbid': 2, 'stars,': 2, 'eternal': 2, 'love-': 2, 'unnatural': 2, 'murther.': 2, 'foul,': 2, 'swift': 2, 'sweep': 2, 'shouldst': 2, 'orchard,': 2, 'serpent': 2, 'youth,': 2, 'sting': 2, 'wears': 2, 'incestuous,': 2, 'beast,': 2, 'witchcraft': 2, 'wit': 2, 'vow': 2, 'gifts': 2, 'virtue,': 2, 'sate': 2, 'brief': 2, 'secure': 2, 'thin': 2, 'about,': 2, 'smooth': 2, 'cut': 2, 'couch': 2, 'contrive': 2, 'aught.': 2, 'bosom': 2, 'distracted': 2, 'wipe': 2, 'brain,': 2, 'baser': 2, 'villain,': 2, 'smile,': 2, 'are.': 2, 'arrant': 2, 'knave.': 2, 'desire,': 2, 'pray.': 2, 'wild': 2, 'sorry': 2, 'may.': 2, 'stage.': 2, 'on!': 2, 'oath,': 2, 'fast?': 2, 'never,': 2, 'odd': 2, 'could,': 2, 'me-': 2, 'mercy': 2, 'rest,': 2, 'willing,': 2, 'together.': 2, 'money': 2, 'said.': 2, 'keep,': 2, 'nearer': 2, 'demands': 2, \"'twere,\": 2, 'please;': 2, 'dishonour': 2, 'heed': 2, 'wild,': 2, 'gaming,': 2, 'swearing,': 2, 'faults': 2, 'wherefore': 2, 'fetch': 2, 'laying': 2, 'working,': 2, 'having': 2, 'closes': 2, \"'good\": 2, 'according': 2, 'this-': 2, 'say?': 2, \"'closes\": 2, \"so,'\": 2, 'former': 2, 'advice,': 2, 'ye': 2, 'inclination': 2, 'farewell!': 2, 'head,': 2, 'he?': 2, 'length': 2, 'last,': 2, 'sigh': 2, 'profound': 2, \"seem'd\": 2, 'ecstasy': 2, 'command,': 2, 'proper': 2, 'discretion.': 2, 'was.': 2, 'of.': 2, 'gather': 2, \"talk'd\": 2, 'living': 2, 'awhile': 2, 'profit': 2, 'visitation': 2, 'thanks': 2, 'remembrance.': 2, 'majesties': 2, 'might,': 2, 'rosencrantz.': 2, 'son.-': 2, 'heavens': 2, 'presence': 2, 'ambassadors': 2, 'liege,': 2, 'trail': 2, 'fruit': 2, 'first,': 2, 'brief,': 2, 'fine,': 2, 'assay': 2, 'commission': 2, 'allowance': 2, 'business.': 2, 'feast': 2, 'outward': 2, 'mad?': 2, 'art.': 2, 'true.': 2, 'remains': 2, 'thus.': 2, 'obedience,': 2, '[reads.]': 2, 'these,': 2, 'fire;': 2, 'best,': 2, 'place,': 2, 'faithful': 2, 'prove': 2, 'book,': 2, 'idle': 2, 'sight?': 2, 'mistress': 2, 'lock': 2, 'admit': 2, 'make,': 2, \"prov'd\": 2, 'know.': 2, 'lobby.': 2, \"fall'n\": 2, 'farm': 2, 'away,': 2, 'fishmonger.': 2, 'first.': 2, 'rogue': 2, 'purging': 2, 'thick': 2, 'down;': 2, 'if,': 2, 'grave?': 2, 'pregnant': 2, 'tedious': 2, 'polonius]': 2, '[polonius].': 2, 'friends!': 2, 'cap': 2, 'neither,': 2, 'secret': 2, 'true!': 2, \"world's\": 2, 'hither?': 2, 'prison.': 2, 'one;': 2, 'dreams': 2, 'shadow.': 2, 'wait': 2, 'matter!': 2, 'beggar': 2, 'thanks;': 2, 'sure,': 2, 'for?': 2, 'purpose.': 2, 'looks,': 2, 'end,': 2, 'rights': 2, 'guildenstern]': 2, 'brave': 2, 'pestilent': 2, 'apprehension': 2, 'delights': 2, 'stuff': 2, 'thoughts.': 2, 'hither': 2, 'freely,': 2, 'wonted': 2, 'rapiers': 2, 'scarce': 2, \"'em?\": 2, 'pursue': 2, 'nation': 2, 'argument': 2, 'unless': 2, 'player': 2, 'question.': 2, 'possible?': 2, 'hercules': 2, 'ducats': 2, 'little.': 2, \"'sblood,\": 2, 'comply': 2, 'gentlemen!': 2, 'them;': 2, 'prophesy': 2, 'right,': 2, 'actor': 2, 'actors': 2, 'tragedy,': 2, 'comedy,': 2, 'jephthah,': 2, 'loved': 2, 'follows': 2, 'more;': 2, 'five': 2, 'all.-': 2, 'friend?': 2, \"by'r\": 2, 'passionate': 2, 'speech.': 2, \"pleas'd\": 2, 'judgments': 2, 'cried': 2, 'lines': 2, 'author': 2, \"in't\": 2, 'rugged': 2, 'pyrrhus,': 2, 'priam': 2, 'accent': 2, 'antique': 2, 'rebellious': 2, 'falls,': 2, 'rage': 2, 'falls.': 2, 'senseless': 2, 'flaming': 2, 'base,': 2, 'painted': 2, 'stood,': 2, 'heavens,': 2, 'bold': 2, 'below': 2, 'death-': 2, 'sets': 2, 'spokes': 2, 'wheel,': 2, 'sleeps.': 2, 'mobled': 2, 'diadem': 2, 'caught': 2, \"husband's\": 2, 'burning': 2, 'epitaph': 2, 'scape': 2, 'merit': 2, 'dozen': 2, 'peasant': 2, 'force': 2, 'nothing!': 2, 'weep': 2, 'have?': 2, 'stage': 2, 'horrid': 2, 'free,': 2, 'confound': 2, 'defeat': 2, 'plucks': 2, 'ha?': 2, \"'swounds,\": 2, 'gall': 2, 'presently': 2, 'organ,': 2, 'uncle.': 2, 'looks;': 2, 'potent': 2, 'well?': 2, 'question,': 2, 'way.': 2, 'already': 2, 'order': 2, 'content': 2, 'drive': 2, 'frankly': 2, 'affliction': 2, 'read': 2, 'exercise': 2, 'coming.': 2, 'die-': 2, 'sleep-': 2, 'pause.': 2, 'respect': 2, 'whips': 2, 'proud': 2, 'spurns': 2, 'patient': 2, 'unworthy': 2, 'sweat': 2, 'others': 2, 'currents': 2, 'yours': 2, 'wax': 2, 'ha!': 2, 'sooner': 2, 'proof.': 2, 'relish': 2, 'heaven?': 2, 'all;': 2, 'nunnery.': 2, \"where's\": 2, 'snow,': 2, 'escape': 2, 'marry': 2, 'nunnery,': 2, 'heavenly': 2, 'face,': 2, 'creatures': 2, 'glass': 2, 'wretched,': 2, \"suck'd\": 2, 'music': 2, 'vows,': 2, 'tune': 2, 'demand': 2, 'neglected': 2, 'variable': 2, 'expel': 2, 'brains': 2, \"plac'd\": 2, 'ones': 2, 'hall': 2, 'mouth': 2, 'tear': 2, 'avoid': 2, 'player.': 2, 'suit': 2, 'word,': 2, 'playing,': 2, 'nature;': 2, 'tardy': 2, 'laugh,': 2, 'men,': 2, 'necessary': 2, 'ready.': 2, 'just': 2, 'prithee,': 2, 'join': 2, 'trumpets': 2, 'guard': 2, 'fares': 2, 'mine.': 2, 'capital': 2, 'lap?': 2, 'nothing,': 2, 'cheerfully': 2, 'kisses': 2, 'pours': 2, 'poisoner': 2, 'harsh': 2, 'belike': 2, 'fellow.': 2, '[exit.]': 2, 'wash': 2, 'ground,': 2, 'twelve': 2, 'know;': 2, 'great,': 2, 'fears': 2, 'powers': 2, 'do.': 2, 'rest!': 2, 'accident.': 2, 'fortunes': 2, 'tend,': 2, 'want': 2, 'directly': 2, 'enemy.': 2, 'ours,': 2, 'own.': 2, 'trust': 2, 'mischance': 2, 'play?': 2, \"she'll\": 2, \"in't?\": 2, 'no!': 2, 'jest,': 2, 'world.': 2, 'wife,': 2, 'knavish': 2, 'work;': 2, 'majesty,': 2, 'souls,': 2, 'cost': 2, 'creature': 2, 'rank,': 2, \"for's\": 2, 'estate.': 2, 'murtherer': 2, 'lights,': 2, 'runs': 2, 'jove': 2, 'music!': 2, 'recorders!': 2, 'choler.': 2, 'richer': 2, 'signify': 2, 'wildly': 2, 'affair.': 2, 'tame,': 2, 'command;': 2, 'rather,': 2, 'amazement': 2, 'closet': 2, 'trade': 2, 'door': 2, 'deny': 2, 'denmark?': 2, 'you-': 2, 'pipe?': 2, 'instrument': 2, 'yonder': 2, 'weasel.': 2, 'whale.': 2, 'by-and-by.': 2, 'hamlet.]': 2, 'cruel,': 2, 'daggers': 2, 'safe': 2, 'single': 2, 'dies': 2, 'sigh,': 2, 'closet.': 2, 'heaven;': 2, 'murther!': 2, 'serves': 2, 'offence?': 2, 'prayer': 2, 'fall,': 2, \"pardon'd\": 2, 'serve': 2, 'forehead': 2, 'wretched': 2, 'revenge!': 2, 'broad': 2, 'knows': 2, 'pleasure': 2, 'bed;': 2, 'sickly': 2, 'home': 2, 'with,': 2, 'forgot': 2, 'so!': 2, '[behind]': 2, 'and]': 2, 'done?': 2, 'sees': 2, 'rash,': 2, 'fortune.': 2, 'rude': 2, 'there;': 2, 'ay': 2, 'loud': 2, 'assurance': 2, 'step': 2, \"ne'er\": 2, \"was't\": 2, 'feeling': 2, 'proclaim': 2, 'corruption,': 2, 'precedent': 2, 'precious': 2, 'stole': 2, 'fighting': 2, 'lady?': 2, 'soldiers': 2, 'flame': 2, 'convert': 2, 'unction': 2, 'spread': 2, 'scourge': 2, 'worse': 2, 'wanton': 2, 'pair': 2, 'neck': 2, 'basket': 2, 'ape,': 2, 'england;': 2, 'blow': 2, 'guts': 2, 'providence': 2, 'skill': 2, 'guildenstern!': 2, 'chapel.': 2, 'level': 2, 'hit': 2, 'passage': 2, 'dry': 2, 'sleeps': 2, 'eyes;': 2, 'without,': 2, 'pleasure.': 2, 'where?': 2, 'worm': 2, 'table.': 2, 'fish': 2, 'thither': 2, 'messenger': 2, 'attendants.]': 2, 'everything': 2, 'england?': 2, 'england!': 2, 'awe': 2, 'effect,': 2, 'army': 2, \"promis'd\": 2, 'kingdom.': 2, 'poland,': 2, 'gain': 2, 'patch': 2, 'ground': 2, 'yield': 2, 'polack': 2, 'twenty': 2, 'delicate': 2, 'trick': 2, 'fame': 2, 'fight': 2, 'continent': 2, 'gent.': 2, 'amiss.': 2, 'ophelia': 2, 'true-love': 2, 'larded': 2, 'pretty': 2, 'ophelia!': 2, \"do't\": 2, 'blame.': 2, 'thus?': 2, 'cold': 2, 'ladies.': 2, 'horatio.]': 2, 'slain;': 2, 'next,': 2, 'wonder,': 2, 'clouds,': 2, 'stick': 2, 'person': 2, 'give,': 2, 'within.': 2, 'door.': 2, 'messenger.': 2, \"king!'\": 2, 'tongues': 2, 'calm': 2, 'divinity': 2, 'would,': 2, \"incens'd.\": 2, 'possible': 2, 'wits': 2, 'nony,': 2, 'remember.': 2, 'rue': 2, 'again?': 2, 'dead;': 2, 'right.': 2, 'attendant.]': 2, 'sailor.': 2, 'got': 2, 'repair': 2, 'letters,': 2, 'knowing': 2, 'reasons,': 2, \"she's\": 2, 'moves': 2, \"desp'rate\": 2, 'flat': 2, 'undertake': 2, 'practice': 2, 'envy': 2, \"in't.\": 2, 'horse': 2, 'rapier': 2, 'begun': 2, 'hurts': 2, 'excellence': 2, 'heads.': 2, 'queen?': 2, \"drown'd,\": 2, 'liberal': 2, \"drown'd\": 2, 'dig': 2, 'builds': 2, 'mason,': 2, 'shipwright,': 2, 'carpenter?': 2, 'afar': 2, \"prais'd\": 2, 'spade,': 2, 'pit': 2, 'clay': 2, 'guest': 2, 'fines,': 2, 'mine,': 2, 'liest': 2, 'lie,': 2, 'absolute': 2, 'is!': 2, 'years.': 2, 'nine': 2, 'skull,': 2, 'trace': 2, 'consider': 2, 'earth;': 2, 'ceremony': 2, 'thrown': 2, 'grave.': 2, 'treble': 2, '[the': 2, 'attendants': 2, 'plots': 2, 'peace': 2, 'less,': 2, 'quit': 2, 'here?': 2, 'horatio]': 2, 'spirit.': 2, \"all's\": 2, 'barbary': 2, \"impon'd,\": 2, 'assigns,': 2, 'sides.': 2, 'hall.': 2, 'win': 2, 'odds.': 2, 'wine': 2, 'embrace': 2, 'osric.': 2, 'hit,': 2, 'ordnance': 2, 'union': 2, 'hit.': 2, 'drink.': 2, 'cup.': 2, 'late.': 2, '[laertes': 2, 'wounds': 2, 'drink!': 2, \"poison'd.\": 2, 'treason!': 2, '[march': 2, 'within.]': 2, 'tragedy': 1, 'william': 1, 'shakespeare': 1, 'dramatis': 1, 'personae': 1, 'former,': 1, 'chamberlain.': 1, 'gravediggers.': 1, 'norway.': 1, 'norwegian': 1, 'captain.': 1, 'getrude,': 1, 'ladies,': 1, 'officers,': 1, 'scene.-': 1, 'sentinels-[first,]': 1, 'paces': 1, 'post;': 1, 'approaches': 1, \"who's\": 1, 'there.?': 1, 'bernardo?': 1, 'carefully': 1, 'hour.': 1, 'francisco.': 1, 'relief': 1, 'guard?': 1, 'mouse': 1, 'stirring.': 1, 'rivals': 1, 'liegemen': 1, 'soldier.': 1, \"reliev'd\": 1, 'holla,': 1, 'bernardo!': 1, 'fantasy,': 1, 'belief': 1, 'dreaded': 1, 'entreated': 1, 'along,': 1, 'minutes': 1, 'appear.': 1, 'assail': 1, 'fortified': 1, 'story,': 1, 'yond': 1, 'westward': 1, 'illume': 1, 'marcellus': 1, 'off!': 1, 'figure,': 1, 'scholar;': 1, 'harrows': 1, 'wonder.': 1, \"usurp'st\": 1, 'march?': 1, 'stalks': 1, 'stay!': 1, 'fantasy?': 1, 'sensible': 1, 'avouch': 1, 'combated.': 1, \"frown'd\": 1, 'when,': 1, 'angry': 1, 'parle,': 1, 'smote': 1, 'sledded': 1, 'polacks': 1, 'ice.': 1, 'martial': 1, 'stalk': 1, 'watch.': 1, 'opinion,': 1, 'bodes': 1, 'eruption': 1, 'observant': 1, 'nightly': 1, 'toils': 1, 'daily': 1, 'brazen': 1, 'foreign': 1, 'mart': 1, 'implements': 1, 'war;': 1, 'impress': 1, 'shipwrights,': 1, 'task': 1, 'sunday': 1, 'week.': 1, 'toward,': 1, 'sweaty': 1, 'joint-labourer': 1, 'least,': 1, 'thereto': 1, \"prick'd\": 1, 'emulate': 1, 'pride,': 1, \"dar'd\": 1, 'combat;': 1, 'side': 1, \"esteem'd\": 1, 'him)': 1, 'slay': 1, 'compact,': 1, 'ratified': 1, 'heraldry,': 1, 'forfeit,': 1, \"seiz'd\": 1, 'of,': 1, 'conqueror;': 1, 'moiety': 1, 'competent': 1, 'gaged': 1, 'inheritance': 1, 'vanquisher,': 1, 'comart': 1, 'carriage': 1, 'article': 1, \"design'd,\": 1, 'unimproved': 1, 'mettle': 1, 'skirts': 1, \"shark'd\": 1, 'resolutes,': 1, 'food': 1, 'diet,': 1, 'enterprise': 1, 'stomach': 1, \"in't;\": 1, 'compulsatory,': 1, 'foresaid': 1, 'preparations,': 1, 'post-haste': 1, 'romage': 1, 'land.': 1, 'portentous': 1, 'wars.': 1, 'mote': 1, 'palmy': 1, 'rome,': 1, 'mightiest': 1, 'fell,': 1, 'tenantless,': 1, 'sheeted': 1, 'squeak': 1, 'gibber': 1, 'streets;': 1, 'trains': 1, 'dews': 1, 'disasters': 1, 'sun;': 1, 'moist': 1, 'influence': 1, 'eclipse.': 1, 'precurse': 1, 'fierce': 1, 'events,': 1, 'harbingers': 1, 'preceding': 1, 'omen': 1, 'demonstrated': 1, 'climature': 1, 'countrymen.': 1, 'behold!': 1, 'cross': 1, 'me.-': 1, 'illusion!': 1, 'spreads': 1, 'race': 1, 'privy': 1, \"country's\": 1, 'fate,': 1, 'foreknowing': 1, 'avoid,': 1, 'uphoarded': 1, 'extorted': 1, 'womb': 1, 'death),': 1, 'crows.': 1, 'speak!-': 1, 'marcellus!': 1, 'strike': 1, 'partisan?': 1, 'stand.': 1, 'majestical,': 1, 'invulnerable,': 1, 'vain': 1, 'mockery.': 1, 'crew.': 1, 'started,': 1, 'fearful': 1, 'summons.': 1, 'lofty': 1, 'shrill-sounding': 1, 'awake': 1, 'day;': 1, 'warning,': 1, 'extravagant': 1, 'erring': 1, 'hies': 1, 'confine;': 1, 'object': 1, 'probation.': 1, 'faded': 1, 'crowing': 1, 'cock.': 1, 'ever,': 1, \"saviour's\": 1, 'birth': 1, 'celebrated,': 1, 'bird': 1, 'dawning': 1, 'singeth': 1, 'long;': 1, 'abroad,': 1, 'wholesome,': 1, 'planets': 1, 'strike,': 1, 'fairy': 1, 'witch': 1, 'charm,': 1, \"hallow'd\": 1, 'russet': 1, 'mantle': 1, 'clad,': 1, 'yon': 1, 'eastward': 1, 'hill.': 1, 'advice': 1, 'acquaint': 1, 'needful': 1, 'fitting': 1, 'duty?': 1, 'pray;': 1, 'conveniently.': 1, 'gertrude': 1, '[voltemand,': 1, 'cornelius,]': 1, 'green,': 1, 'befitted': 1, 'hearts': 1, 'contracted': 1, 'brow': 1, 'fought': 1, 'imperial': 1, 'jointress': 1, 'we,': 1, 'defeated': 1, 'auspicious,': 1, 'dropping': 1, 'mirth': 1, 'funeral,': 1, 'dirge': 1, 'weighing': 1, 'dole,': 1, \"barr'd\": 1, 'wisdoms,': 1, 'along.': 1, 'follows,': 1, 'holding': 1, 'supposal': 1, 'disjoint': 1, 'colleagued': 1, 'advantage,': 1, \"fail'd\": 1, 'pester': 1, 'message': 1, 'surrender': 1, 'bands': 1, 'law,': 1, 'meeting.': 1, 'is:': 1, 'impotent': 1, 'bedrid,': 1, 'herein,': 1, 'levies,': 1, 'lists,': 1, 'proportions': 1, 'subject;': 1, 'dispatch': 1, 'greeting': 1, 'personal': 1, 'dilated': 1, 'articles': 1, 'allow.': 1, 'cor.,': 1, 'things,': 1, 'heartily': 1, 'voltemand': 1, 'suit.': 1, 'dane': 1, 'beg,': 1, 'offer,': 1, 'asking?': 1, 'instrumental': 1, 'throne': 1, 'whence': 1, 'coronation,': 1, 'confess,': 1, 'wishes': 1, 'pardon.': 1, 'wrung': 1, 'laboursome': 1, 'petition,': 1, 'consent.': 1, 'graces': 1, 'spend': 1, 'son-': 1, 'kin,': 1, 'kind!': 1, 'nighted': 1, 'vailed': 1, 'lids': 1, 'dust.': 1, 'eternity.': 1, 'seems,': 1, \"'seems.'\": 1, 'inky': 1, 'cloak,': 1, 'customary': 1, 'windy': 1, 'suspiration': 1, 'fruitful': 1, 'river': 1, 'dejected': 1, 'havior': 1, 'moods,': 1, \"'that\": 1, 'denote': 1, 'truly.': 1, 'seem,': 1, 'passeth': 1, 'show-': 1, 'trappings': 1, 'woe.': 1, 'commendable': 1, 'mourning': 1, 'duties': 1, 'his,': 1, 'survivor': 1, 'filial': 1, 'obsequious': 1, 'sorrow.': 1, 'persever': 1, 'obstinate': 1, 'condolement': 1, 'impious': 1, 'stubbornness.': 1, 'unmanly': 1, 'incorrect': 1, 'unfortified,': 1, 'impatient,': 1, 'simple': 1, \"unschool'd;\": 1, 'vulgar': 1, 'peevish': 1, 'heart?': 1, 'absurd,': 1, 'cried,': 1, 'to-day,': 1, \"so.'\": 1, 'unprevailing': 1, 'throne,': 1, 'nobility': 1, 'intent': 1, 'school': 1, 'retrograde': 1, 'desire;': 1, 'comfort': 1, 'chiefest': 1, 'cousin,': 1, 'wittenberg.': 1, 'madam.': 1, \"unforc'd\": 1, 'accord': 1, 'whereof,': 1, 'jocund': 1, 'to-day': 1, 'tell,': 1, 'rouse': 1, 'bruit': 1, 'respeaking': 1, 'earthly': 1, 'thunder.': 1, 'solid': 1, 'melt,': 1, 'thaw,': 1, 'resolve': 1, 'dew!': 1, 'everlasting': 1, 'canon': 1, 'self-slaughter!': 1, 'weary,': 1, 'stale,': 1, 'flat,': 1, 'unprofitable': 1, 'unweeded': 1, 'seed;': 1, 'possess': 1, 'merely.': 1, 'hyperion': 1, 'satyr;': 1, 'beteem': 1, 'roughly.': 1, 'remember?': 1, 'increase': 1, 'appetite': 1, 'month-': 1, 'frailty,': 1, 'woman!-': 1, 'shoes': 1, 'niobe,': 1, 'tears-': 1, \"mourn'd\": 1, 'longer)': 1, 'uncle;': 1, 'hercules.': 1, 'unrighteous': 1, 'flushing': 1, 'galled': 1, 'married.': 1, 'speed,': 1, 'post': 1, 'dexterity': 1, 'sheets!': 1, 'tongue!': 1, 'bernardo.': 1, 'hail': 1, 'lordship!': 1, 'horatio!-': 1, 'same,': 1, 'friend-': 1, 'marcellus?': 1, 'bernardo]': 1, 'sir.-': 1, 'wittenberg?': 1, 'truant': 1, 'disposition,': 1, 'enemy': 1, 'truster': 1, 'truant.': 1, 'depart.': 1, 'funeral.': 1, 'student.': 1, 'wedding.': 1, 'upon.': 1, 'meats': 1, 'furnish': 1, 'tables.': 1, 'met': 1, 'foe': 1, 'father-': 1, 'yesternight.': 1, 'saw?': 1, 'admiration': 1, 'attent': 1, 'deliver': 1, 'marvel': 1, 'hear!': 1, '(marcellus': 1, 'bernardo)': 1, 'vast': 1, \"encount'red.\": 1, 'exactly,': 1, 'cap-a-pe,': 1, 'appears': 1, 'stately': 1, \"walk'd\": 1, \"oppress'd\": 1, 'fear-surprised': 1, \"truncheon's\": 1, 'length;': 1, \"distill'd\": 1, 'jelly': 1, 'watch;': 1, \"deliver'd,\": 1, \"watch'd.\": 1, 'did;': 1, 'lifted': 1, 'address': 1, 'crew': 1, 'loud,': 1, 'shrunk': 1, \"vanish'd\": 1, 'sight.': 1, 'live,': 1, 'troubles': 1, '[mar.': 1, 'ber.]': 1, 'toe?': 1, 'foot.': 1, 'wore': 1, 'beaver': 1, 'frowningly.': 1, 'anger.': 1, 'red?': 1, 'constantly.': 1, \"amaz'd\": 1, 'moderate': 1, 'hundred.': 1, 'longer,': 1, 'longer.': 1, \"saw't.\": 1, 'grizzled-': 1, \"silver'd.\": 1, \"warr'nt\": 1, 'person,': 1, 'gape': 1, \"conceal'd\": 1, 'tenable': 1, 'whatsoever': 1, 'hap': 1, 'platform,': 1, 'eleven': 1, 'twelve,': 1, 'hamlet].': 1, 'spirit-': 1, 'soul.': 1, 'deeds': 1, 'rise,': 1, \"o'erwhelm\": 1, 'necessaries': 1, \"embark'd.\": 1, 'benefit': 1, 'convoy': 1, 'assistant,': 1, 'trifling': 1, 'favour,': 1, 'blood;': 1, 'violet': 1, 'primy': 1, 'forward,': 1, 'permanent-': 1, 'lasting;': 1, 'suppliance': 1, 'minute;': 1, 'crescent': 1, 'thews': 1, 'bulk;': 1, 'temple': 1, 'waxes,': 1, 'cautel': 1, 'besmirch': 1, 'will;': 1, 'greatness': 1, 'own;': 1, 'birth.': 1, 'unvalued': 1, 'persons': 1, 'carve': 1, \"circumscrib'd\": 1, 'yielding': 1, 'whereof': 1, 'saying': 1, 'deed;': 1, 'loss': 1, 'sustain': 1, 'credent': 1, 'songs,': 1, \"unmast'red\": 1, 'importunity.': 1, 'rear': 1, 'desire.': 1, 'chariest': 1, 'unmask': 1, 'scopes': 1, 'calumnious': 1, 'strokes.': 1, 'infants': 1, 'buttons': 1, 'morn': 1, 'liquid': 1, 'contagious': 1, 'blastments': 1, 'imminent.': 1, 'rebels,': 1, 'near.': 1, 'lesson': 1, 'watchman': 1, 'ungracious': 1, 'pastors': 1, 'steep': 1, 'thorny': 1, 'whiles,': 1, \"puff'd\": 1, 'reckless': 1, 'libertine,': 1, 'primrose': 1, 'path': 1, 'dalliance': 1, 'treads': 1, 'recks': 1, 'rede.': 1, 'not!': 1, 'grace;': 1, 'smiles': 1, 'precepts': 1, \"unproportion'd\": 1, 'familiar,': 1, 'vulgar:': 1, 'hast,': 1, 'adoption': 1, 'tried,': 1, 'hoops': 1, 'steel;': 1, \"new-hatch'd,\": 1, \"unfledg'd\": 1, 'comrade.': 1, 'entrance': 1, 'quarrel;': 1, \"bear't\": 1, 'opposed': 1, 'voice;': 1, 'censure,': 1, 'reserve': 1, 'judgment.': 1, 'costly': 1, 'buy,': 1, \"express'd\": 1, 'fancy;': 1, 'rich,': 1, 'gaudy;': 1, 'apparel': 1, 'select': 1, 'borrower': 1, 'lender': 1, 'loan': 1, 'loses': 1, 'borrowing': 1, 'dulls': 1, 'husbandry.': 1, 'self': 1, 'leave,': 1, 'invites': 1, 'servants': 1, 'tend.': 1, \"lock'd,\": 1, 'key': 1, 'bethought!': 1, 'private': 1, 'bounteous.': 1, 'so-': 1, 'caution-': 1, 'clearly': 1, 'behooves': 1, 'truth.': 1, 'affection': 1, 'affection?': 1, 'pooh!': 1, 'green': 1, 'girl,': 1, 'unsifted': 1, 'perilous': 1, 'circumstance.': 1, 'tenders,': 1, 'pay,': 1, 'sterling.': 1, 'dearly,': 1, 'crack': 1, 'running': 1, 'thus)': 1, 'fool.': 1, \"importun'd\": 1, 'fashion.': 1, 'springes': 1, 'woodcocks!': 1, 'lends': 1, 'vows.': 1, 'blazes,': 1, 'extinct': 1, 'promise,': 1, 'a-making,': 1, 'scanter': 1, 'presence.': 1, 'entreatments': 1, 'higher': 1, 'rate': 1, 'parley.': 1, 'young,': 1, 'larger': 1, 'tether': 1, 'few,': 1, 'vows;': 1, 'brokers,': 1, 'dye': 1, 'investments': 1, 'implorators': 1, 'unholy': 1, 'suits,': 1, 'sanctified': 1, 'bawds,': 1, 'beguile.': 1, 'all:': 1, 'plain': 1, 'slander': 1, \"to't,\": 1, 'bites': 1, 'shrewdly;': 1, 'cold.': 1, 'nipping': 1, 'lacks': 1, 'indeed?': 1, 'walk.': 1, 'trumpets,': 1, 'pieces': 1, 'wake': 1, 'rouse,': 1, 'wassail,': 1, \"swagg'ring\": 1, 'upspring': 1, 'reels,': 1, 'drains': 1, 'draughts': 1, 'kettledrum': 1, 'bray': 1, 'triumph': 1, 'pledge.': 1, 'custom?': 1, \"is't;\": 1, 'manner': 1, 'born,': 1, 'breach': 1, 'observance.': 1, 'heavy-headed': 1, 'revel': 1, 'east': 1, 'west': 1, \"traduc'd\": 1, \"tax'd\": 1, 'nations;': 1, 'clip': 1, 'drunkards': 1, 'swinish': 1, 'addition;': 1, 'achievements,': 1, \"perform'd\": 1, 'height,': 1, 'marrow': 1, 'attribute.': 1, 'vicious': 1, 'mole': 1, 'birth,-': 1, 'origin,-': 1, \"o'ergrowth\": 1, 'complexion,': 1, 'breaking': 1, 'pales': 1, 'forts': 1, \"o'erleavens\": 1, 'plausive': 1, 'manners,': 1, 'carrying,': 1, 'star,': 1, 'else-': 1, 'undergo-': 1, 'corruption': 1, 'fault.': 1, 'dram': 1, \"e'il\": 1, 'dout': 1, 'scandal.': 1, 'comes!': 1, 'ministers': 1, 'us!': 1, 'goblin': 1, \"damn'd,\": 1, 'airs': 1, 'blasts': 1, 'intents': 1, 'charitable,': 1, \"com'st\": 1, 'questionable': 1, 'ignorance,': 1, \"canoniz'd\": 1, 'hearsed': 1, 'cerements;': 1, 'sepulchre': 1, 'quietly': 1, \"inurn'd,\": 1, \"op'd\": 1, 'ponderous': 1, 'marble': 1, 'jaws': 1, 'corse,': 1, 'complete': 1, 'revisits': 1, 'glimpses': 1, 'hideous,': 1, 'fools': 1, 'reaches': 1, 'souls?': 1, 'wherefore?': 1, 'impartment': 1, 'courteous': 1, 'removed': 1, 'means!': 1, 'fear?': 1, \"pin's\": 1, 'fee;': 1, 'immortal': 1, 'itself?': 1, 'flood,': 1, 'cliff': 1, 'beetles': 1, 'horrible': 1, 'deprive': 1, 'sovereignty': 1, 'madness?': 1, 'toys': 1, 'desperation,': 1, 'motive,': 1, 'fadoms': 1, 'roar': 1, 'beneath.': 1, 'still.': 1, 'hands!': 1, \"rul'd.\": 1, 'fate': 1, 'artire': 1, 'hardy': 1, 'nemean': 1, \"lion's\": 1, 'nerve.': 1, '[ghost': 1, 'beckons.]': 1, \"call'd.\": 1, 'unhand': 1, 'me!-': 1, 'away!-': 1, 'waxes': 1, 'imagination.': 1, 'wail': 1, 'come?': 1, 'fortifications.': 1, 'whither': 1, 'further.': 1, \"sulph'rous\": 1, 'tormenting': 1, 'render': 1, 'ghost!': 1, 'serious': 1, 'unfold.': 1, \"doom'd\": 1, \"confin'd\": 1, 'fires,': 1, 'burnt': 1, \"purg'd\": 1, 'secrets': 1, 'house,': 1, 'lightest': 1, 'harrow': 1, 'freeze': 1, 'spheres,': 1, 'knotted': 1, 'combined': 1, 'locks': 1, 'hair': 1, 'quills': 1, 'fretful': 1, 'porpentine.': 1, 'blazon': 1, 'list!': 1, 'murther?': 1, 'strange,': 1, 'unnatural.': 1, \"know't,\": 1, 'wings': 1, 'meditation': 1, 'apt;': 1, 'duller': 1, 'weed': 1, 'rots': 1, 'ease': 1, 'lethe': 1, 'wharf,': 1, 'stung': 1, 'forged': 1, 'process': 1, 'rankly': 1, \"abus'd.\": 1, 'crown.': 1, 'prophetic': 1, 'uncle?': 1, 'adulterate': 1, 'traitorous': 1, 'gifts-': 1, 'gifts,': 1, 'seduce!-': 1, 'won': 1, 'shameful': 1, 'lust': 1, 'seeming-virtuous': 1, 'falling-off': 1, 'dignity': 1, 'decline': 1, 'mine!': 1, \"mov'd,\": 1, 'lewdness': 1, 'lust,': 1, 'radiant': 1, \"link'd,\": 1, 'celestial': 1, 'prey': 1, 'garbage.': 1, 'scent': 1, 'always': 1, 'afternoon,': 1, 'stole,': 1, 'juice': 1, 'hebona': 1, 'vial,': 1, 'porches': 1, 'pour': 1, 'leperous': 1, 'distilment;': 1, 'enmity': 1, 'quicksilverr': 1, 'courses': 1, 'gates': 1, 'alleys': 1, 'body,': 1, 'vigour': 1, 'posset': 1, 'curd,': 1, 'droppings': 1, 'milk,': 1, 'mine;': 1, 'tetter': 1, \"bark'd\": 1, 'lazar-like,': 1, 'loathsome': 1, 'crust': 1, 'sleeping,': 1, \"dispatch'd;\": 1, 'blossoms': 1, 'sin,': 1, \"unhous'led,\": 1, 'disappointed,': 1, \"unanel'd,\": 1, 'reckoning': 1, 'made,': 1, 'account': 1, 'imperfections': 1, 'luxury': 1, 'incest.': 1, 'howsoever': 1, 'pursuest': 1, 'taint': 1, 'thorns': 1, 'lodge': 1, 'prick': 1, 'glowworm': 1, 'matin': 1, 'gins': 1, 'uneffectual': 1, 'host': 1, 'couple': 1, 'hell?': 1, 'heart!': 1, 'sinews,': 1, 'old,': 1, 'stiffly': 1, 'seat': 1, 'globe.': 1, 'trivial': 1, 'fond': 1, 'records,': 1, 'saws': 1, 'books,': 1, 'pressures': 1, 'past': 1, 'observation': 1, 'copied': 1, 'book': 1, 'volume': 1, \"unmix'd\": 1, 'pernicious': 1, 'woman!': 1, 'smiling,': 1, 'tables!': 1, 'villain;': 1, 'least': 1, '[writes.]': 1, 'uncle,': 1, 'word:': 1, \"'adieu,\": 1, \"me.'\": 1, \"sworn't.\": 1, 'illo,': 1, 'hillo,': 1, 'boy!': 1, 'bird,': 1, 'news,': 1, 'wonderful!': 1, 'reveal': 1, 'secret?': 1, 'neer': 1, 'dwelling': 1, 'part;': 1, 'whirling': 1, 'offend': 1, 'heartily;': 1, 'heartily.': 1, 'offence,': 1, 'patrick,': 1, 'vision': 1, \"o'ermaster't\": 1, 'scholars,': 1, 'request.': 1, \"swear't.\": 1, 'sworn,': 1, 'aha': 1, 'boy,': 1, \"say'st\": 1, 'truepenny?': 1, 'cellarage.': 1, 'propose': 1, 'hic': 1, 'et': 1, 'ubique?': 1, 'shift': 1, 'heard:': 1, 'mole!': 1, 'worthy': 1, 'pioner!': 1, 'remove,': 1, 'friends.\"': 1, 'strange!': 1, 'stranger': 1, 'dreamt': 1, 'philosophy.': 1, 'mercy,': 1, \"soe'er\": 1, 'hereafter': 1, 'antic': 1, 'on),': 1, \"encumb'red\": 1, 'head-shake,': 1, 'pronouncing': 1, 'doubtful': 1, \"'well,\": 1, \"know,'\": 1, \"'we\": 1, \"would,'\": 1, \"'if\": 1, \"speak,'\": 1, \"'there\": 1, \"might,'\": 1, 'ambiguous': 1, '[they': 1, 'swear.]': 1, 'perturbed': 1, 'spirit!': 1, 'friending': 1, 'lack.': 1, 'together;': 1, 'lips,': 1, 'joint.': 1, 'spite': 1, 'born': 1, 'notes,': 1, \"marvell's\": 1, 'wisely,': 1, 'inquire': 1, 'behaviour.': 1, 'intend': 1, 'enquire': 1, 'danskers': 1, 'paris;': 1, 'how,': 1, 'company,': 1, 'expense;': 1, 'encompassment': 1, 'distant': 1, 'knowledge': 1, \"him.'\": 1, 'reynaldo?': 1, \"'and\": 1, \"but,'\": 1, \"'not\": 1, 'addicted': 1, \"so';\": 1, 'forgeries': 1, 'him-': 1, 'that;': 1, 'wanton,': 1, 'usual': 1, 'slips': 1, 'companions': 1, 'noted': 1, 'liberty.': 1, 'drinking,': 1, 'fencing,': 1, 'quarrelling,': 1, 'drabbing.': 1, 'far.': 1, 'charge.': 1, 'scandal': 1, 'incontinency.': 1, 'meaning.': 1, 'quaintly': 1, 'taints': 1, 'flash': 1, 'outbreak': 1, 'savageness': 1, 'unreclaimed': 1, 'assault.': 1, 'drift,': 1, 'warrant.': 1, 'slight': 1, 'sullies': 1, \"soil'd\": 1, 'party': 1, 'converse,': 1, 'prenominate': 1, \"assur'd\": 1, 'consequence:': 1, \"sir,'\": 1, \"'friend,'\": 1, \"'gentleman'-\": 1, 'addition': 1, 'country-': 1, 'does-': 1, 'something!': 1, \"consequence,'\": 1, \"'friend\": 1, \"gentleman.'\": 1, \"consequence'-\": 1, 'marry!': 1, 'yesterday,': 1, \"t'other\": 1, 'such;': 1, 'gaming;': 1, \"o'ertook\": 1, 'rouse;': 1, 'falling': 1, \"tennis';\": 1, 'perchance,': 1, \"sale,'\": 1, 'videlicet,': 1, 'brothel,': 1, 'forth.': 1, 'now-': 1, 'bait': 1, 'falsehood': 1, 'carp': 1, 'truth;': 1, 'reach,': 1, 'windlasses': 1, 'assays': 1, 'bias,': 1, 'indirections': 1, 'directions': 1, 'lecture': 1, 'have.': 1, 'ye,': 1, 'well!': 1, '[going.]': 1, 'ply': 1, 'affrighted!': 1, 'sewing': 1, 'closet,': 1, 'doublet': 1, \"unbrac'd,\": 1, 'hat': 1, 'stockings': 1, \"foul'd,\": 1, \"ungart'red,\": 1, 'down-gyved': 1, 'ankle;': 1, 'shirt,': 1, 'knees': 1, 'knocking': 1, 'purport': 1, 'loosed': 1, 'horrors-': 1, 'wrist': 1, 'hard;': 1, 'brow,': 1, 'perusal': 1, 'shaking': 1, 'waving': 1, \"rais'd\": 1, 'shatter': 1, 'bulk': 1, 'being.': 1, 'bended': 1, 'fordoes': 1, 'leads': 1, 'undertakings': 1, 'afflict': 1, 'natures.': 1, 'sorry.': 1, 'late?': 1, 'repel': 1, 'denied': 1, 'access': 1, 'quoted': 1, \"fear'd\": 1, 'trifle': 1, 'wrack': 1, 'thee;': 1, 'beshrew': 1, 'jealousy!': 1, 'opinions': 1, 'younger': 1, 'known;': 1, 'close,': 1, 'hate': 1, 'utter': 1, 'cum': 1, 'aliis.': 1, 'moreover': 1, 'provoke': 1, 'hasty': 1, 'sending.': 1, 'transformation.': 1, 'exterior': 1, 'resembles': 1, 'clays': 1, \"neighbour'd\": 1, 'haviour,': 1, 'time;': 1, 'companies': 1, 'pleasures,': 1, 'glean,': 1, 'unknown': 1, 'afflicts': 1, \"open'd,\": 1, 'remedy.': 1, 'adheres.': 1, 'gentry': 1, 'expend': 1, 'supply': 1, 'pleasures': 1, 'entreaty.': 1, 'ourselves,': 1, 'bent,': 1, 'feet,': 1, 'commanded.': 1, 'instantly': 1, 'changed': 1, 'practices': 1, 'pleasant': 1, 'helpful': 1, 'amen!': 1, 'joyfully': 1, \"return'd.\": 1, 'news.': 1, 'assure': 1, 'think-': 1, 'hunts': 1, 'policy': 1, \"us'd\": 1, 'do-': 1, 'lunacy.': 1, 'that!': 1, 'admittance': 1, 'feast.': 1, 'thyself': 1, 'tells': 1, \"son's\": 1, 'distemper.': 1, 'main,': 1, \"o'erhasty\": 1, 'marriage.': 1, 'sift': 1, 'norway?': 1, 'greetings': 1, 'desires.': 1, 'levies;': 1, 'preparation': 1, 'polack,': 1, 'into,': 1, 'highness;': 1, 'whereat': 1, \"griev'd,\": 1, 'sickness,': 1, 'age,': 1, 'impotence': 1, 'falsely': 1, 'arrests': 1, 'obeys,': 1, 'receives': 1, 'rebuke': 1, 'overcome': 1, 'crowns': 1, 'annual': 1, 'fee': 1, 'employ': 1, 'levied': 1, 'polack;': 1, 'entreaty,': 1, 'shown,': 1, 'dominions': 1, 'enterprise,': 1, 'regards': 1, 'therein': 1, 'well;': 1, \"consider'd\": 1, 'meantime': 1, 'well-took': 1, 'labour.': 1, 'rest;': 1, 'home!': 1, 'ended.': 1, 'expostulate': 1, 'waste': 1, 'therefore,': 1, 'brevity': 1, 'tediousness': 1, 'limbs': 1, 'flourishes,': 1, 'brief.': 1, 'define': 1, 'true:': 1, 'pity;': 1, 'figure!': 1, 'farewell': 1, 'grant': 1, 'effect-': 1, 'defective': 1, 'cause.': 1, 'remains,': 1, 'remainder': 1, 'perpend.': 1, '(have': 1, 'mine),': 1, 'mark,': 1, 'gather,': 1, 'surmise.': 1, '[reads]': 1, 'letter.': 1, \"'to\": 1, 'celestial,': 1, \"soul's\": 1, 'idol,': 1, 'beautified': 1, \"ophelia,'-\": 1, 'phrase;': 1, \"'beautified'\": 1, 'phrase.': 1, \"'in\": 1, 'bosom,': 1, \"&c.'\": 1, 'faithful.': 1, \"'doubt\": 1, 'move;': 1, 'liar;': 1, \"'o\": 1, 'numbers;': 1, 'reckon': 1, 'groans;': 1, 'adieu.': 1, \"'thine\": 1, 'evermore,': 1, 'machine': 1, 'shown': 1, 'above,': 1, 'solicitings,': 1, 'honourable.': 1, 'wing': 1, \"perceiv'd\": 1, 'me),': 1, 'desk': 1, 'winking,': 1, 'mute': 1, 'dumb,': 1, 'think?': 1, 'bespeak:': 1, \"'lord\": 1, 'star.': 1, \"be.'\": 1, 'prescripts': 1, 'resort,': 1, 'tokens.': 1, 'fruits': 1, 'repulsed,': 1, 'sadness,': 1, 'fast,': 1, 'weakness,': 1, 'lightness,': 1, 'declension,': 1, 'raves,': 1, 'mourn': 1, 'time-': 1, 'that-': 1, 'positively': 1, \"''tis\": 1, 'otherwise.?': 1, '[points': 1, 'shoulder]': 1, 'otherwise.': 1, 'circumstances': 1, 'hid,': 1, 'hid': 1, 'centre.': 1, 'further?': 1, 'hours': 1, 'loose': 1, 'encounter.': 1, 'thereon': 1, 'assistant': 1, 'carters.': 1, 'reading': 1, 'book.': 1, 'sadly': 1, 'reading.': 1, 'board': 1, 'god-a-mercy.': 1, 'goes,': 1, \"pick'd\": 1, 'thousand.': 1, 'breed': 1, 'maggots': 1, 'dog,': 1, 'kissing': 1, 'carrion-': 1, 'daughter?': 1, 'conception': 1, 'blessing,': 1, 'conceive.': 1, 'harping': 1, \"suff'red\": 1, 'extremity': 1, 'again.-': 1, 'words.': 1, 'slanders,': 1, 'satirical': 1, 'grey': 1, 'beards;': 1, 'faces': 1, 'wrinkled;': 1, 'amber': 1, 'plum-tree': 1, 'gum;': 1, 'plentiful': 1, 'hams.': 1, 'powerfully': 1, 'potently': 1, 'believe,': 1, 'crab,': 1, 'backward.': 1, 'method': 1, \"in't.-\": 1, 'replies': 1, 'are!': 1, 'happiness': 1, 'hits': 1, 'sanity': 1, 'prosperously': 1, 'delivered': 1, 'suddenly': 1, 'meeting': 1, 'daughter.-': 1, 'cannot,': 1, 'withal-': 1, 'fools!': 1, 'guildenstern?': 1, 'rosencrantz!': 1, 'lads,': 1, 'both?': 1, 'children': 1, 'earth.': 1, 'over-happy.': 1, 'button.': 1, 'soles': 1, 'shoe?': 1, 'waist,': 1, 'favours?': 1, 'privates': 1, 'we.': 1, 'fortune?': 1, 'o!': 1, 'strumpet.': 1, 'none,': 1, 'honest.': 1, 'near!': 1, 'particular.': 1, 'deserved': 1, 'prison,': 1, 'confines,': 1, 'wards,': 1, 'dungeons,': 1, 'worst.': 1, 'narrow': 1, 'mind.': 1, 'bounded': 1, 'nutshell': 1, 'space,': 1, 'dreams.': 1, 'ambition;': 1, 'merely': 1, 'shadow': 1, 'dream.': 1, 'truly,': 1, 'airy': 1, \"shadow's\": 1, 'beggars': 1, 'bodies,': 1, 'monarchs': 1, \"outstretch'd\": 1, 'heroes': 1, \"beggars'\": 1, 'shadows.': 1, 'court?': 1, 'fay,': 1, 'reason.': 1, 'servants;': 1, 'dreadfully': 1, 'attended.': 1, 'beaten': 1, 'friendship,': 1, 'occasion.': 1, 'am,': 1, 'halfpenny.': 1, 'inclining?': 1, 'visitation?': 1, 'deal': 1, 'anything-': 1, 'for;': 1, 'modesties': 1, 'craft': 1, 'colour.': 1, 'conjure': 1, 'fellowship,': 1, 'consonancy': 1, 'ever-preserved': 1, 'proposer': 1, 'withal,': 1, 'why.': 1, 'anticipation': 1, 'prevent': 1, 'discovery,': 1, 'moult': 1, 'feather.': 1, 'late-': 1, 'not-': 1, 'mirth,': 1, 'forgone': 1, 'exercises;': 1, 'heavily': 1, 'sterile': 1, 'promontory;': 1, 'canopy,': 1, \"o'erhanging\": 1, 'firmament,': 1, 'majestical': 1, 'roof': 1, 'fretted': 1, 'fire-': 1, 'appeareth': 1, 'congregation': 1, 'vapours.': 1, 'man!': 1, 'reason!': 1, 'faculties!': 1, 'moving': 1, 'admirable!': 1, 'angel!': 1, 'paragon': 1, 'animals!': 1, 'quintessence': 1, 'dust?': 1, \"'man\": 1, \"me'?\": 1, 'lenten': 1, 'coted': 1, 'way,': 1, 'plays': 1, 'welcome-': 1, 'tribute': 1, 'adventurous': 1, 'knight': 1, 'foil': 1, 'target;': 1, 'lover': 1, 'gratis;': 1, 'humorous': 1, 'peace;': 1, 'clown': 1, 'lungs': 1, 'tickle': 1, 'sere;': 1, 'blank': 1, 'verse': 1, 'halt': 1, 'they?': 1, 'tragedians': 1, 'city.': 1, 'travel?': 1, 'residence,': 1, 'reputation': 1, 'profit,': 1, 'inhibition': 1, 'innovation.': 1, 'estimation': 1, 'city?': 1, \"follow'd?\": 1, 'rusty?': 1, 'endeavour': 1, 'pace;': 1, 'eyrie': 1, 'children,': 1, 'eyases,': 1, 'tyrannically': 1, \"clapp'd\": 1, 'berattle': 1, 'stages': 1, '(so': 1, 'them)': 1, 'wearing': 1, 'afraid': 1, 'goosequills': 1, 'thither.': 1, 'children?': 1, 'maintains': 1, 'escoted?': 1, 'sing?': 1, 'afterwards,': 1, 'better),': 1, 'writers': 1, 'exclaim': 1, 'succession.': 1, 'sides;': 1, 'sin': 1, 'tarre': 1, 'controversy.': 1, 'while,': 1, 'poet': 1, 'cuffs': 1, 'throwing': 1, 'brains.': 1, 'boys': 1, 'away?': 1, 'load': 1, 'strange;': 1, 'mows': 1, 'lived': 1, 'twenty,': 1, 'forty,': 1, 'fifty,': 1, 'hundred': 1, 'apiece': 1, 'picture': 1, 'natural,': 1, 'philosophy': 1, 'appurtenance': 1, 'ceremony.': 1, 'garb,': 1, 'extent': 1, '(which': 1, 'fairly': 1, 'outwards)': 1, 'uncle-father': 1, 'aunt-mother': 1, \"deceiv'd.\": 1, 'north-north-west.': 1, 'southerly': 1, 'hawk': 1, 'handsaw.': 1, 'hark': 1, 'guildenstern-': 1, 'too-': 1, 'hearer!': 1, 'swaddling': 1, 'clouts.': 1, 'child.': 1, 'it.-': 1, 'monday': 1, 'morning;': 1, 'twas': 1, 'roscius': 1, 'rome-': 1, 'buzz,': 1, 'buzz!': 1, 'honour-': 1, 'ass-': 1, 'history,': 1, 'pastoral,': 1, 'pastoral-comical,': 1, 'historical-pastoral,': 1, 'tragical-historical,': 1, 'tragical-comical-historical-pastoral;': 1, 'individable,': 1, 'poem': 1, 'unlimited.': 1, 'seneca': 1, 'heavy,': 1, 'plautus': 1, 'light.': 1, 'men.': 1, 'israel,': 1, 'thou!': 1, \"'one\": 1, \"well.'\": 1, 'jephthah?': 1, \"'as\": 1, 'lot,': 1, \"wot,'\": 1, \"'it\": 1, 'pass,': 1, \"was.'\": 1, 'row': 1, 'chanson': 1, 'abridgment': 1, 'masters;': 1, 'well.-': 1, 'friends.-': 1, \"valanc'd\": 1, 'last.': 1, \"com'st'\": 1, \"to'\": 1, 'denmark?-': 1, 'mistress?': 1, 'ladyship': 1, 'altitude': 1, 'chopine.': 1, 'uncurrent': 1, 'gold,': 1, \"crack'd\": 1, 'ring.-': 1, 'masters,': 1, 'falconers,': 1, 'taste': 1, 'quality.': 1, 'once,': 1, 'acted;': 1, 'once;': 1, 'remember,': 1, 'million,': 1, 'caviary': 1, 'general;': 1, 'others,': 1, 'matters': 1, 'mine)': 1, 'digested': 1, 'scenes,': 1, 'cunning.': 1, 'sallets': 1, 'savoury,': 1, 'indict': 1, 'affectation;': 1, \"call'd\": 1, 'method,': 1, 'handsome': 1, 'fine.': 1, 'chiefly': 1, \"lov'd.\": 1, \"aeneas'\": 1, 'dido,': 1, 'thereabout': 1, 'especially': 1, \"priam's\": 1, 'slaughter.': 1, 'begin': 1, 'line-': 1, 'see:': 1, 'hyrcanian': 1, \"beast-'\": 1, 'so;': 1, 'begins': 1, 'pyrrhus:': 1, 'arms,': 1, 'resemble': 1, 'couched': 1, 'ominous': 1, 'horse,': 1, 'complexion': 1, \"smear'd\": 1, 'heraldry': 1, 'dismal.': 1, 'foot': 1, 'total': 1, 'gules,': 1, \"trick'd\": 1, 'mothers,': 1, 'daughters,': 1, 'sons,': 1, 'impasted': 1, 'parching': 1, 'streets,': 1, 'tyrannous': 1, \"lord's\": 1, 'roasted': 1, 'wrath': 1, \"o'ersized\": 1, 'coagulate': 1, 'gore,': 1, 'carbuncles,': 1, 'hellish': 1, 'grandsire': 1, \"seeks.'\": 1, 'proceed': 1, 'fore': 1, 'spoken,': 1, \"'anon\": 1, 'striking': 1, 'greeks.': 1, 'repugnant': 1, 'command.': 1, 'unequal': 1, \"match'd,\": 1, 'drives,': 1, 'strikes': 1, 'wide;': 1, 'whiff': 1, 'unnerved': 1, 'ilium,': 1, 'seeming': 1, 'feel': 1, 'blow,': 1, 'stoops': 1, 'hideous': 1, 'crash': 1, 'prisoner': 1, 'lo!': 1, 'declining': 1, 'milky': 1, 'reverend': 1, 'priam,': 1, 'stick.': 1, 'tyrant,': 1, 'neutral': 1, 'storm,': 1, 'rack': 1, 'speechless,': 1, 'orb': 1, 'hush': 1, 'thunder': 1, 'rend': 1, 'region;': 1, 'pause,': 1, 'aroused': 1, 'vengeance': 1, 'awork;': 1, \"cyclops'\": 1, 'hammers': 1, \"mars's\": 1, 'armour,': 1, \"forg'd\": 1, 'eterne,': 1, 'remorse': 1, 'bleeding': 1, 'priam.': 1, 'strumpet': 1, 'fortune!': 1, 'gods,': 1, 'synod': 1, 'power;': 1, 'fellies': 1, 'bowl': 1, 'nave': 1, 'hill': 1, 'low': 1, 'fiends!': 1, \"barber's,\": 1, 'beard.-': 1, 'jig': 1, 'bawdry,': 1, 'hecuba.': 1, \"'but\": 1, \"queen-'\": 1, \"queen'?\": 1, 'good!': 1, \"'mobled\": 1, \"queen'\": 1, \"'run\": 1, 'barefoot': 1, \"threat'ning\": 1, 'bisson': 1, 'rheum;': 1, 'clout': 1, 'robe,': 1, 'lank': 1, \"o'erteemed\": 1, 'loins,': 1, 'blanket,': 1, 'alarm': 1, 'up-': 1, 'venom': 1, \"steep'd\": 1, \"pronounc'd.\": 1, 'gods': 1, 'mincing': 1, 'limbs,': 1, 'clamour': 1, '(unless': 1, 'all)': 1, 'milch': 1, \"gods.'\": 1, \"whe'r\": 1, 'colour,': 1, 'soon.-': 1, \"bestow'd?\": 1, \"us'd;\": 1, 'abstract': 1, 'chronicles': 1, 'live.': 1, 'desert.': 1, 'bodykins,': 1, 'better!': 1, 'desert,': 1, 'whipping?': 1, 'dignity.': 1, 'deserve,': 1, 'bounty.': 1, 'to-morrow.': 1, '[except': 1, 'first].': 1, \"gonzago'?\": 1, \"ha't\": 1, 'need,': 1, 'study': 1, 'sixteen': 1, 'insert': 1, 'player.]': 1, 'ye!': 1, 'monstrous': 1, 'fiction,': 1, \"wann'd,\": 1, 'distraction': 1, 'aspect,': 1, 'broken': 1, 'function': 1, 'suiting': 1, 'forms': 1, 'conceit?': 1, 'hecuba!': 1, 'hecuba': 1, 'hecuba,': 1, 'cue': 1, 'cleave': 1, 'speech;': 1, 'appal': 1, 'ignorant,': 1, 'amaze': 1, 'faculties': 1, 'muddy-mettled': 1, 'rascal,': 1, 'peak': 1, 'john-a-dreams,': 1, 'unpregnant': 1, 'made.': 1, 'coward?': 1, 'villain?': 1, 'breaks': 1, 'across?': 1, 'tweaks': 1, 'nose?': 1, 'lungs?': 1, \"pigeon-liver'd\": 1, 'oppression': 1, 'bitter,': 1, 'fatted': 1, 'region': 1, 'kites': 1, \"slave's\": 1, 'offal.': 1, 'bawdy': 1, 'remorseless,': 1, 'treacherous,': 1, 'lecherous,': 1, 'kindless': 1, 'vengeance!': 1, 'brave,': 1, \"murther'd,\": 1, 'prompted': 1, '(like': 1, 'whore)': 1, 'unpack': 1, 'a-cursing': 1, 'drab,': 1, 'scullion!': 1, \"upon't!\": 1, 'foh!': 1, 'brain!': 1, 'hum,': 1, 'creatures,': 1, 'sitting': 1, \"proclaim'd\": 1, 'malefactions;': 1, 'murther,': 1, 'miraculous': 1, 'tent': 1, 'quick.': 1, 'blench,': 1, 'course.': 1, 'devil;': 1, 'pleasing': 1, 'shape;': 1, 'weakness': 1, 'melancholy,': 1, 'spirits,': 1, 'abuses': 1, 'damn': 1, 'grounds': 1, 'relative': 1, \"play's\": 1, 'lords.': 1, 'confusion,': 1, 'grating': 1, 'harshly': 1, 'turbulent': 1, 'lunacy?': 1, 'feels': 1, 'distracted,': 1, 'forward': 1, 'sounded,': 1, 'crafty': 1, 'aloof': 1, 'forcing': 1, 'disposition.': 1, 'niggard': 1, 'pastime?': 1, \"o'erraught\": 1, 'court,': 1, \"beseech'd\": 1, \"inclin'd.\": 1, 'delights.': 1, 'closely': 1, 'accident,': 1, 'affront': 1, '(lawful': 1, 'espials)': 1, 'unseen,': 1, 'encounter': 1, \"behav'd,\": 1, 'beauties': 1, 'wildness.': 1, 'honours.': 1, 'queen.]': 1, 'here.-': 1, 'gracious,': 1, 'ourselves.-': 1, 'ophelia]': 1, 'loneliness.-': 1, 'blame': 1, \"prov'd,\": 1, \"devotion's\": 1, 'sugar': 1, 'smart': 1, 'lash': 1, 'conscience!': 1, \"harlot's\": 1, 'cheek,': 1, 'beautied': 1, \"plast'ring\": 1, 'art,': 1, 'ugly': 1, 'helps': 1, 'burthen!': 1, 'withdraw,': 1, 'polonius].': 1, 'be-': 1, 'question:': 1, 'nobler': 1, 'slings': 1, 'arrows': 1, 'outrageous': 1, 'troubles,': 1, 'opposing': 1, 'heartache,': 1, 'shocks': 1, 'heir': 1, 'consummation': 1, 'devoutly': 1, \"wish'd.\": 1, 'dream:': 1, 'rub!': 1, 'shuffled': 1, 'coil,': 1, 'calamity': 1, 'scorns': 1, \"oppressor's\": 1, 'contumely,': 1, 'pangs': 1, \"despis'd\": 1, \"law's\": 1, 'delay,': 1, 'insolence': 1, 'office,': 1, 'quietus': 1, 'bare': 1, 'bodkin?': 1, 'fardels': 1, 'bear,': 1, 'grunt': 1, 'weary': 1, \"undiscover'd\": 1, 'country,': 1, 'bourn': 1, 'traveller': 1, 'returns-': 1, 'puzzles': 1, 'ills': 1, 'of?': 1, 'cowards': 1, 'hue': 1, 'resolution': 1, 'sicklied': 1, 'enterprises': 1, 'regard': 1, 'awry': 1, 'action.-': 1, 'ophelia!-': 1, 'nymph,': 1, 'orisons': 1, 'sins': 1, \"rememb'red.\": 1, 'remembrances': 1, 'longed': 1, 're-deliver.': 1, \"compos'd\": 1, 'rich.': 1, 'rich': 1, 'givers': 1, 'unkind.': 1, 'ha,': 1, 'honest?': 1, 'fair?': 1, 'lordship?': 1, 'beauty.': 1, 'beauty,': 1, 'commerce': 1, 'honesty?': 1, 'truly;': 1, 'transform': 1, 'bawd': 1, 'translate': 1, 'likeness.': 1, 'paradox,': 1, \"believ'd\": 1, 'inoculate': 1, 'stock': 1, 'deceived.': 1, 'nunnery!': 1, 'breeder': 1, 'sinners?': 1, 'accuse': 1, 'proud,': 1, 'revengeful,': 1, 'ambitious;': 1, 'offences': 1, 'beck': 1, 'shape,': 1, 'crawling': 1, 'knaves': 1, 'ways': 1, 'home,': 1, 'shut': 1, 'nowhere': 1, 'house.': 1, 'plague': 1, 'dowry:': 1, 'ice,': 1, 'calumny.': 1, 'fool;': 1, 'wise': 1, 'monsters': 1, 'go;': 1, 'quickly': 1, 'powers,': 1, 'restore': 1, 'paintings': 1, 'enough.': 1, 'yourselves': 1, 'jig,': 1, 'amble,': 1, 'lisp;': 1, 'nickname': 1, 'wantonness': 1, 'ignorance.': 1, 'moe': 1, 'marriages.': 1, 'already-': 1, 'live;': 1, \"o'erthrown!\": 1, \"courtier's,\": 1, \"scholar's,\": 1, \"soldier's,\": 1, 'expectancy': 1, 'mould': 1, 'form,': 1, \"observ'd\": 1, 'observers-': 1, 'quite,': 1, 'down!': 1, 'ladies': 1, 'deject': 1, 'honey': 1, 'bells': 1, 'jangled,': 1, 'harsh;': 1, \"unmatch'd\": 1, 'feature': 1, 'blown': 1, 'blasted': 1, 'ecstasy.': 1, 'see!': 1, 'affections': 1, 'tend;': 1, 'spake,': 1, \"lack'd\": 1, 'little,': 1, 'melancholy': 1, 'brood;': 1, 'hatch': 1, 'disclose': 1, 'danger;': 1, 'prevent,': 1, 'determination': 1, 'down:': 1, 'tribute.': 1, 'seas,': 1, 'countries': 1, 'different,': 1, 'objects,': 1, 'something-settled': 1, 'origin': 1, 'commencement': 1, 'sprung': 1, 'love.-': 1, 'grief.': 1, 'conference.': 1, 'confine': 1, 'think.': 1, \"unwatch'd\": 1, \"pronounc'd\": 1, 'trippingly': 1, 'town': 1, 'crier': 1, 'lines.': 1, 'gently;': 1, 'torrent,': 1, 'tempest,': 1, 'say)': 1, 'whirlwind': 1, 'acquire': 1, 'beget': 1, 'temperance': 1, 'smoothness.': 1, 'offends': 1, 'robustious': 1, 'periwig-pated': 1, 'tatters,': 1, 'rags,': 1, 'split': 1, 'cars': 1, 'groundlings,': 1, 'part)': 1, 'capable': 1, 'inexplicable': 1, 'noise.': 1, \"whipp'd\": 1, \"o'erdoing\": 1, 'termagant.': 1, 'out-herods': 1, 'herod.': 1, 'tame': 1, 'neither;': 1, 'tutor.': 1, 'action;': 1, 'observance,': 1, \"o'erstep\": 1, 'nature:': 1, 'overdone': 1, 'mirror': 1, 'feature,': 1, 'scorn': 1, 'image,': 1, 'pressure.': 1, 'overdone,': 1, 'unskilful': 1, 'judicious': 1, 'grieve;': 1, \"o'erweigh\": 1, 'theatre': 1, 'praise,': 1, 'highly': 1, 'profanely),': 1, 'christians,': 1, 'christian,': 1, 'pagan,': 1, 'strutted': 1, 'bellowed': 1, 'journeymen': 1, 'imitated': 1, 'humanity': 1, 'abominably.': 1, \"reform'd\": 1, 'indifferently': 1, 'reform': 1, 'altogether!': 1, 'clowns': 1, 'barren': 1, 'spectators': 1, 'considered.': 1, 'villanous': 1, 'pitiful': 1, 'work?': 1, 'haste,': 1, 'hasten': 1, \"e'er\": 1, 'conversation': 1, \"cop'd\": 1, 'flatter;': 1, 'advancement': 1, 'revenue': 1, 'clothe': 1, \"flatter'd?\": 1, 'candied': 1, 'lick': 1, 'absurd': 1, 'pomp,': 1, 'crook': 1, 'hinges': 1, 'knee': 1, 'thrift': 1, 'fawning.': 1, 'distinguish,': 1, 'scald': 1, 'herself.': 1, 'one,': 1, \"suff'ring\": 1, 'nothing;': 1, 'buffets': 1, 'rewards': 1, 'blest': 1, 'commingled': 1, 'pipe': 1, 'finger': 1, 'please.': 1, \"passion's\": 1, 'slave,': 1, \"heart's\": 1, 'core,': 1, 'circumstance,': 1, 'seest': 1, 'afoot,': 1, 'comment': 1, 'occulted': 1, 'unkennel': 1, 'imaginations': 1, \"vulcan's\": 1, 'stithy.': 1, 'heedful': 1, 'note;': 1, 'rivet': 1, 'seeming.': 1, 'steal': 1, 'detecting,': 1, 'theft.': 1, 'kettledrums.': 1, 'march.': 1, 'attendant,': 1, 'carrying': 1, 'torches.': 1, 'idle.': 1, 'excellent,': 1, 'faith;': 1, \"chameleon's\": 1, 'dish.': 1, \"promise-cramm'd.\": 1, 'capons': 1, 'university,': 1, 'accounted': 1, 'actor.': 1, 'enact?': 1, 'enact': 1, 'caesar;': 1, 'capitol;': 1, 'brutus': 1, 'brute': 1, 'calf': 1, 'patience.': 1, 'metal': 1, 'attractive.': 1, 'king]': 1, '[sits': 1, \"ophelia's\": 1, 'feet.]': 1, 'country': 1, 'matters?': 1, \"maids'\": 1, 'legs.': 1, 'merry,': 1, 'i?': 1, 'jig-maker!': 1, 'merry?': 1, \"'s\": 1, 'hours.': 1, 'months,': 1, 'sables.': 1, 'ago,': 1, 'forgotten': 1, 'yet?': 1, 'outlive': 1, 'build': 1, 'churches': 1, 'hobby-horse,': 1, \"'for\": 1, 'hobby-horse': 1, \"forgot!'\": 1, 'hautboys': 1, 'enters.': 1, 'lovingly;': 1, 'embracing': 1, 'kneels,': 1, 'protestation': 1, 'declines': 1, 'neck.': 1, 'lays': 1, 'bank': 1, 'flowers.': 1, 'asleep,': 1, 'fellow,': 1, \"sleeper's\": 1, 'returns,': 1, 'action.': 1, 'mutes,': 1, 'condole': 1, 'carried': 1, 'wooes': 1, 'gifts;': 1, 'unwilling': 1, 'accepts': 1, 'miching': 1, 'malhecho;': 1, 'mischief.': 1, 'prologue.': 1, 'counsel;': 1, \"they'll\": 1, 'meant?': 1, \"asham'd\": 1, \"he'll\": 1, 'means.': 1, 'naught,': 1, 'naught!': 1, 'pro.': 1, 'stooping': 1, 'clemency,': 1, 'patiently.': 1, 'prologue,': 1, 'posy': 1, 'ring?': 1, \"woman's\": 1, '[two': 1, 'as]': 1, \"phoebus'\": 1, 'cart': 1, \"tellus'\": 1, 'orbed': 1, 'dozed': 1, 'moons': 1, 'borrowed': 1, 'sheen': 1, 'thirties': 1, 'been,': 1, 'hearts,': 1, 'hymen': 1, 'unite': 1, 'comutual': 1, 'sacred': 1, 'bands.': 1, 'journeys': 1, 'moon': 1, 'done!': 1, 'late,': 1, 'distrust': 1, 'distrust,': 1, 'discomfort': 1, 'must;': 1, \"women's\": 1, 'quantity,': 1, 'aught,': 1, 'extremity.': 1, \"siz'd,\": 1, 'littlest': 1, 'doubts': 1, 'fear;': 1, 'operant': 1, 'functions': 1, 'behind,': 1, \"honour'd,\": 1, \"belov'd,\": 1, 'thou-': 1, 'breast.': 1, 'accurst!': 1, 'wed': 1, 'killed': 1, 'wormwood,': 1, 'wormwood!': 1, 'instances': 1, 'respects': 1, 'determine': 1, 'break.': 1, 'birth,': 1, 'validity;': 1, 'unripe,': 1, 'sticks': 1, 'tree,': 1, 'fill': 1, 'unshaken': 1, 'mellow': 1, 'debt.': 1, 'propose,': 1, 'ending,': 1, 'lose.': 1, 'enactures': 1, 'destroy.': 1, 'revels,': 1, 'lament;': 1, 'joys,': 1, 'grieves,': 1, 'slender': 1, 'aye,': 1, 'change;': 1, 'prove,': 1, 'favourite': 1, 'flies,': 1, \"advanc'd\": 1, 'enemies;': 1, 'hollow': 1, 'try,': 1, 'seasons': 1, 'orderly': 1, 'begun,': 1, 'wills': 1, 'contrary': 1, 'run': 1, 'devices': 1, 'overthrown;': 1, 'ends': 1, 'wed;': 1, 'food,': 1, 'light,': 1, 'repose': 1, 'desperation': 1, \"anchor's\": 1, 'scope,': 1, 'opposite': 1, 'blanks': 1, 'destroy,': 1, 'lasting': 1, 'strife,': 1, 'widow,': 1, 'wife!': 1, 'deeply': 1, 'sworn.': 1, 'dull,': 1, 'beguile': 1, 'rock': 1, '[he]': 1, 'twain!': 1, 'protest': 1, 'methinks.': 1, 'argument?': 1, 'jest;': 1, \"mousetrap.'\": 1, 'how?': 1, 'tropically.': 1, 'vienna.': 1, 'gonzago': 1, \"duke's\": 1, 'name;': 1, 'baptista.': 1, 'anon.': 1, 'touches': 1, \"gall'd\": 1, 'jade': 1, 'winch;': 1, 'withers': 1, 'unwrung.': 1, 'lucianus.': 1, 'lucianus,': 1, 'chorus,': 1, 'interpret': 1, 'puppets': 1, 'dallying.': 1, 'keen,': 1, 'keen.': 1, 'groaning': 1, 'edge.': 1, 'better,': 1, 'worse.': 1, 'husbands.-': 1, 'murtherer.': 1, 'pox,': 1, 'damnable': 1, 'faces,': 1, 'begin!': 1, 'croaking': 1, 'raven': 1, 'bellow': 1, 'luc.': 1, 'apt,': 1, 'drugs': 1, 'agreeing;': 1, 'confederate': 1, 'season,': 1, 'seeing;': 1, 'mixture': 1, 'midnight': 1, 'collected,': 1, \"hecate's\": 1, 'ban': 1, 'blasted,': 1, 'infected,': 1, 'magic': 1, 'dire': 1, 'usurp': 1, 'immediately.': 1, 'poisons': 1, \"name's\": 1, 'gonzago.': 1, 'story': 1, 'extant,': 1, 'written': 1, 'italian.': 1, 'gets': 1, \"gonzago's\": 1, 'wife.': 1, 'rises.': 1, 'frighted': 1, 'fire?': 1, 'light!': 1, 'lights!': 1, 'strucken': 1, 'deer': 1, 'weep,': 1, 'hart': 1, 'ungalled': 1, 'sleep:': 1, 'forest': 1, 'feathers-': 1, 'turk': 1, 'me-with': 1, 'provincial': 1, 'roses': 1, \"raz'd\": 1, 'shoes,': 1, 'fellowship': 1, 'players,': 1, 'share.': 1, 'damon': 1, 'dear,': 1, 'realm': 1, 'dismantled': 1, 'reigns': 1, 'very,': 1, 'very-': 1, 'pajock.': 1, \"rhym'd.\": 1, \"ghost's\": 1, 'pound!': 1, 'perceive?': 1, 'poisoning?': 1, 'aha!': 1, 'perdy.': 1, 'history.': 1, 'sir-': 1, 'him?': 1, 'retirement,': 1, 'marvellous': 1, \"distemper'd.\": 1, 'doctor;': 1, 'purgation': 1, 'plunge': 1, 'pronounce.': 1, 'courtesy': 1, 'breed.': 1, 'commandment;': 1, 'answer;': 1, \"wit's\": 1, \"diseas'd.\": 1, 'says:': 1, 'behaviour': 1, 'admiration.': 1, 'wonderful': 1, 'stonish': 1, 'sequel': 1, 'admiration?': 1, 'impart.': 1, 'us?': 1, 'pickers': 1, 'stealers!': 1, 'distemper?': 1, 'surely': 1, 'bar': 1, 'griefs': 1, 'friend.': 1, 'advancement.': 1, 'succession': 1, \"'while\": 1, 'grass': 1, \"grows'-\": 1, 'proverb': 1, 'musty.': 1, 'recorders.': 1, 'withdraw': 1, 'toil?': 1, 'bold,': 1, 'unmannerly.': 1, 'easy': 1, 'lying.': 1, 'govern': 1, 'ventages': 1, 'thumbs,': 1, 'eloquent': 1, 'stops.': 1, \"utt'rance\": 1, 'harmony.': 1, 'skill.': 1, 'stops;': 1, 'mystery;': 1, 'lowest': 1, 'compass;': 1, 'music,': 1, 'easier': 1, 'fret': 1, 'cloud': 1, 'camel?': 1, 'camel': 1, \"back'd\": 1, 'by-and-by.-': 1, 'bent.-': 1, \"'by-and-by'\": 1, 'easily': 1, 'said.-': 1, 'witching': 1, 'churchyards': 1, 'yawn,': 1, 'breathes': 1, 'contagion': 1, 'quake': 1, 'nero': 1, 'firm': 1, 'bosom.': 1, 'unnatural;': 1, 'hypocrites-': 1, 'somever': 1, 'shent,': 1, 'seals': 1, 'consent!': 1, 'range.': 1, 'forthwith': 1, 'dispatch,': 1, 'along': 1, 'estate': 1, 'endure': 1, 'hazard': 1, 'hourly': 1, 'lunacies.': 1, 'provide.': 1, 'religious': 1, 'peculiar': 1, 'strength': 1, 'noyance;': 1, 'weal': 1, 'rests': 1, 'many.': 1, 'cesse': 1, 'alone,': 1, 'gulf': 1, 'massy': 1, 'highest': 1, 'mount,': 1, 'huge': 1, 'lesser': 1, \"mortis'd\": 1, \"adjoin'd;\": 1, 'small': 1, 'annexment,': 1, 'consequence,': 1, 'attends': 1, \"boist'rous\": 1, 'ruin.': 1, 'groan.': 1, 'arm': 1, \"th',\": 1, 'speedy': 1, 'voyage;': 1, 'fetters': 1, 'free-footed.': 1, 'convey': 1, 'process.': 1, 'tax': 1, 'home;': 1, 'wisely': 1, 'partial,': 1, \"o'erhear\": 1, 'vantage.': 1, 'liege.': 1, 'smells': 1, 'primal': 1, 'eldest': 1, 'curse': 1, \"upon't,\": 1, 'sharp': 1, 'defeats': 1, 'intent,': 1, 'bound,': 1, 'pause': 1, 'neglect.': 1, 'thicker': 1, 'rain': 1, 'snow?': 1, 'confront': 1, 'twofold': 1, 'force,': 1, 'forestalled': 1, 'down?': 1, 'past.': 1, 'turn?': 1, \"'forgive\": 1, \"murther'?\": 1, \"possess'd\": 1, 'effects': 1, 'murther-': 1, 'ambition,': 1, 'retain': 1, 'corrupted': 1, \"offence's\": 1, 'gilded': 1, 'shove': 1, 'justice,': 1, 'prize': 1, 'buys': 1, 'law;': 1, 'above.': 1, 'shuffling;': 1, \"compell'd,\": 1, 'teeth': 1, 'faults,': 1, 'evidence.': 1, 'rests?': 1, 'repentance': 1, 'can.': 1, 'repent?': 1, 'state!': 1, 'death!': 1, 'limed': 1, 'struggling': 1, \"engag'd!\": 1, 'angels!': 1, 'assay.': 1, 'bow,': 1, 'stubborn': 1, 'knees;': 1, 'strings': 1, 'sinews': 1, 'new-born': 1, 'babe!': 1, 'kneels.': 1, 'pat,': 1, 'praying;': 1, \"reveng'd.\": 1, \"scann'd.\": 1, 'sole': 1, 'hire': 1, 'salary,': 1, 'grossly,': 1, 'bread,': 1, 'blown,': 1, 'flush': 1, 'may;': 1, 'audit': 1, 'stands,': 1, \"reveng'd,\": 1, 'seasoned': 1, 'passage?': 1, 'hent.': 1, 'drunk': 1, 'asleep;': 1, 'rage;': 1, 'salvation': 1, \"in't-\": 1, 'trip': 1, 'kick': 1, 'goes.': 1, 'stays.': 1, 'physic': 1, 'prolongs': 1, 'days.': 1, '[rises]': 1, 'below.': 1, \"queen's\": 1, 'pranks': 1, \"screen'd\": 1, 'heat': 1, 'here.': 1, 'withdraw;': 1, '[polonius': 1, 'hides': 1, 'arras.]': 1, 'rood,': 1, '(would': 1, 'so!)': 1, 'budge': 1, 'inmost': 1, 'help!': 1, '[draws]': 1, 'rat?': 1, 'ducat,': 1, '[makes': 1, 'slain!': 1, 'rash': 1, 'deed-': 1, 'bad,': 1, '[lifts': 1, 'intruding': 1, 'fool,': 1, 'better.': 1, \"find'st\": 1, 'busy': 1, 'danger.': 1, 'wringing': 1, 'hinds.': 1, 'wring': 1, 'penetrable': 1, 'stuff;': 1, \"braz'd\": 1, 'bulwark': 1, \"dar'st\": 1, 'wag': 1, 'blurs': 1, 'blush': 1, 'modesty;': 1, 'hypocrite;': 1, 'innocent': 1, 'blister': 1, \"dicers'\": 1, 'oaths.': 1, 'contraction': 1, 'religion': 1, 'rhapsody': 1, 'words!': 1, \"heaven's\": 1, 'glow;': 1, 'solidity': 1, 'compound': 1, 'tristful': 1, 'doom,': 1, 'thought-sick': 1, 'roars': 1, 'thunders': 1, 'index?': 1, \"th's\": 1, 'picture,': 1, 'counterfeit': 1, 'presentment': 1, 'brothers.': 1, 'seated': 1, 'brow;': 1, \"hyperion's\": 1, 'curls;': 1, 'front': 1, 'mars,': 1, 'threaten': 1, 'herald': 1, 'mercury': 1, 'lighted': 1, 'heaven-kissing': 1, 'hill:': 1, 'combination': 1, 'seal': 1, 'husband.': 1, 'follows.': 1, 'husband,': 1, \"mildew'd\": 1, 'blasting': 1, 'eyes?': 1, 'feed,': 1, 'batten': 1, 'moor?': 1, 'love;': 1, 'heyday': 1, \"it's\": 1, 'humble,': 1, 'waits': 1, 'judgment;': 1, 'motion;': 1, \"apoplex'd;\": 1, 'err,': 1, 'ecstacy': 1, \"thrall'd\": 1, \"reserv'd\": 1, 'difference.': 1, \"cozen'd\": 1, 'hoodman-blind?': 1, 'feeling,': 1, 'smelling': 1, 'sans': 1, 'mope.': 1, 'blush?': 1, 'mutine': 1, \"matron's\": 1, 'melt': 1, 'compulsive': 1, 'ardour': 1, 'frost': 1, 'actively': 1, 'burn,': 1, 'panders': 1, \"turn'st\": 1, 'grained': 1, 'spots': 1, 'tinct.': 1, 'enseamed': 1, \"stew'd\": 1, 'honeying': 1, 'nasty': 1, 'sty!': 1, 'twentieth': 1, 'tithe': 1, 'kings;': 1, 'cutpurse': 1, 'rule,': 1, 'shelf': 1, 'pocket!': 1, 'nightgown.': 1, 'shreds': 1, 'patches!-': 1, 'hover': 1, 'wings,': 1, 'guards!': 1, 'figure?': 1, 'mad!': 1, 'chide,': 1, \"laps'd\": 1, 'important': 1, 'acting': 1, 'command?': 1, 'say!': 1, 'forget.': 1, 'whet': 1, 'blunted': 1, 'sits.': 1, 'weakest': 1, 'strongest': 1, 'works.': 1, 'vacancy,': 1, 'encorporal': 1, 'discourse?': 1, 'peep;': 1, 'alarm,': 1, 'bedded': 1, 'hairs,': 1, 'excrements,': 1, 'beat': 1, 'distemper': 1, 'sprinkle': 1, 'cool': 1, 'patience!': 1, 'look?': 1, 'glares!': 1, \"conjoin'd,\": 1, 'preaching': 1, 'stones,': 1, 'capable.-': 1, 'stern': 1, 'effects.': 1, 'colour-': 1, 'there!': 1, 'steals': 1, \"liv'd!\": 1, 'portal!': 1, 'coinage': 1, 'brain.': 1, 'bodiless': 1, 'creation': 1, 'ecstasy?': 1, 'pulse': 1, 'temperately': 1, 'healthful': 1, \"utt'red.\": 1, 'test,': 1, 'reword;': 1, 'gambol': 1, 'from.': 1, 'flattering': 1, 'trespass': 1, 'speaks.': 1, 'skin': 1, 'film': 1, 'ulcerous': 1, 'whiles': 1, 'mining': 1, 'within,': 1, 'infects': 1, 'unseen.': 1, 'repent': 1, 'past;': 1, 'come;': 1, 'compost': 1, 'ranker.': 1, 'forgive': 1, 'virtue;': 1, 'fatness': 1, 'pursy': 1, 'beg-': 1, 'curb': 1, 'woo': 1, 'cleft': 1, 'twain.': 1, 'worser': 1, 'purer': 1, 'half,': 1, 'night-': 1, \"uncle's\": 1, 'monster,': 1, 'custom,': 1, 'habits': 1, 'evil,': 1, 'likewise': 1, 'frock': 1, 'aptly': 1, 'refrain': 1, 'easiness': 1, 'abstinence;': 1, 'easy;': 1, '[master]': 1, 'devil,': 1, 'potency.': 1, 'night;': 1, 'desirous': 1, 'blest,': 1, 'repent;': 1, 'punish': 1, 'minister.': 1, 'kind;': 1, 'begins,': 1, 'behind.': 1, 'lady.': 1, 'do:': 1, 'bloat': 1, 'pinch': 1, 'cheek;': 1, 'mouse;': 1, 'reechy': 1, 'kisses,': 1, 'paddling': 1, 'fingers,': 1, 'ravel': 1, 'essentially': 1, 'craft.': 1, 'sober,': 1, 'wise,': 1, 'paddock,': 1, 'bat,': 1, 'gib': 1, 'concernings': 1, 'hide?': 1, 'despite': 1, 'secrecy,': 1, 'unpeg': 1, \"house's\": 1, 'top,': 1, 'birds': 1, 'fly,': 1, 'famous': 1, 'conclusions,': 1, 'creep': 1, \"assur'd,\": 1, 'forgot!': 1, 'concluded': 1, \"seal'd;\": 1, 'schoolfellows,': 1, 'adders': 1, \"fang'd,\": 1, 'mandate;': 1, 'marshal': 1, 'knavery.': 1, 'enginer': 1, 'hoist': 1, 'petar;': 1, \"'t\": 1, 'delve': 1, 'yard': 1, 'mines': 1, 'line': 1, 'crafts': 1, 'packing.': 1, 'lug': 1, 'neighbour': 1, 'room.-': 1, 'night.-': 1, 'counsellor': 1, 'secret,': 1, 'grave,': 1, 'peating': 1, 'tugging': 1, 'sighs.': 1, 'heaves': 1, 'translate;': 1, 'son?': 1, 'while.': 1, 'guildenstern.]': 1, 'to-night!': 1, 'gertrude?': 1, 'contend': 1, 'mightier.': 1, 'stir,': 1, 'rapier,': 1, 'rat,': 1, \"rat!'\": 1, 'brainish': 1, 'unseen': 1, 'deed!': 1, 'liberty': 1, 'threats': 1, \"answer'd?\": 1, 'short,': 1, \"restrain'd,\": 1, 'haunt': 1, 'owner': 1, 'disease,': 1, 'divulging,': 1, 'gone?': 1, 'apart': 1, \"kill'd;\": 1, 'ore': 1, 'among': 1, 'mineral': 1, 'metals': 1, 'pure.': 1, 'weeps': 1, 'mountains': 1, 'ship': 1, 'hence;': 1, 'excuse.': 1, 'both,': 1, 'aid.': 1, 'slain,': 1, \"dragg'd\": 1, 'out;': 1, '[rosencrantz': 1, 'guildenstern].': 1, 'untimely': 1, '[so': 1, 'slander-]': 1, 'diameter,': 1, 'blank,': 1, 'transports': 1, 'poisoned': 1, 'shot-': 1, 'miss': 1, 'woundless': 1, 'air.-': 1, 'discord': 1, 'dismay.': 1, 'safely': 1, \"stow'd.\": 1, 'noise?': 1, 'body?': 1, 'compounded': 1, 'dust,': 1, 'kin.': 1, \"'tis,\": 1, 'counsel,': 1, 'besides,': 1, 'demanded': 1, 'replication': 1, 'soaks': 1, 'countenance,': 1, 'rewards,': 1, 'authorities.': 1, 'officers': 1, 'corner': 1, 'jaw;': 1, \"mouth'd,\": 1, 'swallowed.': 1, \"glean'd,\": 1, 'squeezing': 1, 'thing-': 1, 'fox,': 1, 'loose!': 1, 'multitude,': 1, 'judgment,': 1, \"offender's\": 1, 'offence.': 1, 'sending': 1, 'deliberate': 1, 'diseases': 1, 'appliance': 1, \"reliev'd,\": 1, \"befall'n?\": 1, \"bestow'd,\": 1, 'guarded,': 1, 'supper.': 1, 'supper?': 1, 'eats,': 1, 'eaten.': 1, 'convocation': 1, 'politic': 1, 'worms': 1, 'emperor': 1, 'diet.': 1, 'maggots.': 1, 'lean': 1, 'service-': 1, 'dishes,': 1, 'alas!': 1, 'worm.': 1, 'progress': 1, 'beggar.': 1, 'nose': 1, 'stair,': 1, 'deed,': 1, 'especial': 1, 'safety,-': 1, 'dearly': 1, 'grieve': 1, 'done,-': 1, 'quickness.': 1, 'bark': 1, 'ready': 1, 'associates': 1, 'bent': 1, \"knew'st\": 1, 'purposes.': 1, 'cherub': 1, 'wife': 1, 'flesh;': 1, 'foot;': 1, 'aboard.': 1, 'delay': 1, 'leans': 1, \"hold'st\": 1, 'aught,-': 1, 'thereof': 1, 'cicatrice': 1, 'raw': 1, 'red': 1, 'pays': 1, 'homage': 1, 'us,-': 1, 'mayst': 1, 'process,': 1, 'congruing': 1, 'hectic': 1, 'rages,': 1, 'cure': 1, \"howe'er\": 1, 'haps,': 1, 'joys': 1, 'begun.': 1, 'captain,': 1, 'greet': 1, 'license': 1, 'craves': 1, 'conveyance': 1, 'rendezvous.': 1, 'eye;': 1, 'softly': 1, 'captain].': 1, '[guildenstern,]': 1, 'these?': 1, \"purpos'd,\": 1, 'poland.': 1, 'commands': 1, 'frontier?': 1, 'addition,': 1, 'name.': 1, 'ducats,': 1, 'five,': 1, 'ranker': 1, 'rate,': 1, 'sold': 1, 'fee.': 1, \"garrison'd.\": 1, 'souls': 1, 'debate': 1, 'straw.': 1, 'imposthume': 1, 'wealth': 1, 'peace,': 1, 'breaks,': 1, 'dies.-': 1, \"will't\": 1, 'before.': 1, 'occasions': 1, 'spur': 1, 'market': 1, 'feed?': 1, 'large': 1, 'discourse,': 1, 'looking': 1, 'after,': 1, 'capability': 1, 'godlike': 1, 'fust': 1, \"unus'd.\": 1, 'bestial': 1, 'oblivion,': 1, 'craven': 1, 'scruple': 1, 'precisely': 1, 'event,-': 1, \"quarter'd,\": 1, 'coward,-': 1, \"thing's\": 1, \"do,'\": 1, 'strength,': 1, 'examples': 1, 'exhort': 1, 'mass': 1, 'led': 1, 'divine': 1, \"puff'd,\": 1, 'mouths': 1, 'invisible': 1, 'event,': 1, 'exposing': 1, 'unsure': 1, 'dare,': 1, 'eggshell.': 1, 'rightly': 1, 'argument,': 1, 'greatly': 1, 'quarrel': 1, 'straw': 1, \"honour's\": 1, 'stake.': 1, \"klll'd,\": 1, \"stain'd,\": 1, 'excitements': 1, 'imminent': 1, 'fantasy': 1, 'beds,': 1, 'plot': 1, 'numbers': 1, 'tomb': 1, 'slain?': 1, 'forth,': 1, 'bloody,': 1, 'worth!': 1, 'importunate,': 1, 'distract.': 1, 'mood': 1, 'pitied.': 1, 'tricks': 1, 'hems,': 1, 'beats': 1, 'enviously': 1, 'straws;': 1, 'doubt,': 1, 'unshaped': 1, 'hearers': 1, 'collection;': 1, 'aim': 1, 'botch': 1, 'thoughts;': 1, 'winks': 1, 'nods': 1, 'gestures': 1, 'unhappily.': 1, 'spoken': 1, 'with;': 1, 'strew': 1, 'conjectures': 1, 'ill-breeding': 1, 'minds.': 1, 'gentleman.]': 1, \"sin's\": 1, 'is)': 1, 'artless': 1, 'jealousy': 1, 'spills': 1, 'fearing': 1, 'spilt.': 1, 'distracted.': 1, 'beauteous': 1, 'one?': 1, 'cockle': 1, 'bat': 1, \"and'\": 1, 'staff': 1, 'sandal': 1, 'shoon.': 1, 'song?': 1, 'gone;': 1, 'grass-green': 1, 'turf,': 1, 'stone.': 1, 'ophelia-': 1, 'shroud': 1, 'snow-': 1, 'flowers;': 1, 'bewept': 1, 'showers.': 1, 'dild': 1, 'owl': 1, \"baker's\": 1, 'are,': 1, 'table!': 1, 'this;': 1, 'ask,': 1, 'this:': 1, \"valentine's\": 1, 'bedtime,': 1, 'window,': 1, 'valentine.': 1, \"donn'd\": 1, \"clo'es\": 1, \"dupp'd\": 1, 'chamber': 1, 'door,': 1, 'departed': 1, 'la,': 1, 'gis': 1, 'charity,': 1, 'quoth': 1, \"'before\": 1, 'tumbled': 1, \"wed.'\": 1, 'answers:': 1, \"'so\": 1, \"'a'\": 1, 'sun,': 1, \"bed.'\": 1, 'patient;': 1, 'counsel.': 1, 'coach!': 1, 'close;': 1, 'springs': 1, 'sorrows': 1, 'spies.': 1, 'battalions!': 1, 'remove;': 1, 'people': 1, 'muddied,': 1, 'unwholesome': 1, 'whispers': 1, \"polonius'\": 1, 'greenly': 1, 'hugger-mugger': 1, 'inter': 1, 'divided': 1, 'fair-judgment,': 1, 'pictures': 1, 'beasts;': 1, 'containing': 1, 'buzzers': 1, 'infect': 1, 'feeds': 1, 'speeches': 1, 'necessity,': 1, \"beggar'd,\": 1, 'arraign': 1, \"murd'ring\": 1, 'piece,': 1, 'places': 1, 'superfluous': 1, 'switzers?': 1, 'lord:': 1, 'ocean,': 1, 'overpeering': 1, 'eats': 1, 'flats': 1, 'impetuous': 1, 'riotous': 1, \"o'erbears\": 1, 'offices.': 1, 'rabble': 1, 'antiquity': 1, 'forgot,': 1, 'known,': 1, 'ratifiers': 1, 'props': 1, \"'choose\": 1, 'we!': 1, 'caps,': 1, 'applaud': 1, \"'laertes\": 1, 'cry!': 1, 'counter,': 1, 'dogs!': 1, 'broke.': 1, 'king?-': 1, 'sirs,': 1, 'staid': 1, 'without.': 1, 'in!': 1, 'followers.]': 1, 'father!': 1, 'calmly,': 1, 'drop': 1, 'bastard;': 1, 'cuckold': 1, 'brands': 1, 'harlot': 1, 'unsmirched': 1, 'brows': 1, 'rebellion': 1, 'giantlike?': 1, 'person.': 1, 'hedge': 1, 'peep': 1, 'acts': 1, 'fill.': 1, 'dead?': 1, 'juggled': 1, 'with:': 1, 'allegiance!': 1, 'blackest': 1, 'profoundest': 1, 'pit!': 1, 'damnation.': 1, 'negligence,': 1, 'comes;': 1, \"reveng'd\": 1, 'throughly': 1, 'certainty': 1, 'swoopstake': 1, 'foe,': 1, 'winner': 1, 'loser?': 1, 'enemies.': 1, 'ope': 1, \"life-rend'ring\": 1, 'pelican,': 1, 'repast': 1, 'child': 1, 'guiltless': 1, 'sensibly': 1, 'pierce': 1, 'within:': 1, \"'let\": 1, \"in.'\": 1, 'brains!': 1, 'seven': 1, 'burn': 1, 'eye!': 1, 'paid': 1, 'weight': 1, 'beam.': 1, 'may!': 1, \"maid's\": 1, 'life?': 1, 'instance': 1, \"barefac'd\": 1, 'bier': 1, '(hey': 1, 'non': 1, 'hey': 1, 'nony)': 1, \"rain'd\": 1, 'tear.': 1, 'dove!': 1, 'wits,': 1, 'persuade': 1, \"'a-down\": 1, 'a-down,': 1, \"a-down-a.'\": 1, 'wheel': 1, 'steward,': 1, \"master's\": 1, \"nothing's\": 1, 'rosemary,': 1, 'pansies,': 1, 'document': 1, 'madness!': 1, 'fitted.': 1, 'fennel': 1, 'columbines.': 1, 'herb': 1, 'sundays.': 1, 'difference!': 1, 'daisy.': 1, 'violets,': 1, \"wither'd\": 1, 'died.': 1, 'bonny': 1, 'robin': 1, 'joy.': 1, 'affliction,': 1, 'itself,': 1, 'turns': 1, 'prettiness.': 1, 'deathbed;': 1, 'flaxen': 1, 'poll.': 1, 'moan.': 1, \"'a'mercy\": 1, 'god.': 1, \"wi',\": 1, 'god?': 1, 'commune': 1, 'apart,': 1, 'collateral': 1, \"touch'd,\": 1, 'satisfaction;': 1, 'jointly': 1, 'labour': 1, 'due': 1, 'content.': 1, 'obscure': 1, 'funeral-': 1, 'trophy,': 1, 'hatchment': 1, 'rite': 1, 'formal': 1, 'ostentation,-': 1, \"call't\": 1, 'shall;': 1, 'axe': 1, 'fall.': 1, 'vi.': 1, 'servant.': 1, 'seafaring': 1, 'greeted,': 1, 'sailors.': 1, \"an't\": 1, 'letter': 1, 'sir,-': 1, 'ambassador': 1, 'england-': 1, '(reads': 1, 'letter)': 1, \"'horatio,\": 1, \"overlook'd\": 1, 'pirate': 1, 'appointment': 1, 'chase.': 1, 'compelled': 1, 'valour,': 1, 'boarded': 1, 'clear': 1, 'ship;': 1, 'became': 1, 'prisoner.': 1, 'dealt': 1, 'thieves': 1, 'mercy;': 1, 'did:': 1, 'sent,': 1, 'dumb;': 1, 'am.': 1, \"'he\": 1, 'knowest': 1, 'speedier': 1, 'vii.': 1, 'acquittance': 1, 'seal,': 1, 'slain': 1, 'pursued': 1, 'appears.': 1, 'proceeded': 1, 'feats': 1, 'crimeful': 1, 'safety,': 1, 'wisdom,': 1, 'else,': 1, 'mainly': 1, \"stirr'd\": 1, 'perhaps,': 1, 'seein': 1, \"unsinew'd,\": 1, 'strong.': 1, 'myself,-': 1, 'plague,': 1, 'which,-': 1, 'conjunctive': 1, 'sphere,': 1, 'public': 1, 'gender': 1, 'dipping': 1, 'turneth': 1, 'wood': 1, 'stone,': 1, 'graces;': 1, 'arrows,': 1, 'slightly': 1, \"timber'd\": 1, 'wind,': 1, 'reverted': 1, \"aim'd\": 1, 'driven': 1, 'praises': 1, 'challenger': 1, 'mount': 1, 'perfections.': 1, 'shook': 1, 'danger,': 1, 'pastime.': 1, 'ourself,': 1, 'imagine-': 1, 'letters.': 1, 'news?': 1, 'hamlet:': 1, 'majesty;': 1, 'say;': 1, 'claudio;': 1, \"[reads]'high\": 1, 'mighty,-you': 1, 'naked': 1, 'kingly': 1, '(first': 1, 'asking': 1, 'thereunto)': 1, 'recount': 1, 'return.': 1, \"'hamlet.'\": 1, 'mean?': 1, 'back?': 1, 'abuse,': 1, 'thing?': 1, 'hand?': 1, \"'naked!'\": 1, 'postscript': 1, \"'alone.'\": 1, 'advise': 1, 'warms': 1, 'sickness': 1, 'teeth,': 1, \"'thus\": 1, 'didest': 1, \"thou.'\": 1, 'otherwise?),': 1, \"rul'd\": 1, \"o'errule\": 1, 'checking': 1, 'voyage,': 1, 'exploit': 1, 'ripe': 1, 'device,': 1, 'fall;': 1, 'uncharge': 1, \"rul'd;\": 1, 'devise': 1, 'organ.': 1, 'travel': 1, 'hearing,': 1, 'shine,': 1, 'regard,': 1, 'unworthiest': 1, 'siege.': 1, 'riband': 1, 'youth-': 1, 'needfull': 1, 'careless': 1, 'livery': 1, 'settled': 1, 'sables': 1, 'weeds,': 1, 'graveness.': 1, 'normandy.': 1, \"serv'd\": 1, 'against,': 1, 'french,': 1, 'horseback;': 1, 'gallant': 1, 'grew': 1, 'seat,': 1, 'doing': 1, \"incorps'd\": 1, \"demi-natur'd\": 1, 'beast.': 1, \"topp'd\": 1, 'forgery': 1, 'tricks,': 1, 'did.': 1, 'norman': 1, \"was't?\": 1, 'norman.': 1, 'lamound.': 1, 'same.': 1, 'broach': 1, 'gem': 1, 'nation.': 1, 'masterly': 1, 'defence,': 1, 'especially,': 1, \"'twould\": 1, 'match': 1, 'scrimers': 1, 'swore': 1, 'guard,': 1, \"oppos'd\": 1, 'envenom': 1, 'painting': 1, 'sorrow,': 1, \"heart,'\": 1, 'ask': 1, 'passages': 1, 'proof,': 1, 'qualifies': 1, 'spark': 1, 'fire': 1, 'wick': 1, 'snuff': 1, 'abate': 1, 'goodness': 1, 'goodness,': 1, 'growing': 1, 'plurisy,': 1, 'too-much.': 1, 'would;': 1, \"'would'\": 1, 'changes,': 1, 'abatements': 1, 'delays': 1, 'tongues,': 1, 'accidents;': 1, \"'should'\": 1, 'spendthrift': 1, 'easing.': 1, 'ulcer!': 1, 'back.': 1, 'words?': 1, 'church!': 1, 'sanctuarize;': 1, 'bounds.': 1, 'close': 1, 'chamber.': 1, 'home.': 1, 'praise': 1, 'varnish': 1, 'frenchman': 1, 'remiss,': 1, 'contriving,': 1, 'peruse': 1, 'foils;': 1, 'shuffling,': 1, 'unbated,': 1, 'practice,': 1, \"do't!\": 1, 'anoint': 1, 'bought': 1, 'mountebank,': 1, 'dip': 1, 'knife': 1, 'cataplasm': 1, 'rare,': 1, 'collected': 1, 'simples': 1, \"scratch'd\": 1, 'contagion,': 1, 'slightly,': 1, 'convenience': 1, 'shape.': 1, 'performance.': 1, \"assay'd.\": 1, 'project': 1, 'second,': 1, 'cunnings-': 1, \"ha't!\": 1, 'motion': 1, 'dry-': 1, 'bouts': 1, 'end-': 1, \"prepar'd\": 1, 'chalice': 1, 'nonce;': 1, 'sipping,': 1, 'chance': 1, \"venom'd\": 1, 'stuck,': 1, 'there.-': 1, 'noise,': 1, 'tread': 1, \"another's\": 1, 'heel,': 1, \"sister's\": 1, \"drown'd!\": 1, 'willow': 1, 'aslant': 1, 'brook,': 1, 'hoar': 1, 'glassy': 1, 'stream.': 1, 'fantastic': 1, 'garlands': 1, 'crowflowers,': 1, 'nettles,': 1, 'daisies,': 1, 'purples,': 1, 'shepherds': 1, 'grosser': 1, 'name,': 1, 'maids': 1, 'pendant': 1, 'boughs': 1, 'coronet': 1, \"clamb'ring\": 1, 'hang,': 1, 'envious': 1, 'sliver': 1, 'broke,': 1, 'weedy': 1, 'trophies': 1, 'weeping': 1, 'brook.': 1, 'clothes': 1, 'mermaid-like,': 1, 'chaunted': 1, 'snatches': 1, 'tunes,': 1, 'incapable': 1, 'distress,': 1, 'indued': 1, 'element;': 1, 'garments,': 1, \"pull'd\": 1, 'melodious': 1, 'muddy': 1, \"drown'd?\": 1, \"drown'd.\": 1, 'tears;': 1, 'trick;': 1, 'holds,': 1, 'blaze': 1, 'folly': 1, 'douts': 1, 'churchyard.': 1, 'spades': 1, 'pickaxes].': 1, 'burial': 1, 'wilfully': 1, 'seeks': 1, 'salvation?': 1, 'crowner': 1, 'defence?': 1, 'se': 1, 'offendendo;': 1, 'else.': 1, 'point:': 1, 'wittingly,': 1, 'argues': 1, 'act;': 1, 'branches-it': 1, 'perform;': 1, 'wittingly.': 1, 'goodman': 1, 'delver!': 1, 'water;': 1, 'man;': 1, 'nill': 1, 'goes-': 1, 'drowns': 1, 'shortens': 1, 'law?': 1, \"is't-\": 1, \"crowner's\": 1, 'quest': 1, 'law.': 1, \"ha'\": 1, \"an't?\": 1, 'gentlewoman,': 1, \"say'st!\": 1, 'folk': 1, \"count'nance\": 1, 'even-christen.': 1, 'spade!': 1, 'ancient': 1, \"gard'ners,\": 1, 'ditchers,': 1, 'grave-makers.': 1, \"adam's\": 1, 'profession.': 1, 'gentleman?': 1, 'heathen?': 1, 'scripture?': 1, 'scripture': 1, 'adam': 1, \"digg'd.\": 1, 'answerest': 1, 'thyself-': 1, 'gallows-maker;': 1, 'frame': 1, 'outlives': 1, 'tenants.': 1, 'ill.': 1, 'built': 1, 'church.': 1, 'unyoke.': 1, 'tell!': 1, 'tell.': 1, 'cudgel': 1, 'mend': 1, 'pace': 1, 'beating;': 1, \"ask'd\": 1, \"grave-maker.'\": 1, 'houses': 1, 'lasts': 1, 'doomsday.': 1, 'yaughan;': 1, 'stoup': 1, 'liquor.': 1, 'clown.]': 1, '[clown': 1, 'digs': 1, 'sings.': 1, 'sweet;': 1, 'contract-': 1, 'o-': 1, 'for-': 1, 'behove,': 1, 'nothing-': 1, 'business,': 1, 'sings': 1, 'grave-making?': 1, 'easiness.': 1, 'employment': 1, 'daintier': 1, 'stealing': 1, 'steps': 1, 'clawed': 1, 'clutch,': 1, 'shipped': 1, 'intil': 1, 'such.': 1, '[throws': 1, 'jowls': 1, 'ground,as': 1, \"cain's\": 1, 'jawbone,': 1, 'politician,': 1, \"o'erreaches;\": 1, 'circumvent': 1, 'morrow,': 1, \"lord?'\": 1, 'such-a-one,': 1, \"such-a-one's\": 1, 'it-': 1, \"worm's,\": 1, 'chapless,': 1, \"knock'd\": 1, 'mazzard': 1, \"sexton's\": 1, 'spade.': 1, 'revolution,': 1, \"see't.\": 1, 'bones': 1, 'breeding': 1, 'loggets': 1, 'ache': 1, \"on't.\": 1, 'pickaxe': 1, 'shrouding': 1, 'sheet;': 1, 'throws': 1, '[another': 1, 'skull].': 1, 'lawyer?': 1, 'quiddits': 1, 'quillets,': 1, 'cases,': 1, 'tenures,': 1, 'tricks?': 1, 'knock': 1, 'sconce': 1, 'dirty': 1, 'shovel,': 1, 'battery?': 1, 'hum!': 1, 'buyer': 1, 'statutes,': 1, 'recognizances,': 1, 'vouchers,': 1, 'recoveries.': 1, 'recovery': 1, 'recoveries,': 1, 'dirt?': 1, 'vouchers': 1, 'vouch': 1, 'purchases,': 1, 'breadth': 1, 'indentures?': 1, 'conveyances': 1, 'box;': 1, 'inheritor': 1, 'jot': 1, 'parchment': 1, 'sheepskins?': 1, 'calveskins': 1, 'sheep': 1, 'calves': 1, \"grave's\": 1, 'sirrah?': 1, \"on't,\": 1, 'thine.': 1, 'quick;': 1, 'liest.': 1, 'neither.': 1, 'woman,': 1, 'card,': 1, 'equivocation': 1, 'undo': 1, 'years': 1, 'picked': 1, 'toe': 1, 'heel': 1, 'courtier': 1, 'kibe.-': 1, 'grave-maker?': 1, 'year,': 1, 'overcame': 1, 'since?': 1, 'born-': 1, 'because': 1, 'or,': 1, 'why?': 1, 'strangely,': 1, 'say.': 1, 'strangely?': 1, 'losing': 1, 'wits.': 1, 'ground?': 1, 'sexton': 1, 'boy': 1, 'rot?': 1, 'pocky': 1, 'corses': 1, 'now-a-days': 1, 'eight': 1, 'year': 1, 'tanner': 1, 'another?': 1, \"tann'd\": 1, 'while;': 1, 'decayer': 1, 'whoreson': 1, 'lien': 1, 'three-and-twenty': 1, 'whoreson,': 1, \"fellow's\": 1, 'was?': 1, 'pestilence': 1, 'rogue!': 1, \"pour'd\": 1, 'flagon': 1, \"yorick's\": 1, 'jester.': 1, '[takes': 1, 'yorick!': 1, 'fancy.': 1, 'tunes.': 1, 'abhorred': 1, 'gorge': 1, 'rises': 1, 'hung': 1, 'lips': 1, \"kiss'd\": 1, 'oft.': 1, 'gibes': 1, 'gambols?': 1, 'songs?': 1, 'flashes': 1, 'merriment': 1, 'roar?': 1, 'grinning?': 1, 'chap-': 1, \"fall'n?\": 1, \"lady's\": 1, 'chamber,': 1, 'paint': 1, 'inch': 1, 'thick,': 1, 'thing.': 1, 'earth?': 1, 'smelt': 1, 'pah!': 1, '[puts': 1, 'return,': 1, 'stopping': 1, 'bunghole?': 1, 'curiously,': 1, 'jot;': 1, 'enough,': 1, 'likelihood': 1, 'died,': 1, 'buried,': 1, 'returneth': 1, 'dust;': 1, 'loam;': 1, 'loam': 1, '(whereto': 1, 'converted)': 1, 'beer': 1, 'barrel?': 1, 'imperious': 1, 'caesar,': 1, 'clay,': 1, 'hole': 1, 'wall': 1, \"winter's\": 1, 'flaw!': 1, 'aside!': 1, 'king-': 1, '[priests': 1, 'with]': 1, 'coffin': 1, '[in': 1, 'procession],': 1, 'courtiers.': 1, 'follow?': 1, 'maimed': 1, 'rites?': 1, 'betoken': 1, 'fordo': 1, '[retires': 1, 'youth.': 1, 'obsequies': 1, \"enlarg'd\": 1, 'warranty.': 1, 'doubtful;': 1, \"o'ersways\": 1, 'order,': 1, 'unsanctified': 1, \"lodg'd\": 1, 'trumpet.': 1, 'charitable': 1, 'shards,': 1, 'flints,': 1, 'pebbles': 1, \"allow'd\": 1, 'virgin': 1, 'crants,': 1, 'strewments,': 1, 'bringing': 1, 'profane': 1, 'requiem': 1, 'peace-parted': 1, 'souls.': 1, 'unpolluted': 1, 'violets': 1, 'spring!': 1, 'churlish': 1, 'priest,': 1, \"minist'ring\": 1, 'howling.': 1, 'sweets': 1, 'sweet!': 1, '[scatters': 1, 'flowers.]': 1, \"hop'd\": 1, 'bride-bed': 1, \"deck'd,\": 1, \"strew'd\": 1, 'ingenious': 1, \"depriv'd\": 1, 'of!': 1, 'leaps': 1, 'pile': 1, \"o'ertop\": 1, 'pelion': 1, 'skyish': 1, 'blue': 1, 'olympus.': 1, '[comes': 1, 'forward]': 1, 'emphasis?': 1, 'conjures': 1, \"wand'ring\": 1, 'wonder-wounded': 1, 'hearers?': 1, '[leaps': 1, '[grapples': 1, \"pray'st\": 1, 'throat;': 1, 'splenitive': 1, 'dangerous,': 1, 'hand!': 1, 'thein': 1, 'asunder.': 1, 'quiet.': 1, 'grave.]': 1, 'until': 1, 'eyelids': 1, 'wag.': 1, 'theme?': 1, 'forty': 1, 'brothers': 1, '(with': 1, 'love)': 1, 'sum.': 1, 'forbear': 1, \"thou't\": 1, 'weep?': 1, 'fight?': 1, 'thyself?': 1, 'esill?': 1, 'crocodile?': 1, 'whine?': 1, 'outface': 1, 'leaping': 1, 'prate': 1, 'mountains,': 1, 'millions': 1, 'acres': 1, 'singeing': 1, 'zone,': 1, 'ossa': 1, 'wart!': 1, \"thou'lt\": 1, 'rant': 1, 'thou.': 1, 'madness;': 1, 'anon,': 1, 'female': 1, 'dove': 1, 'couplets': 1, 'drooping.': 1, 'may,': 1, 'cat': 1, 'mew,': 1, 'dog': 1, 'day.': 1, 'laertes]': 1, 'strengthen': 1, \"night's\": 1, 'push.-': 1, 'monument.': 1, 'see;': 1, 'proceeding': 1, 'circumstance?': 1, 'mutinies': 1, 'bilboes.': 1, 'rashly-': 1, 'rashness': 1, 'indiscretion': 1, 'pall;': 1, 'learn': 1, 'ends,': 1, 'rough-hew': 1, 'will-': 1, 'certain.': 1, 'cabin,': 1, 'sea-gown': 1, \"scarf'd\": 1, 'dark': 1, \"grop'd\": 1, \"finger'd\": 1, 'packet,': 1, 'withdrew': 1, '(my': 1, 'forgetting': 1, 'manners)': 1, 'unseal': 1, 'grand': 1, 'found,': 1, 'knavery!),': 1, 'exact': 1, 'several': 1, 'sorts': 1, 'health,': 1, \"england's\": 1, 'hoo!': 1, 'bugs': 1, 'goblins': 1, 'life-': 1, 'supervise,': 1, 'bated,': 1, 'axe,': 1, 'leisure.': 1, 'proceed?': 1, 'benetted': 1, 'villanies,': 1, 'brains,': 1, 'sat': 1, \"devis'd\": 1, 'wrote': 1, 'fair.': 1, 'statists': 1, 'baseness': 1, 'write': 1, \"labour'd\": 1, 'learning;': 1, \"yeoman's\": 1, 'wrote?': 1, 'earnest': 1, 'conjuration': 1, 'tributary,': 1, 'flourish,': 1, 'wheaten': 1, 'garland': 1, 'comma': 1, \"'tween\": 1, 'amities,': 1, 'such-like': 1, \"as's\": 1, 'view': 1, 'contents,': 1, 'debatement': 1, 'further,': 1, 'shriving': 1, \"allow'd.\": 1, \"seal'd?\": 1, 'ordinant.': 1, 'signet': 1, 'purse,': 1, 'model': 1, 'seal;': 1, 'folded': 1, \"subscrib'd\": 1, \"gave't\": 1, 'impression,': 1, 'safely,': 1, 'changeling': 1, 'known.': 1, 'sea-fight;': 1, 'sequent': 1, 'employment!': 1, 'conscience;': 1, 'insinuation': 1, 'grow.': 1, 'incensed': 1, 'points': 1, 'mighty': 1, 'opposites.': 1, \"thinks't\": 1, 'upon-': 1, \"whor'd\": 1, 'mother;': 1, \"popp'd\": 1, 'hopes;': 1, 'angle': 1, \"coz'nage-\": 1, 'perfect': 1, 'arm?': 1, 'evil?': 1, 'short;': 1, 'interim': 1, \"'one.'\": 1, 'sorry,': 1, 'portraiture': 1, 'his.': 1, 'favours.': 1, 'bravery': 1, \"tow'ring\": 1, 'passion.': 1, 'waterfly?': 1, 'gracious;': 1, 'fertile.': 1, 'beasts,': 1, 'crib': 1, 'chough;': 1, 'spacious': 1, 'possession': 1, 'dirt.': 1, 'leisure,': 1, 'diligence': 1, 'bonnet': 1, 'use.': 1, 'lordship,': 1, 'hot.': 1, 'cold;': 1, 'northerly.': 1, 'sultry': 1, 'complexion.': 1, 'exceedingly,': 1, 'sultry,': 1, \"'twere-\": 1, 'how.': 1, 'bade': 1, 'matter-': 1, '[hamlet': 1, 'hat.]': 1, 'newly': 1, 'laertes;': 1, 'differences,': 1, 'society': 1, 'showing.': 1, 'feelingly': 1, 'card': 1, 'calendar': 1, 'gentry;': 1, 'definement': 1, 'perdition': 1, 'though,': 1, 'inventorially': 1, 'dozy': 1, 'arithmetic': 1, 'yaw': 1, 'sail.': 1, 'verity': 1, 'extolment,': 1, 'article,': 1, 'infusion': 1, 'dearth': 1, 'rareness': 1, 'diction': 1, 'semblable': 1, 'mirror,': 1, 'umbrage,': 1, 'infallibly': 1, 'concernancy,': 1, 'wrap': 1, 'rawer': 1, 'hor': 1, 'tongue?': 1, 'really.': 1, 'nomination': 1, 'empty': 1, 'spent.': 1, 'ignorant-': 1, 'ignorant': 1, 'is-': 1, 'compare': 1, 'excellence;': 1, 'weapon;': 1, 'imputation': 1, 'meed': 1, 'unfellowed.': 1, 'weapon?': 1, 'dagger.': 1, 'weapons-': 1, \"wager'd\": 1, 'horses;': 1, 'poniards,': 1, 'girdle,': 1, 'hangers,': 1, 'fancy,': 1, 'responsive': 1, 'hilts,': 1, 'conceit.': 1, 'carriages?': 1, 'edified': 1, 'margent': 1, 'hangers.': 1, 'germane': 1, 'hangers': 1, 'horses': 1, 'swords,': 1, 'liberal-conceited': 1, 'carriages:': 1, 'bet': 1, 'danish.': 1, 'passes': 1, 'exceed': 1, 'hits;': 1, 'nine,': 1, 'trial': 1, 'trial.': 1, 'brought,': 1, 'can;': 1, 'hits.': 1, 'redeliver': 1, 'lordship.': 1, 'yours,': 1, 'osric.]': 1, 'turn.': 1, 'lapwing': 1, 'shell': 1, 'dug': 1, 'bevy': 1, 'drossy': 1, 'dotes': 1, 'encounter-': 1, 'yesty': 1, 'collection,': 1, 'carries': 1, \"fann'd\": 1, 'winnowed': 1, 'opinions;': 1, 'trial-the': 1, 'bubbles': 1, 'commended': 1, 'brings': 1, 'attend': 1, 'constant': 1, 'purposes;': 1, 'fitness': 1, 'speaks,': 1, 'ready;': 1, 'whensoever,': 1, 'provided': 1, 'able': 1, 'instructs': 1, 'lord.]': 1, 'wager,': 1, 'continual': 1, 'practice.': 1, '-': 1, 'foolery;': 1, 'gaingiving': 1, 'woman.': 1, 'dislike': 1, 'anything,': 1, 'forestall': 1, 'fit.': 1, 'whit,': 1, 'defy': 1, 'augury;': 1, 'sparrow.': 1, \"come',\": 1, 'now;': 1, 'come:': 1, 'readiness': 1, 'leaves,': 1, 'betimes?': 1, 'gauntlets.': 1, 'flagons': 1, \"laertes'\": 1, \"hamlet's.]\": 1, 'pardon,': 1, 'wrong;': 1, \"pardon't,\": 1, \"punish'd\": 1, 'distraction.': 1, 'honour,': 1, 'exception': 1, 'roughly': 1, 'awake,': 1, \"wrong'd\": 1, 'denies': 1, 'faction': 1, \"wrong'd;\": 1, 'audience,': 1, 'disclaiming': 1, \"purpos'd\": 1, 'evil': 1, 'generous': 1, 'arrow': 1, 'hurt': 1, 'satisfied': 1, 'case': 1, 'aloof,': 1, 'reconcilement': 1, 'elder': 1, 'masters': 1, \"ungor'd.\": 1, \"offer'd\": 1, 'foils.': 1, 'foil,': 1, 'ignorance': 1, 'darkest': 1, 'bad.': 1, 'foils,': 1, 'wager?': 1, 'odds': 1, 'weaker': 1, 'side.': 1, 'both;': 1, \"better'd,\": 1, 'heavy;': 1, 'length?': 1, 'stoups': 1, 'exchange,': 1, 'battlements': 1, 'cup': 1, 'successive': 1, 'kings': 1, 'crown': 1, 'worn.': 1, 'cups;': 1, 'kettle': 1, 'cannoneer': 1, 'cannons': 1, \"'now\": 1, 'begin.': 1, 'judges,': 1, 'judgment!': 1, 'palpable': 1, 'pearl': 1, 'thine;': 1, 'health.': 1, '[drum;': 1, 'sound;': 1, '[within].': 1, 'bout': 1, 'first;': 1, '(they': 1, 'play.)': 1, 'touch,': 1, 'touch;': 1, \"confess't.\": 1, 'win.': 1, 'fat,': 1, 'scant': 1, 'breath.': 1, 'napkin,': 1, 'rub': 1, 'brows.': 1, 'carouses': 1, 'madam!': 1, 'drinks.': 1, \"poison'd\": 1, 'cup;': 1, 'madam;': 1, 'face.': 1, \"think't.\": 1, 'conscience.': 1, 'third,': 1, 'laertes!': 1, 'dally.': 1, 'afeard': 1, 'scuffling,': 1, 'rapiers,': 1, '[and': 1, 'laertes].': 1, 'them!': 1, 'bleed': 1, 'woodcock': 1, 'springe,': 1, 'treachery.': 1, 'sounds': 1, 'bleed.': 1, '[dies.]': 1, 'villany!': 1, \"lock'd.\": 1, 'treachery!': 1, 'falls.]': 1, 'medicine': 1, 'treacherous': 1, 'unbated': 1, \"envenom'd.\": 1, 'rise': 1, \"envenom'd\": 1, 'too?': 1, 'venom,': 1, 'work.': 1, 'hurt.': 1, \"murd'rous,\": 1, 'dane,': 1, 'potion!': 1, \"serv'd.\": 1, \"temper'd\": 1, 'exchange': 1, 'forgiveness': 1, 'chance,': 1, 'mutes': 1, 'sergeant,': 1, 'arrest)': 1, \"liv'st;\": 1, 'aright': 1, 'unsatisfied.': 1, 'liquor': 1, 'left.': 1, \"th'art\": 1, 'go!': 1, \"ha't.\": 1, 'wounded': 1, '(things': 1, 'standing': 1, 'unknown)': 1, 'absent': 1, 'felicity': 1, 'pain,': 1, 'story.': 1, 'conquest': 1, 'volley.': 1, \"o'ercrows\": 1, 'lights': 1, 'dying': 1, 'occurrents,': 1, 'solicited-': 1, 'silence.': 1, 'cracks': 1, 'flights': 1, 'drum': 1, 'ambassadors,': 1, 'drum,': 1, 'colours,': 1, 'see?': 1, 'cease': 1, 'search.': 1, 'quarry': 1, 'havoc.': 1, 'cell': 1, 'princes': 1, 'bloodily': 1, 'ambassador.': 1, 'dismal;': 1, 'affairs': 1, 'bearing': 1, \"fulfill'd\": 1, 'thanks?': 1, 'ability': 1, 'since,': 1, 'wars,': 1, \"arriv'd,\": 1, 'placed': 1, 'view;': 1, 'unknowing': 1, 'about.': 1, 'carnal,': 1, 'acts;': 1, 'accidental': 1, 'judgments,': 1, 'casual': 1, 'slaughters;': 1, 'deaths': 1, 'cause;': 1, 'upshot,': 1, 'purposes': 1, 'mistook': 1, \"inventors'\": 1, 'deliver.': 1, 'noblest': 1, 'audience.': 1, 'claim': 1, 'vantage': 1, 'invite': 1, 'also': 1, \"perform'd,\": 1, 'minds': 1, 'errors': 1, 'happen.': 1, 'captains': 1, 'stage;': 1, 'likely,': 1, 'royally;': 1, \"soldiers'\": 1, 'rites': 1, 'war': 1, 'loudly': 1, 'bodies.': 1, 'field': 1, 'shoot.': 1, 'marching;': 1, 'peal': 1}\n"
     ]
    }
   ],
   "source": [
    "# 1. hamlet.txt 파일주소\n",
    "import requests\n",
    "res = requests.get('https://raw.githubusercontent.com/KennethJHan/blogdata/master/hamlet.txt')\n",
    "\n",
    "# 2. 요청보낸 결과를 str으로 꺼내서 리스트로 전환하기\n",
    "hamlet = res.text.lower().strip().split()\n",
    "\n",
    "# 3. 단어 빈도수 세기\n",
    "word_count = {}\n",
    "for word in hamlet:\n",
    "    if word in word_count:\n",
    "        word_count[word] += 1\n",
    "    else:\n",
    "        word_count[word] = 1\n",
    "        \n",
    "# 4. 많이 나온 단어 순으로 정렬하여 다시 dict 형태로 변환하기\n",
    "word_count = dict(sorted(word_count.items(), key=lambda x:x[1], reverse=True))\n",
    "\n",
    "# 5. 출력\n",
    "print(word_count)"
   ]
  },
  {
   "cell_type": "code",
   "execution_count": 196,
   "metadata": {
    "scrolled": true
   },
   "outputs": [
    {
     "data": {
      "text/plain": [
       "[('the', 1083),\n",
       " ('and', 939),\n",
       " ('to', 727),\n",
       " ('of', 670),\n",
       " ('a', 540),\n",
       " ('i', 523),\n",
       " ('my', 519),\n",
       " ('you', 433),\n",
       " ('in', 420),\n",
       " ('ham.', 358)]"
      ]
     },
     "execution_count": 196,
     "metadata": {},
     "output_type": "execute_result"
    }
   ],
   "source": [
    "# 방법2\n",
    "from collections import Counter\n",
    "# print(Counter(hamlet))\n",
    "sorted(Counter(hamlet).items(), key=lambda x:x[1], reverse=True)[:10]"
   ]
  },
  {
   "cell_type": "code",
   "execution_count": null,
   "metadata": {},
   "outputs": [],
   "source": []
  }
 ],
 "metadata": {
  "kernelspec": {
   "display_name": "Python 3",
   "language": "python",
   "name": "python3"
  },
  "language_info": {
   "codemirror_mode": {
    "name": "ipython",
    "version": 3
   },
   "file_extension": ".py",
   "mimetype": "text/x-python",
   "name": "python",
   "nbconvert_exporter": "python",
   "pygments_lexer": "ipython3",
   "version": "3.7.5"
  },
  "toc-autonumbering": true
 },
 "nbformat": 4,
 "nbformat_minor": 4
}
