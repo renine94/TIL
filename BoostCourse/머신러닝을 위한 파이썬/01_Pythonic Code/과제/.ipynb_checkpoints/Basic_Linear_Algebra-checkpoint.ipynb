{
 "cells": [
  {
   "cell_type": "markdown",
   "metadata": {},
   "source": [
    "# Basic Linear Algebra (기초 선형대수)\n",
    "\n",
    "- 학습목표\n",
    "    - 이번 강의에서는 간단한 선형대수 수식들을 Python Code로 작성하는 것이 목적\n",
    "    - 숙제 파일을 다운받아 수식을 한 줄로 작성하는것을 연습한 후, 해걸 영상보며 공부\n",
    "    \n",
    "    \n",
    "- 핵심키워드\n",
    "    - linear algebra\n",
    "    - matrix\n",
    "    - vector\n",
    "    - asterlisk\n",
    "    - List Comprehension\n",
    "    - Pythonic code"
   ]
  },
  {
   "cell_type": "code",
   "execution_count": null,
   "metadata": {},
   "outputs": [],
   "source": []
  }
 ],
 "metadata": {
  "kernelspec": {
   "display_name": "Python 3",
   "language": "python",
   "name": "python3"
  },
  "language_info": {
   "codemirror_mode": {
    "name": "ipython",
    "version": 3
   },
   "file_extension": ".py",
   "mimetype": "text/x-python",
   "name": "python",
   "nbconvert_exporter": "python",
   "pygments_lexer": "ipython3",
   "version": "3.7.5"
  }
 },
 "nbformat": 4,
 "nbformat_minor": 4
}
