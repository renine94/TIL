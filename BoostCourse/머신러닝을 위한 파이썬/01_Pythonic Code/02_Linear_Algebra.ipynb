{
 "cells": [
  {
   "cell_type": "markdown",
   "metadata": {},
   "source": [
    "# Linear_Algebra (선형대수)\n",
    "- [Khan Academy - 선형대수학 강의](https://ko.khanacademy.org/math/linear-algebra)\n",
    "- [BoostCourse - 인공지능을 위한 선형대수](https://www.edwith.org/linearalgebra4ai)\n",
    "\n",
    "\n",
    "- 학습목표\n",
    "    - 선형대수의 여러가지 간단한 기법들을 python code로 표현하는 방법을 알아봅니다.\n",
    "    \n",
    "    \n",
    "- 핵심 키워드\n",
    "    - Vector\n",
    "    - Matrix\n",
    "    - Matrix addition\n",
    "    - Matrix Product\n",
    "   "
   ]
  },
  {
   "cell_type": "code",
   "execution_count": 1,
   "metadata": {},
   "outputs": [
    {
     "name": "stdout",
     "output_type": "stream",
     "text": [
      "[1, 2, 10] (1, 2, 10) {'x': 1, 'y': 1, 'z': 10}\n"
     ]
    }
   ],
   "source": [
    "# 파이썬에서 vector 를 표현하는 방법\n",
    "# 최선의 방법은 없음\n",
    "# 값의 변경 유무, 속성값 유무에 따라 선택할 수 있음\n",
    "# 본 수업에서는 기본적으로 list로 vector 연산 실시\n",
    "\n",
    "vector_a = [1, 2, 10] # List로 표현했을 경우\n",
    "vector_b = (1, 2, 10) # Tuple로 표현했을 경우\n",
    "vector_c = {'x': 1, 'y': 1, 'z': 10} # dict로 표현했을 경우\n",
    "\n",
    "print(vector_a, vector_b, vector_c)"
   ]
  },
  {
   "cell_type": "markdown",
   "metadata": {},
   "source": [
    "# Vector의 계산"
   ]
  },
  {
   "cell_type": "code",
   "execution_count": 2,
   "metadata": {},
   "outputs": [
    {
     "name": "stdout",
     "output_type": "stream",
     "text": [
      "[7, 10]\n"
     ]
    }
   ],
   "source": [
    "# Pythonic 하지 못한 Code\n",
    "\n",
    "u = [2, 2]\n",
    "v = [2, 3]\n",
    "z = [3, 5]\n",
    "\n",
    "result = []\n",
    "for i in range(len(u)):\n",
    "    result.append(u[i] + v[i] + z[i])\n",
    "\n",
    "print(result)"
   ]
  },
  {
   "cell_type": "code",
   "execution_count": 6,
   "metadata": {},
   "outputs": [
    {
     "data": {
      "text/plain": [
       "[7, 10]"
      ]
     },
     "execution_count": 6,
     "metadata": {},
     "output_type": "execute_result"
    }
   ],
   "source": [
    "# Pythonic Code\n",
    "# Vector 의 길이가 같다는 전제가 보장되어야 한다.\n",
    "\n",
    "u = [2, 2]\n",
    "v = [2, 3]\n",
    "z = [3, 5]\n",
    "\n",
    "[sum(item) for item in zip(u, v, z)]"
   ]
  },
  {
   "cell_type": "markdown",
   "metadata": {},
   "source": [
    "## Scalar-Vector product"
   ]
  },
  {
   "cell_type": "code",
   "execution_count": 7,
   "metadata": {},
   "outputs": [
    {
     "name": "stdout",
     "output_type": "stream",
     "text": [
      "[10, 12, 14]\n"
     ]
    }
   ],
   "source": [
    "u = [1, 2, 3] # 2([1, 2, 3] + [4, 4, 4]) = 2[5, 6, 7] = [10, 12, 14]\n",
    "v = [4, 4, 4]\n",
    "alpha = 2\n",
    "\n",
    "result = [alpha * sum(t) for t in zip(u, v)]\n",
    "print(result)"
   ]
  },
  {
   "cell_type": "markdown",
   "metadata": {},
   "source": [
    "# Matrix representation of python\n",
    "- 파이썬에서 행렬을 표현하는 방법\n",
    "- two-dimensional list 형태로 표현 이차원리스트\n",
    "- ndim (N차원)"
   ]
  },
  {
   "cell_type": "code",
   "execution_count": 8,
   "metadata": {},
   "outputs": [],
   "source": [
    "matrix_a = [[3, 6], [4, 5]] # list\n",
    "matrix_b = [(3, 6), (4, 5)] # tuple\n",
    "matrix_c = {(0, 0): 3, (0, 1): 6, (1, 0): 4, (1, 1): 5} # dict"
   ]
  },
  {
   "cell_type": "markdown",
   "metadata": {},
   "source": [
    "## Matrix의 계산"
   ]
  },
  {
   "cell_type": "code",
   "execution_count": 9,
   "metadata": {},
   "outputs": [
    {
     "name": "stdout",
     "output_type": "stream",
     "text": [
      "[[8, 14], [10, 12]]\n"
     ]
    }
   ],
   "source": [
    "matrix_a = [[3, 6], [4, 5]]\n",
    "matrix_b = [[5, 8], [6, 7]]\n",
    "\n",
    "result = [[sum(row) for row in zip(*t)] for t in zip(matrix_a, matrix_b)]\n",
    "print(result)"
   ]
  },
  {
   "cell_type": "markdown",
   "metadata": {},
   "source": [
    "## Tranpose"
   ]
  },
  {
   "cell_type": "code",
   "execution_count": 19,
   "metadata": {},
   "outputs": [
    {
     "data": {
      "text/plain": [
       "[[1, 4], [2, 5], [3, 6]]"
      ]
     },
     "execution_count": 19,
     "metadata": {},
     "output_type": "execute_result"
    }
   ],
   "source": [
    "A = [\n",
    "    [1, 2, 3],\n",
    "    [4, 5, 6],\n",
    "]\n",
    "\n",
    "A_transpose = [ [element for element in t] for t in zip(*A) ]\n",
    "A_transpose"
   ]
  },
  {
   "cell_type": "markdown",
   "metadata": {},
   "source": [
    "## Product (곱셈)"
   ]
  },
  {
   "cell_type": "code",
   "execution_count": 21,
   "metadata": {},
   "outputs": [
    {
     "name": "stdout",
     "output_type": "stream",
     "text": [
      "[[5, 8], [5, 6]]\n"
     ]
    }
   ],
   "source": [
    "A = [\n",
    "    [1, 1, 2],\n",
    "    [2, 1, 1]\n",
    "]\n",
    "\n",
    "B = [\n",
    "    [1, 1],\n",
    "    [2, 1],\n",
    "    [1, 3]\n",
    "]\n",
    "\n",
    "AB = [ [sum(a * b for a, b in zip(row_a, column_b))        for column_b in zip(*B)]       for row_a in A ]\n",
    "print(AB)"
   ]
  },
  {
   "cell_type": "code",
   "execution_count": null,
   "metadata": {},
   "outputs": [],
   "source": []
  }
 ],
 "metadata": {
  "kernelspec": {
   "display_name": "Python 3",
   "language": "python",
   "name": "python3"
  },
  "language_info": {
   "codemirror_mode": {
    "name": "ipython",
    "version": 3
   },
   "file_extension": ".py",
   "mimetype": "text/x-python",
   "name": "python",
   "nbconvert_exporter": "python",
   "pygments_lexer": "ipython3",
   "version": "3.7.5"
  },
  "toc-autonumbering": true
 },
 "nbformat": 4,
 "nbformat_minor": 4
}
