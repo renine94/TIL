{
 "cells": [
  {
   "cell_type": "markdown",
   "metadata": {},
   "source": [
    "# Representing a Model\n",
    "- 학습목표\n",
    "    - 선형대수의 표기법\n",
    "    - Pandas 와 Numpy 모듈을 사용할 경우 벡터를 Array로 표현하고 선형대수 연산을 수행할 수 있다\n",
    "    \n",
    "    \n",
    "- 핵심키워드\n",
    "    - pandas\n",
    "    - numpy\n",
    "    - Array\n",
    "    - 선형대수"
   ]
  },
  {
   "cell_type": "code",
   "execution_count": null,
   "metadata": {},
   "outputs": [],
   "source": []
  }
 ],
 "metadata": {
  "kernelspec": {
   "display_name": "Python 3",
   "language": "python",
   "name": "python3"
  },
  "language_info": {
   "codemirror_mode": {
    "name": "ipython",
    "version": 3
   },
   "file_extension": ".py",
   "mimetype": "text/x-python",
   "name": "python",
   "nbconvert_exporter": "python",
   "pygments_lexer": "ipython3",
   "version": "3.7.5"
  }
 },
 "nbformat": 4,
 "nbformat_minor": 4
}
