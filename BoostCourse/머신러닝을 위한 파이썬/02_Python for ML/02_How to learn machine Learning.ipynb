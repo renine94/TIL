{
 "cells": [
  {
   "cell_type": "markdown",
   "metadata": {},
   "source": [
    "# How to Learn machine Learning\n",
    "\n",
    "- 학습목표\n",
    "    - Model, Feature, Data Type 등 머신러닝의 개념에 대해서 공부합니다.\n",
    "    \n",
    "    \n",
    "- 핵심키워드\n",
    "    - Model\n",
    "    - Algorithms\n",
    "    - Feature Vector\n",
    "    - continuous discrete (연속 이산)\n",
    "    - Numeric Types\n",
    "    - Nominal Types\n",
    "    - Ordinal Types"
   ]
  },
  {
   "cell_type": "markdown",
   "metadata": {},
   "source": [
    "# Machine Learning Process\n",
    "- 데이터 존재\n",
    "- 머신러닝 알고리즘\n",
    "- 새로운 데이터\n",
    "- 모델 생성\n",
    "- 예측\n"
   ]
  },
  {
   "cell_type": "markdown",
   "metadata": {},
   "source": [
    "## Model\n",
    "- 예측을 위한 수학 공식, 함수\n",
    "- 1차 방정식, 확률분포, Condition rule"
   ]
  },
  {
   "cell_type": "markdown",
   "metadata": {},
   "source": [
    "## Algorithms\n",
    "- 어떤 문제를 풀기 위한 과정\n",
    "- Model을 생성하기 위한 (훈련) 과정"
   ]
  },
  {
   "cell_type": "markdown",
   "metadata": {},
   "source": [
    "## Feature\n",
    "- 머신러닝에서 데이터의 특징을 나타내는 변수\n",
    "- feature, 독립변수, input 변수 등은 동일한 의미\n",
    "- Table 상에 Data를 표현할 때, columns 을 의미한다.\n",
    "- 하나의 data instance(실제 데이터) 는 feature vector로 표현"
   ]
  },
  {
   "cell_type": "code",
   "execution_count": null,
   "metadata": {},
   "outputs": [],
   "source": []
  }
 ],
 "metadata": {
  "kernelspec": {
   "display_name": "Python 3",
   "language": "python",
   "name": "python3"
  },
  "language_info": {
   "codemirror_mode": {
    "name": "ipython",
    "version": 3
   },
   "file_extension": ".py",
   "mimetype": "text/x-python",
   "name": "python",
   "nbconvert_exporter": "python",
   "pygments_lexer": "ipython3",
   "version": "3.7.5"
  },
  "toc-autonumbering": true
 },
 "nbformat": 4,
 "nbformat_minor": 4
}
